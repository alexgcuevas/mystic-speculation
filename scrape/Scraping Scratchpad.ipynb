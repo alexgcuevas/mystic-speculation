{
 "cells": [
  {
   "cell_type": "markdown",
   "metadata": {},
   "source": [
    "# Getting Started"
   ]
  },
  {
   "cell_type": "markdown",
   "metadata": {},
   "source": [
    "Scryfall API:\n",
    "\"We kindly ask that you insert 50 – 100 milliseconds of delay between the requests you send to the server. (i.e., 10 requests per second on average).\""
   ]
  },
  {
   "cell_type": "code",
   "execution_count": 1,
   "metadata": {},
   "outputs": [],
   "source": [
    "# import all the things\n",
    "import numpy as np\n",
    "import pandas as pd\n",
    "import json, requests, pickle\n",
    "from bs4 import BeautifulSoup"
   ]
  },
  {
   "cell_type": "code",
   "execution_count": 2,
   "metadata": {},
   "outputs": [],
   "source": [
    "# Get setlist into dataframe\n",
    "link = 'https://api.scryfall.com/sets'\n",
    "response = requests.get(link)\n",
    "sets = response.json()['data']\n",
    "sets_df = pd.DataFrame(sets)"
   ]
  },
  {
   "cell_type": "markdown",
   "metadata": {},
   "source": [
    "## Clean up set data "
   ]
  },
  {
   "cell_type": "code",
   "execution_count": 3,
   "metadata": {},
   "outputs": [],
   "source": [
    "# Ignore sets with no release date (likely promotional / outliers), set release date to index\n",
    "sets_df.dropna(subset=['released_at'], inplace=True)\n",
    "sets_df.set_index('released_at', inplace=True)\n",
    "\n",
    "# Remove repetitive information and online data\n",
    "sets_df.drop(['digital','mtgo_code','parent_set_code','object'], axis=1, inplace=True)"
   ]
  },
  {
   "cell_type": "code",
   "execution_count": 4,
   "metadata": {},
   "outputs": [
    {
     "data": {
      "text/plain": [
       "array(['masters', 'box', 'expansion', 'commander', 'memorabilia',\n",
       "       'starter', 'core', 'duel_deck', 'spellbook', 'draft_innovation',\n",
       "       'funny', 'from_the_vault', 'archenemy', 'planechase',\n",
       "       'treasure_chest', 'premium_deck'], dtype=object)"
      ]
     },
     "execution_count": 4,
     "metadata": {},
     "output_type": "execute_result"
    }
   ],
   "source": [
    "# Make even cleaner for ease of exploration\n",
    "clean_df = sets_df[['name','code','block_code','card_count','set_type']]\n",
    "clean_df['set_type'].unique()"
   ]
  },
  {
   "cell_type": "code",
   "execution_count": 5,
   "metadata": {},
   "outputs": [],
   "source": [
    "# after extensive manual checking of set legality / onlineness\n",
    "sets_to_drop = [\n",
    "    'me1',\n",
    "    'me2',\n",
    "    'me3',\n",
    "    'me4',\n",
    "    'vma',\n",
    "    'tpr',\n",
    "    'e02',\n",
    "    'gnt',\n",
    "    'td0',\n",
    "    'mgb',\n",
    "    'ana',\n",
    "    'w17',\n",
    "    'w16',\n",
    "    'itp'\n",
    "]\n",
    "types_to_drop = [\n",
    "    'memorabilia',\n",
    "    'funny',\n",
    "    'treasure_chest'\n",
    "]"
   ]
  },
  {
   "cell_type": "code",
   "execution_count": 6,
   "metadata": {},
   "outputs": [
    {
     "data": {
      "text/html": [
       "<div>\n",
       "<style scoped>\n",
       "    .dataframe tbody tr th:only-of-type {\n",
       "        vertical-align: middle;\n",
       "    }\n",
       "\n",
       "    .dataframe tbody tr th {\n",
       "        vertical-align: top;\n",
       "    }\n",
       "\n",
       "    .dataframe thead th {\n",
       "        text-align: right;\n",
       "    }\n",
       "</style>\n",
       "<table border=\"1\" class=\"dataframe\">\n",
       "  <thead>\n",
       "    <tr style=\"text-align: right;\">\n",
       "      <th></th>\n",
       "      <th>block</th>\n",
       "      <th>block_code</th>\n",
       "      <th>card_count</th>\n",
       "      <th>code</th>\n",
       "      <th>foil_only</th>\n",
       "      <th>icon_svg_uri</th>\n",
       "      <th>name</th>\n",
       "      <th>scryfall_uri</th>\n",
       "      <th>search_uri</th>\n",
       "      <th>set_type</th>\n",
       "      <th>uri</th>\n",
       "    </tr>\n",
       "    <tr>\n",
       "      <th>released_at</th>\n",
       "      <th></th>\n",
       "      <th></th>\n",
       "      <th></th>\n",
       "      <th></th>\n",
       "      <th></th>\n",
       "      <th></th>\n",
       "      <th></th>\n",
       "      <th></th>\n",
       "      <th></th>\n",
       "      <th></th>\n",
       "      <th></th>\n",
       "    </tr>\n",
       "  </thead>\n",
       "  <tbody>\n",
       "    <tr>\n",
       "      <th>2018-12-07</th>\n",
       "      <td>NaN</td>\n",
       "      <td>NaN</td>\n",
       "      <td>41</td>\n",
       "      <td>uma</td>\n",
       "      <td>False</td>\n",
       "      <td>https://img.scryfall.com/sets/uma.svg?1541394000</td>\n",
       "      <td>Ultimate Masters</td>\n",
       "      <td>https://scryfall.com/sets/uma</td>\n",
       "      <td>https://api.scryfall.com/cards/search?order=se...</td>\n",
       "      <td>masters</td>\n",
       "      <td>https://api.scryfall.com/sets/uma</td>\n",
       "    </tr>\n",
       "    <tr>\n",
       "      <th>2018-10-05</th>\n",
       "      <td>Guilds of Ravnica</td>\n",
       "      <td>grn</td>\n",
       "      <td>273</td>\n",
       "      <td>grn</td>\n",
       "      <td>False</td>\n",
       "      <td>https://img.scryfall.com/sets/grn.svg?1541394000</td>\n",
       "      <td>Guilds of Ravnica</td>\n",
       "      <td>https://scryfall.com/sets/grn</td>\n",
       "      <td>https://api.scryfall.com/cards/search?order=se...</td>\n",
       "      <td>expansion</td>\n",
       "      <td>https://api.scryfall.com/sets/grn</td>\n",
       "    </tr>\n",
       "    <tr>\n",
       "      <th>2018-08-09</th>\n",
       "      <td>NaN</td>\n",
       "      <td>NaN</td>\n",
       "      <td>307</td>\n",
       "      <td>c18</td>\n",
       "      <td>False</td>\n",
       "      <td>https://img.scryfall.com/sets/c18.svg?1541394000</td>\n",
       "      <td>Commander 2018</td>\n",
       "      <td>https://scryfall.com/sets/c18</td>\n",
       "      <td>https://api.scryfall.com/cards/search?order=se...</td>\n",
       "      <td>commander</td>\n",
       "      <td>https://api.scryfall.com/sets/c18</td>\n",
       "    </tr>\n",
       "    <tr>\n",
       "      <th>2018-07-13</th>\n",
       "      <td>NaN</td>\n",
       "      <td>NaN</td>\n",
       "      <td>314</td>\n",
       "      <td>m19</td>\n",
       "      <td>False</td>\n",
       "      <td>https://img.scryfall.com/sets/m19.svg?1541394000</td>\n",
       "      <td>Core Set 2019</td>\n",
       "      <td>https://scryfall.com/sets/m19</td>\n",
       "      <td>https://api.scryfall.com/cards/search?order=se...</td>\n",
       "      <td>core</td>\n",
       "      <td>https://api.scryfall.com/sets/m19</td>\n",
       "    </tr>\n",
       "    <tr>\n",
       "      <th>2018-06-22</th>\n",
       "      <td>NaN</td>\n",
       "      <td>NaN</td>\n",
       "      <td>41</td>\n",
       "      <td>gs1</td>\n",
       "      <td>False</td>\n",
       "      <td>https://img.scryfall.com/sets/gs1.svg?1541394000</td>\n",
       "      <td>Global Series Jiang Yanggu &amp; Mu Yanling</td>\n",
       "      <td>https://scryfall.com/sets/gs1</td>\n",
       "      <td>https://api.scryfall.com/cards/search?order=se...</td>\n",
       "      <td>duel_deck</td>\n",
       "      <td>https://api.scryfall.com/sets/gs1</td>\n",
       "    </tr>\n",
       "  </tbody>\n",
       "</table>\n",
       "</div>"
      ],
      "text/plain": [
       "                         block block_code  card_count code  foil_only  \\\n",
       "released_at                                                             \n",
       "2018-12-07                 NaN        NaN          41  uma      False   \n",
       "2018-10-05   Guilds of Ravnica        grn         273  grn      False   \n",
       "2018-08-09                 NaN        NaN         307  c18      False   \n",
       "2018-07-13                 NaN        NaN         314  m19      False   \n",
       "2018-06-22                 NaN        NaN          41  gs1      False   \n",
       "\n",
       "                                                 icon_svg_uri  \\\n",
       "released_at                                                     \n",
       "2018-12-07   https://img.scryfall.com/sets/uma.svg?1541394000   \n",
       "2018-10-05   https://img.scryfall.com/sets/grn.svg?1541394000   \n",
       "2018-08-09   https://img.scryfall.com/sets/c18.svg?1541394000   \n",
       "2018-07-13   https://img.scryfall.com/sets/m19.svg?1541394000   \n",
       "2018-06-22   https://img.scryfall.com/sets/gs1.svg?1541394000   \n",
       "\n",
       "                                                name  \\\n",
       "released_at                                            \n",
       "2018-12-07                          Ultimate Masters   \n",
       "2018-10-05                         Guilds of Ravnica   \n",
       "2018-08-09                            Commander 2018   \n",
       "2018-07-13                             Core Set 2019   \n",
       "2018-06-22   Global Series Jiang Yanggu & Mu Yanling   \n",
       "\n",
       "                              scryfall_uri  \\\n",
       "released_at                                  \n",
       "2018-12-07   https://scryfall.com/sets/uma   \n",
       "2018-10-05   https://scryfall.com/sets/grn   \n",
       "2018-08-09   https://scryfall.com/sets/c18   \n",
       "2018-07-13   https://scryfall.com/sets/m19   \n",
       "2018-06-22   https://scryfall.com/sets/gs1   \n",
       "\n",
       "                                                    search_uri   set_type  \\\n",
       "released_at                                                                 \n",
       "2018-12-07   https://api.scryfall.com/cards/search?order=se...    masters   \n",
       "2018-10-05   https://api.scryfall.com/cards/search?order=se...  expansion   \n",
       "2018-08-09   https://api.scryfall.com/cards/search?order=se...  commander   \n",
       "2018-07-13   https://api.scryfall.com/cards/search?order=se...       core   \n",
       "2018-06-22   https://api.scryfall.com/cards/search?order=se...  duel_deck   \n",
       "\n",
       "                                           uri  \n",
       "released_at                                     \n",
       "2018-12-07   https://api.scryfall.com/sets/uma  \n",
       "2018-10-05   https://api.scryfall.com/sets/grn  \n",
       "2018-08-09   https://api.scryfall.com/sets/c18  \n",
       "2018-07-13   https://api.scryfall.com/sets/m19  \n",
       "2018-06-22   https://api.scryfall.com/sets/gs1  "
      ]
     },
     "execution_count": 6,
     "metadata": {},
     "output_type": "execute_result"
    }
   ],
   "source": [
    "final_sets = sets_df[sets_df['code'].apply(lambda x: x not in sets_to_drop)]\n",
    "final_sets = final_sets[final_sets['set_type'].apply(lambda x: x not in types_to_drop)]\n",
    "final_sets.head()"
   ]
  },
  {
   "cell_type": "markdown",
   "metadata": {},
   "source": [
    "## Get Card Data"
   ]
  },
  {
   "cell_type": "code",
   "execution_count": 7,
   "metadata": {},
   "outputs": [],
   "source": [
    "# get 1 page\n",
    "link = 'https://api.scryfall.com/cards?page=1'\n",
    "response = requests.get(link)\n",
    "cards = response.json()['data']\n",
    "cards_df = pd.DataFrame(cards)"
   ]
  },
  {
   "cell_type": "code",
   "execution_count": 8,
   "metadata": {},
   "outputs": [
    {
     "name": "stdout",
     "output_type": "stream",
     "text": [
      "<class 'pandas.core.frame.DataFrame'>\n",
      "RangeIndex: 175 entries, 0 to 174\n",
      "Data columns (total 55 columns):\n",
      "all_parts            2 non-null object\n",
      "artist               175 non-null object\n",
      "border_color         175 non-null object\n",
      "card_faces           10 non-null object\n",
      "cmc                  175 non-null float64\n",
      "collector_number     175 non-null object\n",
      "color_identity       175 non-null object\n",
      "colors               165 non-null object\n",
      "colorshifted         175 non-null bool\n",
      "digital              175 non-null bool\n",
      "edhrec_rank          136 non-null float64\n",
      "eur                  14 non-null object\n",
      "flavor_text          78 non-null object\n",
      "foil                 175 non-null bool\n",
      "frame                175 non-null object\n",
      "full_art             175 non-null bool\n",
      "futureshifted        175 non-null bool\n",
      "highres_image        175 non-null bool\n",
      "id                   175 non-null object\n",
      "illustration_id      112 non-null object\n",
      "image_uris           165 non-null object\n",
      "lang                 175 non-null object\n",
      "layout               175 non-null object\n",
      "legalities           175 non-null object\n",
      "loyalty              4 non-null object\n",
      "mana_cost            165 non-null object\n",
      "multiverse_ids       175 non-null object\n",
      "name                 175 non-null object\n",
      "nonfoil              175 non-null bool\n",
      "object               175 non-null object\n",
      "oracle_id            175 non-null object\n",
      "oracle_text          165 non-null object\n",
      "oversized            175 non-null bool\n",
      "power                79 non-null object\n",
      "printed_name         6 non-null object\n",
      "printed_type_line    6 non-null object\n",
      "prints_search_uri    175 non-null object\n",
      "purchase_uris        175 non-null object\n",
      "rarity               175 non-null object\n",
      "related_uris         175 non-null object\n",
      "reprint              175 non-null bool\n",
      "reserved             175 non-null bool\n",
      "rulings_uri          175 non-null object\n",
      "scryfall_set_uri     175 non-null object\n",
      "scryfall_uri         175 non-null object\n",
      "set                  175 non-null object\n",
      "set_name             175 non-null object\n",
      "set_search_uri       175 non-null object\n",
      "set_uri              175 non-null object\n",
      "story_spotlight      175 non-null bool\n",
      "timeshifted          175 non-null bool\n",
      "toughness            79 non-null object\n",
      "type_line            175 non-null object\n",
      "uri                  175 non-null object\n",
      "watermark            8 non-null object\n",
      "dtypes: bool(12), float64(2), object(41)\n",
      "memory usage: 60.9+ KB\n"
     ]
    }
   ],
   "source": [
    "cards_df.info()"
   ]
  },
  {
   "cell_type": "code",
   "execution_count": 9,
   "metadata": {},
   "outputs": [
    {
     "name": "stdout",
     "output_type": "stream",
     "text": [
      "<class 'pandas.core.frame.DataFrame'>\n",
      "Index: 148 entries, ff92804a-0c62-4eb8-bbba-f1ca6f426b6e to 1895cf0c-9c2d-41f9-9819-7348ac9e25f0\n",
      "Data columns (total 54 columns):\n",
      "all_parts            0 non-null object\n",
      "artist               148 non-null object\n",
      "border_color         148 non-null object\n",
      "card_faces           0 non-null object\n",
      "cmc                  148 non-null float64\n",
      "collector_number     148 non-null object\n",
      "color_identity       148 non-null object\n",
      "colors               148 non-null object\n",
      "colorshifted         148 non-null bool\n",
      "digital              148 non-null bool\n",
      "edhrec_rank          136 non-null float64\n",
      "eur                  9 non-null object\n",
      "flavor_text          73 non-null object\n",
      "foil                 148 non-null bool\n",
      "frame                148 non-null object\n",
      "full_art             148 non-null bool\n",
      "futureshifted        148 non-null bool\n",
      "highres_image        148 non-null bool\n",
      "illustration_id      95 non-null object\n",
      "image_uris           148 non-null object\n",
      "lang                 148 non-null object\n",
      "layout               148 non-null object\n",
      "legalities           148 non-null object\n",
      "loyalty              4 non-null object\n",
      "mana_cost            148 non-null object\n",
      "multiverse_ids       148 non-null object\n",
      "name                 148 non-null object\n",
      "nonfoil              148 non-null bool\n",
      "object               148 non-null object\n",
      "oracle_id            148 non-null object\n",
      "oracle_text          148 non-null object\n",
      "oversized            148 non-null bool\n",
      "power                68 non-null object\n",
      "printed_name         0 non-null object\n",
      "printed_type_line    0 non-null object\n",
      "prints_search_uri    148 non-null object\n",
      "purchase_uris        148 non-null object\n",
      "rarity               148 non-null object\n",
      "related_uris         148 non-null object\n",
      "reprint              148 non-null bool\n",
      "reserved             148 non-null bool\n",
      "rulings_uri          148 non-null object\n",
      "scryfall_set_uri     148 non-null object\n",
      "scryfall_uri         148 non-null object\n",
      "set                  148 non-null object\n",
      "set_name             148 non-null object\n",
      "set_search_uri       148 non-null object\n",
      "set_uri              148 non-null object\n",
      "story_spotlight      148 non-null bool\n",
      "timeshifted          148 non-null bool\n",
      "toughness            68 non-null object\n",
      "type_line            148 non-null object\n",
      "uri                  148 non-null object\n",
      "watermark            2 non-null object\n",
      "dtypes: bool(12), float64(2), object(40)\n",
      "memory usage: 51.5+ KB\n"
     ]
    }
   ],
   "source": [
    "# Filters: not legal in vintage (tokens, joke cards, conspiracies, etc.), only english cards\n",
    "clean_cards = cards_df[(cards_df['legalities'].apply(lambda x: x['vintage']!='not_legal')) & (cards_df['lang']=='en')]\n",
    "clean_cards.set_index('id', inplace=True)\n",
    "clean_cards.info()"
   ]
  },
  {
   "cell_type": "code",
   "execution_count": 10,
   "metadata": {},
   "outputs": [],
   "source": [
    "# Features to keep\n",
    "MVP_features = [\n",
    "    'name',\n",
    "    'set_name',\n",
    "    'type_line',    \n",
    "    'mana_cost',\n",
    "    'rarity',\n",
    "    'oracle_text',\n",
    "    'power',\n",
    "    'toughness',\n",
    "    'loyalty',\n",
    "    'cmc',\n",
    "    'set',\n",
    "    'color_identity',\n",
    "    'colors',    \n",
    "    'reprint',\n",
    "    'layout',\n",
    "    'legalities',\n",
    "]\n",
    "\n",
    "misc_features = [\n",
    "    'all_parts',\n",
    "    'artist',\n",
    "    'border_color',\n",
    "    'card_faces',\n",
    "    'edhrec_rank',\n",
    "    'flavor_text',\n",
    "    'foil',\n",
    "    'nonfoil',\n",
    "    'full_art',\n",
    "    'watermark'    \n",
    "    'timeshifted',\n",
    "    'colorshifted',\n",
    "    'futureshifted',\n",
    "    'illustration_id',\n",
    "    'multiverse_ids',\n",
    "    'oracle_id',\n",
    "    'prints_search_uri',\n",
    "    'rulings_uri',\n",
    "    'set_search_uri',\n",
    "]"
   ]
  },
  {
   "cell_type": "code",
   "execution_count": 11,
   "metadata": {},
   "outputs": [
    {
     "data": {
      "text/html": [
       "<div>\n",
       "<style scoped>\n",
       "    .dataframe tbody tr th:only-of-type {\n",
       "        vertical-align: middle;\n",
       "    }\n",
       "\n",
       "    .dataframe tbody tr th {\n",
       "        vertical-align: top;\n",
       "    }\n",
       "\n",
       "    .dataframe thead th {\n",
       "        text-align: right;\n",
       "    }\n",
       "</style>\n",
       "<table border=\"1\" class=\"dataframe\">\n",
       "  <thead>\n",
       "    <tr style=\"text-align: right;\">\n",
       "      <th></th>\n",
       "      <th>name</th>\n",
       "      <th>set_name</th>\n",
       "      <th>type_line</th>\n",
       "      <th>mana_cost</th>\n",
       "      <th>rarity</th>\n",
       "      <th>oracle_text</th>\n",
       "      <th>power</th>\n",
       "      <th>toughness</th>\n",
       "      <th>loyalty</th>\n",
       "      <th>cmc</th>\n",
       "      <th>set</th>\n",
       "      <th>color_identity</th>\n",
       "      <th>colors</th>\n",
       "      <th>reprint</th>\n",
       "      <th>layout</th>\n",
       "      <th>legalities</th>\n",
       "    </tr>\n",
       "    <tr>\n",
       "      <th>id</th>\n",
       "      <th></th>\n",
       "      <th></th>\n",
       "      <th></th>\n",
       "      <th></th>\n",
       "      <th></th>\n",
       "      <th></th>\n",
       "      <th></th>\n",
       "      <th></th>\n",
       "      <th></th>\n",
       "      <th></th>\n",
       "      <th></th>\n",
       "      <th></th>\n",
       "      <th></th>\n",
       "      <th></th>\n",
       "      <th></th>\n",
       "      <th></th>\n",
       "    </tr>\n",
       "  </thead>\n",
       "  <tbody>\n",
       "    <tr>\n",
       "      <th>ff92804a-0c62-4eb8-bbba-f1ca6f426b6e</th>\n",
       "      <td>Urborg, Tomb of Yawgmoth</td>\n",
       "      <td>Ultimate Box Topper</td>\n",
       "      <td>Legendary Land</td>\n",
       "      <td></td>\n",
       "      <td>mythic</td>\n",
       "      <td>Each land is a Swamp in addition to its other ...</td>\n",
       "      <td>NaN</td>\n",
       "      <td>NaN</td>\n",
       "      <td>NaN</td>\n",
       "      <td>0.0</td>\n",
       "      <td>puma</td>\n",
       "      <td>[]</td>\n",
       "      <td>[]</td>\n",
       "      <td>True</td>\n",
       "      <td>normal</td>\n",
       "      <td>{'standard': 'not_legal', 'future': 'not_legal...</td>\n",
       "    </tr>\n",
       "    <tr>\n",
       "      <th>5e63fd70-ca5b-45fd-b551-9ebe02410e9c</th>\n",
       "      <td>Stirring Wildwood</td>\n",
       "      <td>Ultimate Box Topper</td>\n",
       "      <td>Land</td>\n",
       "      <td></td>\n",
       "      <td>mythic</td>\n",
       "      <td>Stirring Wildwood enters the battlefield tappe...</td>\n",
       "      <td>NaN</td>\n",
       "      <td>NaN</td>\n",
       "      <td>NaN</td>\n",
       "      <td>0.0</td>\n",
       "      <td>puma</td>\n",
       "      <td>[G, W]</td>\n",
       "      <td>[]</td>\n",
       "      <td>True</td>\n",
       "      <td>normal</td>\n",
       "      <td>{'standard': 'not_legal', 'future': 'not_legal...</td>\n",
       "    </tr>\n",
       "    <tr>\n",
       "      <th>54f41726-e0bb-4154-a2db-4b68b50f5032</th>\n",
       "      <td>Raging Ravine</td>\n",
       "      <td>Ultimate Box Topper</td>\n",
       "      <td>Land</td>\n",
       "      <td></td>\n",
       "      <td>mythic</td>\n",
       "      <td>Raging Ravine enters the battlefield tapped.\\n...</td>\n",
       "      <td>NaN</td>\n",
       "      <td>NaN</td>\n",
       "      <td>NaN</td>\n",
       "      <td>0.0</td>\n",
       "      <td>puma</td>\n",
       "      <td>[G, R]</td>\n",
       "      <td>[]</td>\n",
       "      <td>True</td>\n",
       "      <td>normal</td>\n",
       "      <td>{'standard': 'not_legal', 'future': 'not_legal...</td>\n",
       "    </tr>\n",
       "    <tr>\n",
       "      <th>7c9fb3d9-e018-4aa3-9c14-1a51fae176b4</th>\n",
       "      <td>Lavaclaw Reaches</td>\n",
       "      <td>Ultimate Box Topper</td>\n",
       "      <td>Land</td>\n",
       "      <td></td>\n",
       "      <td>mythic</td>\n",
       "      <td>Lavaclaw Reaches enters the battlefield tapped...</td>\n",
       "      <td>NaN</td>\n",
       "      <td>NaN</td>\n",
       "      <td>NaN</td>\n",
       "      <td>0.0</td>\n",
       "      <td>puma</td>\n",
       "      <td>[B, R]</td>\n",
       "      <td>[]</td>\n",
       "      <td>True</td>\n",
       "      <td>normal</td>\n",
       "      <td>{'standard': 'not_legal', 'future': 'not_legal...</td>\n",
       "    </tr>\n",
       "    <tr>\n",
       "      <th>ff790ded-af9f-4e93-84b7-ddadff5ccad4</th>\n",
       "      <td>Karakas</td>\n",
       "      <td>Ultimate Box Topper</td>\n",
       "      <td>Legendary Land</td>\n",
       "      <td></td>\n",
       "      <td>mythic</td>\n",
       "      <td>{T}: Add {W}.\\n{T}: Return target legendary cr...</td>\n",
       "      <td>NaN</td>\n",
       "      <td>NaN</td>\n",
       "      <td>NaN</td>\n",
       "      <td>0.0</td>\n",
       "      <td>puma</td>\n",
       "      <td>[W]</td>\n",
       "      <td>[]</td>\n",
       "      <td>True</td>\n",
       "      <td>normal</td>\n",
       "      <td>{'standard': 'not_legal', 'future': 'not_legal...</td>\n",
       "    </tr>\n",
       "  </tbody>\n",
       "</table>\n",
       "</div>"
      ],
      "text/plain": [
       "                                                          name  \\\n",
       "id                                                               \n",
       "ff92804a-0c62-4eb8-bbba-f1ca6f426b6e  Urborg, Tomb of Yawgmoth   \n",
       "5e63fd70-ca5b-45fd-b551-9ebe02410e9c         Stirring Wildwood   \n",
       "54f41726-e0bb-4154-a2db-4b68b50f5032             Raging Ravine   \n",
       "7c9fb3d9-e018-4aa3-9c14-1a51fae176b4          Lavaclaw Reaches   \n",
       "ff790ded-af9f-4e93-84b7-ddadff5ccad4                   Karakas   \n",
       "\n",
       "                                                 set_name       type_line  \\\n",
       "id                                                                          \n",
       "ff92804a-0c62-4eb8-bbba-f1ca6f426b6e  Ultimate Box Topper  Legendary Land   \n",
       "5e63fd70-ca5b-45fd-b551-9ebe02410e9c  Ultimate Box Topper            Land   \n",
       "54f41726-e0bb-4154-a2db-4b68b50f5032  Ultimate Box Topper            Land   \n",
       "7c9fb3d9-e018-4aa3-9c14-1a51fae176b4  Ultimate Box Topper            Land   \n",
       "ff790ded-af9f-4e93-84b7-ddadff5ccad4  Ultimate Box Topper  Legendary Land   \n",
       "\n",
       "                                     mana_cost  rarity  \\\n",
       "id                                                       \n",
       "ff92804a-0c62-4eb8-bbba-f1ca6f426b6e            mythic   \n",
       "5e63fd70-ca5b-45fd-b551-9ebe02410e9c            mythic   \n",
       "54f41726-e0bb-4154-a2db-4b68b50f5032            mythic   \n",
       "7c9fb3d9-e018-4aa3-9c14-1a51fae176b4            mythic   \n",
       "ff790ded-af9f-4e93-84b7-ddadff5ccad4            mythic   \n",
       "\n",
       "                                                                            oracle_text  \\\n",
       "id                                                                                        \n",
       "ff92804a-0c62-4eb8-bbba-f1ca6f426b6e  Each land is a Swamp in addition to its other ...   \n",
       "5e63fd70-ca5b-45fd-b551-9ebe02410e9c  Stirring Wildwood enters the battlefield tappe...   \n",
       "54f41726-e0bb-4154-a2db-4b68b50f5032  Raging Ravine enters the battlefield tapped.\\n...   \n",
       "7c9fb3d9-e018-4aa3-9c14-1a51fae176b4  Lavaclaw Reaches enters the battlefield tapped...   \n",
       "ff790ded-af9f-4e93-84b7-ddadff5ccad4  {T}: Add {W}.\\n{T}: Return target legendary cr...   \n",
       "\n",
       "                                     power toughness loyalty  cmc   set  \\\n",
       "id                                                                        \n",
       "ff92804a-0c62-4eb8-bbba-f1ca6f426b6e   NaN       NaN     NaN  0.0  puma   \n",
       "5e63fd70-ca5b-45fd-b551-9ebe02410e9c   NaN       NaN     NaN  0.0  puma   \n",
       "54f41726-e0bb-4154-a2db-4b68b50f5032   NaN       NaN     NaN  0.0  puma   \n",
       "7c9fb3d9-e018-4aa3-9c14-1a51fae176b4   NaN       NaN     NaN  0.0  puma   \n",
       "ff790ded-af9f-4e93-84b7-ddadff5ccad4   NaN       NaN     NaN  0.0  puma   \n",
       "\n",
       "                                     color_identity colors  reprint  layout  \\\n",
       "id                                                                            \n",
       "ff92804a-0c62-4eb8-bbba-f1ca6f426b6e             []     []     True  normal   \n",
       "5e63fd70-ca5b-45fd-b551-9ebe02410e9c         [G, W]     []     True  normal   \n",
       "54f41726-e0bb-4154-a2db-4b68b50f5032         [G, R]     []     True  normal   \n",
       "7c9fb3d9-e018-4aa3-9c14-1a51fae176b4         [B, R]     []     True  normal   \n",
       "ff790ded-af9f-4e93-84b7-ddadff5ccad4            [W]     []     True  normal   \n",
       "\n",
       "                                                                             legalities  \n",
       "id                                                                                       \n",
       "ff92804a-0c62-4eb8-bbba-f1ca6f426b6e  {'standard': 'not_legal', 'future': 'not_legal...  \n",
       "5e63fd70-ca5b-45fd-b551-9ebe02410e9c  {'standard': 'not_legal', 'future': 'not_legal...  \n",
       "54f41726-e0bb-4154-a2db-4b68b50f5032  {'standard': 'not_legal', 'future': 'not_legal...  \n",
       "7c9fb3d9-e018-4aa3-9c14-1a51fae176b4  {'standard': 'not_legal', 'future': 'not_legal...  \n",
       "ff790ded-af9f-4e93-84b7-ddadff5ccad4  {'standard': 'not_legal', 'future': 'not_legal...  "
      ]
     },
     "execution_count": 11,
     "metadata": {},
     "output_type": "execute_result"
    }
   ],
   "source": [
    "clean_cards[MVP_features].head()"
   ]
  },
  {
   "cell_type": "markdown",
   "metadata": {},
   "source": [
    "Next Step: Write loop into scraper, get all the cards! Get the hell off jupyter ntoebooK!"
   ]
  },
  {
   "cell_type": "markdown",
   "metadata": {},
   "source": [
    "### Formats\n",
    "Starting w/ modern:\n",
    "* Standard\n",
    "* Modern\n",
    "* Extended\n",
    "* Legacy\n",
    "* Vintage\n",
    "* Block Constructed (deprecated)\n",
    "* Extended (deprecated)\n",
    "* Commander\n",
    "* Casual"
   ]
  },
  {
   "cell_type": "markdown",
   "metadata": {},
   "source": [
    "Questions:\n",
    "    Should I only care about non foils?\n",
    "    Should I do reprint / set search on my own, or use the API? "
   ]
  },
  {
   "cell_type": "markdown",
   "metadata": {},
   "source": [
    "## Post-Scryfall Scrape: How do the cards look?"
   ]
  },
  {
   "cell_type": "code",
   "execution_count": 2,
   "metadata": {},
   "outputs": [
    {
     "name": "stdout",
     "output_type": "stream",
     "text": [
      "<class 'pandas.core.frame.DataFrame'>\n",
      "RangeIndex: 41291 entries, 0 to 41290\n",
      "Data columns (total 17 columns):\n",
      "id                41291 non-null object\n",
      "name              41291 non-null object\n",
      "set_name          41291 non-null object\n",
      "type_line         41291 non-null object\n",
      "mana_cost         36309 non-null object\n",
      "rarity            41291 non-null object\n",
      "oracle_text       40216 non-null object\n",
      "power             18913 non-null object\n",
      "toughness         18913 non-null object\n",
      "loyalty           306 non-null object\n",
      "cmc               41291 non-null float64\n",
      "set               41291 non-null object\n",
      "color_identity    41291 non-null object\n",
      "colors            41113 non-null object\n",
      "reprint           41291 non-null bool\n",
      "layout            41291 non-null object\n",
      "legalities        41291 non-null object\n",
      "dtypes: bool(1), float64(1), object(15)\n",
      "memory usage: 5.1+ MB\n"
     ]
    },
    {
     "name": "stderr",
     "output_type": "stream",
     "text": [
      "C:\\Users\\alexg\\Anaconda3\\lib\\site-packages\\IPython\\core\\interactiveshell.py:2785: DtypeWarning: Columns (9) have mixed types. Specify dtype option on import or set low_memory=False.\n",
      "  interactivity=interactivity, compiler=compiler, result=result)\n"
     ]
    }
   ],
   "source": [
    "all_cards_df = pd.read_csv('all_vintage_cards.csv')\n",
    "all_cards_df.info()"
   ]
  },
  {
   "cell_type": "markdown",
   "metadata": {},
   "source": [
    "## MTGPrice Scraping"
   ]
  },
  {
   "cell_type": "code",
   "execution_count": 4,
   "metadata": {},
   "outputs": [],
   "source": [
    "# trying slimit parser\n",
    "from slimit import ast\n",
    "from slimit.parser import Parser\n",
    "from slimit.visitors import nodevisitor"
   ]
  },
  {
   "cell_type": "code",
   "execution_count": 3,
   "metadata": {},
   "outputs": [
    {
     "name": "stderr",
     "output_type": "stream",
     "text": [
      "WARNING: Couldn't write lextab module <module 'slimit.lextab' from 'C:\\\\Users\\\\alexg\\\\Anaconda3\\\\lib\\\\site-packages\\\\slimit\\\\lextab.py'>. Won't overwrite existing lextab module\n",
      "WARNING: yacc table file version is out of date\n",
      "WARNING: Token 'BLOCK_COMMENT' defined, but not used\n",
      "WARNING: Token 'CLASS' defined, but not used\n",
      "WARNING: Token 'CONST' defined, but not used\n",
      "WARNING: Token 'ENUM' defined, but not used\n",
      "WARNING: Token 'EXPORT' defined, but not used\n",
      "WARNING: Token 'EXTENDS' defined, but not used\n",
      "WARNING: Token 'IMPORT' defined, but not used\n",
      "WARNING: Token 'LINE_COMMENT' defined, but not used\n",
      "WARNING: Token 'LINE_TERMINATOR' defined, but not used\n",
      "WARNING: Token 'SUPER' defined, but not used\n",
      "WARNING: There are 10 unused tokens\n",
      "WARNING: Couldn't create <module 'slimit.yacctab' from 'C:\\\\Users\\\\alexg\\\\Anaconda3\\\\lib\\\\site-packages\\\\slimit\\\\yacctab.py'>. Won't overwrite existing tabmodule\n"
     ]
    },
    {
     "name": "stdout",
     "output_type": "stream",
     "text": [
      "(1787, 2)\n"
     ]
    }
   ],
   "source": [
    "# Turn card data into soup\n",
    "link = 'https://www.mtgprice.com/sets/Visions/Vampiric_Tutor'\n",
    "soup = BeautifulSoup(requests.get(link).content, 'html.parser')\n",
    "\n",
    "# GET RESULTS\n",
    "text_to_find = 'var results = ['\n",
    "history=[]\n",
    "for script in soup.findAll('script', type='text/javascript'):\n",
    "    if text_to_find in script.text:\n",
    "        parser = Parser()\n",
    "        tree = parser.parse(script.text)\n",
    "        for node in nodevisitor.visit(tree):\n",
    "            if isinstance(node, ast.Assign) and getattr(node.left, 'value', '') == \"\\\"data\\\"\":\n",
    "                for prices in node.right.items:\n",
    "                    history.append([prices.items[0].value,prices.items[1].value])\n",
    "                break\n",
    "print(np.array(history).shape)"
   ]
  },
  {
   "cell_type": "markdown",
   "metadata": {},
   "source": [
    "### Let's try a whole set"
   ]
  },
  {
   "cell_type": "code",
   "execution_count": 5,
   "metadata": {},
   "outputs": [],
   "source": [
    "def card_price_history(setname, cardname):\n",
    "    # Turn card data into soup\n",
    "    link = 'https://www.mtgprice.com/sets/' + '_'.join(setname.split()) + '/' + '_'.join(cardname.split())\n",
    "    soup = BeautifulSoup(requests.get(link).content, 'html.parser')\n",
    "\n",
    "    # GET RESULTS\n",
    "    text_to_find = 'var results = ['\n",
    "    history=[]\n",
    "    for script in soup.findAll('script', type='text/javascript'):\n",
    "        if text_to_find in script.text:\n",
    "            parser = Parser()\n",
    "            tree = parser.parse(script.text)\n",
    "            for node in nodevisitor.visit(tree):\n",
    "                if isinstance(node, ast.Assign) and getattr(node.left, 'value', '') == \"\\\"data\\\"\":\n",
    "                    for prices in node.right.items:\n",
    "                        history.append([prices.items[0].value,prices.items[1].value])\n",
    "                    break\n",
    "    return np.array(history)"
   ]
  },
  {
   "cell_type": "code",
   "execution_count": 6,
   "metadata": {},
   "outputs": [
    {
     "data": {
      "text/plain": [
       "['Rivals of Ixalan']"
      ]
     },
     "execution_count": 6,
     "metadata": {},
     "output_type": "execute_result"
    }
   ],
   "source": [
    "sets = [all_cards_df['set_name'].unique()[31]]\n",
    "sets"
   ]
  },
  {
   "cell_type": "code",
   "execution_count": 8,
   "metadata": {},
   "outputs": [],
   "source": [
    "def sets_price_history(sets, all_cards_df):\n",
    "    set_dict = {}\n",
    "    for setname in sets:\n",
    "        print(setname)\n",
    "        cards = all_cards_df[all_cards_df['set_name'] == setname]['name'].values\n",
    "        card_dict = {}\n",
    "        for cardname in cards:\n",
    "            if '/' in cardname:\n",
    "                cardname = cardname.split('/')[0]\n",
    "            print(cardname)\n",
    "            try:\n",
    "                history = card_price_history(setname, cardname)\n",
    "                card_dict[cardname] = history\n",
    "            except:\n",
    "                print('{} not a set on MTGPrice'.format(setname))\n",
    "                break\n",
    "        set_dict[setname] = card_dict"
   ]
  },
  {
   "cell_type": "code",
   "execution_count": 7,
   "metadata": {},
   "outputs": [
    {
     "data": {
      "text/plain": [
       "['Ultimate Box Topper',\n",
       " 'Ultimate Masters',\n",
       " 'Game Night',\n",
       " 'Vintage Championship',\n",
       " 'Legacy Championship',\n",
       " 'GRN Guild Kit',\n",
       " 'Guilds of Ravnica Promos',\n",
       " 'Ravnica Weekend',\n",
       " 'Guilds of Ravnica',\n",
       " 'Mythic Edition',\n",
       " 'Magic Online Promos',\n",
       " 'Commander 2018 Oversized',\n",
       " 'Commander 2018',\n",
       " 'San Diego Comic-Con 2018',\n",
       " 'Arena New Player Experience',\n",
       " 'M19 Standard Showdown',\n",
       " 'Core Set 2019 Promos',\n",
       " 'Core Set 2019',\n",
       " 'You Make the Cube',\n",
       " 'Global Series Jiang Yanggu & Mu Yanling',\n",
       " 'Signature Spellbook: Jace',\n",
       " 'Battlebond Promos',\n",
       " 'Commander Anthology Volume II',\n",
       " 'Battlebond',\n",
       " 'Dominaria',\n",
       " 'Dominaria Promos',\n",
       " 'Duel Decks: Elves vs. Inventors',\n",
       " 'Masters 25',\n",
       " 'Resale Promos',\n",
       " 'Nationals Promos',\n",
       " 'Rivals of Ixalan Promos',\n",
       " 'Rivals of Ixalan',\n",
       " 'Judge Gift Cards 2018',\n",
       " 'Unstable',\n",
       " 'From the Vault: Transform',\n",
       " 'XLN Treasure Chest',\n",
       " 'Explorers of Ixalan',\n",
       " 'Iconic Masters',\n",
       " 'Duel Decks: Merfolk vs. Goblins',\n",
       " '2017 Gift Pack',\n",
       " 'Ixalan',\n",
       " 'Ixalan Promos',\n",
       " 'XLN Standard Showdown',\n",
       " 'Commander 2017 Oversized',\n",
       " 'Commander 2017',\n",
       " 'San Diego Comic-Con 2017',\n",
       " 'Hour of Devastation',\n",
       " 'Hour of Devastation Promos',\n",
       " 'Archenemy: Nicol Bolas',\n",
       " 'Commander Anthology',\n",
       " 'Amonkhet',\n",
       " 'Amonkhet Promos',\n",
       " 'Amonkhet Invocations',\n",
       " 'Welcome Deck 2017',\n",
       " 'Duel Decks: Mind vs. Might',\n",
       " 'Modern Masters 2017',\n",
       " 'Aether Revolt',\n",
       " 'Aether Revolt Promos',\n",
       " 'Judge Gift Cards 2017',\n",
       " 'Friday Night Magic 2017',\n",
       " 'Planechase Anthology',\n",
       " 'Commander 2016 Oversized',\n",
       " 'Commander 2016',\n",
       " 'San Diego Comic-Con 2016',\n",
       " 'Kaladesh',\n",
       " 'Kaladesh Promos',\n",
       " 'Kaladesh Inventions',\n",
       " 'Duel Decks: Nissa vs. Ob Nixilis',\n",
       " 'Conspiracy: Take the Crown',\n",
       " 'From the Vault: Lore',\n",
       " 'Eldritch Moon',\n",
       " 'Eldritch Moon Promos',\n",
       " 'Eternal Masters',\n",
       " 'Shadows over Innistrad',\n",
       " 'Shadows over Innistrad Promos',\n",
       " 'Welcome Deck 2016',\n",
       " 'Duel Decks: Blessed vs. Cursed',\n",
       " 'Oath of the Gatewatch',\n",
       " 'Oath of the Gatewatch Promos',\n",
       " 'Judge Gift Cards 2016',\n",
       " 'Friday Night Magic 2016',\n",
       " 'Legendary Cube',\n",
       " 'Commander 2015 Oversized',\n",
       " 'Commander 2015',\n",
       " 'Battle for Zendikar',\n",
       " 'BFZ Standard Series',\n",
       " 'Battle for Zendikar Promos',\n",
       " 'Zendikar Expeditions',\n",
       " 'Duel Decks: Zendikar vs. Eldrazi',\n",
       " 'From the Vault: Angels',\n",
       " 'Magic Origins Clash Pack',\n",
       " 'Magic Origins Promos',\n",
       " 'Magic Origins',\n",
       " 'San Diego Comic-Con 2015',\n",
       " 'Modern Masters 2015',\n",
       " 'Tempest Remastered',\n",
       " 'Tarkir Dragonfury',\n",
       " 'Dragons of Tarkir',\n",
       " 'Dragons of Tarkir Promos',\n",
       " 'Duel Decks: Elspeth vs. Kiora',\n",
       " 'Fate Reforged Clash Pack',\n",
       " 'Fate Reforged',\n",
       " 'Fate Reforged Promos',\n",
       " \"Ugin's Fate\",\n",
       " 'Pro Tour Promos',\n",
       " 'Judge Gift Cards 2015',\n",
       " 'Friday Night Magic 2015',\n",
       " 'Duel Decks Anthology: Jace vs. Chandra',\n",
       " 'Duel Decks Anthology: Garruk vs. Liliana',\n",
       " 'Duel Decks Anthology: Elves vs. Goblins',\n",
       " 'Duel Decks Anthology: Divine vs. Demonic',\n",
       " 'Commander 2014 Oversized',\n",
       " 'Commander 2014',\n",
       " 'Khans of Tarkir',\n",
       " 'Khans of Tarkir Promos',\n",
       " 'Duel Decks: Speed vs. Cunning',\n",
       " 'From the Vault: Annihilation',\n",
       " 'Magic 2015',\n",
       " 'Magic 2015 Clash Pack',\n",
       " 'Magic 2015 Promos',\n",
       " 'San Diego Comic-Con 2014',\n",
       " 'Vintage Masters',\n",
       " 'Launch Parties',\n",
       " 'Conspiracy',\n",
       " 'Modern Event Deck 2014',\n",
       " \"Journey into Nyx Hero's Path\",\n",
       " 'Journey into Nyx',\n",
       " 'Journey into Nyx Promos',\n",
       " 'Duel Decks: Jace vs. Vraska',\n",
       " 'Born of the Gods',\n",
       " 'Born of the Gods Promos',\n",
       " 'Duels of the Planeswalkers Promos 2014',\n",
       " 'IDW Comics 2014',\n",
       " 'Judge Gift Cards 2014',\n",
       " 'Friday Night Magic 2014',\n",
       " 'Commander 2013 Oversized',\n",
       " 'Commander 2013',\n",
       " 'Theros',\n",
       " 'Theros Promos',\n",
       " 'Duel Decks: Heroes vs. Monsters',\n",
       " 'From the Vault: Twenty',\n",
       " 'Magic 2014',\n",
       " 'Magic 2014 Promos',\n",
       " 'San Diego Comic-Con 2013',\n",
       " 'Modern Masters',\n",
       " \"Dragon's Maze\",\n",
       " \"Dragon's Maze Promos\",\n",
       " 'World Magic Cup Qualifiers',\n",
       " 'Duel Decks: Sorin vs. Tibalt',\n",
       " 'Gatecrash',\n",
       " 'Gatecrash Promos',\n",
       " 'Duels of the Planeswalkers Promos 2013',\n",
       " 'IDW Comics 2013',\n",
       " 'Judge Gift Cards 2013',\n",
       " 'Friday Night Magic 2013',\n",
       " \"Commander's Arsenal Oversized\",\n",
       " \"Commander's Arsenal\",\n",
       " 'Return to Ravnica',\n",
       " 'Return to Ravnica Promos',\n",
       " 'Duel Decks: Izzet vs. Golgari',\n",
       " 'From the Vault: Realms',\n",
       " 'Magic 2013',\n",
       " 'Magic 2013 Promos',\n",
       " 'Planechase 2012',\n",
       " 'Avacyn Restored',\n",
       " 'Open the Helvault',\n",
       " 'Avacyn Restored Promos',\n",
       " 'Duel Decks: Venser vs. Koth',\n",
       " 'Dark Ascension',\n",
       " 'Dark Ascension Promos',\n",
       " 'IDW Comics 2012',\n",
       " 'Wizards Play Network 2012',\n",
       " 'Duels of the Planeswalkers Promos 2012',\n",
       " 'Judge Gift Cards 2012',\n",
       " 'Friday Night Magic 2012',\n",
       " 'Premium Deck Series: Graveborn',\n",
       " 'Innistrad',\n",
       " 'Innistrad Promos',\n",
       " 'Duel Decks: Ajani vs. Nicol Bolas',\n",
       " 'From the Vault: Legends',\n",
       " 'Magic 2012',\n",
       " 'Magic 2012 Promos',\n",
       " 'Commander 2011 Oversized',\n",
       " 'Commander 2011 Launch Party',\n",
       " 'Commander 2011',\n",
       " 'Duel Decks: Mirrodin Pure vs. New Phyrexia',\n",
       " 'New Phyrexia',\n",
       " 'New Phyrexia Promos',\n",
       " 'Duel Decks: Knights vs. Dragons',\n",
       " 'Mirrodin Besieged',\n",
       " 'Mirrodin Besieged Promos',\n",
       " 'Masters Edition IV',\n",
       " 'Duels of the Planeswalkers Promos 2011',\n",
       " 'Wizards Play Network 2011',\n",
       " 'Magic Player Rewards 2011',\n",
       " 'Judge Gift Cards 2011',\n",
       " 'Friday Night Magic 2011',\n",
       " 'Premium Deck Series: Fire and Lightning',\n",
       " 'Magic Online Theme Decks',\n",
       " 'Scars of Mirrodin',\n",
       " 'Scars of Mirrodin Promos',\n",
       " 'Duel Decks: Elspeth vs. Tezzeret',\n",
       " 'From the Vault: Relics',\n",
       " 'Magic 2011',\n",
       " 'Magic 2011 Promos',\n",
       " 'Archenemy',\n",
       " 'Duels of the Planeswalkers',\n",
       " 'Rise of the Eldrazi Promos',\n",
       " 'Rise of the Eldrazi',\n",
       " 'Duel Decks: Phyrexia vs. the Coalition',\n",
       " 'Worldwake Promos',\n",
       " 'Worldwake',\n",
       " 'Duels of the Planeswalkers Promos 2010',\n",
       " 'Wizards Play Network 2010',\n",
       " 'Magic Player Rewards 2010',\n",
       " 'Judge Gift Cards 2010',\n",
       " 'Friday Night Magic 2010',\n",
       " 'Premium Deck Series: Slivers',\n",
       " 'Duel Decks: Garruk vs. Liliana',\n",
       " 'Zendikar Promos',\n",
       " 'Zendikar',\n",
       " 'Masters Edition III',\n",
       " 'Planechase',\n",
       " 'From the Vault: Exiled',\n",
       " 'Magic 2010',\n",
       " 'Magic 2010 Promos',\n",
       " 'Alara Reborn',\n",
       " 'Prerelease Events',\n",
       " 'Duel Decks: Divine vs. Demonic',\n",
       " 'URL/Convention Promos',\n",
       " 'Conflux',\n",
       " 'Miscellaneous Book Promos',\n",
       " 'Wizards Play Network 2009',\n",
       " 'Duels of the Planeswalkers Promos 2009',\n",
       " 'Magic Player Rewards 2009',\n",
       " 'Judge Gift Cards 2009',\n",
       " 'Friday Night Magic 2009',\n",
       " 'Duel Decks: Jace vs. Chandra',\n",
       " 'Shards of Alara',\n",
       " 'Wizards Play Network 2008',\n",
       " 'Masters Edition II',\n",
       " 'From the Vault: Dragons',\n",
       " 'Eventide',\n",
       " 'Shadowmoor',\n",
       " '15th Anniversary Cards',\n",
       " 'Champs and States',\n",
       " 'Morningtide',\n",
       " 'Junior Super Series',\n",
       " 'Junior Series Europe',\n",
       " 'Junior APAC Series',\n",
       " 'Gateway 2008',\n",
       " 'Magic Player Rewards 2008',\n",
       " 'Judge Gift Cards 2008',\n",
       " 'Friday Night Magic 2008',\n",
       " 'Duel Decks: Elves vs. Goblins',\n",
       " 'Release Events',\n",
       " 'Lorwyn',\n",
       " 'Masters Edition',\n",
       " 'Summer of Magic',\n",
       " 'Tenth Edition',\n",
       " 'Tenth Edition Promos',\n",
       " 'Future Sight',\n",
       " 'Grand Prix Promos',\n",
       " 'Planar Chaos',\n",
       " 'Gateway 2007',\n",
       " 'Magic Player Rewards 2007',\n",
       " 'Judge Gift Cards 2007',\n",
       " 'Friday Night Magic 2007',\n",
       " 'Time Spiral',\n",
       " 'Time Spiral Timeshifted',\n",
       " 'Coldsnap Theme Decks',\n",
       " 'Coldsnap',\n",
       " 'Dissension',\n",
       " 'Guildpact',\n",
       " 'Arena League 2006',\n",
       " 'Hachette UK',\n",
       " 'Gateway 2006',\n",
       " 'Magic Player Rewards 2006',\n",
       " 'Judge Gift Cards 2006',\n",
       " 'Friday Night Magic 2006',\n",
       " 'Two-Headed Giant Tournament',\n",
       " 'Ravnica: City of Guilds',\n",
       " 'Ninth Edition',\n",
       " 'Saviors of Kamigawa',\n",
       " 'Betrayers of Kamigawa',\n",
       " 'Arena League 2005',\n",
       " 'Magic Player Rewards 2005',\n",
       " 'Judge Gift Cards 2005',\n",
       " 'Friday Night Magic 2005',\n",
       " 'Unhinged',\n",
       " 'Champions of Kamigawa',\n",
       " 'World Championship Decks 2004',\n",
       " 'Fifth Dawn',\n",
       " 'Darksteel',\n",
       " 'Arena League 2004',\n",
       " 'Magic Player Rewards 2004',\n",
       " 'Judge Gift Cards 2004',\n",
       " 'Friday Night Magic 2004',\n",
       " 'Mirrodin',\n",
       " 'World Championship Decks 2003',\n",
       " 'Eighth Edition',\n",
       " 'Scourge',\n",
       " 'Legions',\n",
       " 'Arena League 2003',\n",
       " 'Magic Player Rewards 2003',\n",
       " 'Judge Gift Cards 2003',\n",
       " 'Friday Night Magic 2003',\n",
       " 'Onslaught',\n",
       " 'World Championship Decks 2002',\n",
       " 'Judgment',\n",
       " 'Torment',\n",
       " 'Arena League 2002',\n",
       " 'Magic Player Rewards 2002',\n",
       " 'Judge Gift Cards 2002',\n",
       " 'Friday Night Magic 2002',\n",
       " 'Deckmasters',\n",
       " 'Odyssey',\n",
       " 'World Championship Decks 2001',\n",
       " 'Apocalypse',\n",
       " 'Seventh Edition',\n",
       " 'Planeshift',\n",
       " 'Arena League 2001',\n",
       " 'Magic Player Rewards 2001',\n",
       " 'Judge Gift Cards 2001',\n",
       " 'Friday Night Magic 2001',\n",
       " 'Invasion',\n",
       " 'Beatdown Box Set',\n",
       " 'World Championship Decks 2000',\n",
       " 'Prophecy',\n",
       " 'Starter 2000',\n",
       " 'Nemesis',\n",
       " 'European Land Program',\n",
       " 'Arena League 2000',\n",
       " 'Judge Gift Cards 2000',\n",
       " 'Friday Night Magic 2000',\n",
       " 'Battle Royale Box Set',\n",
       " 'Mercadian Masques',\n",
       " 'Wizards of the Coast Online Store',\n",
       " 'World Championship Decks 1999',\n",
       " 'Worlds',\n",
       " 'Guru',\n",
       " 'Starter 1999',\n",
       " \"Urza's Destiny\",\n",
       " 'Portal Three Kingdoms',\n",
       " 'Classic Sixth Edition',\n",
       " \"Urza's Legacy\",\n",
       " 'Arena League 1999',\n",
       " 'Judge Gift Cards 1999',\n",
       " 'Anthologies',\n",
       " \"Urza's Saga\",\n",
       " 'Asia Pacific Land Program',\n",
       " 'World Championship Decks 1998',\n",
       " 'Unglued',\n",
       " 'Exodus',\n",
       " 'Portal Second Age',\n",
       " 'Stronghold',\n",
       " 'Judge Gift Cards 1998',\n",
       " 'Tempest',\n",
       " 'World Championship Decks 1997',\n",
       " 'Weatherlight',\n",
       " 'Portal Demo Game',\n",
       " 'Portal',\n",
       " 'Fifth Edition',\n",
       " 'Visions',\n",
       " 'Introductory Two-Player Set',\n",
       " 'Multiverse Gift Box',\n",
       " 'Mirage',\n",
       " 'Arena League 1996',\n",
       " 'Rivals Quick Start Set',\n",
       " 'Alliances',\n",
       " 'Pro Tour Collector Set',\n",
       " 'Homelands',\n",
       " 'Chronicles',\n",
       " 'Ice Age',\n",
       " 'Fourth Edition',\n",
       " 'Magazine Inserts',\n",
       " 'DCI Legend Membership',\n",
       " 'Fallen Empires',\n",
       " 'The Dark',\n",
       " 'Summer Magic / Edgar',\n",
       " 'Legends',\n",
       " 'Revised Edition',\n",
       " 'Antiquities',\n",
       " 'HarperPrism Book Promos',\n",
       " 'Dragon Con',\n",
       " 'Arabian Nights',\n",
       " 'Intl. Collectors’ Edition',\n",
       " 'Collectors’ Edition',\n",
       " 'Unlimited Edition',\n",
       " 'Limited Edition Beta',\n",
       " 'Limited Edition Alpha']"
      ]
     },
     "execution_count": 7,
     "metadata": {},
     "output_type": "execute_result"
    }
   ],
   "source": [
    "sets = list(all_cards_df['set_name'].unique())\n",
    "sets"
   ]
  },
  {
   "cell_type": "code",
   "execution_count": null,
   "metadata": {},
   "outputs": [
    {
     "name": "stdout",
     "output_type": "stream",
     "text": [
      "Ultimate Box Topper\n",
      "Urborg, Tomb of Yawgmoth\n"
     ]
    },
    {
     "name": "stderr",
     "output_type": "stream",
     "text": [
      "WARNING: Couldn't write lextab module <module 'slimit.lextab' from 'C:\\\\Users\\\\alexg\\\\Anaconda3\\\\lib\\\\site-packages\\\\slimit\\\\lextab.py'>. Won't overwrite existing lextab module\n",
      "WARNING: yacc table file version is out of date\n",
      "WARNING: Token 'BLOCK_COMMENT' defined, but not used\n",
      "WARNING: Token 'CLASS' defined, but not used\n",
      "WARNING: Token 'CONST' defined, but not used\n",
      "WARNING: Token 'ENUM' defined, but not used\n",
      "WARNING: Token 'EXPORT' defined, but not used\n",
      "WARNING: Token 'EXTENDS' defined, but not used\n",
      "WARNING: Token 'IMPORT' defined, but not used\n",
      "WARNING: Token 'LINE_COMMENT' defined, but not used\n",
      "WARNING: Token 'LINE_TERMINATOR' defined, but not used\n",
      "WARNING: Token 'SUPER' defined, but not used\n",
      "WARNING: There are 10 unused tokens\n",
      "WARNING: Couldn't create <module 'slimit.yacctab' from 'C:\\\\Users\\\\alexg\\\\Anaconda3\\\\lib\\\\site-packages\\\\slimit\\\\yacctab.py'>. Won't overwrite existing tabmodule\n"
     ]
    },
    {
     "name": "stdout",
     "output_type": "stream",
     "text": [
      "Ultimate Box Topper not a set on MTGPrice\n",
      "Ultimate Masters\n",
      "Urborg, Tomb of Yawgmoth\n"
     ]
    },
    {
     "name": "stderr",
     "output_type": "stream",
     "text": [
      "WARNING: Couldn't write lextab module <module 'slimit.lextab' from 'C:\\\\Users\\\\alexg\\\\Anaconda3\\\\lib\\\\site-packages\\\\slimit\\\\lextab.py'>. Won't overwrite existing lextab module\n",
      "WARNING: yacc table file version is out of date\n",
      "WARNING: Token 'BLOCK_COMMENT' defined, but not used\n",
      "WARNING: Token 'CLASS' defined, but not used\n",
      "WARNING: Token 'CONST' defined, but not used\n",
      "WARNING: Token 'ENUM' defined, but not used\n",
      "WARNING: Token 'EXPORT' defined, but not used\n",
      "WARNING: Token 'EXTENDS' defined, but not used\n",
      "WARNING: Token 'IMPORT' defined, but not used\n",
      "WARNING: Token 'LINE_COMMENT' defined, but not used\n",
      "WARNING: Token 'LINE_TERMINATOR' defined, but not used\n",
      "WARNING: Token 'SUPER' defined, but not used\n",
      "WARNING: There are 10 unused tokens\n",
      "WARNING: Couldn't create <module 'slimit.yacctab' from 'C:\\\\Users\\\\alexg\\\\Anaconda3\\\\lib\\\\site-packages\\\\slimit\\\\yacctab.py'>. Won't overwrite existing tabmodule\n"
     ]
    },
    {
     "name": "stdout",
     "output_type": "stream",
     "text": [
      "Ultimate Masters not a set on MTGPrice\n",
      "Game Night\n",
      "Forest\n"
     ]
    },
    {
     "name": "stderr",
     "output_type": "stream",
     "text": [
      "WARNING: Couldn't write lextab module <module 'slimit.lextab' from 'C:\\\\Users\\\\alexg\\\\Anaconda3\\\\lib\\\\site-packages\\\\slimit\\\\lextab.py'>. Won't overwrite existing lextab module\n",
      "WARNING: yacc table file version is out of date\n",
      "WARNING: Token 'BLOCK_COMMENT' defined, but not used\n",
      "WARNING: Token 'CLASS' defined, but not used\n",
      "WARNING: Token 'CONST' defined, but not used\n",
      "WARNING: Token 'ENUM' defined, but not used\n",
      "WARNING: Token 'EXPORT' defined, but not used\n",
      "WARNING: Token 'EXTENDS' defined, but not used\n",
      "WARNING: Token 'IMPORT' defined, but not used\n",
      "WARNING: Token 'LINE_COMMENT' defined, but not used\n",
      "WARNING: Token 'LINE_TERMINATOR' defined, but not used\n",
      "WARNING: Token 'SUPER' defined, but not used\n",
      "WARNING: There are 10 unused tokens\n",
      "WARNING: Couldn't create <module 'slimit.yacctab' from 'C:\\\\Users\\\\alexg\\\\Anaconda3\\\\lib\\\\site-packages\\\\slimit\\\\yacctab.py'>. Won't overwrite existing tabmodule\n"
     ]
    },
    {
     "name": "stdout",
     "output_type": "stream",
     "text": [
      "Game Night not a set on MTGPrice\n",
      "Vintage Championship\n",
      "Time Walk\n"
     ]
    },
    {
     "name": "stderr",
     "output_type": "stream",
     "text": [
      "WARNING: Couldn't write lextab module <module 'slimit.lextab' from 'C:\\\\Users\\\\alexg\\\\Anaconda3\\\\lib\\\\site-packages\\\\slimit\\\\lextab.py'>. Won't overwrite existing lextab module\n",
      "WARNING: yacc table file version is out of date\n",
      "WARNING: Token 'BLOCK_COMMENT' defined, but not used\n",
      "WARNING: Token 'CLASS' defined, but not used\n",
      "WARNING: Token 'CONST' defined, but not used\n",
      "WARNING: Token 'ENUM' defined, but not used\n",
      "WARNING: Token 'EXPORT' defined, but not used\n",
      "WARNING: Token 'EXTENDS' defined, but not used\n",
      "WARNING: Token 'IMPORT' defined, but not used\n",
      "WARNING: Token 'LINE_COMMENT' defined, but not used\n",
      "WARNING: Token 'LINE_TERMINATOR' defined, but not used\n",
      "WARNING: Token 'SUPER' defined, but not used\n",
      "WARNING: There are 10 unused tokens\n",
      "WARNING: Couldn't create <module 'slimit.yacctab' from 'C:\\\\Users\\\\alexg\\\\Anaconda3\\\\lib\\\\site-packages\\\\slimit\\\\yacctab.py'>. Won't overwrite existing tabmodule\n"
     ]
    },
    {
     "name": "stdout",
     "output_type": "stream",
     "text": [
      "Vintage Championship not a set on MTGPrice\n",
      "Legacy Championship\n",
      "Volcanic Island\n"
     ]
    },
    {
     "name": "stderr",
     "output_type": "stream",
     "text": [
      "WARNING: Couldn't write lextab module <module 'slimit.lextab' from 'C:\\\\Users\\\\alexg\\\\Anaconda3\\\\lib\\\\site-packages\\\\slimit\\\\lextab.py'>. Won't overwrite existing lextab module\n",
      "WARNING: yacc table file version is out of date\n",
      "WARNING: Token 'BLOCK_COMMENT' defined, but not used\n",
      "WARNING: Token 'CLASS' defined, but not used\n",
      "WARNING: Token 'CONST' defined, but not used\n",
      "WARNING: Token 'ENUM' defined, but not used\n",
      "WARNING: Token 'EXPORT' defined, but not used\n",
      "WARNING: Token 'EXTENDS' defined, but not used\n",
      "WARNING: Token 'IMPORT' defined, but not used\n",
      "WARNING: Token 'LINE_COMMENT' defined, but not used\n",
      "WARNING: Token 'LINE_TERMINATOR' defined, but not used\n",
      "WARNING: Token 'SUPER' defined, but not used\n",
      "WARNING: There are 10 unused tokens\n",
      "WARNING: Couldn't create <module 'slimit.yacctab' from 'C:\\\\Users\\\\alexg\\\\Anaconda3\\\\lib\\\\site-packages\\\\slimit\\\\yacctab.py'>. Won't overwrite existing tabmodule\n"
     ]
    },
    {
     "name": "stdout",
     "output_type": "stream",
     "text": [
      "Legacy Championship not a set on MTGPrice\n",
      "GRN Guild Kit\n",
      "Forest\n"
     ]
    },
    {
     "name": "stderr",
     "output_type": "stream",
     "text": [
      "WARNING: Couldn't write lextab module <module 'slimit.lextab' from 'C:\\\\Users\\\\alexg\\\\Anaconda3\\\\lib\\\\site-packages\\\\slimit\\\\lextab.py'>. Won't overwrite existing lextab module\n",
      "WARNING: yacc table file version is out of date\n",
      "WARNING: Token 'BLOCK_COMMENT' defined, but not used\n",
      "WARNING: Token 'CLASS' defined, but not used\n",
      "WARNING: Token 'CONST' defined, but not used\n",
      "WARNING: Token 'ENUM' defined, but not used\n",
      "WARNING: Token 'EXPORT' defined, but not used\n",
      "WARNING: Token 'EXTENDS' defined, but not used\n",
      "WARNING: Token 'IMPORT' defined, but not used\n",
      "WARNING: Token 'LINE_COMMENT' defined, but not used\n",
      "WARNING: Token 'LINE_TERMINATOR' defined, but not used\n",
      "WARNING: Token 'SUPER' defined, but not used\n",
      "WARNING: There are 10 unused tokens\n",
      "WARNING: Couldn't create <module 'slimit.yacctab' from 'C:\\\\Users\\\\alexg\\\\Anaconda3\\\\lib\\\\site-packages\\\\slimit\\\\yacctab.py'>. Won't overwrite existing tabmodule\n"
     ]
    },
    {
     "name": "stdout",
     "output_type": "stream",
     "text": [
      "GRN Guild Kit not a set on MTGPrice\n",
      "Guilds of Ravnica Promos\n",
      "Response \n"
     ]
    },
    {
     "name": "stderr",
     "output_type": "stream",
     "text": [
      "WARNING: Couldn't write lextab module <module 'slimit.lextab' from 'C:\\\\Users\\\\alexg\\\\Anaconda3\\\\lib\\\\site-packages\\\\slimit\\\\lextab.py'>. Won't overwrite existing lextab module\n",
      "WARNING: yacc table file version is out of date\n",
      "WARNING: Token 'BLOCK_COMMENT' defined, but not used\n",
      "WARNING: Token 'CLASS' defined, but not used\n",
      "WARNING: Token 'CONST' defined, but not used\n",
      "WARNING: Token 'ENUM' defined, but not used\n",
      "WARNING: Token 'EXPORT' defined, but not used\n",
      "WARNING: Token 'EXTENDS' defined, but not used\n",
      "WARNING: Token 'IMPORT' defined, but not used\n",
      "WARNING: Token 'LINE_COMMENT' defined, but not used\n",
      "WARNING: Token 'LINE_TERMINATOR' defined, but not used\n",
      "WARNING: Token 'SUPER' defined, but not used\n",
      "WARNING: There are 10 unused tokens\n",
      "WARNING: Couldn't create <module 'slimit.yacctab' from 'C:\\\\Users\\\\alexg\\\\Anaconda3\\\\lib\\\\site-packages\\\\slimit\\\\yacctab.py'>. Won't overwrite existing tabmodule\n"
     ]
    },
    {
     "name": "stdout",
     "output_type": "stream",
     "text": [
      "Guilds of Ravnica Promos not a set on MTGPrice\n",
      "Ravnica Weekend\n",
      "Plains\n"
     ]
    },
    {
     "name": "stderr",
     "output_type": "stream",
     "text": [
      "WARNING: Couldn't write lextab module <module 'slimit.lextab' from 'C:\\\\Users\\\\alexg\\\\Anaconda3\\\\lib\\\\site-packages\\\\slimit\\\\lextab.py'>. Won't overwrite existing lextab module\n",
      "WARNING: yacc table file version is out of date\n",
      "WARNING: Token 'BLOCK_COMMENT' defined, but not used\n",
      "WARNING: Token 'CLASS' defined, but not used\n",
      "WARNING: Token 'CONST' defined, but not used\n",
      "WARNING: Token 'ENUM' defined, but not used\n",
      "WARNING: Token 'EXPORT' defined, but not used\n",
      "WARNING: Token 'EXTENDS' defined, but not used\n",
      "WARNING: Token 'IMPORT' defined, but not used\n",
      "WARNING: Token 'LINE_COMMENT' defined, but not used\n",
      "WARNING: Token 'LINE_TERMINATOR' defined, but not used\n",
      "WARNING: Token 'SUPER' defined, but not used\n",
      "WARNING: There are 10 unused tokens\n",
      "WARNING: Couldn't create <module 'slimit.yacctab' from 'C:\\\\Users\\\\alexg\\\\Anaconda3\\\\lib\\\\site-packages\\\\slimit\\\\yacctab.py'>. Won't overwrite existing tabmodule\n"
     ]
    },
    {
     "name": "stdout",
     "output_type": "stream",
     "text": [
      "Ravnica Weekend not a set on MTGPrice\n",
      "Guilds of Ravnica\n",
      "Impervious Greatwurm\n"
     ]
    },
    {
     "name": "stderr",
     "output_type": "stream",
     "text": [
      "WARNING: Couldn't write lextab module <module 'slimit.lextab' from 'C:\\\\Users\\\\alexg\\\\Anaconda3\\\\lib\\\\site-packages\\\\slimit\\\\lextab.py'>. Won't overwrite existing lextab module\n",
      "WARNING: yacc table file version is out of date\n",
      "WARNING: Token 'BLOCK_COMMENT' defined, but not used\n",
      "WARNING: Token 'CLASS' defined, but not used\n",
      "WARNING: Token 'CONST' defined, but not used\n",
      "WARNING: Token 'ENUM' defined, but not used\n",
      "WARNING: Token 'EXPORT' defined, but not used\n",
      "WARNING: Token 'EXTENDS' defined, but not used\n",
      "WARNING: Token 'IMPORT' defined, but not used\n",
      "WARNING: Token 'LINE_COMMENT' defined, but not used\n",
      "WARNING: Token 'LINE_TERMINATOR' defined, but not used\n",
      "WARNING: Token 'SUPER' defined, but not used\n",
      "WARNING: There are 10 unused tokens\n",
      "WARNING: Couldn't create <module 'slimit.yacctab' from 'C:\\\\Users\\\\alexg\\\\Anaconda3\\\\lib\\\\site-packages\\\\slimit\\\\yacctab.py'>. Won't overwrite existing tabmodule\n"
     ]
    },
    {
     "name": "stdout",
     "output_type": "stream",
     "text": [
      "Guilds of Ravnica not a set on MTGPrice\n",
      "Mythic Edition\n",
      "Vraska, Golgari Queen\n"
     ]
    },
    {
     "name": "stderr",
     "output_type": "stream",
     "text": [
      "WARNING: Couldn't write lextab module <module 'slimit.lextab' from 'C:\\\\Users\\\\alexg\\\\Anaconda3\\\\lib\\\\site-packages\\\\slimit\\\\lextab.py'>. Won't overwrite existing lextab module\n",
      "WARNING: yacc table file version is out of date\n",
      "WARNING: Token 'BLOCK_COMMENT' defined, but not used\n",
      "WARNING: Token 'CLASS' defined, but not used\n",
      "WARNING: Token 'CONST' defined, but not used\n",
      "WARNING: Token 'ENUM' defined, but not used\n",
      "WARNING: Token 'EXPORT' defined, but not used\n",
      "WARNING: Token 'EXTENDS' defined, but not used\n",
      "WARNING: Token 'IMPORT' defined, but not used\n",
      "WARNING: Token 'LINE_COMMENT' defined, but not used\n",
      "WARNING: Token 'LINE_TERMINATOR' defined, but not used\n",
      "WARNING: Token 'SUPER' defined, but not used\n",
      "WARNING: There are 10 unused tokens\n",
      "WARNING: Couldn't create <module 'slimit.yacctab' from 'C:\\\\Users\\\\alexg\\\\Anaconda3\\\\lib\\\\site-packages\\\\slimit\\\\yacctab.py'>. Won't overwrite existing tabmodule\n"
     ]
    },
    {
     "name": "stdout",
     "output_type": "stream",
     "text": [
      "Mythic Edition not a set on MTGPrice\n",
      "Magic Online Promos\n",
      "Chalice of the Void\n"
     ]
    },
    {
     "name": "stderr",
     "output_type": "stream",
     "text": [
      "WARNING: Couldn't write lextab module <module 'slimit.lextab' from 'C:\\\\Users\\\\alexg\\\\Anaconda3\\\\lib\\\\site-packages\\\\slimit\\\\lextab.py'>. Won't overwrite existing lextab module\n",
      "WARNING: yacc table file version is out of date\n",
      "WARNING: Token 'BLOCK_COMMENT' defined, but not used\n",
      "WARNING: Token 'CLASS' defined, but not used\n",
      "WARNING: Token 'CONST' defined, but not used\n",
      "WARNING: Token 'ENUM' defined, but not used\n",
      "WARNING: Token 'EXPORT' defined, but not used\n",
      "WARNING: Token 'EXTENDS' defined, but not used\n",
      "WARNING: Token 'IMPORT' defined, but not used\n",
      "WARNING: Token 'LINE_COMMENT' defined, but not used\n",
      "WARNING: Token 'LINE_TERMINATOR' defined, but not used\n",
      "WARNING: Token 'SUPER' defined, but not used\n",
      "WARNING: There are 10 unused tokens\n",
      "WARNING: Couldn't create <module 'slimit.yacctab' from 'C:\\\\Users\\\\alexg\\\\Anaconda3\\\\lib\\\\site-packages\\\\slimit\\\\yacctab.py'>. Won't overwrite existing tabmodule\n"
     ]
    },
    {
     "name": "stdout",
     "output_type": "stream",
     "text": [
      "Magic Online Promos not a set on MTGPrice\n",
      "Commander 2018 Oversized\n",
      "Saheeli, the Gifted\n"
     ]
    },
    {
     "name": "stderr",
     "output_type": "stream",
     "text": [
      "WARNING: Couldn't write lextab module <module 'slimit.lextab' from 'C:\\\\Users\\\\alexg\\\\Anaconda3\\\\lib\\\\site-packages\\\\slimit\\\\lextab.py'>. Won't overwrite existing lextab module\n",
      "WARNING: yacc table file version is out of date\n",
      "WARNING: Token 'BLOCK_COMMENT' defined, but not used\n",
      "WARNING: Token 'CLASS' defined, but not used\n",
      "WARNING: Token 'CONST' defined, but not used\n",
      "WARNING: Token 'ENUM' defined, but not used\n",
      "WARNING: Token 'EXPORT' defined, but not used\n",
      "WARNING: Token 'EXTENDS' defined, but not used\n",
      "WARNING: Token 'IMPORT' defined, but not used\n",
      "WARNING: Token 'LINE_COMMENT' defined, but not used\n",
      "WARNING: Token 'LINE_TERMINATOR' defined, but not used\n",
      "WARNING: Token 'SUPER' defined, but not used\n",
      "WARNING: There are 10 unused tokens\n",
      "WARNING: Couldn't create <module 'slimit.yacctab' from 'C:\\\\Users\\\\alexg\\\\Anaconda3\\\\lib\\\\site-packages\\\\slimit\\\\yacctab.py'>. Won't overwrite existing tabmodule\n"
     ]
    },
    {
     "name": "stdout",
     "output_type": "stream",
     "text": [
      "Commander 2018 Oversized not a set on MTGPrice\n",
      "Commander 2018\n",
      "Forest\n"
     ]
    },
    {
     "name": "stderr",
     "output_type": "stream",
     "text": [
      "WARNING: Couldn't write lextab module <module 'slimit.lextab' from 'C:\\\\Users\\\\alexg\\\\Anaconda3\\\\lib\\\\site-packages\\\\slimit\\\\lextab.py'>. Won't overwrite existing lextab module\n",
      "WARNING: yacc table file version is out of date\n",
      "WARNING: Token 'BLOCK_COMMENT' defined, but not used\n",
      "WARNING: Token 'CLASS' defined, but not used\n",
      "WARNING: Token 'CONST' defined, but not used\n",
      "WARNING: Token 'ENUM' defined, but not used\n",
      "WARNING: Token 'EXPORT' defined, but not used\n",
      "WARNING: Token 'EXTENDS' defined, but not used\n",
      "WARNING: Token 'IMPORT' defined, but not used\n",
      "WARNING: Token 'LINE_COMMENT' defined, but not used\n",
      "WARNING: Token 'LINE_TERMINATOR' defined, but not used\n",
      "WARNING: Token 'SUPER' defined, but not used\n",
      "WARNING: There are 10 unused tokens\n",
      "WARNING: Couldn't create <module 'slimit.yacctab' from 'C:\\\\Users\\\\alexg\\\\Anaconda3\\\\lib\\\\site-packages\\\\slimit\\\\yacctab.py'>. Won't overwrite existing tabmodule\n"
     ]
    },
    {
     "name": "stdout",
     "output_type": "stream",
     "text": [
      "Commander 2018 not a set on MTGPrice\n",
      "San Diego Comic-Con 2018\n",
      "Nissa, Vital Force\n"
     ]
    },
    {
     "name": "stderr",
     "output_type": "stream",
     "text": [
      "WARNING: Couldn't write lextab module <module 'slimit.lextab' from 'C:\\\\Users\\\\alexg\\\\Anaconda3\\\\lib\\\\site-packages\\\\slimit\\\\lextab.py'>. Won't overwrite existing lextab module\n",
      "WARNING: yacc table file version is out of date\n",
      "WARNING: Token 'BLOCK_COMMENT' defined, but not used\n",
      "WARNING: Token 'CLASS' defined, but not used\n",
      "WARNING: Token 'CONST' defined, but not used\n",
      "WARNING: Token 'ENUM' defined, but not used\n",
      "WARNING: Token 'EXPORT' defined, but not used\n",
      "WARNING: Token 'EXTENDS' defined, but not used\n",
      "WARNING: Token 'IMPORT' defined, but not used\n",
      "WARNING: Token 'LINE_COMMENT' defined, but not used\n",
      "WARNING: Token 'LINE_TERMINATOR' defined, but not used\n",
      "WARNING: Token 'SUPER' defined, but not used\n",
      "WARNING: There are 10 unused tokens\n",
      "WARNING: Couldn't create <module 'slimit.yacctab' from 'C:\\\\Users\\\\alexg\\\\Anaconda3\\\\lib\\\\site-packages\\\\slimit\\\\yacctab.py'>. Won't overwrite existing tabmodule\n"
     ]
    },
    {
     "name": "stdout",
     "output_type": "stream",
     "text": [
      "San Diego Comic-Con 2018 not a set on MTGPrice\n",
      "Arena New Player Experience\n",
      "Rumbling Baloth\n"
     ]
    },
    {
     "name": "stderr",
     "output_type": "stream",
     "text": [
      "WARNING: Couldn't write lextab module <module 'slimit.lextab' from 'C:\\\\Users\\\\alexg\\\\Anaconda3\\\\lib\\\\site-packages\\\\slimit\\\\lextab.py'>. Won't overwrite existing lextab module\n",
      "WARNING: yacc table file version is out of date\n",
      "WARNING: Token 'BLOCK_COMMENT' defined, but not used\n",
      "WARNING: Token 'CLASS' defined, but not used\n",
      "WARNING: Token 'CONST' defined, but not used\n",
      "WARNING: Token 'ENUM' defined, but not used\n",
      "WARNING: Token 'EXPORT' defined, but not used\n",
      "WARNING: Token 'EXTENDS' defined, but not used\n",
      "WARNING: Token 'IMPORT' defined, but not used\n",
      "WARNING: Token 'LINE_COMMENT' defined, but not used\n",
      "WARNING: Token 'LINE_TERMINATOR' defined, but not used\n",
      "WARNING: Token 'SUPER' defined, but not used\n",
      "WARNING: There are 10 unused tokens\n"
     ]
    },
    {
     "name": "stdout",
     "output_type": "stream",
     "text": [
      "Arena New Player Experience not a set on MTGPrice\n",
      "M19 Standard Showdown\n",
      "Forest\n"
     ]
    },
    {
     "name": "stderr",
     "output_type": "stream",
     "text": [
      "WARNING: Couldn't write lextab module <module 'slimit.lextab' from 'C:\\\\Users\\\\alexg\\\\Anaconda3\\\\lib\\\\site-packages\\\\slimit\\\\lextab.py'>. Won't overwrite existing lextab module\n",
      "WARNING: yacc table file version is out of date\n",
      "WARNING: Token 'BLOCK_COMMENT' defined, but not used\n",
      "WARNING: Token 'CLASS' defined, but not used\n",
      "WARNING: Token 'CONST' defined, but not used\n",
      "WARNING: Token 'ENUM' defined, but not used\n",
      "WARNING: Token 'EXPORT' defined, but not used\n",
      "WARNING: Token 'EXTENDS' defined, but not used\n",
      "WARNING: Token 'IMPORT' defined, but not used\n",
      "WARNING: Token 'LINE_COMMENT' defined, but not used\n",
      "WARNING: Token 'LINE_TERMINATOR' defined, but not used\n",
      "WARNING: Token 'SUPER' defined, but not used\n",
      "WARNING: There are 10 unused tokens\n",
      "WARNING: Couldn't create <module 'slimit.yacctab' from 'C:\\\\Users\\\\alexg\\\\Anaconda3\\\\lib\\\\site-packages\\\\slimit\\\\yacctab.py'>. Won't overwrite existing tabmodule\n"
     ]
    },
    {
     "name": "stdout",
     "output_type": "stream",
     "text": [
      "M19 Standard Showdown not a set on MTGPrice\n",
      "Core Set 2019 Promos\n",
      "Reliquary Tower\n"
     ]
    },
    {
     "name": "stderr",
     "output_type": "stream",
     "text": [
      "WARNING: Couldn't write lextab module <module 'slimit.lextab' from 'C:\\\\Users\\\\alexg\\\\Anaconda3\\\\lib\\\\site-packages\\\\slimit\\\\lextab.py'>. Won't overwrite existing lextab module\n",
      "WARNING: yacc table file version is out of date\n",
      "WARNING: Token 'BLOCK_COMMENT' defined, but not used\n",
      "WARNING: Token 'CLASS' defined, but not used\n",
      "WARNING: Token 'CONST' defined, but not used\n",
      "WARNING: Token 'ENUM' defined, but not used\n",
      "WARNING: Token 'EXPORT' defined, but not used\n",
      "WARNING: Token 'EXTENDS' defined, but not used\n",
      "WARNING: Token 'IMPORT' defined, but not used\n",
      "WARNING: Token 'LINE_COMMENT' defined, but not used\n",
      "WARNING: Token 'LINE_TERMINATOR' defined, but not used\n",
      "WARNING: Token 'SUPER' defined, but not used\n",
      "WARNING: There are 10 unused tokens\n",
      "WARNING: Couldn't create <module 'slimit.yacctab' from 'C:\\\\Users\\\\alexg\\\\Anaconda3\\\\lib\\\\site-packages\\\\slimit\\\\yacctab.py'>. Won't overwrite existing tabmodule\n"
     ]
    },
    {
     "name": "stdout",
     "output_type": "stream",
     "text": [
      "Core Set 2019 Promos not a set on MTGPrice\n",
      "Core Set 2019\n",
      "Llanowar Elves\n"
     ]
    },
    {
     "name": "stderr",
     "output_type": "stream",
     "text": [
      "WARNING: Couldn't write lextab module <module 'slimit.lextab' from 'C:\\\\Users\\\\alexg\\\\Anaconda3\\\\lib\\\\site-packages\\\\slimit\\\\lextab.py'>. Won't overwrite existing lextab module\n",
      "WARNING: yacc table file version is out of date\n",
      "WARNING: Token 'BLOCK_COMMENT' defined, but not used\n",
      "WARNING: Token 'CLASS' defined, but not used\n",
      "WARNING: Token 'CONST' defined, but not used\n",
      "WARNING: Token 'ENUM' defined, but not used\n",
      "WARNING: Token 'EXPORT' defined, but not used\n",
      "WARNING: Token 'EXTENDS' defined, but not used\n",
      "WARNING: Token 'IMPORT' defined, but not used\n",
      "WARNING: Token 'LINE_COMMENT' defined, but not used\n",
      "WARNING: Token 'LINE_TERMINATOR' defined, but not used\n",
      "WARNING: Token 'SUPER' defined, but not used\n",
      "WARNING: There are 10 unused tokens\n",
      "WARNING: Couldn't create <module 'slimit.yacctab' from 'C:\\\\Users\\\\alexg\\\\Anaconda3\\\\lib\\\\site-packages\\\\slimit\\\\yacctab.py'>. Won't overwrite existing tabmodule\n"
     ]
    },
    {
     "name": "stdout",
     "output_type": "stream",
     "text": [
      "Core Set 2019 not a set on MTGPrice\n",
      "You Make the Cube\n",
      "Firesong and Sunspeaker\n"
     ]
    },
    {
     "name": "stderr",
     "output_type": "stream",
     "text": [
      "WARNING: Couldn't write lextab module <module 'slimit.lextab' from 'C:\\\\Users\\\\alexg\\\\Anaconda3\\\\lib\\\\site-packages\\\\slimit\\\\lextab.py'>. Won't overwrite existing lextab module\n",
      "WARNING: yacc table file version is out of date\n",
      "WARNING: Token 'BLOCK_COMMENT' defined, but not used\n",
      "WARNING: Token 'CLASS' defined, but not used\n",
      "WARNING: Token 'CONST' defined, but not used\n",
      "WARNING: Token 'ENUM' defined, but not used\n",
      "WARNING: Token 'EXPORT' defined, but not used\n",
      "WARNING: Token 'EXTENDS' defined, but not used\n",
      "WARNING: Token 'IMPORT' defined, but not used\n",
      "WARNING: Token 'LINE_COMMENT' defined, but not used\n",
      "WARNING: Token 'LINE_TERMINATOR' defined, but not used\n",
      "WARNING: Token 'SUPER' defined, but not used\n",
      "WARNING: There are 10 unused tokens\n"
     ]
    },
    {
     "name": "stdout",
     "output_type": "stream",
     "text": [
      "You Make the Cube not a set on MTGPrice\n",
      "Global Series Jiang Yanggu & Mu Yanling\n",
      "Forest\n"
     ]
    },
    {
     "name": "stderr",
     "output_type": "stream",
     "text": [
      "WARNING: Couldn't write lextab module <module 'slimit.lextab' from 'C:\\\\Users\\\\alexg\\\\Anaconda3\\\\lib\\\\site-packages\\\\slimit\\\\lextab.py'>. Won't overwrite existing lextab module\n",
      "WARNING: yacc table file version is out of date\n",
      "WARNING: Token 'BLOCK_COMMENT' defined, but not used\n",
      "WARNING: Token 'CLASS' defined, but not used\n",
      "WARNING: Token 'CONST' defined, but not used\n",
      "WARNING: Token 'ENUM' defined, but not used\n",
      "WARNING: Token 'EXPORT' defined, but not used\n",
      "WARNING: Token 'EXTENDS' defined, but not used\n",
      "WARNING: Token 'IMPORT' defined, but not used\n",
      "WARNING: Token 'LINE_COMMENT' defined, but not used\n",
      "WARNING: Token 'LINE_TERMINATOR' defined, but not used\n",
      "WARNING: Token 'SUPER' defined, but not used\n",
      "WARNING: There are 10 unused tokens\n",
      "WARNING: Couldn't create <module 'slimit.yacctab' from 'C:\\\\Users\\\\alexg\\\\Anaconda3\\\\lib\\\\site-packages\\\\slimit\\\\yacctab.py'>. Won't overwrite existing tabmodule\n"
     ]
    },
    {
     "name": "stdout",
     "output_type": "stream",
     "text": [
      "Global Series Jiang Yanggu & Mu Yanling not a set on MTGPrice\n",
      "Signature Spellbook: Jace\n",
      "Threads of Disloyalty\n"
     ]
    },
    {
     "name": "stderr",
     "output_type": "stream",
     "text": [
      "WARNING: Couldn't write lextab module <module 'slimit.lextab' from 'C:\\\\Users\\\\alexg\\\\Anaconda3\\\\lib\\\\site-packages\\\\slimit\\\\lextab.py'>. Won't overwrite existing lextab module\n",
      "WARNING: yacc table file version is out of date\n",
      "WARNING: Token 'BLOCK_COMMENT' defined, but not used\n",
      "WARNING: Token 'CLASS' defined, but not used\n",
      "WARNING: Token 'CONST' defined, but not used\n",
      "WARNING: Token 'ENUM' defined, but not used\n",
      "WARNING: Token 'EXPORT' defined, but not used\n",
      "WARNING: Token 'EXTENDS' defined, but not used\n",
      "WARNING: Token 'IMPORT' defined, but not used\n",
      "WARNING: Token 'LINE_COMMENT' defined, but not used\n",
      "WARNING: Token 'LINE_TERMINATOR' defined, but not used\n",
      "WARNING: Token 'SUPER' defined, but not used\n",
      "WARNING: There are 10 unused tokens\n",
      "WARNING: Couldn't create <module 'slimit.yacctab' from 'C:\\\\Users\\\\alexg\\\\Anaconda3\\\\lib\\\\site-packages\\\\slimit\\\\yacctab.py'>. Won't overwrite existing tabmodule\n"
     ]
    },
    {
     "name": "stdout",
     "output_type": "stream",
     "text": [
      "Signature Spellbook: Jace not a set on MTGPrice\n",
      "Battlebond Promos\n",
      "Rowan Kenrith\n"
     ]
    },
    {
     "name": "stderr",
     "output_type": "stream",
     "text": [
      "WARNING: Couldn't write lextab module <module 'slimit.lextab' from 'C:\\\\Users\\\\alexg\\\\Anaconda3\\\\lib\\\\site-packages\\\\slimit\\\\lextab.py'>. Won't overwrite existing lextab module\n",
      "WARNING: yacc table file version is out of date\n",
      "WARNING: Token 'BLOCK_COMMENT' defined, but not used\n",
      "WARNING: Token 'CLASS' defined, but not used\n",
      "WARNING: Token 'CONST' defined, but not used\n",
      "WARNING: Token 'ENUM' defined, but not used\n",
      "WARNING: Token 'EXPORT' defined, but not used\n",
      "WARNING: Token 'EXTENDS' defined, but not used\n",
      "WARNING: Token 'IMPORT' defined, but not used\n",
      "WARNING: Token 'LINE_COMMENT' defined, but not used\n",
      "WARNING: Token 'LINE_TERMINATOR' defined, but not used\n",
      "WARNING: Token 'SUPER' defined, but not used\n",
      "WARNING: There are 10 unused tokens\n",
      "WARNING: Couldn't create <module 'slimit.yacctab' from 'C:\\\\Users\\\\alexg\\\\Anaconda3\\\\lib\\\\site-packages\\\\slimit\\\\yacctab.py'>. Won't overwrite existing tabmodule\n"
     ]
    },
    {
     "name": "stdout",
     "output_type": "stream",
     "text": [
      "Battlebond Promos not a set on MTGPrice\n",
      "Commander Anthology Volume II\n",
      "Forest\n"
     ]
    },
    {
     "name": "stderr",
     "output_type": "stream",
     "text": [
      "WARNING: Couldn't write lextab module <module 'slimit.lextab' from 'C:\\\\Users\\\\alexg\\\\Anaconda3\\\\lib\\\\site-packages\\\\slimit\\\\lextab.py'>. Won't overwrite existing lextab module\n",
      "WARNING: yacc table file version is out of date\n",
      "WARNING: Token 'BLOCK_COMMENT' defined, but not used\n",
      "WARNING: Token 'CLASS' defined, but not used\n",
      "WARNING: Token 'CONST' defined, but not used\n",
      "WARNING: Token 'ENUM' defined, but not used\n",
      "WARNING: Token 'EXPORT' defined, but not used\n",
      "WARNING: Token 'EXTENDS' defined, but not used\n",
      "WARNING: Token 'IMPORT' defined, but not used\n",
      "WARNING: Token 'LINE_COMMENT' defined, but not used\n",
      "WARNING: Token 'LINE_TERMINATOR' defined, but not used\n",
      "WARNING: Token 'SUPER' defined, but not used\n",
      "WARNING: There are 10 unused tokens\n",
      "WARNING: Couldn't create <module 'slimit.yacctab' from 'C:\\\\Users\\\\alexg\\\\Anaconda3\\\\lib\\\\site-packages\\\\slimit\\\\yacctab.py'>. Won't overwrite existing tabmodule\n"
     ]
    },
    {
     "name": "stdout",
     "output_type": "stream",
     "text": [
      "Commander Anthology Volume II not a set on MTGPrice\n",
      "Battlebond\n",
      "Rowan Kenrith\n"
     ]
    },
    {
     "name": "stderr",
     "output_type": "stream",
     "text": [
      "WARNING: Couldn't write lextab module <module 'slimit.lextab' from 'C:\\\\Users\\\\alexg\\\\Anaconda3\\\\lib\\\\site-packages\\\\slimit\\\\lextab.py'>. Won't overwrite existing lextab module\n",
      "WARNING: yacc table file version is out of date\n",
      "WARNING: Token 'BLOCK_COMMENT' defined, but not used\n",
      "WARNING: Token 'CLASS' defined, but not used\n",
      "WARNING: Token 'CONST' defined, but not used\n",
      "WARNING: Token 'ENUM' defined, but not used\n",
      "WARNING: Token 'EXPORT' defined, but not used\n",
      "WARNING: Token 'EXTENDS' defined, but not used\n",
      "WARNING: Token 'IMPORT' defined, but not used\n",
      "WARNING: Token 'LINE_COMMENT' defined, but not used\n",
      "WARNING: Token 'LINE_TERMINATOR' defined, but not used\n",
      "WARNING: Token 'SUPER' defined, but not used\n",
      "WARNING: There are 10 unused tokens\n"
     ]
    },
    {
     "name": "stdout",
     "output_type": "stream",
     "text": [
      "Battlebond not a set on MTGPrice\n",
      "Dominaria\n",
      "Firesong and Sunspeaker\n"
     ]
    },
    {
     "name": "stderr",
     "output_type": "stream",
     "text": [
      "WARNING: Couldn't write lextab module <module 'slimit.lextab' from 'C:\\\\Users\\\\alexg\\\\Anaconda3\\\\lib\\\\site-packages\\\\slimit\\\\lextab.py'>. Won't overwrite existing lextab module\n",
      "WARNING: yacc table file version is out of date\n",
      "WARNING: Token 'BLOCK_COMMENT' defined, but not used\n",
      "WARNING: Token 'CLASS' defined, but not used\n",
      "WARNING: Token 'CONST' defined, but not used\n",
      "WARNING: Token 'ENUM' defined, but not used\n",
      "WARNING: Token 'EXPORT' defined, but not used\n",
      "WARNING: Token 'EXTENDS' defined, but not used\n",
      "WARNING: Token 'IMPORT' defined, but not used\n",
      "WARNING: Token 'LINE_COMMENT' defined, but not used\n",
      "WARNING: Token 'LINE_TERMINATOR' defined, but not used\n",
      "WARNING: Token 'SUPER' defined, but not used\n",
      "WARNING: There are 10 unused tokens\n"
     ]
    },
    {
     "name": "stdout",
     "output_type": "stream",
     "text": [
      "Dominaria not a set on MTGPrice\n",
      "Dominaria Promos\n",
      "Zhalfirin Void\n",
      "Dominaria Promos not a set on MTGPrice\n",
      "Duel Decks: Elves vs. Inventors\n",
      "Mountain\n"
     ]
    },
    {
     "name": "stderr",
     "output_type": "stream",
     "text": [
      "WARNING: Couldn't write lextab module <module 'slimit.lextab' from 'C:\\\\Users\\\\alexg\\\\Anaconda3\\\\lib\\\\site-packages\\\\slimit\\\\lextab.py'>. Won't overwrite existing lextab module\n",
      "WARNING: yacc table file version is out of date\n",
      "WARNING: Token 'BLOCK_COMMENT' defined, but not used\n",
      "WARNING: Token 'CLASS' defined, but not used\n",
      "WARNING: Token 'CONST' defined, but not used\n",
      "WARNING: Token 'ENUM' defined, but not used\n",
      "WARNING: Token 'EXPORT' defined, but not used\n",
      "WARNING: Token 'EXTENDS' defined, but not used\n",
      "WARNING: Token 'IMPORT' defined, but not used\n",
      "WARNING: Token 'LINE_COMMENT' defined, but not used\n",
      "WARNING: Token 'LINE_TERMINATOR' defined, but not used\n",
      "WARNING: Token 'SUPER' defined, but not used\n",
      "WARNING: There are 10 unused tokens\n"
     ]
    },
    {
     "name": "stdout",
     "output_type": "stream",
     "text": [
      "Duel Decks: Elves vs. Inventors not a set on MTGPrice\n",
      "Masters 25\n",
      "Zoetic Cavern\n"
     ]
    },
    {
     "name": "stderr",
     "output_type": "stream",
     "text": [
      "WARNING: Couldn't write lextab module <module 'slimit.lextab' from 'C:\\\\Users\\\\alexg\\\\Anaconda3\\\\lib\\\\site-packages\\\\slimit\\\\lextab.py'>. Won't overwrite existing lextab module\n",
      "WARNING: yacc table file version is out of date\n",
      "WARNING: Token 'BLOCK_COMMENT' defined, but not used\n",
      "WARNING: Token 'CLASS' defined, but not used\n",
      "WARNING: Token 'CONST' defined, but not used\n",
      "WARNING: Token 'ENUM' defined, but not used\n",
      "WARNING: Token 'EXPORT' defined, but not used\n",
      "WARNING: Token 'EXTENDS' defined, but not used\n",
      "WARNING: Token 'IMPORT' defined, but not used\n",
      "WARNING: Token 'LINE_COMMENT' defined, but not used\n",
      "WARNING: Token 'LINE_TERMINATOR' defined, but not used\n",
      "WARNING: Token 'SUPER' defined, but not used\n",
      "WARNING: There are 10 unused tokens\n",
      "WARNING: Couldn't create <module 'slimit.yacctab' from 'C:\\\\Users\\\\alexg\\\\Anaconda3\\\\lib\\\\site-packages\\\\slimit\\\\yacctab.py'>. Won't overwrite existing tabmodule\n"
     ]
    },
    {
     "name": "stdout",
     "output_type": "stream",
     "text": [
      "Masters 25 not a set on MTGPrice\n",
      "Resale Promos\n",
      "Etali, Primal Storm\n"
     ]
    },
    {
     "name": "stderr",
     "output_type": "stream",
     "text": [
      "WARNING: Couldn't write lextab module <module 'slimit.lextab' from 'C:\\\\Users\\\\alexg\\\\Anaconda3\\\\lib\\\\site-packages\\\\slimit\\\\lextab.py'>. Won't overwrite existing lextab module\n",
      "WARNING: yacc table file version is out of date\n",
      "WARNING: Token 'BLOCK_COMMENT' defined, but not used\n",
      "WARNING: Token 'CLASS' defined, but not used\n",
      "WARNING: Token 'CONST' defined, but not used\n",
      "WARNING: Token 'ENUM' defined, but not used\n",
      "WARNING: Token 'EXPORT' defined, but not used\n",
      "WARNING: Token 'EXTENDS' defined, but not used\n",
      "WARNING: Token 'IMPORT' defined, but not used\n",
      "WARNING: Token 'LINE_COMMENT' defined, but not used\n",
      "WARNING: Token 'LINE_TERMINATOR' defined, but not used\n",
      "WARNING: Token 'SUPER' defined, but not used\n",
      "WARNING: There are 10 unused tokens\n",
      "WARNING: Couldn't create <module 'slimit.yacctab' from 'C:\\\\Users\\\\alexg\\\\Anaconda3\\\\lib\\\\site-packages\\\\slimit\\\\yacctab.py'>. Won't overwrite existing tabmodule\n"
     ]
    },
    {
     "name": "stdout",
     "output_type": "stream",
     "text": [
      "Resale Promos not a set on MTGPrice\n",
      "Nationals Promos\n",
      "Flooded Strand\n"
     ]
    },
    {
     "name": "stderr",
     "output_type": "stream",
     "text": [
      "WARNING: Couldn't write lextab module <module 'slimit.lextab' from 'C:\\\\Users\\\\alexg\\\\Anaconda3\\\\lib\\\\site-packages\\\\slimit\\\\lextab.py'>. Won't overwrite existing lextab module\n",
      "WARNING: yacc table file version is out of date\n",
      "WARNING: Token 'BLOCK_COMMENT' defined, but not used\n",
      "WARNING: Token 'CLASS' defined, but not used\n",
      "WARNING: Token 'CONST' defined, but not used\n",
      "WARNING: Token 'ENUM' defined, but not used\n",
      "WARNING: Token 'EXPORT' defined, but not used\n",
      "WARNING: Token 'EXTENDS' defined, but not used\n",
      "WARNING: Token 'IMPORT' defined, but not used\n",
      "WARNING: Token 'LINE_COMMENT' defined, but not used\n",
      "WARNING: Token 'LINE_TERMINATOR' defined, but not used\n",
      "WARNING: Token 'SUPER' defined, but not used\n",
      "WARNING: There are 10 unused tokens\n",
      "WARNING: Couldn't create <module 'slimit.yacctab' from 'C:\\\\Users\\\\alexg\\\\Anaconda3\\\\lib\\\\site-packages\\\\slimit\\\\yacctab.py'>. Won't overwrite existing tabmodule\n"
     ]
    },
    {
     "name": "stdout",
     "output_type": "stream",
     "text": [
      "Nationals Promos not a set on MTGPrice\n",
      "Rivals of Ixalan Promos\n",
      "Evolving Wilds\n"
     ]
    },
    {
     "name": "stderr",
     "output_type": "stream",
     "text": [
      "WARNING: Couldn't write lextab module <module 'slimit.lextab' from 'C:\\\\Users\\\\alexg\\\\Anaconda3\\\\lib\\\\site-packages\\\\slimit\\\\lextab.py'>. Won't overwrite existing lextab module\n",
      "WARNING: yacc table file version is out of date\n",
      "WARNING: Token 'BLOCK_COMMENT' defined, but not used\n",
      "WARNING: Token 'CLASS' defined, but not used\n",
      "WARNING: Token 'CONST' defined, but not used\n",
      "WARNING: Token 'ENUM' defined, but not used\n",
      "WARNING: Token 'EXPORT' defined, but not used\n",
      "WARNING: Token 'EXTENDS' defined, but not used\n",
      "WARNING: Token 'IMPORT' defined, but not used\n",
      "WARNING: Token 'LINE_COMMENT' defined, but not used\n",
      "WARNING: Token 'LINE_TERMINATOR' defined, but not used\n",
      "WARNING: Token 'SUPER' defined, but not used\n",
      "WARNING: There are 10 unused tokens\n",
      "WARNING: Couldn't create <module 'slimit.yacctab' from 'C:\\\\Users\\\\alexg\\\\Anaconda3\\\\lib\\\\site-packages\\\\slimit\\\\yacctab.py'>. Won't overwrite existing tabmodule\n"
     ]
    },
    {
     "name": "stdout",
     "output_type": "stream",
     "text": [
      "Rivals of Ixalan Promos not a set on MTGPrice\n",
      "Rivals of Ixalan\n",
      "Cinder Barrens\n"
     ]
    },
    {
     "name": "stderr",
     "output_type": "stream",
     "text": [
      "WARNING: Couldn't write lextab module <module 'slimit.lextab' from 'C:\\\\Users\\\\alexg\\\\Anaconda3\\\\lib\\\\site-packages\\\\slimit\\\\lextab.py'>. Won't overwrite existing lextab module\n",
      "WARNING: yacc table file version is out of date\n",
      "WARNING: Token 'BLOCK_COMMENT' defined, but not used\n",
      "WARNING: Token 'CLASS' defined, but not used\n",
      "WARNING: Token 'CONST' defined, but not used\n",
      "WARNING: Token 'ENUM' defined, but not used\n",
      "WARNING: Token 'EXPORT' defined, but not used\n",
      "WARNING: Token 'EXTENDS' defined, but not used\n",
      "WARNING: Token 'IMPORT' defined, but not used\n",
      "WARNING: Token 'LINE_COMMENT' defined, but not used\n",
      "WARNING: Token 'LINE_TERMINATOR' defined, but not used\n",
      "WARNING: Token 'SUPER' defined, but not used\n",
      "WARNING: There are 10 unused tokens\n",
      "WARNING: Couldn't create <module 'slimit.yacctab' from 'C:\\\\Users\\\\alexg\\\\Anaconda3\\\\lib\\\\site-packages\\\\slimit\\\\yacctab.py'>. Won't overwrite existing tabmodule\n"
     ]
    },
    {
     "name": "stdout",
     "output_type": "stream",
     "text": [
      "Angrath's Fury\n"
     ]
    },
    {
     "name": "stderr",
     "output_type": "stream",
     "text": [
      "WARNING: Couldn't write lextab module <module 'slimit.lextab' from 'C:\\\\Users\\\\alexg\\\\Anaconda3\\\\lib\\\\site-packages\\\\slimit\\\\lextab.py'>. Won't overwrite existing lextab module\n",
      "WARNING: yacc table file version is out of date\n",
      "WARNING: Token 'BLOCK_COMMENT' defined, but not used\n",
      "WARNING: Token 'CLASS' defined, but not used\n",
      "WARNING: Token 'CONST' defined, but not used\n",
      "WARNING: Token 'ENUM' defined, but not used\n",
      "WARNING: Token 'EXPORT' defined, but not used\n",
      "WARNING: Token 'EXTENDS' defined, but not used\n",
      "WARNING: Token 'IMPORT' defined, but not used\n",
      "WARNING: Token 'LINE_COMMENT' defined, but not used\n",
      "WARNING: Token 'LINE_TERMINATOR' defined, but not used\n",
      "WARNING: Token 'SUPER' defined, but not used\n",
      "WARNING: There are 10 unused tokens\n",
      "WARNING: Couldn't create <module 'slimit.yacctab' from 'C:\\\\Users\\\\alexg\\\\Anaconda3\\\\lib\\\\site-packages\\\\slimit\\\\yacctab.py'>. Won't overwrite existing tabmodule\n"
     ]
    },
    {
     "name": "stdout",
     "output_type": "stream",
     "text": [
      "Swab Goblin\n"
     ]
    },
    {
     "name": "stderr",
     "output_type": "stream",
     "text": [
      "WARNING: Couldn't write lextab module <module 'slimit.lextab' from 'C:\\\\Users\\\\alexg\\\\Anaconda3\\\\lib\\\\site-packages\\\\slimit\\\\lextab.py'>. Won't overwrite existing lextab module\n",
      "WARNING: yacc table file version is out of date\n",
      "WARNING: Token 'BLOCK_COMMENT' defined, but not used\n",
      "WARNING: Token 'CLASS' defined, but not used\n",
      "WARNING: Token 'CONST' defined, but not used\n",
      "WARNING: Token 'ENUM' defined, but not used\n",
      "WARNING: Token 'EXPORT' defined, but not used\n",
      "WARNING: Token 'EXTENDS' defined, but not used\n",
      "WARNING: Token 'IMPORT' defined, but not used\n",
      "WARNING: Token 'LINE_COMMENT' defined, but not used\n",
      "WARNING: Token 'LINE_TERMINATOR' defined, but not used\n",
      "WARNING: Token 'SUPER' defined, but not used\n",
      "WARNING: There are 10 unused tokens\n",
      "WARNING: Couldn't create <module 'slimit.yacctab' from 'C:\\\\Users\\\\alexg\\\\Anaconda3\\\\lib\\\\site-packages\\\\slimit\\\\yacctab.py'>. Won't overwrite existing tabmodule\n"
     ]
    },
    {
     "name": "stdout",
     "output_type": "stream",
     "text": [
      "Angrath's Ambusher\n"
     ]
    },
    {
     "name": "stderr",
     "output_type": "stream",
     "text": [
      "WARNING: Couldn't write lextab module <module 'slimit.lextab' from 'C:\\\\Users\\\\alexg\\\\Anaconda3\\\\lib\\\\site-packages\\\\slimit\\\\lextab.py'>. Won't overwrite existing lextab module\n",
      "WARNING: yacc table file version is out of date\n",
      "WARNING: Token 'BLOCK_COMMENT' defined, but not used\n",
      "WARNING: Token 'CLASS' defined, but not used\n",
      "WARNING: Token 'CONST' defined, but not used\n",
      "WARNING: Token 'ENUM' defined, but not used\n",
      "WARNING: Token 'EXPORT' defined, but not used\n",
      "WARNING: Token 'EXTENDS' defined, but not used\n",
      "WARNING: Token 'IMPORT' defined, but not used\n",
      "WARNING: Token 'LINE_COMMENT' defined, but not used\n",
      "WARNING: Token 'LINE_TERMINATOR' defined, but not used\n",
      "WARNING: Token 'SUPER' defined, but not used\n",
      "WARNING: There are 10 unused tokens\n",
      "WARNING: Couldn't create <module 'slimit.yacctab' from 'C:\\\\Users\\\\alexg\\\\Anaconda3\\\\lib\\\\site-packages\\\\slimit\\\\yacctab.py'>. Won't overwrite existing tabmodule\n"
     ]
    },
    {
     "name": "stdout",
     "output_type": "stream",
     "text": [
      "Angrath, Minotaur Pirate\n"
     ]
    },
    {
     "name": "stderr",
     "output_type": "stream",
     "text": [
      "WARNING: Couldn't write lextab module <module 'slimit.lextab' from 'C:\\\\Users\\\\alexg\\\\Anaconda3\\\\lib\\\\site-packages\\\\slimit\\\\lextab.py'>. Won't overwrite existing lextab module\n",
      "WARNING: yacc table file version is out of date\n",
      "WARNING: Token 'BLOCK_COMMENT' defined, but not used\n",
      "WARNING: Token 'CLASS' defined, but not used\n",
      "WARNING: Token 'CONST' defined, but not used\n",
      "WARNING: Token 'ENUM' defined, but not used\n",
      "WARNING: Token 'EXPORT' defined, but not used\n",
      "WARNING: Token 'EXTENDS' defined, but not used\n",
      "WARNING: Token 'IMPORT' defined, but not used\n",
      "WARNING: Token 'LINE_COMMENT' defined, but not used\n",
      "WARNING: Token 'LINE_TERMINATOR' defined, but not used\n",
      "WARNING: Token 'SUPER' defined, but not used\n",
      "WARNING: There are 10 unused tokens\n",
      "WARNING: Couldn't create <module 'slimit.yacctab' from 'C:\\\\Users\\\\alexg\\\\Anaconda3\\\\lib\\\\site-packages\\\\slimit\\\\yacctab.py'>. Won't overwrite existing tabmodule\n"
     ]
    },
    {
     "name": "stdout",
     "output_type": "stream",
     "text": [
      "Vraska's Scorn\n"
     ]
    },
    {
     "name": "stderr",
     "output_type": "stream",
     "text": [
      "WARNING: Couldn't write lextab module <module 'slimit.lextab' from 'C:\\\\Users\\\\alexg\\\\Anaconda3\\\\lib\\\\site-packages\\\\slimit\\\\lextab.py'>. Won't overwrite existing lextab module\n",
      "WARNING: yacc table file version is out of date\n",
      "WARNING: Token 'BLOCK_COMMENT' defined, but not used\n",
      "WARNING: Token 'CLASS' defined, but not used\n",
      "WARNING: Token 'CONST' defined, but not used\n",
      "WARNING: Token 'ENUM' defined, but not used\n",
      "WARNING: Token 'EXPORT' defined, but not used\n",
      "WARNING: Token 'EXTENDS' defined, but not used\n",
      "WARNING: Token 'IMPORT' defined, but not used\n",
      "WARNING: Token 'LINE_COMMENT' defined, but not used\n",
      "WARNING: Token 'LINE_TERMINATOR' defined, but not used\n",
      "WARNING: Token 'SUPER' defined, but not used\n",
      "WARNING: There are 10 unused tokens\n",
      "WARNING: Couldn't create <module 'slimit.yacctab' from 'C:\\\\Users\\\\alexg\\\\Anaconda3\\\\lib\\\\site-packages\\\\slimit\\\\yacctab.py'>. Won't overwrite existing tabmodule\n"
     ]
    },
    {
     "name": "stdout",
     "output_type": "stream",
     "text": [
      "Vraska's Conquistador\n"
     ]
    },
    {
     "name": "stderr",
     "output_type": "stream",
     "text": [
      "WARNING: Couldn't write lextab module <module 'slimit.lextab' from 'C:\\\\Users\\\\alexg\\\\Anaconda3\\\\lib\\\\site-packages\\\\slimit\\\\lextab.py'>. Won't overwrite existing lextab module\n",
      "WARNING: yacc table file version is out of date\n",
      "WARNING: Token 'BLOCK_COMMENT' defined, but not used\n",
      "WARNING: Token 'CLASS' defined, but not used\n",
      "WARNING: Token 'CONST' defined, but not used\n",
      "WARNING: Token 'ENUM' defined, but not used\n",
      "WARNING: Token 'EXPORT' defined, but not used\n",
      "WARNING: Token 'EXTENDS' defined, but not used\n",
      "WARNING: Token 'IMPORT' defined, but not used\n",
      "WARNING: Token 'LINE_COMMENT' defined, but not used\n",
      "WARNING: Token 'LINE_TERMINATOR' defined, but not used\n",
      "WARNING: Token 'SUPER' defined, but not used\n",
      "WARNING: There are 10 unused tokens\n",
      "WARNING: Couldn't create <module 'slimit.yacctab' from 'C:\\\\Users\\\\alexg\\\\Anaconda3\\\\lib\\\\site-packages\\\\slimit\\\\yacctab.py'>. Won't overwrite existing tabmodule\n"
     ]
    },
    {
     "name": "stdout",
     "output_type": "stream",
     "text": [
      "Vampire Champion\n"
     ]
    },
    {
     "name": "stderr",
     "output_type": "stream",
     "text": [
      "WARNING: Couldn't write lextab module <module 'slimit.lextab' from 'C:\\\\Users\\\\alexg\\\\Anaconda3\\\\lib\\\\site-packages\\\\slimit\\\\lextab.py'>. Won't overwrite existing lextab module\n",
      "WARNING: yacc table file version is out of date\n",
      "WARNING: Token 'BLOCK_COMMENT' defined, but not used\n",
      "WARNING: Token 'CLASS' defined, but not used\n",
      "WARNING: Token 'CONST' defined, but not used\n",
      "WARNING: Token 'ENUM' defined, but not used\n",
      "WARNING: Token 'EXPORT' defined, but not used\n",
      "WARNING: Token 'EXTENDS' defined, but not used\n",
      "WARNING: Token 'IMPORT' defined, but not used\n",
      "WARNING: Token 'LINE_COMMENT' defined, but not used\n",
      "WARNING: Token 'LINE_TERMINATOR' defined, but not used\n",
      "WARNING: Token 'SUPER' defined, but not used\n",
      "WARNING: There are 10 unused tokens\n",
      "WARNING: Couldn't create <module 'slimit.yacctab' from 'C:\\\\Users\\\\alexg\\\\Anaconda3\\\\lib\\\\site-packages\\\\slimit\\\\yacctab.py'>. Won't overwrite existing tabmodule\n"
     ]
    },
    {
     "name": "stdout",
     "output_type": "stream",
     "text": [
      "Vraska, Scheming Gorgon\n"
     ]
    },
    {
     "name": "stderr",
     "output_type": "stream",
     "text": [
      "WARNING: Couldn't write lextab module <module 'slimit.lextab' from 'C:\\\\Users\\\\alexg\\\\Anaconda3\\\\lib\\\\site-packages\\\\slimit\\\\lextab.py'>. Won't overwrite existing lextab module\n",
      "WARNING: yacc table file version is out of date\n",
      "WARNING: Token 'BLOCK_COMMENT' defined, but not used\n",
      "WARNING: Token 'CLASS' defined, but not used\n",
      "WARNING: Token 'CONST' defined, but not used\n",
      "WARNING: Token 'ENUM' defined, but not used\n",
      "WARNING: Token 'EXPORT' defined, but not used\n",
      "WARNING: Token 'EXTENDS' defined, but not used\n",
      "WARNING: Token 'IMPORT' defined, but not used\n",
      "WARNING: Token 'LINE_COMMENT' defined, but not used\n",
      "WARNING: Token 'LINE_TERMINATOR' defined, but not used\n",
      "WARNING: Token 'SUPER' defined, but not used\n",
      "WARNING: There are 10 unused tokens\n",
      "WARNING: Couldn't create <module 'slimit.yacctab' from 'C:\\\\Users\\\\alexg\\\\Anaconda3\\\\lib\\\\site-packages\\\\slimit\\\\yacctab.py'>. Won't overwrite existing tabmodule\n"
     ]
    },
    {
     "name": "stdout",
     "output_type": "stream",
     "text": [
      "Forest\n"
     ]
    },
    {
     "name": "stderr",
     "output_type": "stream",
     "text": [
      "WARNING: Couldn't write lextab module <module 'slimit.lextab' from 'C:\\\\Users\\\\alexg\\\\Anaconda3\\\\lib\\\\site-packages\\\\slimit\\\\lextab.py'>. Won't overwrite existing lextab module\n",
      "WARNING: yacc table file version is out of date\n",
      "WARNING: Token 'BLOCK_COMMENT' defined, but not used\n",
      "WARNING: Token 'CLASS' defined, but not used\n",
      "WARNING: Token 'CONST' defined, but not used\n",
      "WARNING: Token 'ENUM' defined, but not used\n",
      "WARNING: Token 'EXPORT' defined, but not used\n",
      "WARNING: Token 'EXTENDS' defined, but not used\n",
      "WARNING: Token 'IMPORT' defined, but not used\n",
      "WARNING: Token 'LINE_COMMENT' defined, but not used\n",
      "WARNING: Token 'LINE_TERMINATOR' defined, but not used\n",
      "WARNING: Token 'SUPER' defined, but not used\n",
      "WARNING: There are 10 unused tokens\n",
      "WARNING: Couldn't create <module 'slimit.yacctab' from 'C:\\\\Users\\\\alexg\\\\Anaconda3\\\\lib\\\\site-packages\\\\slimit\\\\yacctab.py'>. Won't overwrite existing tabmodule\n"
     ]
    },
    {
     "name": "stdout",
     "output_type": "stream",
     "text": [
      "Mountain\n"
     ]
    },
    {
     "name": "stderr",
     "output_type": "stream",
     "text": [
      "WARNING: Couldn't write lextab module <module 'slimit.lextab' from 'C:\\\\Users\\\\alexg\\\\Anaconda3\\\\lib\\\\site-packages\\\\slimit\\\\lextab.py'>. Won't overwrite existing lextab module\n",
      "WARNING: yacc table file version is out of date\n",
      "WARNING: Token 'BLOCK_COMMENT' defined, but not used\n",
      "WARNING: Token 'CLASS' defined, but not used\n",
      "WARNING: Token 'CONST' defined, but not used\n",
      "WARNING: Token 'ENUM' defined, but not used\n",
      "WARNING: Token 'EXPORT' defined, but not used\n",
      "WARNING: Token 'EXTENDS' defined, but not used\n",
      "WARNING: Token 'IMPORT' defined, but not used\n",
      "WARNING: Token 'LINE_COMMENT' defined, but not used\n",
      "WARNING: Token 'LINE_TERMINATOR' defined, but not used\n",
      "WARNING: Token 'SUPER' defined, but not used\n",
      "WARNING: There are 10 unused tokens\n",
      "WARNING: Couldn't create <module 'slimit.yacctab' from 'C:\\\\Users\\\\alexg\\\\Anaconda3\\\\lib\\\\site-packages\\\\slimit\\\\yacctab.py'>. Won't overwrite existing tabmodule\n"
     ]
    },
    {
     "name": "stdout",
     "output_type": "stream",
     "text": [
      "Swamp\n"
     ]
    },
    {
     "name": "stderr",
     "output_type": "stream",
     "text": [
      "WARNING: Couldn't write lextab module <module 'slimit.lextab' from 'C:\\\\Users\\\\alexg\\\\Anaconda3\\\\lib\\\\site-packages\\\\slimit\\\\lextab.py'>. Won't overwrite existing lextab module\n",
      "WARNING: yacc table file version is out of date\n",
      "WARNING: Token 'BLOCK_COMMENT' defined, but not used\n",
      "WARNING: Token 'CLASS' defined, but not used\n",
      "WARNING: Token 'CONST' defined, but not used\n",
      "WARNING: Token 'ENUM' defined, but not used\n",
      "WARNING: Token 'EXPORT' defined, but not used\n",
      "WARNING: Token 'EXTENDS' defined, but not used\n",
      "WARNING: Token 'IMPORT' defined, but not used\n",
      "WARNING: Token 'LINE_COMMENT' defined, but not used\n",
      "WARNING: Token 'LINE_TERMINATOR' defined, but not used\n",
      "WARNING: Token 'SUPER' defined, but not used\n",
      "WARNING: There are 10 unused tokens\n",
      "WARNING: Couldn't create <module 'slimit.yacctab' from 'C:\\\\Users\\\\alexg\\\\Anaconda3\\\\lib\\\\site-packages\\\\slimit\\\\yacctab.py'>. Won't overwrite existing tabmodule\n"
     ]
    },
    {
     "name": "stdout",
     "output_type": "stream",
     "text": [
      "Island\n"
     ]
    },
    {
     "name": "stderr",
     "output_type": "stream",
     "text": [
      "WARNING: Couldn't write lextab module <module 'slimit.lextab' from 'C:\\\\Users\\\\alexg\\\\Anaconda3\\\\lib\\\\site-packages\\\\slimit\\\\lextab.py'>. Won't overwrite existing lextab module\n",
      "WARNING: yacc table file version is out of date\n",
      "WARNING: Token 'BLOCK_COMMENT' defined, but not used\n",
      "WARNING: Token 'CLASS' defined, but not used\n",
      "WARNING: Token 'CONST' defined, but not used\n",
      "WARNING: Token 'ENUM' defined, but not used\n",
      "WARNING: Token 'EXPORT' defined, but not used\n",
      "WARNING: Token 'EXTENDS' defined, but not used\n",
      "WARNING: Token 'IMPORT' defined, but not used\n",
      "WARNING: Token 'LINE_COMMENT' defined, but not used\n",
      "WARNING: Token 'LINE_TERMINATOR' defined, but not used\n",
      "WARNING: Token 'SUPER' defined, but not used\n",
      "WARNING: There are 10 unused tokens\n",
      "WARNING: Couldn't create <module 'slimit.yacctab' from 'C:\\\\Users\\\\alexg\\\\Anaconda3\\\\lib\\\\site-packages\\\\slimit\\\\yacctab.py'>. Won't overwrite existing tabmodule\n"
     ]
    },
    {
     "name": "stdout",
     "output_type": "stream",
     "text": [
      "Plains\n"
     ]
    },
    {
     "name": "stderr",
     "output_type": "stream",
     "text": [
      "WARNING: Couldn't write lextab module <module 'slimit.lextab' from 'C:\\\\Users\\\\alexg\\\\Anaconda3\\\\lib\\\\site-packages\\\\slimit\\\\lextab.py'>. Won't overwrite existing lextab module\n",
      "WARNING: yacc table file version is out of date\n",
      "WARNING: Token 'BLOCK_COMMENT' defined, but not used\n",
      "WARNING: Token 'CLASS' defined, but not used\n",
      "WARNING: Token 'CONST' defined, but not used\n",
      "WARNING: Token 'ENUM' defined, but not used\n",
      "WARNING: Token 'EXPORT' defined, but not used\n",
      "WARNING: Token 'EXTENDS' defined, but not used\n",
      "WARNING: Token 'IMPORT' defined, but not used\n",
      "WARNING: Token 'LINE_COMMENT' defined, but not used\n",
      "WARNING: Token 'LINE_TERMINATOR' defined, but not used\n",
      "WARNING: Token 'SUPER' defined, but not used\n",
      "WARNING: There are 10 unused tokens\n",
      "WARNING: Couldn't create <module 'slimit.yacctab' from 'C:\\\\Users\\\\alexg\\\\Anaconda3\\\\lib\\\\site-packages\\\\slimit\\\\yacctab.py'>. Won't overwrite existing tabmodule\n"
     ]
    },
    {
     "name": "stdout",
     "output_type": "stream",
     "text": [
      "Woodland Stream\n"
     ]
    },
    {
     "name": "stderr",
     "output_type": "stream",
     "text": [
      "WARNING: Couldn't write lextab module <module 'slimit.lextab' from 'C:\\\\Users\\\\alexg\\\\Anaconda3\\\\lib\\\\site-packages\\\\slimit\\\\lextab.py'>. Won't overwrite existing lextab module\n",
      "WARNING: yacc table file version is out of date\n",
      "WARNING: Token 'BLOCK_COMMENT' defined, but not used\n",
      "WARNING: Token 'CLASS' defined, but not used\n",
      "WARNING: Token 'CONST' defined, but not used\n",
      "WARNING: Token 'ENUM' defined, but not used\n",
      "WARNING: Token 'EXPORT' defined, but not used\n",
      "WARNING: Token 'EXTENDS' defined, but not used\n",
      "WARNING: Token 'IMPORT' defined, but not used\n",
      "WARNING: Token 'LINE_COMMENT' defined, but not used\n",
      "WARNING: Token 'LINE_TERMINATOR' defined, but not used\n",
      "WARNING: Token 'SUPER' defined, but not used\n",
      "WARNING: There are 10 unused tokens\n",
      "WARNING: Couldn't create <module 'slimit.yacctab' from 'C:\\\\Users\\\\alexg\\\\Anaconda3\\\\lib\\\\site-packages\\\\slimit\\\\yacctab.py'>. Won't overwrite existing tabmodule\n"
     ]
    },
    {
     "name": "stdout",
     "output_type": "stream",
     "text": [
      "Stone Quarry\n"
     ]
    },
    {
     "name": "stderr",
     "output_type": "stream",
     "text": [
      "WARNING: Couldn't write lextab module <module 'slimit.lextab' from 'C:\\\\Users\\\\alexg\\\\Anaconda3\\\\lib\\\\site-packages\\\\slimit\\\\lextab.py'>. Won't overwrite existing lextab module\n",
      "WARNING: yacc table file version is out of date\n",
      "WARNING: Token 'BLOCK_COMMENT' defined, but not used\n",
      "WARNING: Token 'CLASS' defined, but not used\n",
      "WARNING: Token 'CONST' defined, but not used\n",
      "WARNING: Token 'ENUM' defined, but not used\n",
      "WARNING: Token 'EXPORT' defined, but not used\n",
      "WARNING: Token 'EXTENDS' defined, but not used\n",
      "WARNING: Token 'IMPORT' defined, but not used\n",
      "WARNING: Token 'LINE_COMMENT' defined, but not used\n",
      "WARNING: Token 'LINE_TERMINATOR' defined, but not used\n",
      "WARNING: Token 'SUPER' defined, but not used\n",
      "WARNING: There are 10 unused tokens\n",
      "WARNING: Couldn't create <module 'slimit.yacctab' from 'C:\\\\Users\\\\alexg\\\\Anaconda3\\\\lib\\\\site-packages\\\\slimit\\\\yacctab.py'>. Won't overwrite existing tabmodule\n"
     ]
    },
    {
     "name": "stdout",
     "output_type": "stream",
     "text": [
      "Highland Lake\n"
     ]
    },
    {
     "name": "stderr",
     "output_type": "stream",
     "text": [
      "WARNING: Couldn't write lextab module <module 'slimit.lextab' from 'C:\\\\Users\\\\alexg\\\\Anaconda3\\\\lib\\\\site-packages\\\\slimit\\\\lextab.py'>. Won't overwrite existing lextab module\n",
      "WARNING: yacc table file version is out of date\n",
      "WARNING: Token 'BLOCK_COMMENT' defined, but not used\n",
      "WARNING: Token 'CLASS' defined, but not used\n",
      "WARNING: Token 'CONST' defined, but not used\n",
      "WARNING: Token 'ENUM' defined, but not used\n",
      "WARNING: Token 'EXPORT' defined, but not used\n",
      "WARNING: Token 'EXTENDS' defined, but not used\n",
      "WARNING: Token 'IMPORT' defined, but not used\n",
      "WARNING: Token 'LINE_COMMENT' defined, but not used\n",
      "WARNING: Token 'LINE_TERMINATOR' defined, but not used\n",
      "WARNING: Token 'SUPER' defined, but not used\n",
      "WARNING: There are 10 unused tokens\n",
      "WARNING: Couldn't create <module 'slimit.yacctab' from 'C:\\\\Users\\\\alexg\\\\Anaconda3\\\\lib\\\\site-packages\\\\slimit\\\\yacctab.py'>. Won't overwrite existing tabmodule\n"
     ]
    },
    {
     "name": "stdout",
     "output_type": "stream",
     "text": [
      "Foul Orchard\n"
     ]
    },
    {
     "name": "stderr",
     "output_type": "stream",
     "text": [
      "WARNING: Couldn't write lextab module <module 'slimit.lextab' from 'C:\\\\Users\\\\alexg\\\\Anaconda3\\\\lib\\\\site-packages\\\\slimit\\\\lextab.py'>. Won't overwrite existing lextab module\n",
      "WARNING: yacc table file version is out of date\n",
      "WARNING: Token 'BLOCK_COMMENT' defined, but not used\n",
      "WARNING: Token 'CLASS' defined, but not used\n",
      "WARNING: Token 'CONST' defined, but not used\n",
      "WARNING: Token 'ENUM' defined, but not used\n",
      "WARNING: Token 'EXPORT' defined, but not used\n",
      "WARNING: Token 'EXTENDS' defined, but not used\n",
      "WARNING: Token 'IMPORT' defined, but not used\n",
      "WARNING: Token 'LINE_COMMENT' defined, but not used\n",
      "WARNING: Token 'LINE_TERMINATOR' defined, but not used\n",
      "WARNING: Token 'SUPER' defined, but not used\n",
      "WARNING: There are 10 unused tokens\n",
      "WARNING: Couldn't create <module 'slimit.yacctab' from 'C:\\\\Users\\\\alexg\\\\Anaconda3\\\\lib\\\\site-packages\\\\slimit\\\\yacctab.py'>. Won't overwrite existing tabmodule\n"
     ]
    },
    {
     "name": "stdout",
     "output_type": "stream",
     "text": [
      "Forsaken Sanctuary\n"
     ]
    },
    {
     "name": "stderr",
     "output_type": "stream",
     "text": [
      "WARNING: Couldn't write lextab module <module 'slimit.lextab' from 'C:\\\\Users\\\\alexg\\\\Anaconda3\\\\lib\\\\site-packages\\\\slimit\\\\lextab.py'>. Won't overwrite existing lextab module\n",
      "WARNING: yacc table file version is out of date\n",
      "WARNING: Token 'BLOCK_COMMENT' defined, but not used\n",
      "WARNING: Token 'CLASS' defined, but not used\n",
      "WARNING: Token 'CONST' defined, but not used\n",
      "WARNING: Token 'ENUM' defined, but not used\n",
      "WARNING: Token 'EXPORT' defined, but not used\n",
      "WARNING: Token 'EXTENDS' defined, but not used\n",
      "WARNING: Token 'IMPORT' defined, but not used\n",
      "WARNING: Token 'LINE_COMMENT' defined, but not used\n",
      "WARNING: Token 'LINE_TERMINATOR' defined, but not used\n",
      "WARNING: Token 'SUPER' defined, but not used\n",
      "WARNING: There are 10 unused tokens\n",
      "WARNING: Couldn't create <module 'slimit.yacctab' from 'C:\\\\Users\\\\alexg\\\\Anaconda3\\\\lib\\\\site-packages\\\\slimit\\\\yacctab.py'>. Won't overwrite existing tabmodule\n"
     ]
    },
    {
     "name": "stdout",
     "output_type": "stream",
     "text": [
      "Evolving Wilds\n"
     ]
    },
    {
     "name": "stderr",
     "output_type": "stream",
     "text": [
      "WARNING: Couldn't write lextab module <module 'slimit.lextab' from 'C:\\\\Users\\\\alexg\\\\Anaconda3\\\\lib\\\\site-packages\\\\slimit\\\\lextab.py'>. Won't overwrite existing lextab module\n",
      "WARNING: yacc table file version is out of date\n",
      "WARNING: Token 'BLOCK_COMMENT' defined, but not used\n",
      "WARNING: Token 'CLASS' defined, but not used\n",
      "WARNING: Token 'CONST' defined, but not used\n",
      "WARNING: Token 'ENUM' defined, but not used\n",
      "WARNING: Token 'EXPORT' defined, but not used\n",
      "WARNING: Token 'EXTENDS' defined, but not used\n",
      "WARNING: Token 'IMPORT' defined, but not used\n",
      "WARNING: Token 'LINE_COMMENT' defined, but not used\n",
      "WARNING: Token 'LINE_TERMINATOR' defined, but not used\n",
      "WARNING: Token 'SUPER' defined, but not used\n",
      "WARNING: There are 10 unused tokens\n",
      "WARNING: Couldn't create <module 'slimit.yacctab' from 'C:\\\\Users\\\\alexg\\\\Anaconda3\\\\lib\\\\site-packages\\\\slimit\\\\yacctab.py'>. Won't overwrite existing tabmodule\n"
     ]
    },
    {
     "name": "stdout",
     "output_type": "stream",
     "text": [
      "Arch of Orazca\n"
     ]
    },
    {
     "name": "stderr",
     "output_type": "stream",
     "text": [
      "WARNING: Couldn't write lextab module <module 'slimit.lextab' from 'C:\\\\Users\\\\alexg\\\\Anaconda3\\\\lib\\\\site-packages\\\\slimit\\\\lextab.py'>. Won't overwrite existing lextab module\n",
      "WARNING: yacc table file version is out of date\n",
      "WARNING: Token 'BLOCK_COMMENT' defined, but not used\n",
      "WARNING: Token 'CLASS' defined, but not used\n",
      "WARNING: Token 'CONST' defined, but not used\n",
      "WARNING: Token 'ENUM' defined, but not used\n",
      "WARNING: Token 'EXPORT' defined, but not used\n",
      "WARNING: Token 'EXTENDS' defined, but not used\n",
      "WARNING: Token 'IMPORT' defined, but not used\n",
      "WARNING: Token 'LINE_COMMENT' defined, but not used\n",
      "WARNING: Token 'LINE_TERMINATOR' defined, but not used\n",
      "WARNING: Token 'SUPER' defined, but not used\n",
      "WARNING: There are 10 unused tokens\n",
      "WARNING: Couldn't create <module 'slimit.yacctab' from 'C:\\\\Users\\\\alexg\\\\Anaconda3\\\\lib\\\\site-packages\\\\slimit\\\\yacctab.py'>. Won't overwrite existing tabmodule\n"
     ]
    },
    {
     "name": "stdout",
     "output_type": "stream",
     "text": [
      "Traveler's Amulet\n"
     ]
    },
    {
     "name": "stderr",
     "output_type": "stream",
     "text": [
      "WARNING: Couldn't write lextab module <module 'slimit.lextab' from 'C:\\\\Users\\\\alexg\\\\Anaconda3\\\\lib\\\\site-packages\\\\slimit\\\\lextab.py'>. Won't overwrite existing lextab module\n",
      "WARNING: yacc table file version is out of date\n",
      "WARNING: Token 'BLOCK_COMMENT' defined, but not used\n",
      "WARNING: Token 'CLASS' defined, but not used\n",
      "WARNING: Token 'CONST' defined, but not used\n",
      "WARNING: Token 'ENUM' defined, but not used\n",
      "WARNING: Token 'EXPORT' defined, but not used\n",
      "WARNING: Token 'EXTENDS' defined, but not used\n",
      "WARNING: Token 'IMPORT' defined, but not used\n",
      "WARNING: Token 'LINE_COMMENT' defined, but not used\n",
      "WARNING: Token 'LINE_TERMINATOR' defined, but not used\n",
      "WARNING: Token 'SUPER' defined, but not used\n",
      "WARNING: There are 10 unused tokens\n",
      "WARNING: Couldn't create <module 'slimit.yacctab' from 'C:\\\\Users\\\\alexg\\\\Anaconda3\\\\lib\\\\site-packages\\\\slimit\\\\yacctab.py'>. Won't overwrite existing tabmodule\n"
     ]
    },
    {
     "name": "stdout",
     "output_type": "stream",
     "text": [
      "Strider Harness\n"
     ]
    },
    {
     "name": "stderr",
     "output_type": "stream",
     "text": [
      "WARNING: Couldn't write lextab module <module 'slimit.lextab' from 'C:\\\\Users\\\\alexg\\\\Anaconda3\\\\lib\\\\site-packages\\\\slimit\\\\lextab.py'>. Won't overwrite existing lextab module\n",
      "WARNING: yacc table file version is out of date\n",
      "WARNING: Token 'BLOCK_COMMENT' defined, but not used\n",
      "WARNING: Token 'CLASS' defined, but not used\n",
      "WARNING: Token 'CONST' defined, but not used\n",
      "WARNING: Token 'ENUM' defined, but not used\n",
      "WARNING: Token 'EXPORT' defined, but not used\n",
      "WARNING: Token 'EXTENDS' defined, but not used\n",
      "WARNING: Token 'IMPORT' defined, but not used\n",
      "WARNING: Token 'LINE_COMMENT' defined, but not used\n",
      "WARNING: Token 'LINE_TERMINATOR' defined, but not used\n",
      "WARNING: Token 'SUPER' defined, but not used\n",
      "WARNING: There are 10 unused tokens\n",
      "WARNING: Couldn't create <module 'slimit.yacctab' from 'C:\\\\Users\\\\alexg\\\\Anaconda3\\\\lib\\\\site-packages\\\\slimit\\\\yacctab.py'>. Won't overwrite existing tabmodule\n"
     ]
    },
    {
     "name": "stdout",
     "output_type": "stream",
     "text": [
      "Silent Gravestone\n"
     ]
    },
    {
     "name": "stderr",
     "output_type": "stream",
     "text": [
      "WARNING: Couldn't write lextab module <module 'slimit.lextab' from 'C:\\\\Users\\\\alexg\\\\Anaconda3\\\\lib\\\\site-packages\\\\slimit\\\\lextab.py'>. Won't overwrite existing lextab module\n",
      "WARNING: yacc table file version is out of date\n",
      "WARNING: Token 'BLOCK_COMMENT' defined, but not used\n",
      "WARNING: Token 'CLASS' defined, but not used\n",
      "WARNING: Token 'CONST' defined, but not used\n",
      "WARNING: Token 'ENUM' defined, but not used\n",
      "WARNING: Token 'EXPORT' defined, but not used\n",
      "WARNING: Token 'EXTENDS' defined, but not used\n",
      "WARNING: Token 'IMPORT' defined, but not used\n",
      "WARNING: Token 'LINE_COMMENT' defined, but not used\n",
      "WARNING: Token 'LINE_TERMINATOR' defined, but not used\n",
      "WARNING: Token 'SUPER' defined, but not used\n",
      "WARNING: There are 10 unused tokens\n",
      "WARNING: Couldn't create <module 'slimit.yacctab' from 'C:\\\\Users\\\\alexg\\\\Anaconda3\\\\lib\\\\site-packages\\\\slimit\\\\yacctab.py'>. Won't overwrite existing tabmodule\n"
     ]
    },
    {
     "name": "stdout",
     "output_type": "stream",
     "text": [
      "Orazca Relic\n"
     ]
    },
    {
     "name": "stderr",
     "output_type": "stream",
     "text": [
      "WARNING: Couldn't write lextab module <module 'slimit.lextab' from 'C:\\\\Users\\\\alexg\\\\Anaconda3\\\\lib\\\\site-packages\\\\slimit\\\\lextab.py'>. Won't overwrite existing lextab module\n",
      "WARNING: yacc table file version is out of date\n",
      "WARNING: Token 'BLOCK_COMMENT' defined, but not used\n",
      "WARNING: Token 'CLASS' defined, but not used\n",
      "WARNING: Token 'CONST' defined, but not used\n",
      "WARNING: Token 'ENUM' defined, but not used\n",
      "WARNING: Token 'EXPORT' defined, but not used\n",
      "WARNING: Token 'EXTENDS' defined, but not used\n",
      "WARNING: Token 'IMPORT' defined, but not used\n",
      "WARNING: Token 'LINE_COMMENT' defined, but not used\n",
      "WARNING: Token 'LINE_TERMINATOR' defined, but not used\n",
      "WARNING: Token 'SUPER' defined, but not used\n",
      "WARNING: There are 10 unused tokens\n",
      "WARNING: Couldn't create <module 'slimit.yacctab' from 'C:\\\\Users\\\\alexg\\\\Anaconda3\\\\lib\\\\site-packages\\\\slimit\\\\yacctab.py'>. Won't overwrite existing tabmodule\n"
     ]
    },
    {
     "name": "stdout",
     "output_type": "stream",
     "text": [
      "The Immortal Sun\n"
     ]
    },
    {
     "name": "stderr",
     "output_type": "stream",
     "text": [
      "WARNING: Couldn't write lextab module <module 'slimit.lextab' from 'C:\\\\Users\\\\alexg\\\\Anaconda3\\\\lib\\\\site-packages\\\\slimit\\\\lextab.py'>. Won't overwrite existing lextab module\n",
      "WARNING: yacc table file version is out of date\n",
      "WARNING: Token 'BLOCK_COMMENT' defined, but not used\n",
      "WARNING: Token 'CLASS' defined, but not used\n",
      "WARNING: Token 'CONST' defined, but not used\n",
      "WARNING: Token 'ENUM' defined, but not used\n",
      "WARNING: Token 'EXPORT' defined, but not used\n",
      "WARNING: Token 'EXTENDS' defined, but not used\n",
      "WARNING: Token 'IMPORT' defined, but not used\n",
      "WARNING: Token 'LINE_COMMENT' defined, but not used\n",
      "WARNING: Token 'LINE_TERMINATOR' defined, but not used\n",
      "WARNING: Token 'SUPER' defined, but not used\n",
      "WARNING: There are 10 unused tokens\n",
      "WARNING: Couldn't create <module 'slimit.yacctab' from 'C:\\\\Users\\\\alexg\\\\Anaconda3\\\\lib\\\\site-packages\\\\slimit\\\\yacctab.py'>. Won't overwrite existing tabmodule\n"
     ]
    },
    {
     "name": "stdout",
     "output_type": "stream",
     "text": [
      "Golden Guardian \n"
     ]
    },
    {
     "name": "stderr",
     "output_type": "stream",
     "text": [
      "WARNING: Couldn't write lextab module <module 'slimit.lextab' from 'C:\\\\Users\\\\alexg\\\\Anaconda3\\\\lib\\\\site-packages\\\\slimit\\\\lextab.py'>. Won't overwrite existing lextab module\n",
      "WARNING: yacc table file version is out of date\n",
      "WARNING: Token 'BLOCK_COMMENT' defined, but not used\n",
      "WARNING: Token 'CLASS' defined, but not used\n",
      "WARNING: Token 'CONST' defined, but not used\n",
      "WARNING: Token 'ENUM' defined, but not used\n",
      "WARNING: Token 'EXPORT' defined, but not used\n",
      "WARNING: Token 'EXTENDS' defined, but not used\n",
      "WARNING: Token 'IMPORT' defined, but not used\n",
      "WARNING: Token 'LINE_COMMENT' defined, but not used\n",
      "WARNING: Token 'LINE_TERMINATOR' defined, but not used\n",
      "WARNING: Token 'SUPER' defined, but not used\n",
      "WARNING: There are 10 unused tokens\n",
      "WARNING: Couldn't create <module 'slimit.yacctab' from 'C:\\\\Users\\\\alexg\\\\Anaconda3\\\\lib\\\\site-packages\\\\slimit\\\\yacctab.py'>. Won't overwrite existing tabmodule\n"
     ]
    },
    {
     "name": "stdout",
     "output_type": "stream",
     "text": [
      "Gleaming Barrier\n"
     ]
    },
    {
     "name": "stderr",
     "output_type": "stream",
     "text": [
      "WARNING: Couldn't write lextab module <module 'slimit.lextab' from 'C:\\\\Users\\\\alexg\\\\Anaconda3\\\\lib\\\\site-packages\\\\slimit\\\\lextab.py'>. Won't overwrite existing lextab module\n",
      "WARNING: yacc table file version is out of date\n",
      "WARNING: Token 'BLOCK_COMMENT' defined, but not used\n",
      "WARNING: Token 'CLASS' defined, but not used\n",
      "WARNING: Token 'CONST' defined, but not used\n",
      "WARNING: Token 'ENUM' defined, but not used\n",
      "WARNING: Token 'EXPORT' defined, but not used\n",
      "WARNING: Token 'EXTENDS' defined, but not used\n",
      "WARNING: Token 'IMPORT' defined, but not used\n",
      "WARNING: Token 'LINE_COMMENT' defined, but not used\n",
      "WARNING: Token 'LINE_TERMINATOR' defined, but not used\n",
      "WARNING: Token 'SUPER' defined, but not used\n",
      "WARNING: There are 10 unused tokens\n",
      "WARNING: Couldn't create <module 'slimit.yacctab' from 'C:\\\\Users\\\\alexg\\\\Anaconda3\\\\lib\\\\site-packages\\\\slimit\\\\yacctab.py'>. Won't overwrite existing tabmodule\n"
     ]
    },
    {
     "name": "stdout",
     "output_type": "stream",
     "text": [
      "Captain's Hook\n"
     ]
    },
    {
     "name": "stderr",
     "output_type": "stream",
     "text": [
      "WARNING: Couldn't write lextab module <module 'slimit.lextab' from 'C:\\\\Users\\\\alexg\\\\Anaconda3\\\\lib\\\\site-packages\\\\slimit\\\\lextab.py'>. Won't overwrite existing lextab module\n",
      "WARNING: yacc table file version is out of date\n",
      "WARNING: Token 'BLOCK_COMMENT' defined, but not used\n",
      "WARNING: Token 'CLASS' defined, but not used\n",
      "WARNING: Token 'CONST' defined, but not used\n",
      "WARNING: Token 'ENUM' defined, but not used\n",
      "WARNING: Token 'EXPORT' defined, but not used\n",
      "WARNING: Token 'EXTENDS' defined, but not used\n",
      "WARNING: Token 'IMPORT' defined, but not used\n",
      "WARNING: Token 'LINE_COMMENT' defined, but not used\n",
      "WARNING: Token 'LINE_TERMINATOR' defined, but not used\n",
      "WARNING: Token 'SUPER' defined, but not used\n",
      "WARNING: There are 10 unused tokens\n",
      "WARNING: Couldn't create <module 'slimit.yacctab' from 'C:\\\\Users\\\\alexg\\\\Anaconda3\\\\lib\\\\site-packages\\\\slimit\\\\yacctab.py'>. Won't overwrite existing tabmodule\n"
     ]
    },
    {
     "name": "stdout",
     "output_type": "stream",
     "text": [
      "Azor's Gateway \n"
     ]
    },
    {
     "name": "stderr",
     "output_type": "stream",
     "text": [
      "WARNING: Couldn't write lextab module <module 'slimit.lextab' from 'C:\\\\Users\\\\alexg\\\\Anaconda3\\\\lib\\\\site-packages\\\\slimit\\\\lextab.py'>. Won't overwrite existing lextab module\n",
      "WARNING: yacc table file version is out of date\n",
      "WARNING: Token 'BLOCK_COMMENT' defined, but not used\n",
      "WARNING: Token 'CLASS' defined, but not used\n",
      "WARNING: Token 'CONST' defined, but not used\n",
      "WARNING: Token 'ENUM' defined, but not used\n",
      "WARNING: Token 'EXPORT' defined, but not used\n",
      "WARNING: Token 'EXTENDS' defined, but not used\n",
      "WARNING: Token 'IMPORT' defined, but not used\n",
      "WARNING: Token 'LINE_COMMENT' defined, but not used\n",
      "WARNING: Token 'LINE_TERMINATOR' defined, but not used\n",
      "WARNING: Token 'SUPER' defined, but not used\n",
      "WARNING: There are 10 unused tokens\n",
      "WARNING: Couldn't create <module 'slimit.yacctab' from 'C:\\\\Users\\\\alexg\\\\Anaconda3\\\\lib\\\\site-packages\\\\slimit\\\\yacctab.py'>. Won't overwrite existing tabmodule\n"
     ]
    },
    {
     "name": "stdout",
     "output_type": "stream",
     "text": [
      "Awakened Amalgam\n"
     ]
    },
    {
     "name": "stderr",
     "output_type": "stream",
     "text": [
      "WARNING: Couldn't write lextab module <module 'slimit.lextab' from 'C:\\\\Users\\\\alexg\\\\Anaconda3\\\\lib\\\\site-packages\\\\slimit\\\\lextab.py'>. Won't overwrite existing lextab module\n",
      "WARNING: yacc table file version is out of date\n",
      "WARNING: Token 'BLOCK_COMMENT' defined, but not used\n",
      "WARNING: Token 'CLASS' defined, but not used\n",
      "WARNING: Token 'CONST' defined, but not used\n",
      "WARNING: Token 'ENUM' defined, but not used\n",
      "WARNING: Token 'EXPORT' defined, but not used\n",
      "WARNING: Token 'EXTENDS' defined, but not used\n",
      "WARNING: Token 'IMPORT' defined, but not used\n",
      "WARNING: Token 'LINE_COMMENT' defined, but not used\n",
      "WARNING: Token 'LINE_TERMINATOR' defined, but not used\n",
      "WARNING: Token 'SUPER' defined, but not used\n",
      "WARNING: There are 10 unused tokens\n",
      "WARNING: Couldn't create <module 'slimit.yacctab' from 'C:\\\\Users\\\\alexg\\\\Anaconda3\\\\lib\\\\site-packages\\\\slimit\\\\yacctab.py'>. Won't overwrite existing tabmodule\n"
     ]
    },
    {
     "name": "stdout",
     "output_type": "stream",
     "text": [
      "Zacama, Primal Calamity\n"
     ]
    },
    {
     "name": "stderr",
     "output_type": "stream",
     "text": [
      "WARNING: Couldn't write lextab module <module 'slimit.lextab' from 'C:\\\\Users\\\\alexg\\\\Anaconda3\\\\lib\\\\site-packages\\\\slimit\\\\lextab.py'>. Won't overwrite existing lextab module\n",
      "WARNING: yacc table file version is out of date\n",
      "WARNING: Token 'BLOCK_COMMENT' defined, but not used\n",
      "WARNING: Token 'CLASS' defined, but not used\n",
      "WARNING: Token 'CONST' defined, but not used\n",
      "WARNING: Token 'ENUM' defined, but not used\n",
      "WARNING: Token 'EXPORT' defined, but not used\n",
      "WARNING: Token 'EXTENDS' defined, but not used\n",
      "WARNING: Token 'IMPORT' defined, but not used\n",
      "WARNING: Token 'LINE_COMMENT' defined, but not used\n",
      "WARNING: Token 'LINE_TERMINATOR' defined, but not used\n",
      "WARNING: Token 'SUPER' defined, but not used\n",
      "WARNING: There are 10 unused tokens\n",
      "WARNING: Couldn't create <module 'slimit.yacctab' from 'C:\\\\Users\\\\alexg\\\\Anaconda3\\\\lib\\\\site-packages\\\\slimit\\\\yacctab.py'>. Won't overwrite existing tabmodule\n"
     ]
    },
    {
     "name": "stdout",
     "output_type": "stream",
     "text": [
      "Storm the Vault \n"
     ]
    },
    {
     "name": "stderr",
     "output_type": "stream",
     "text": [
      "WARNING: Couldn't write lextab module <module 'slimit.lextab' from 'C:\\\\Users\\\\alexg\\\\Anaconda3\\\\lib\\\\site-packages\\\\slimit\\\\lextab.py'>. Won't overwrite existing lextab module\n",
      "WARNING: yacc table file version is out of date\n",
      "WARNING: Token 'BLOCK_COMMENT' defined, but not used\n",
      "WARNING: Token 'CLASS' defined, but not used\n",
      "WARNING: Token 'CONST' defined, but not used\n",
      "WARNING: Token 'ENUM' defined, but not used\n",
      "WARNING: Token 'EXPORT' defined, but not used\n",
      "WARNING: Token 'EXTENDS' defined, but not used\n",
      "WARNING: Token 'IMPORT' defined, but not used\n",
      "WARNING: Token 'LINE_COMMENT' defined, but not used\n",
      "WARNING: Token 'LINE_TERMINATOR' defined, but not used\n",
      "WARNING: Token 'SUPER' defined, but not used\n",
      "WARNING: There are 10 unused tokens\n",
      "WARNING: Couldn't create <module 'slimit.yacctab' from 'C:\\\\Users\\\\alexg\\\\Anaconda3\\\\lib\\\\site-packages\\\\slimit\\\\yacctab.py'>. Won't overwrite existing tabmodule\n"
     ]
    },
    {
     "name": "stdout",
     "output_type": "stream",
     "text": [
      "Storm Fleet Sprinter\n"
     ]
    },
    {
     "name": "stderr",
     "output_type": "stream",
     "text": [
      "WARNING: Couldn't write lextab module <module 'slimit.lextab' from 'C:\\\\Users\\\\alexg\\\\Anaconda3\\\\lib\\\\site-packages\\\\slimit\\\\lextab.py'>. Won't overwrite existing lextab module\n",
      "WARNING: yacc table file version is out of date\n",
      "WARNING: Token 'BLOCK_COMMENT' defined, but not used\n",
      "WARNING: Token 'CLASS' defined, but not used\n",
      "WARNING: Token 'CONST' defined, but not used\n",
      "WARNING: Token 'ENUM' defined, but not used\n",
      "WARNING: Token 'EXPORT' defined, but not used\n",
      "WARNING: Token 'EXTENDS' defined, but not used\n",
      "WARNING: Token 'IMPORT' defined, but not used\n",
      "WARNING: Token 'LINE_COMMENT' defined, but not used\n",
      "WARNING: Token 'LINE_TERMINATOR' defined, but not used\n",
      "WARNING: Token 'SUPER' defined, but not used\n",
      "WARNING: There are 10 unused tokens\n",
      "WARNING: Couldn't create <module 'slimit.yacctab' from 'C:\\\\Users\\\\alexg\\\\Anaconda3\\\\lib\\\\site-packages\\\\slimit\\\\yacctab.py'>. Won't overwrite existing tabmodule\n"
     ]
    },
    {
     "name": "stdout",
     "output_type": "stream",
     "text": [
      "Siegehorn Ceratops\n"
     ]
    },
    {
     "name": "stderr",
     "output_type": "stream",
     "text": [
      "WARNING: Couldn't write lextab module <module 'slimit.lextab' from 'C:\\\\Users\\\\alexg\\\\Anaconda3\\\\lib\\\\site-packages\\\\slimit\\\\lextab.py'>. Won't overwrite existing lextab module\n",
      "WARNING: yacc table file version is out of date\n",
      "WARNING: Token 'BLOCK_COMMENT' defined, but not used\n",
      "WARNING: Token 'CLASS' defined, but not used\n",
      "WARNING: Token 'CONST' defined, but not used\n",
      "WARNING: Token 'ENUM' defined, but not used\n",
      "WARNING: Token 'EXPORT' defined, but not used\n",
      "WARNING: Token 'EXTENDS' defined, but not used\n",
      "WARNING: Token 'IMPORT' defined, but not used\n",
      "WARNING: Token 'LINE_COMMENT' defined, but not used\n",
      "WARNING: Token 'LINE_TERMINATOR' defined, but not used\n",
      "WARNING: Token 'SUPER' defined, but not used\n",
      "WARNING: There are 10 unused tokens\n",
      "WARNING: Couldn't create <module 'slimit.yacctab' from 'C:\\\\Users\\\\alexg\\\\Anaconda3\\\\lib\\\\site-packages\\\\slimit\\\\yacctab.py'>. Won't overwrite existing tabmodule\n"
     ]
    },
    {
     "name": "stdout",
     "output_type": "stream",
     "text": [
      "Resplendent Griffin\n"
     ]
    },
    {
     "name": "stderr",
     "output_type": "stream",
     "text": [
      "WARNING: Couldn't write lextab module <module 'slimit.lextab' from 'C:\\\\Users\\\\alexg\\\\Anaconda3\\\\lib\\\\site-packages\\\\slimit\\\\lextab.py'>. Won't overwrite existing lextab module\n",
      "WARNING: yacc table file version is out of date\n",
      "WARNING: Token 'BLOCK_COMMENT' defined, but not used\n",
      "WARNING: Token 'CLASS' defined, but not used\n",
      "WARNING: Token 'CONST' defined, but not used\n",
      "WARNING: Token 'ENUM' defined, but not used\n",
      "WARNING: Token 'EXPORT' defined, but not used\n",
      "WARNING: Token 'EXTENDS' defined, but not used\n",
      "WARNING: Token 'IMPORT' defined, but not used\n",
      "WARNING: Token 'LINE_COMMENT' defined, but not used\n",
      "WARNING: Token 'LINE_TERMINATOR' defined, but not used\n",
      "WARNING: Token 'SUPER' defined, but not used\n",
      "WARNING: There are 10 unused tokens\n",
      "WARNING: Couldn't create <module 'slimit.yacctab' from 'C:\\\\Users\\\\alexg\\\\Anaconda3\\\\lib\\\\site-packages\\\\slimit\\\\yacctab.py'>. Won't overwrite existing tabmodule\n"
     ]
    },
    {
     "name": "stdout",
     "output_type": "stream",
     "text": [
      "Relentless Raptor\n"
     ]
    },
    {
     "name": "stderr",
     "output_type": "stream",
     "text": [
      "WARNING: Couldn't write lextab module <module 'slimit.lextab' from 'C:\\\\Users\\\\alexg\\\\Anaconda3\\\\lib\\\\site-packages\\\\slimit\\\\lextab.py'>. Won't overwrite existing lextab module\n",
      "WARNING: yacc table file version is out of date\n",
      "WARNING: Token 'BLOCK_COMMENT' defined, but not used\n",
      "WARNING: Token 'CLASS' defined, but not used\n",
      "WARNING: Token 'CONST' defined, but not used\n",
      "WARNING: Token 'ENUM' defined, but not used\n",
      "WARNING: Token 'EXPORT' defined, but not used\n",
      "WARNING: Token 'EXTENDS' defined, but not used\n",
      "WARNING: Token 'IMPORT' defined, but not used\n",
      "WARNING: Token 'LINE_COMMENT' defined, but not used\n",
      "WARNING: Token 'LINE_TERMINATOR' defined, but not used\n",
      "WARNING: Token 'SUPER' defined, but not used\n",
      "WARNING: There are 10 unused tokens\n",
      "WARNING: Couldn't create <module 'slimit.yacctab' from 'C:\\\\Users\\\\alexg\\\\Anaconda3\\\\lib\\\\site-packages\\\\slimit\\\\yacctab.py'>. Won't overwrite existing tabmodule\n"
     ]
    },
    {
     "name": "stdout",
     "output_type": "stream",
     "text": [
      "Raging Regisaur\n"
     ]
    },
    {
     "name": "stderr",
     "output_type": "stream",
     "text": [
      "WARNING: Couldn't write lextab module <module 'slimit.lextab' from 'C:\\\\Users\\\\alexg\\\\Anaconda3\\\\lib\\\\site-packages\\\\slimit\\\\lextab.py'>. Won't overwrite existing lextab module\n",
      "WARNING: yacc table file version is out of date\n",
      "WARNING: Token 'BLOCK_COMMENT' defined, but not used\n",
      "WARNING: Token 'CLASS' defined, but not used\n",
      "WARNING: Token 'CONST' defined, but not used\n",
      "WARNING: Token 'ENUM' defined, but not used\n",
      "WARNING: Token 'EXPORT' defined, but not used\n",
      "WARNING: Token 'EXTENDS' defined, but not used\n",
      "WARNING: Token 'IMPORT' defined, but not used\n",
      "WARNING: Token 'LINE_COMMENT' defined, but not used\n",
      "WARNING: Token 'LINE_TERMINATOR' defined, but not used\n",
      "WARNING: Token 'SUPER' defined, but not used\n",
      "WARNING: There are 10 unused tokens\n",
      "WARNING: Couldn't create <module 'slimit.yacctab' from 'C:\\\\Users\\\\alexg\\\\Anaconda3\\\\lib\\\\site-packages\\\\slimit\\\\yacctab.py'>. Won't overwrite existing tabmodule\n"
     ]
    },
    {
     "name": "stdout",
     "output_type": "stream",
     "text": [
      "Protean Raider\n"
     ]
    },
    {
     "name": "stderr",
     "output_type": "stream",
     "text": [
      "WARNING: Couldn't write lextab module <module 'slimit.lextab' from 'C:\\\\Users\\\\alexg\\\\Anaconda3\\\\lib\\\\site-packages\\\\slimit\\\\lextab.py'>. Won't overwrite existing lextab module\n",
      "WARNING: yacc table file version is out of date\n",
      "WARNING: Token 'BLOCK_COMMENT' defined, but not used\n",
      "WARNING: Token 'CLASS' defined, but not used\n",
      "WARNING: Token 'CONST' defined, but not used\n",
      "WARNING: Token 'ENUM' defined, but not used\n",
      "WARNING: Token 'EXPORT' defined, but not used\n",
      "WARNING: Token 'EXTENDS' defined, but not used\n",
      "WARNING: Token 'IMPORT' defined, but not used\n",
      "WARNING: Token 'LINE_COMMENT' defined, but not used\n",
      "WARNING: Token 'LINE_TERMINATOR' defined, but not used\n",
      "WARNING: Token 'SUPER' defined, but not used\n",
      "WARNING: There are 10 unused tokens\n",
      "WARNING: Couldn't create <module 'slimit.yacctab' from 'C:\\\\Users\\\\alexg\\\\Anaconda3\\\\lib\\\\site-packages\\\\slimit\\\\yacctab.py'>. Won't overwrite existing tabmodule\n"
     ]
    },
    {
     "name": "stdout",
     "output_type": "stream",
     "text": [
      "Profane Procession \n"
     ]
    },
    {
     "name": "stderr",
     "output_type": "stream",
     "text": [
      "WARNING: Couldn't write lextab module <module 'slimit.lextab' from 'C:\\\\Users\\\\alexg\\\\Anaconda3\\\\lib\\\\site-packages\\\\slimit\\\\lextab.py'>. Won't overwrite existing lextab module\n",
      "WARNING: yacc table file version is out of date\n",
      "WARNING: Token 'BLOCK_COMMENT' defined, but not used\n",
      "WARNING: Token 'CLASS' defined, but not used\n",
      "WARNING: Token 'CONST' defined, but not used\n",
      "WARNING: Token 'ENUM' defined, but not used\n",
      "WARNING: Token 'EXPORT' defined, but not used\n",
      "WARNING: Token 'EXTENDS' defined, but not used\n",
      "WARNING: Token 'IMPORT' defined, but not used\n",
      "WARNING: Token 'LINE_COMMENT' defined, but not used\n",
      "WARNING: Token 'LINE_TERMINATOR' defined, but not used\n",
      "WARNING: Token 'SUPER' defined, but not used\n",
      "WARNING: There are 10 unused tokens\n",
      "WARNING: Couldn't create <module 'slimit.yacctab' from 'C:\\\\Users\\\\alexg\\\\Anaconda3\\\\lib\\\\site-packages\\\\slimit\\\\yacctab.py'>. Won't overwrite existing tabmodule\n"
     ]
    },
    {
     "name": "stdout",
     "output_type": "stream",
     "text": [
      "Path of Mettle \n"
     ]
    },
    {
     "name": "stderr",
     "output_type": "stream",
     "text": [
      "WARNING: Couldn't write lextab module <module 'slimit.lextab' from 'C:\\\\Users\\\\alexg\\\\Anaconda3\\\\lib\\\\site-packages\\\\slimit\\\\lextab.py'>. Won't overwrite existing lextab module\n",
      "WARNING: yacc table file version is out of date\n",
      "WARNING: Token 'BLOCK_COMMENT' defined, but not used\n",
      "WARNING: Token 'CLASS' defined, but not used\n",
      "WARNING: Token 'CONST' defined, but not used\n",
      "WARNING: Token 'ENUM' defined, but not used\n",
      "WARNING: Token 'EXPORT' defined, but not used\n",
      "WARNING: Token 'EXTENDS' defined, but not used\n",
      "WARNING: Token 'IMPORT' defined, but not used\n",
      "WARNING: Token 'LINE_COMMENT' defined, but not used\n",
      "WARNING: Token 'LINE_TERMINATOR' defined, but not used\n",
      "WARNING: Token 'SUPER' defined, but not used\n",
      "WARNING: There are 10 unused tokens\n",
      "WARNING: Couldn't create <module 'slimit.yacctab' from 'C:\\\\Users\\\\alexg\\\\Anaconda3\\\\lib\\\\site-packages\\\\slimit\\\\yacctab.py'>. Won't overwrite existing tabmodule\n"
     ]
    },
    {
     "name": "stdout",
     "output_type": "stream",
     "text": [
      "Merfolk Mistbinder\n"
     ]
    },
    {
     "name": "stderr",
     "output_type": "stream",
     "text": [
      "WARNING: Couldn't write lextab module <module 'slimit.lextab' from 'C:\\\\Users\\\\alexg\\\\Anaconda3\\\\lib\\\\site-packages\\\\slimit\\\\lextab.py'>. Won't overwrite existing lextab module\n",
      "WARNING: yacc table file version is out of date\n",
      "WARNING: Token 'BLOCK_COMMENT' defined, but not used\n",
      "WARNING: Token 'CLASS' defined, but not used\n",
      "WARNING: Token 'CONST' defined, but not used\n",
      "WARNING: Token 'ENUM' defined, but not used\n",
      "WARNING: Token 'EXPORT' defined, but not used\n",
      "WARNING: Token 'EXTENDS' defined, but not used\n",
      "WARNING: Token 'IMPORT' defined, but not used\n",
      "WARNING: Token 'LINE_COMMENT' defined, but not used\n",
      "WARNING: Token 'LINE_TERMINATOR' defined, but not used\n",
      "WARNING: Token 'SUPER' defined, but not used\n",
      "WARNING: There are 10 unused tokens\n",
      "WARNING: Couldn't create <module 'slimit.yacctab' from 'C:\\\\Users\\\\alexg\\\\Anaconda3\\\\lib\\\\site-packages\\\\slimit\\\\yacctab.py'>. Won't overwrite existing tabmodule\n"
     ]
    },
    {
     "name": "stdout",
     "output_type": "stream",
     "text": [
      "Legion Lieutenant\n"
     ]
    },
    {
     "name": "stderr",
     "output_type": "stream",
     "text": [
      "WARNING: Couldn't write lextab module <module 'slimit.lextab' from 'C:\\\\Users\\\\alexg\\\\Anaconda3\\\\lib\\\\site-packages\\\\slimit\\\\lextab.py'>. Won't overwrite existing lextab module\n",
      "WARNING: yacc table file version is out of date\n",
      "WARNING: Token 'BLOCK_COMMENT' defined, but not used\n",
      "WARNING: Token 'CLASS' defined, but not used\n",
      "WARNING: Token 'CONST' defined, but not used\n",
      "WARNING: Token 'ENUM' defined, but not used\n",
      "WARNING: Token 'EXPORT' defined, but not used\n",
      "WARNING: Token 'EXTENDS' defined, but not used\n",
      "WARNING: Token 'IMPORT' defined, but not used\n",
      "WARNING: Token 'LINE_COMMENT' defined, but not used\n",
      "WARNING: Token 'LINE_TERMINATOR' defined, but not used\n",
      "WARNING: Token 'SUPER' defined, but not used\n",
      "WARNING: There are 10 unused tokens\n",
      "WARNING: Couldn't create <module 'slimit.yacctab' from 'C:\\\\Users\\\\alexg\\\\Anaconda3\\\\lib\\\\site-packages\\\\slimit\\\\yacctab.py'>. Won't overwrite existing tabmodule\n"
     ]
    },
    {
     "name": "stdout",
     "output_type": "stream",
     "text": [
      "Kumena, Tyrant of Orazca\n"
     ]
    },
    {
     "name": "stderr",
     "output_type": "stream",
     "text": [
      "WARNING: Couldn't write lextab module <module 'slimit.lextab' from 'C:\\\\Users\\\\alexg\\\\Anaconda3\\\\lib\\\\site-packages\\\\slimit\\\\lextab.py'>. Won't overwrite existing lextab module\n",
      "WARNING: yacc table file version is out of date\n",
      "WARNING: Token 'BLOCK_COMMENT' defined, but not used\n",
      "WARNING: Token 'CLASS' defined, but not used\n",
      "WARNING: Token 'CONST' defined, but not used\n",
      "WARNING: Token 'ENUM' defined, but not used\n",
      "WARNING: Token 'EXPORT' defined, but not used\n",
      "WARNING: Token 'EXTENDS' defined, but not used\n",
      "WARNING: Token 'IMPORT' defined, but not used\n",
      "WARNING: Token 'LINE_COMMENT' defined, but not used\n",
      "WARNING: Token 'LINE_TERMINATOR' defined, but not used\n",
      "WARNING: Token 'SUPER' defined, but not used\n",
      "WARNING: There are 10 unused tokens\n",
      "WARNING: Couldn't create <module 'slimit.yacctab' from 'C:\\\\Users\\\\alexg\\\\Anaconda3\\\\lib\\\\site-packages\\\\slimit\\\\yacctab.py'>. Won't overwrite existing tabmodule\n"
     ]
    },
    {
     "name": "stdout",
     "output_type": "stream",
     "text": [
      "Jungle Creeper\n"
     ]
    },
    {
     "name": "stderr",
     "output_type": "stream",
     "text": [
      "WARNING: Couldn't write lextab module <module 'slimit.lextab' from 'C:\\\\Users\\\\alexg\\\\Anaconda3\\\\lib\\\\site-packages\\\\slimit\\\\lextab.py'>. Won't overwrite existing lextab module\n",
      "WARNING: yacc table file version is out of date\n",
      "WARNING: Token 'BLOCK_COMMENT' defined, but not used\n",
      "WARNING: Token 'CLASS' defined, but not used\n",
      "WARNING: Token 'CONST' defined, but not used\n",
      "WARNING: Token 'ENUM' defined, but not used\n",
      "WARNING: Token 'EXPORT' defined, but not used\n",
      "WARNING: Token 'EXTENDS' defined, but not used\n",
      "WARNING: Token 'IMPORT' defined, but not used\n",
      "WARNING: Token 'LINE_COMMENT' defined, but not used\n",
      "WARNING: Token 'LINE_TERMINATOR' defined, but not used\n",
      "WARNING: Token 'SUPER' defined, but not used\n",
      "WARNING: There are 10 unused tokens\n",
      "WARNING: Couldn't create <module 'slimit.yacctab' from 'C:\\\\Users\\\\alexg\\\\Anaconda3\\\\lib\\\\site-packages\\\\slimit\\\\yacctab.py'>. Won't overwrite existing tabmodule\n"
     ]
    },
    {
     "name": "stdout",
     "output_type": "stream",
     "text": [
      "Journey to Eternity \n"
     ]
    },
    {
     "name": "stderr",
     "output_type": "stream",
     "text": [
      "WARNING: Couldn't write lextab module <module 'slimit.lextab' from 'C:\\\\Users\\\\alexg\\\\Anaconda3\\\\lib\\\\site-packages\\\\slimit\\\\lextab.py'>. Won't overwrite existing lextab module\n",
      "WARNING: yacc table file version is out of date\n",
      "WARNING: Token 'BLOCK_COMMENT' defined, but not used\n",
      "WARNING: Token 'CLASS' defined, but not used\n",
      "WARNING: Token 'CONST' defined, but not used\n",
      "WARNING: Token 'ENUM' defined, but not used\n",
      "WARNING: Token 'EXPORT' defined, but not used\n",
      "WARNING: Token 'EXTENDS' defined, but not used\n",
      "WARNING: Token 'IMPORT' defined, but not used\n",
      "WARNING: Token 'LINE_COMMENT' defined, but not used\n",
      "WARNING: Token 'LINE_TERMINATOR' defined, but not used\n",
      "WARNING: Token 'SUPER' defined, but not used\n",
      "WARNING: There are 10 unused tokens\n",
      "WARNING: Couldn't create <module 'slimit.yacctab' from 'C:\\\\Users\\\\alexg\\\\Anaconda3\\\\lib\\\\site-packages\\\\slimit\\\\yacctab.py'>. Won't overwrite existing tabmodule\n"
     ]
    },
    {
     "name": "stdout",
     "output_type": "stream",
     "text": [
      "Huatli, Radiant Champion\n"
     ]
    },
    {
     "name": "stderr",
     "output_type": "stream",
     "text": [
      "WARNING: Couldn't write lextab module <module 'slimit.lextab' from 'C:\\\\Users\\\\alexg\\\\Anaconda3\\\\lib\\\\site-packages\\\\slimit\\\\lextab.py'>. Won't overwrite existing lextab module\n",
      "WARNING: yacc table file version is out of date\n",
      "WARNING: Token 'BLOCK_COMMENT' defined, but not used\n",
      "WARNING: Token 'CLASS' defined, but not used\n",
      "WARNING: Token 'CONST' defined, but not used\n",
      "WARNING: Token 'ENUM' defined, but not used\n",
      "WARNING: Token 'EXPORT' defined, but not used\n",
      "WARNING: Token 'EXTENDS' defined, but not used\n",
      "WARNING: Token 'IMPORT' defined, but not used\n",
      "WARNING: Token 'LINE_COMMENT' defined, but not used\n",
      "WARNING: Token 'LINE_TERMINATOR' defined, but not used\n",
      "WARNING: Token 'SUPER' defined, but not used\n",
      "WARNING: There are 10 unused tokens\n",
      "WARNING: Couldn't create <module 'slimit.yacctab' from 'C:\\\\Users\\\\alexg\\\\Anaconda3\\\\lib\\\\site-packages\\\\slimit\\\\yacctab.py'>. Won't overwrite existing tabmodule\n"
     ]
    },
    {
     "name": "stdout",
     "output_type": "stream",
     "text": [
      "Hadana's Climb \n"
     ]
    },
    {
     "name": "stderr",
     "output_type": "stream",
     "text": [
      "WARNING: Couldn't write lextab module <module 'slimit.lextab' from 'C:\\\\Users\\\\alexg\\\\Anaconda3\\\\lib\\\\site-packages\\\\slimit\\\\lextab.py'>. Won't overwrite existing lextab module\n",
      "WARNING: yacc table file version is out of date\n",
      "WARNING: Token 'BLOCK_COMMENT' defined, but not used\n",
      "WARNING: Token 'CLASS' defined, but not used\n",
      "WARNING: Token 'CONST' defined, but not used\n",
      "WARNING: Token 'ENUM' defined, but not used\n",
      "WARNING: Token 'EXPORT' defined, but not used\n",
      "WARNING: Token 'EXTENDS' defined, but not used\n",
      "WARNING: Token 'IMPORT' defined, but not used\n",
      "WARNING: Token 'LINE_COMMENT' defined, but not used\n",
      "WARNING: Token 'LINE_TERMINATOR' defined, but not used\n",
      "WARNING: Token 'SUPER' defined, but not used\n",
      "WARNING: There are 10 unused tokens\n",
      "WARNING: Couldn't create <module 'slimit.yacctab' from 'C:\\\\Users\\\\alexg\\\\Anaconda3\\\\lib\\\\site-packages\\\\slimit\\\\yacctab.py'>. Won't overwrite existing tabmodule\n"
     ]
    },
    {
     "name": "stdout",
     "output_type": "stream",
     "text": [
      "Elenda, the Dusk Rose\n"
     ]
    },
    {
     "name": "stderr",
     "output_type": "stream",
     "text": [
      "WARNING: Couldn't write lextab module <module 'slimit.lextab' from 'C:\\\\Users\\\\alexg\\\\Anaconda3\\\\lib\\\\site-packages\\\\slimit\\\\lextab.py'>. Won't overwrite existing lextab module\n",
      "WARNING: yacc table file version is out of date\n",
      "WARNING: Token 'BLOCK_COMMENT' defined, but not used\n",
      "WARNING: Token 'CLASS' defined, but not used\n",
      "WARNING: Token 'CONST' defined, but not used\n",
      "WARNING: Token 'ENUM' defined, but not used\n",
      "WARNING: Token 'EXPORT' defined, but not used\n",
      "WARNING: Token 'EXTENDS' defined, but not used\n",
      "WARNING: Token 'IMPORT' defined, but not used\n",
      "WARNING: Token 'LINE_COMMENT' defined, but not used\n",
      "WARNING: Token 'LINE_TERMINATOR' defined, but not used\n",
      "WARNING: Token 'SUPER' defined, but not used\n",
      "WARNING: There are 10 unused tokens\n",
      "WARNING: Couldn't create <module 'slimit.yacctab' from 'C:\\\\Users\\\\alexg\\\\Anaconda3\\\\lib\\\\site-packages\\\\slimit\\\\yacctab.py'>. Won't overwrite existing tabmodule\n"
     ]
    },
    {
     "name": "stdout",
     "output_type": "stream",
     "text": [
      "Dire Fleet Neckbreaker\n"
     ]
    },
    {
     "name": "stderr",
     "output_type": "stream",
     "text": [
      "WARNING: Couldn't write lextab module <module 'slimit.lextab' from 'C:\\\\Users\\\\alexg\\\\Anaconda3\\\\lib\\\\site-packages\\\\slimit\\\\lextab.py'>. Won't overwrite existing lextab module\n",
      "WARNING: yacc table file version is out of date\n",
      "WARNING: Token 'BLOCK_COMMENT' defined, but not used\n",
      "WARNING: Token 'CLASS' defined, but not used\n",
      "WARNING: Token 'CONST' defined, but not used\n",
      "WARNING: Token 'ENUM' defined, but not used\n",
      "WARNING: Token 'EXPORT' defined, but not used\n",
      "WARNING: Token 'EXTENDS' defined, but not used\n",
      "WARNING: Token 'IMPORT' defined, but not used\n",
      "WARNING: Token 'LINE_COMMENT' defined, but not used\n",
      "WARNING: Token 'LINE_TERMINATOR' defined, but not used\n",
      "WARNING: Token 'SUPER' defined, but not used\n",
      "WARNING: There are 10 unused tokens\n",
      "WARNING: Couldn't create <module 'slimit.yacctab' from 'C:\\\\Users\\\\alexg\\\\Anaconda3\\\\lib\\\\site-packages\\\\slimit\\\\yacctab.py'>. Won't overwrite existing tabmodule\n"
     ]
    },
    {
     "name": "stdout",
     "output_type": "stream",
     "text": [
      "Deadeye Brawler\n"
     ]
    },
    {
     "name": "stderr",
     "output_type": "stream",
     "text": [
      "WARNING: Couldn't write lextab module <module 'slimit.lextab' from 'C:\\\\Users\\\\alexg\\\\Anaconda3\\\\lib\\\\site-packages\\\\slimit\\\\lextab.py'>. Won't overwrite existing lextab module\n",
      "WARNING: yacc table file version is out of date\n",
      "WARNING: Token 'BLOCK_COMMENT' defined, but not used\n",
      "WARNING: Token 'CLASS' defined, but not used\n",
      "WARNING: Token 'CONST' defined, but not used\n",
      "WARNING: Token 'ENUM' defined, but not used\n",
      "WARNING: Token 'EXPORT' defined, but not used\n",
      "WARNING: Token 'EXTENDS' defined, but not used\n",
      "WARNING: Token 'IMPORT' defined, but not used\n",
      "WARNING: Token 'LINE_COMMENT' defined, but not used\n",
      "WARNING: Token 'LINE_TERMINATOR' defined, but not used\n",
      "WARNING: Token 'SUPER' defined, but not used\n",
      "WARNING: There are 10 unused tokens\n",
      "WARNING: Couldn't create <module 'slimit.yacctab' from 'C:\\\\Users\\\\alexg\\\\Anaconda3\\\\lib\\\\site-packages\\\\slimit\\\\yacctab.py'>. Won't overwrite existing tabmodule\n"
     ]
    },
    {
     "name": "stdout",
     "output_type": "stream",
     "text": [
      "Azor, the Lawbringer\n"
     ]
    },
    {
     "name": "stderr",
     "output_type": "stream",
     "text": [
      "WARNING: Couldn't write lextab module <module 'slimit.lextab' from 'C:\\\\Users\\\\alexg\\\\Anaconda3\\\\lib\\\\site-packages\\\\slimit\\\\lextab.py'>. Won't overwrite existing lextab module\n",
      "WARNING: yacc table file version is out of date\n",
      "WARNING: Token 'BLOCK_COMMENT' defined, but not used\n",
      "WARNING: Token 'CLASS' defined, but not used\n",
      "WARNING: Token 'CONST' defined, but not used\n",
      "WARNING: Token 'ENUM' defined, but not used\n",
      "WARNING: Token 'EXPORT' defined, but not used\n",
      "WARNING: Token 'EXTENDS' defined, but not used\n",
      "WARNING: Token 'IMPORT' defined, but not used\n",
      "WARNING: Token 'LINE_COMMENT' defined, but not used\n",
      "WARNING: Token 'LINE_TERMINATOR' defined, but not used\n",
      "WARNING: Token 'SUPER' defined, but not used\n",
      "WARNING: There are 10 unused tokens\n",
      "WARNING: Couldn't create <module 'slimit.yacctab' from 'C:\\\\Users\\\\alexg\\\\Anaconda3\\\\lib\\\\site-packages\\\\slimit\\\\yacctab.py'>. Won't overwrite existing tabmodule\n"
     ]
    },
    {
     "name": "stdout",
     "output_type": "stream",
     "text": [
      "Atzocan Seer\n"
     ]
    },
    {
     "name": "stderr",
     "output_type": "stream",
     "text": [
      "WARNING: Couldn't write lextab module <module 'slimit.lextab' from 'C:\\\\Users\\\\alexg\\\\Anaconda3\\\\lib\\\\site-packages\\\\slimit\\\\lextab.py'>. Won't overwrite existing lextab module\n",
      "WARNING: yacc table file version is out of date\n",
      "WARNING: Token 'BLOCK_COMMENT' defined, but not used\n",
      "WARNING: Token 'CLASS' defined, but not used\n",
      "WARNING: Token 'CONST' defined, but not used\n",
      "WARNING: Token 'ENUM' defined, but not used\n",
      "WARNING: Token 'EXPORT' defined, but not used\n",
      "WARNING: Token 'EXTENDS' defined, but not used\n",
      "WARNING: Token 'IMPORT' defined, but not used\n",
      "WARNING: Token 'LINE_COMMENT' defined, but not used\n",
      "WARNING: Token 'LINE_TERMINATOR' defined, but not used\n",
      "WARNING: Token 'SUPER' defined, but not used\n",
      "WARNING: There are 10 unused tokens\n",
      "WARNING: Couldn't create <module 'slimit.yacctab' from 'C:\\\\Users\\\\alexg\\\\Anaconda3\\\\lib\\\\site-packages\\\\slimit\\\\yacctab.py'>. Won't overwrite existing tabmodule\n"
     ]
    },
    {
     "name": "stdout",
     "output_type": "stream",
     "text": [
      "Angrath, the Flame-Chained\n"
     ]
    },
    {
     "name": "stderr",
     "output_type": "stream",
     "text": [
      "WARNING: Couldn't write lextab module <module 'slimit.lextab' from 'C:\\\\Users\\\\alexg\\\\Anaconda3\\\\lib\\\\site-packages\\\\slimit\\\\lextab.py'>. Won't overwrite existing lextab module\n",
      "WARNING: yacc table file version is out of date\n",
      "WARNING: Token 'BLOCK_COMMENT' defined, but not used\n",
      "WARNING: Token 'CLASS' defined, but not used\n",
      "WARNING: Token 'CONST' defined, but not used\n",
      "WARNING: Token 'ENUM' defined, but not used\n",
      "WARNING: Token 'EXPORT' defined, but not used\n",
      "WARNING: Token 'EXTENDS' defined, but not used\n",
      "WARNING: Token 'IMPORT' defined, but not used\n",
      "WARNING: Token 'LINE_COMMENT' defined, but not used\n",
      "WARNING: Token 'LINE_TERMINATOR' defined, but not used\n",
      "WARNING: Token 'SUPER' defined, but not used\n",
      "WARNING: There are 10 unused tokens\n",
      "WARNING: Couldn't create <module 'slimit.yacctab' from 'C:\\\\Users\\\\alexg\\\\Anaconda3\\\\lib\\\\site-packages\\\\slimit\\\\yacctab.py'>. Won't overwrite existing tabmodule\n"
     ]
    },
    {
     "name": "stdout",
     "output_type": "stream",
     "text": [
      "World Shaper\n"
     ]
    },
    {
     "name": "stderr",
     "output_type": "stream",
     "text": [
      "WARNING: Couldn't write lextab module <module 'slimit.lextab' from 'C:\\\\Users\\\\alexg\\\\Anaconda3\\\\lib\\\\site-packages\\\\slimit\\\\lextab.py'>. Won't overwrite existing lextab module\n",
      "WARNING: yacc table file version is out of date\n",
      "WARNING: Token 'BLOCK_COMMENT' defined, but not used\n",
      "WARNING: Token 'CLASS' defined, but not used\n",
      "WARNING: Token 'CONST' defined, but not used\n",
      "WARNING: Token 'ENUM' defined, but not used\n",
      "WARNING: Token 'EXPORT' defined, but not used\n",
      "WARNING: Token 'EXTENDS' defined, but not used\n",
      "WARNING: Token 'IMPORT' defined, but not used\n",
      "WARNING: Token 'LINE_COMMENT' defined, but not used\n",
      "WARNING: Token 'LINE_TERMINATOR' defined, but not used\n",
      "WARNING: Token 'SUPER' defined, but not used\n",
      "WARNING: There are 10 unused tokens\n",
      "WARNING: Couldn't create <module 'slimit.yacctab' from 'C:\\\\Users\\\\alexg\\\\Anaconda3\\\\lib\\\\site-packages\\\\slimit\\\\yacctab.py'>. Won't overwrite existing tabmodule\n"
     ]
    },
    {
     "name": "stdout",
     "output_type": "stream",
     "text": [
      "Wayward Swordtooth\n"
     ]
    },
    {
     "name": "stderr",
     "output_type": "stream",
     "text": [
      "WARNING: Couldn't write lextab module <module 'slimit.lextab' from 'C:\\\\Users\\\\alexg\\\\Anaconda3\\\\lib\\\\site-packages\\\\slimit\\\\lextab.py'>. Won't overwrite existing lextab module\n",
      "WARNING: yacc table file version is out of date\n",
      "WARNING: Token 'BLOCK_COMMENT' defined, but not used\n",
      "WARNING: Token 'CLASS' defined, but not used\n",
      "WARNING: Token 'CONST' defined, but not used\n",
      "WARNING: Token 'ENUM' defined, but not used\n",
      "WARNING: Token 'EXPORT' defined, but not used\n",
      "WARNING: Token 'EXTENDS' defined, but not used\n",
      "WARNING: Token 'IMPORT' defined, but not used\n",
      "WARNING: Token 'LINE_COMMENT' defined, but not used\n",
      "WARNING: Token 'LINE_TERMINATOR' defined, but not used\n",
      "WARNING: Token 'SUPER' defined, but not used\n",
      "WARNING: There are 10 unused tokens\n",
      "WARNING: Couldn't create <module 'slimit.yacctab' from 'C:\\\\Users\\\\alexg\\\\Anaconda3\\\\lib\\\\site-packages\\\\slimit\\\\yacctab.py'>. Won't overwrite existing tabmodule\n"
     ]
    },
    {
     "name": "stdout",
     "output_type": "stream",
     "text": [
      "Thunderherd Migration\n"
     ]
    },
    {
     "name": "stderr",
     "output_type": "stream",
     "text": [
      "WARNING: Couldn't write lextab module <module 'slimit.lextab' from 'C:\\\\Users\\\\alexg\\\\Anaconda3\\\\lib\\\\site-packages\\\\slimit\\\\lextab.py'>. Won't overwrite existing lextab module\n",
      "WARNING: yacc table file version is out of date\n",
      "WARNING: Token 'BLOCK_COMMENT' defined, but not used\n",
      "WARNING: Token 'CLASS' defined, but not used\n",
      "WARNING: Token 'CONST' defined, but not used\n",
      "WARNING: Token 'ENUM' defined, but not used\n",
      "WARNING: Token 'EXPORT' defined, but not used\n",
      "WARNING: Token 'EXTENDS' defined, but not used\n",
      "WARNING: Token 'IMPORT' defined, but not used\n",
      "WARNING: Token 'LINE_COMMENT' defined, but not used\n",
      "WARNING: Token 'LINE_TERMINATOR' defined, but not used\n",
      "WARNING: Token 'SUPER' defined, but not used\n",
      "WARNING: There are 10 unused tokens\n",
      "WARNING: Couldn't create <module 'slimit.yacctab' from 'C:\\\\Users\\\\alexg\\\\Anaconda3\\\\lib\\\\site-packages\\\\slimit\\\\yacctab.py'>. Won't overwrite existing tabmodule\n"
     ]
    },
    {
     "name": "stdout",
     "output_type": "stream",
     "text": [
      "Thrashing Brontodon\n"
     ]
    },
    {
     "name": "stderr",
     "output_type": "stream",
     "text": [
      "WARNING: Couldn't write lextab module <module 'slimit.lextab' from 'C:\\\\Users\\\\alexg\\\\Anaconda3\\\\lib\\\\site-packages\\\\slimit\\\\lextab.py'>. Won't overwrite existing lextab module\n",
      "WARNING: yacc table file version is out of date\n",
      "WARNING: Token 'BLOCK_COMMENT' defined, but not used\n",
      "WARNING: Token 'CLASS' defined, but not used\n",
      "WARNING: Token 'CONST' defined, but not used\n",
      "WARNING: Token 'ENUM' defined, but not used\n",
      "WARNING: Token 'EXPORT' defined, but not used\n",
      "WARNING: Token 'EXTENDS' defined, but not used\n",
      "WARNING: Token 'IMPORT' defined, but not used\n",
      "WARNING: Token 'LINE_COMMENT' defined, but not used\n",
      "WARNING: Token 'LINE_TERMINATOR' defined, but not used\n",
      "WARNING: Token 'SUPER' defined, but not used\n",
      "WARNING: There are 10 unused tokens\n",
      "WARNING: Couldn't create <module 'slimit.yacctab' from 'C:\\\\Users\\\\alexg\\\\Anaconda3\\\\lib\\\\site-packages\\\\slimit\\\\yacctab.py'>. Won't overwrite existing tabmodule\n"
     ]
    },
    {
     "name": "stdout",
     "output_type": "stream",
     "text": [
      "Tendershoot Dryad\n"
     ]
    },
    {
     "name": "stderr",
     "output_type": "stream",
     "text": [
      "WARNING: Couldn't write lextab module <module 'slimit.lextab' from 'C:\\\\Users\\\\alexg\\\\Anaconda3\\\\lib\\\\site-packages\\\\slimit\\\\lextab.py'>. Won't overwrite existing lextab module\n",
      "WARNING: yacc table file version is out of date\n",
      "WARNING: Token 'BLOCK_COMMENT' defined, but not used\n",
      "WARNING: Token 'CLASS' defined, but not used\n",
      "WARNING: Token 'CONST' defined, but not used\n",
      "WARNING: Token 'ENUM' defined, but not used\n",
      "WARNING: Token 'EXPORT' defined, but not used\n",
      "WARNING: Token 'EXTENDS' defined, but not used\n",
      "WARNING: Token 'IMPORT' defined, but not used\n",
      "WARNING: Token 'LINE_COMMENT' defined, but not used\n",
      "WARNING: Token 'LINE_TERMINATOR' defined, but not used\n",
      "WARNING: Token 'SUPER' defined, but not used\n",
      "WARNING: There are 10 unused tokens\n",
      "WARNING: Couldn't create <module 'slimit.yacctab' from 'C:\\\\Users\\\\alexg\\\\Anaconda3\\\\lib\\\\site-packages\\\\slimit\\\\yacctab.py'>. Won't overwrite existing tabmodule\n"
     ]
    },
    {
     "name": "stdout",
     "output_type": "stream",
     "text": [
      "Swift Warden\n"
     ]
    },
    {
     "name": "stderr",
     "output_type": "stream",
     "text": [
      "WARNING: Couldn't write lextab module <module 'slimit.lextab' from 'C:\\\\Users\\\\alexg\\\\Anaconda3\\\\lib\\\\site-packages\\\\slimit\\\\lextab.py'>. Won't overwrite existing lextab module\n",
      "WARNING: yacc table file version is out of date\n",
      "WARNING: Token 'BLOCK_COMMENT' defined, but not used\n",
      "WARNING: Token 'CLASS' defined, but not used\n",
      "WARNING: Token 'CONST' defined, but not used\n",
      "WARNING: Token 'ENUM' defined, but not used\n",
      "WARNING: Token 'EXPORT' defined, but not used\n",
      "WARNING: Token 'EXTENDS' defined, but not used\n",
      "WARNING: Token 'IMPORT' defined, but not used\n",
      "WARNING: Token 'LINE_COMMENT' defined, but not used\n",
      "WARNING: Token 'LINE_TERMINATOR' defined, but not used\n",
      "WARNING: Token 'SUPER' defined, but not used\n",
      "WARNING: There are 10 unused tokens\n",
      "WARNING: Couldn't create <module 'slimit.yacctab' from 'C:\\\\Users\\\\alexg\\\\Anaconda3\\\\lib\\\\site-packages\\\\slimit\\\\yacctab.py'>. Won't overwrite existing tabmodule\n"
     ]
    },
    {
     "name": "stdout",
     "output_type": "stream",
     "text": [
      "Strength of the Pack\n"
     ]
    },
    {
     "name": "stderr",
     "output_type": "stream",
     "text": [
      "WARNING: Couldn't write lextab module <module 'slimit.lextab' from 'C:\\\\Users\\\\alexg\\\\Anaconda3\\\\lib\\\\site-packages\\\\slimit\\\\lextab.py'>. Won't overwrite existing lextab module\n",
      "WARNING: yacc table file version is out of date\n",
      "WARNING: Token 'BLOCK_COMMENT' defined, but not used\n",
      "WARNING: Token 'CLASS' defined, but not used\n",
      "WARNING: Token 'CONST' defined, but not used\n",
      "WARNING: Token 'ENUM' defined, but not used\n",
      "WARNING: Token 'EXPORT' defined, but not used\n",
      "WARNING: Token 'EXTENDS' defined, but not used\n",
      "WARNING: Token 'IMPORT' defined, but not used\n",
      "WARNING: Token 'LINE_COMMENT' defined, but not used\n",
      "WARNING: Token 'LINE_TERMINATOR' defined, but not used\n",
      "WARNING: Token 'SUPER' defined, but not used\n",
      "WARNING: There are 10 unused tokens\n",
      "WARNING: Couldn't create <module 'slimit.yacctab' from 'C:\\\\Users\\\\alexg\\\\Anaconda3\\\\lib\\\\site-packages\\\\slimit\\\\yacctab.py'>. Won't overwrite existing tabmodule\n"
     ]
    },
    {
     "name": "stdout",
     "output_type": "stream",
     "text": [
      "Polyraptor\n"
     ]
    },
    {
     "name": "stderr",
     "output_type": "stream",
     "text": [
      "WARNING: Couldn't write lextab module <module 'slimit.lextab' from 'C:\\\\Users\\\\alexg\\\\Anaconda3\\\\lib\\\\site-packages\\\\slimit\\\\lextab.py'>. Won't overwrite existing lextab module\n",
      "WARNING: yacc table file version is out of date\n",
      "WARNING: Token 'BLOCK_COMMENT' defined, but not used\n",
      "WARNING: Token 'CLASS' defined, but not used\n",
      "WARNING: Token 'CONST' defined, but not used\n",
      "WARNING: Token 'ENUM' defined, but not used\n",
      "WARNING: Token 'EXPORT' defined, but not used\n",
      "WARNING: Token 'EXTENDS' defined, but not used\n",
      "WARNING: Token 'IMPORT' defined, but not used\n",
      "WARNING: Token 'LINE_COMMENT' defined, but not used\n",
      "WARNING: Token 'LINE_TERMINATOR' defined, but not used\n",
      "WARNING: Token 'SUPER' defined, but not used\n",
      "WARNING: There are 10 unused tokens\n",
      "WARNING: Couldn't create <module 'slimit.yacctab' from 'C:\\\\Users\\\\alexg\\\\Anaconda3\\\\lib\\\\site-packages\\\\slimit\\\\yacctab.py'>. Won't overwrite existing tabmodule\n"
     ]
    },
    {
     "name": "stdout",
     "output_type": "stream",
     "text": [
      "Plummet\n"
     ]
    },
    {
     "name": "stderr",
     "output_type": "stream",
     "text": [
      "WARNING: Couldn't write lextab module <module 'slimit.lextab' from 'C:\\\\Users\\\\alexg\\\\Anaconda3\\\\lib\\\\site-packages\\\\slimit\\\\lextab.py'>. Won't overwrite existing lextab module\n",
      "WARNING: yacc table file version is out of date\n",
      "WARNING: Token 'BLOCK_COMMENT' defined, but not used\n",
      "WARNING: Token 'CLASS' defined, but not used\n",
      "WARNING: Token 'CONST' defined, but not used\n",
      "WARNING: Token 'ENUM' defined, but not used\n",
      "WARNING: Token 'EXPORT' defined, but not used\n",
      "WARNING: Token 'EXTENDS' defined, but not used\n",
      "WARNING: Token 'IMPORT' defined, but not used\n",
      "WARNING: Token 'LINE_COMMENT' defined, but not used\n",
      "WARNING: Token 'LINE_TERMINATOR' defined, but not used\n",
      "WARNING: Token 'SUPER' defined, but not used\n",
      "WARNING: There are 10 unused tokens\n",
      "WARNING: Couldn't create <module 'slimit.yacctab' from 'C:\\\\Users\\\\alexg\\\\Anaconda3\\\\lib\\\\site-packages\\\\slimit\\\\yacctab.py'>. Won't overwrite existing tabmodule\n"
     ]
    },
    {
     "name": "stdout",
     "output_type": "stream",
     "text": [
      "Path of Discovery\n"
     ]
    },
    {
     "name": "stderr",
     "output_type": "stream",
     "text": [
      "WARNING: Couldn't write lextab module <module 'slimit.lextab' from 'C:\\\\Users\\\\alexg\\\\Anaconda3\\\\lib\\\\site-packages\\\\slimit\\\\lextab.py'>. Won't overwrite existing lextab module\n",
      "WARNING: yacc table file version is out of date\n",
      "WARNING: Token 'BLOCK_COMMENT' defined, but not used\n",
      "WARNING: Token 'CLASS' defined, but not used\n",
      "WARNING: Token 'CONST' defined, but not used\n",
      "WARNING: Token 'ENUM' defined, but not used\n",
      "WARNING: Token 'EXPORT' defined, but not used\n",
      "WARNING: Token 'EXTENDS' defined, but not used\n",
      "WARNING: Token 'IMPORT' defined, but not used\n",
      "WARNING: Token 'LINE_COMMENT' defined, but not used\n",
      "WARNING: Token 'LINE_TERMINATOR' defined, but not used\n",
      "WARNING: Token 'SUPER' defined, but not used\n",
      "WARNING: There are 10 unused tokens\n",
      "WARNING: Couldn't create <module 'slimit.yacctab' from 'C:\\\\Users\\\\alexg\\\\Anaconda3\\\\lib\\\\site-packages\\\\slimit\\\\yacctab.py'>. Won't overwrite existing tabmodule\n"
     ]
    },
    {
     "name": "stdout",
     "output_type": "stream",
     "text": [
      "Overgrown Armasaur\n"
     ]
    },
    {
     "name": "stderr",
     "output_type": "stream",
     "text": [
      "WARNING: Couldn't write lextab module <module 'slimit.lextab' from 'C:\\\\Users\\\\alexg\\\\Anaconda3\\\\lib\\\\site-packages\\\\slimit\\\\lextab.py'>. Won't overwrite existing lextab module\n",
      "WARNING: yacc table file version is out of date\n",
      "WARNING: Token 'BLOCK_COMMENT' defined, but not used\n",
      "WARNING: Token 'CLASS' defined, but not used\n",
      "WARNING: Token 'CONST' defined, but not used\n",
      "WARNING: Token 'ENUM' defined, but not used\n",
      "WARNING: Token 'EXPORT' defined, but not used\n",
      "WARNING: Token 'EXTENDS' defined, but not used\n",
      "WARNING: Token 'IMPORT' defined, but not used\n",
      "WARNING: Token 'LINE_COMMENT' defined, but not used\n",
      "WARNING: Token 'LINE_TERMINATOR' defined, but not used\n",
      "WARNING: Token 'SUPER' defined, but not used\n",
      "WARNING: There are 10 unused tokens\n",
      "WARNING: Couldn't create <module 'slimit.yacctab' from 'C:\\\\Users\\\\alexg\\\\Anaconda3\\\\lib\\\\site-packages\\\\slimit\\\\yacctab.py'>. Won't overwrite existing tabmodule\n"
     ]
    },
    {
     "name": "stdout",
     "output_type": "stream",
     "text": [
      "Orazca Frillback\n"
     ]
    },
    {
     "name": "stderr",
     "output_type": "stream",
     "text": [
      "WARNING: Couldn't write lextab module <module 'slimit.lextab' from 'C:\\\\Users\\\\alexg\\\\Anaconda3\\\\lib\\\\site-packages\\\\slimit\\\\lextab.py'>. Won't overwrite existing lextab module\n",
      "WARNING: yacc table file version is out of date\n",
      "WARNING: Token 'BLOCK_COMMENT' defined, but not used\n",
      "WARNING: Token 'CLASS' defined, but not used\n",
      "WARNING: Token 'CONST' defined, but not used\n",
      "WARNING: Token 'ENUM' defined, but not used\n",
      "WARNING: Token 'EXPORT' defined, but not used\n",
      "WARNING: Token 'EXTENDS' defined, but not used\n",
      "WARNING: Token 'IMPORT' defined, but not used\n",
      "WARNING: Token 'LINE_COMMENT' defined, but not used\n",
      "WARNING: Token 'LINE_TERMINATOR' defined, but not used\n",
      "WARNING: Token 'SUPER' defined, but not used\n",
      "WARNING: There are 10 unused tokens\n",
      "WARNING: Couldn't create <module 'slimit.yacctab' from 'C:\\\\Users\\\\alexg\\\\Anaconda3\\\\lib\\\\site-packages\\\\slimit\\\\yacctab.py'>. Won't overwrite existing tabmodule\n"
     ]
    },
    {
     "name": "stdout",
     "output_type": "stream",
     "text": [
      "Naturalize\n"
     ]
    },
    {
     "name": "stderr",
     "output_type": "stream",
     "text": [
      "WARNING: Couldn't write lextab module <module 'slimit.lextab' from 'C:\\\\Users\\\\alexg\\\\Anaconda3\\\\lib\\\\site-packages\\\\slimit\\\\lextab.py'>. Won't overwrite existing lextab module\n",
      "WARNING: yacc table file version is out of date\n",
      "WARNING: Token 'BLOCK_COMMENT' defined, but not used\n",
      "WARNING: Token 'CLASS' defined, but not used\n",
      "WARNING: Token 'CONST' defined, but not used\n",
      "WARNING: Token 'ENUM' defined, but not used\n",
      "WARNING: Token 'EXPORT' defined, but not used\n",
      "WARNING: Token 'EXTENDS' defined, but not used\n",
      "WARNING: Token 'IMPORT' defined, but not used\n",
      "WARNING: Token 'LINE_COMMENT' defined, but not used\n",
      "WARNING: Token 'LINE_TERMINATOR' defined, but not used\n",
      "WARNING: Token 'SUPER' defined, but not used\n",
      "WARNING: There are 10 unused tokens\n",
      "WARNING: Couldn't create <module 'slimit.yacctab' from 'C:\\\\Users\\\\alexg\\\\Anaconda3\\\\lib\\\\site-packages\\\\slimit\\\\yacctab.py'>. Won't overwrite existing tabmodule\n"
     ]
    },
    {
     "name": "stdout",
     "output_type": "stream",
     "text": [
      "Knight of the Stampede\n"
     ]
    },
    {
     "name": "stderr",
     "output_type": "stream",
     "text": [
      "WARNING: Couldn't write lextab module <module 'slimit.lextab' from 'C:\\\\Users\\\\alexg\\\\Anaconda3\\\\lib\\\\site-packages\\\\slimit\\\\lextab.py'>. Won't overwrite existing lextab module\n",
      "WARNING: yacc table file version is out of date\n",
      "WARNING: Token 'BLOCK_COMMENT' defined, but not used\n",
      "WARNING: Token 'CLASS' defined, but not used\n",
      "WARNING: Token 'CONST' defined, but not used\n",
      "WARNING: Token 'ENUM' defined, but not used\n",
      "WARNING: Token 'EXPORT' defined, but not used\n",
      "WARNING: Token 'EXTENDS' defined, but not used\n",
      "WARNING: Token 'IMPORT' defined, but not used\n",
      "WARNING: Token 'LINE_COMMENT' defined, but not used\n",
      "WARNING: Token 'LINE_TERMINATOR' defined, but not used\n",
      "WARNING: Token 'SUPER' defined, but not used\n",
      "WARNING: There are 10 unused tokens\n",
      "WARNING: Couldn't create <module 'slimit.yacctab' from 'C:\\\\Users\\\\alexg\\\\Anaconda3\\\\lib\\\\site-packages\\\\slimit\\\\yacctab.py'>. Won't overwrite existing tabmodule\n"
     ]
    },
    {
     "name": "stdout",
     "output_type": "stream",
     "text": [
      "Jungleborn Pioneer\n"
     ]
    },
    {
     "name": "stderr",
     "output_type": "stream",
     "text": [
      "WARNING: Couldn't write lextab module <module 'slimit.lextab' from 'C:\\\\Users\\\\alexg\\\\Anaconda3\\\\lib\\\\site-packages\\\\slimit\\\\lextab.py'>. Won't overwrite existing lextab module\n",
      "WARNING: yacc table file version is out of date\n",
      "WARNING: Token 'BLOCK_COMMENT' defined, but not used\n",
      "WARNING: Token 'CLASS' defined, but not used\n",
      "WARNING: Token 'CONST' defined, but not used\n",
      "WARNING: Token 'ENUM' defined, but not used\n",
      "WARNING: Token 'EXPORT' defined, but not used\n",
      "WARNING: Token 'EXTENDS' defined, but not used\n",
      "WARNING: Token 'IMPORT' defined, but not used\n",
      "WARNING: Token 'LINE_COMMENT' defined, but not used\n",
      "WARNING: Token 'LINE_TERMINATOR' defined, but not used\n",
      "WARNING: Token 'SUPER' defined, but not used\n",
      "WARNING: There are 10 unused tokens\n",
      "WARNING: Couldn't create <module 'slimit.yacctab' from 'C:\\\\Users\\\\alexg\\\\Anaconda3\\\\lib\\\\site-packages\\\\slimit\\\\yacctab.py'>. Won't overwrite existing tabmodule\n"
     ]
    },
    {
     "name": "stdout",
     "output_type": "stream",
     "text": [
      "Jadelight Ranger\n"
     ]
    },
    {
     "name": "stderr",
     "output_type": "stream",
     "text": [
      "WARNING: Couldn't write lextab module <module 'slimit.lextab' from 'C:\\\\Users\\\\alexg\\\\Anaconda3\\\\lib\\\\site-packages\\\\slimit\\\\lextab.py'>. Won't overwrite existing lextab module\n",
      "WARNING: yacc table file version is out of date\n",
      "WARNING: Token 'BLOCK_COMMENT' defined, but not used\n",
      "WARNING: Token 'CLASS' defined, but not used\n",
      "WARNING: Token 'CONST' defined, but not used\n",
      "WARNING: Token 'ENUM' defined, but not used\n",
      "WARNING: Token 'EXPORT' defined, but not used\n",
      "WARNING: Token 'EXTENDS' defined, but not used\n",
      "WARNING: Token 'IMPORT' defined, but not used\n",
      "WARNING: Token 'LINE_COMMENT' defined, but not used\n",
      "WARNING: Token 'LINE_TERMINATOR' defined, but not used\n",
      "WARNING: Token 'SUPER' defined, but not used\n",
      "WARNING: There are 10 unused tokens\n",
      "WARNING: Couldn't create <module 'slimit.yacctab' from 'C:\\\\Users\\\\alexg\\\\Anaconda3\\\\lib\\\\site-packages\\\\slimit\\\\yacctab.py'>. Won't overwrite existing tabmodule\n"
     ]
    },
    {
     "name": "stdout",
     "output_type": "stream",
     "text": [
      "Jadecraft Artisan\n"
     ]
    },
    {
     "name": "stderr",
     "output_type": "stream",
     "text": [
      "WARNING: Couldn't write lextab module <module 'slimit.lextab' from 'C:\\\\Users\\\\alexg\\\\Anaconda3\\\\lib\\\\site-packages\\\\slimit\\\\lextab.py'>. Won't overwrite existing lextab module\n",
      "WARNING: yacc table file version is out of date\n",
      "WARNING: Token 'BLOCK_COMMENT' defined, but not used\n",
      "WARNING: Token 'CLASS' defined, but not used\n",
      "WARNING: Token 'CONST' defined, but not used\n",
      "WARNING: Token 'ENUM' defined, but not used\n",
      "WARNING: Token 'EXPORT' defined, but not used\n",
      "WARNING: Token 'EXTENDS' defined, but not used\n",
      "WARNING: Token 'IMPORT' defined, but not used\n",
      "WARNING: Token 'LINE_COMMENT' defined, but not used\n",
      "WARNING: Token 'LINE_TERMINATOR' defined, but not used\n",
      "WARNING: Token 'SUPER' defined, but not used\n",
      "WARNING: There are 10 unused tokens\n",
      "WARNING: Couldn't create <module 'slimit.yacctab' from 'C:\\\\Users\\\\alexg\\\\Anaconda3\\\\lib\\\\site-packages\\\\slimit\\\\yacctab.py'>. Won't overwrite existing tabmodule\n"
     ]
    },
    {
     "name": "stdout",
     "output_type": "stream",
     "text": [
      "Jade Bearer\n"
     ]
    },
    {
     "name": "stderr",
     "output_type": "stream",
     "text": [
      "WARNING: Couldn't write lextab module <module 'slimit.lextab' from 'C:\\\\Users\\\\alexg\\\\Anaconda3\\\\lib\\\\site-packages\\\\slimit\\\\lextab.py'>. Won't overwrite existing lextab module\n",
      "WARNING: yacc table file version is out of date\n",
      "WARNING: Token 'BLOCK_COMMENT' defined, but not used\n",
      "WARNING: Token 'CLASS' defined, but not used\n",
      "WARNING: Token 'CONST' defined, but not used\n",
      "WARNING: Token 'ENUM' defined, but not used\n",
      "WARNING: Token 'EXPORT' defined, but not used\n",
      "WARNING: Token 'EXTENDS' defined, but not used\n",
      "WARNING: Token 'IMPORT' defined, but not used\n",
      "WARNING: Token 'LINE_COMMENT' defined, but not used\n",
      "WARNING: Token 'LINE_TERMINATOR' defined, but not used\n",
      "WARNING: Token 'SUPER' defined, but not used\n",
      "WARNING: There are 10 unused tokens\n",
      "WARNING: Couldn't create <module 'slimit.yacctab' from 'C:\\\\Users\\\\alexg\\\\Anaconda3\\\\lib\\\\site-packages\\\\slimit\\\\yacctab.py'>. Won't overwrite existing tabmodule\n"
     ]
    },
    {
     "name": "stdout",
     "output_type": "stream",
     "text": [
      "Hunt the Weak\n"
     ]
    },
    {
     "name": "stderr",
     "output_type": "stream",
     "text": [
      "WARNING: Couldn't write lextab module <module 'slimit.lextab' from 'C:\\\\Users\\\\alexg\\\\Anaconda3\\\\lib\\\\site-packages\\\\slimit\\\\lextab.py'>. Won't overwrite existing lextab module\n",
      "WARNING: yacc table file version is out of date\n",
      "WARNING: Token 'BLOCK_COMMENT' defined, but not used\n",
      "WARNING: Token 'CLASS' defined, but not used\n",
      "WARNING: Token 'CONST' defined, but not used\n",
      "WARNING: Token 'ENUM' defined, but not used\n",
      "WARNING: Token 'EXPORT' defined, but not used\n",
      "WARNING: Token 'EXTENDS' defined, but not used\n",
      "WARNING: Token 'IMPORT' defined, but not used\n",
      "WARNING: Token 'LINE_COMMENT' defined, but not used\n",
      "WARNING: Token 'LINE_TERMINATOR' defined, but not used\n",
      "WARNING: Token 'SUPER' defined, but not used\n",
      "WARNING: There are 10 unused tokens\n",
      "WARNING: Couldn't create <module 'slimit.yacctab' from 'C:\\\\Users\\\\alexg\\\\Anaconda3\\\\lib\\\\site-packages\\\\slimit\\\\yacctab.py'>. Won't overwrite existing tabmodule\n"
     ]
    },
    {
     "name": "stdout",
     "output_type": "stream",
     "text": [
      "Hardy Veteran\n"
     ]
    },
    {
     "name": "stderr",
     "output_type": "stream",
     "text": [
      "WARNING: Couldn't write lextab module <module 'slimit.lextab' from 'C:\\\\Users\\\\alexg\\\\Anaconda3\\\\lib\\\\site-packages\\\\slimit\\\\lextab.py'>. Won't overwrite existing lextab module\n",
      "WARNING: yacc table file version is out of date\n",
      "WARNING: Token 'BLOCK_COMMENT' defined, but not used\n",
      "WARNING: Token 'CLASS' defined, but not used\n",
      "WARNING: Token 'CONST' defined, but not used\n",
      "WARNING: Token 'ENUM' defined, but not used\n",
      "WARNING: Token 'EXPORT' defined, but not used\n",
      "WARNING: Token 'EXTENDS' defined, but not used\n",
      "WARNING: Token 'IMPORT' defined, but not used\n",
      "WARNING: Token 'LINE_COMMENT' defined, but not used\n",
      "WARNING: Token 'LINE_TERMINATOR' defined, but not used\n",
      "WARNING: Token 'SUPER' defined, but not used\n",
      "WARNING: There are 10 unused tokens\n",
      "WARNING: Couldn't create <module 'slimit.yacctab' from 'C:\\\\Users\\\\alexg\\\\Anaconda3\\\\lib\\\\site-packages\\\\slimit\\\\yacctab.py'>. Won't overwrite existing tabmodule\n"
     ]
    },
    {
     "name": "stdout",
     "output_type": "stream",
     "text": [
      "Giltgrove Stalker\n"
     ]
    },
    {
     "name": "stderr",
     "output_type": "stream",
     "text": [
      "WARNING: Couldn't write lextab module <module 'slimit.lextab' from 'C:\\\\Users\\\\alexg\\\\Anaconda3\\\\lib\\\\site-packages\\\\slimit\\\\lextab.py'>. Won't overwrite existing lextab module\n",
      "WARNING: yacc table file version is out of date\n",
      "WARNING: Token 'BLOCK_COMMENT' defined, but not used\n",
      "WARNING: Token 'CLASS' defined, but not used\n",
      "WARNING: Token 'CONST' defined, but not used\n",
      "WARNING: Token 'ENUM' defined, but not used\n",
      "WARNING: Token 'EXPORT' defined, but not used\n",
      "WARNING: Token 'EXTENDS' defined, but not used\n",
      "WARNING: Token 'IMPORT' defined, but not used\n",
      "WARNING: Token 'LINE_COMMENT' defined, but not used\n",
      "WARNING: Token 'LINE_TERMINATOR' defined, but not used\n",
      "WARNING: Token 'SUPER' defined, but not used\n",
      "WARNING: There are 10 unused tokens\n",
      "WARNING: Couldn't create <module 'slimit.yacctab' from 'C:\\\\Users\\\\alexg\\\\Anaconda3\\\\lib\\\\site-packages\\\\slimit\\\\yacctab.py'>. Won't overwrite existing tabmodule\n"
     ]
    },
    {
     "name": "stdout",
     "output_type": "stream",
     "text": [
      "Ghalta, Primal Hunger\n"
     ]
    },
    {
     "name": "stderr",
     "output_type": "stream",
     "text": [
      "WARNING: Couldn't write lextab module <module 'slimit.lextab' from 'C:\\\\Users\\\\alexg\\\\Anaconda3\\\\lib\\\\site-packages\\\\slimit\\\\lextab.py'>. Won't overwrite existing lextab module\n",
      "WARNING: yacc table file version is out of date\n",
      "WARNING: Token 'BLOCK_COMMENT' defined, but not used\n",
      "WARNING: Token 'CLASS' defined, but not used\n",
      "WARNING: Token 'CONST' defined, but not used\n",
      "WARNING: Token 'ENUM' defined, but not used\n",
      "WARNING: Token 'EXPORT' defined, but not used\n",
      "WARNING: Token 'EXTENDS' defined, but not used\n",
      "WARNING: Token 'IMPORT' defined, but not used\n",
      "WARNING: Token 'LINE_COMMENT' defined, but not used\n",
      "WARNING: Token 'LINE_TERMINATOR' defined, but not used\n",
      "WARNING: Token 'SUPER' defined, but not used\n",
      "WARNING: There are 10 unused tokens\n",
      "WARNING: Couldn't create <module 'slimit.yacctab' from 'C:\\\\Users\\\\alexg\\\\Anaconda3\\\\lib\\\\site-packages\\\\slimit\\\\yacctab.py'>. Won't overwrite existing tabmodule\n"
     ]
    },
    {
     "name": "stdout",
     "output_type": "stream",
     "text": [
      "Forerunner of the Heralds\n"
     ]
    },
    {
     "name": "stderr",
     "output_type": "stream",
     "text": [
      "WARNING: Couldn't write lextab module <module 'slimit.lextab' from 'C:\\\\Users\\\\alexg\\\\Anaconda3\\\\lib\\\\site-packages\\\\slimit\\\\lextab.py'>. Won't overwrite existing lextab module\n",
      "WARNING: yacc table file version is out of date\n",
      "WARNING: Token 'BLOCK_COMMENT' defined, but not used\n",
      "WARNING: Token 'CLASS' defined, but not used\n",
      "WARNING: Token 'CONST' defined, but not used\n",
      "WARNING: Token 'ENUM' defined, but not used\n",
      "WARNING: Token 'EXPORT' defined, but not used\n",
      "WARNING: Token 'EXTENDS' defined, but not used\n",
      "WARNING: Token 'IMPORT' defined, but not used\n",
      "WARNING: Token 'LINE_COMMENT' defined, but not used\n",
      "WARNING: Token 'LINE_TERMINATOR' defined, but not used\n",
      "WARNING: Token 'SUPER' defined, but not used\n",
      "WARNING: There are 10 unused tokens\n",
      "WARNING: Couldn't create <module 'slimit.yacctab' from 'C:\\\\Users\\\\alexg\\\\Anaconda3\\\\lib\\\\site-packages\\\\slimit\\\\yacctab.py'>. Won't overwrite existing tabmodule\n"
     ]
    },
    {
     "name": "stdout",
     "output_type": "stream",
     "text": [
      "Enter the Unknown\n"
     ]
    },
    {
     "name": "stderr",
     "output_type": "stream",
     "text": [
      "WARNING: Couldn't write lextab module <module 'slimit.lextab' from 'C:\\\\Users\\\\alexg\\\\Anaconda3\\\\lib\\\\site-packages\\\\slimit\\\\lextab.py'>. Won't overwrite existing lextab module\n",
      "WARNING: yacc table file version is out of date\n",
      "WARNING: Token 'BLOCK_COMMENT' defined, but not used\n",
      "WARNING: Token 'CLASS' defined, but not used\n",
      "WARNING: Token 'CONST' defined, but not used\n",
      "WARNING: Token 'ENUM' defined, but not used\n",
      "WARNING: Token 'EXPORT' defined, but not used\n",
      "WARNING: Token 'EXTENDS' defined, but not used\n",
      "WARNING: Token 'IMPORT' defined, but not used\n",
      "WARNING: Token 'LINE_COMMENT' defined, but not used\n",
      "WARNING: Token 'LINE_TERMINATOR' defined, but not used\n",
      "WARNING: Token 'SUPER' defined, but not used\n",
      "WARNING: There are 10 unused tokens\n",
      "WARNING: Couldn't create <module 'slimit.yacctab' from 'C:\\\\Users\\\\alexg\\\\Anaconda3\\\\lib\\\\site-packages\\\\slimit\\\\yacctab.py'>. Won't overwrite existing tabmodule\n"
     ]
    },
    {
     "name": "stdout",
     "output_type": "stream",
     "text": [
      "Deeproot Elite\n"
     ]
    },
    {
     "name": "stderr",
     "output_type": "stream",
     "text": [
      "WARNING: Couldn't write lextab module <module 'slimit.lextab' from 'C:\\\\Users\\\\alexg\\\\Anaconda3\\\\lib\\\\site-packages\\\\slimit\\\\lextab.py'>. Won't overwrite existing lextab module\n",
      "WARNING: yacc table file version is out of date\n",
      "WARNING: Token 'BLOCK_COMMENT' defined, but not used\n",
      "WARNING: Token 'CLASS' defined, but not used\n",
      "WARNING: Token 'CONST' defined, but not used\n",
      "WARNING: Token 'ENUM' defined, but not used\n",
      "WARNING: Token 'EXPORT' defined, but not used\n",
      "WARNING: Token 'EXTENDS' defined, but not used\n",
      "WARNING: Token 'IMPORT' defined, but not used\n",
      "WARNING: Token 'LINE_COMMENT' defined, but not used\n",
      "WARNING: Token 'LINE_TERMINATOR' defined, but not used\n",
      "WARNING: Token 'SUPER' defined, but not used\n",
      "WARNING: There are 10 unused tokens\n",
      "WARNING: Couldn't create <module 'slimit.yacctab' from 'C:\\\\Users\\\\alexg\\\\Anaconda3\\\\lib\\\\site-packages\\\\slimit\\\\yacctab.py'>. Won't overwrite existing tabmodule\n"
     ]
    },
    {
     "name": "stdout",
     "output_type": "stream",
     "text": [
      "Crested Herdcaller\n"
     ]
    },
    {
     "name": "stderr",
     "output_type": "stream",
     "text": [
      "WARNING: Couldn't write lextab module <module 'slimit.lextab' from 'C:\\\\Users\\\\alexg\\\\Anaconda3\\\\lib\\\\site-packages\\\\slimit\\\\lextab.py'>. Won't overwrite existing lextab module\n",
      "WARNING: yacc table file version is out of date\n",
      "WARNING: Token 'BLOCK_COMMENT' defined, but not used\n",
      "WARNING: Token 'CLASS' defined, but not used\n",
      "WARNING: Token 'CONST' defined, but not used\n",
      "WARNING: Token 'ENUM' defined, but not used\n",
      "WARNING: Token 'EXPORT' defined, but not used\n",
      "WARNING: Token 'EXTENDS' defined, but not used\n",
      "WARNING: Token 'IMPORT' defined, but not used\n",
      "WARNING: Token 'LINE_COMMENT' defined, but not used\n",
      "WARNING: Token 'LINE_TERMINATOR' defined, but not used\n",
      "WARNING: Token 'SUPER' defined, but not used\n",
      "WARNING: There are 10 unused tokens\n",
      "WARNING: Couldn't create <module 'slimit.yacctab' from 'C:\\\\Users\\\\alexg\\\\Anaconda3\\\\lib\\\\site-packages\\\\slimit\\\\yacctab.py'>. Won't overwrite existing tabmodule\n"
     ]
    },
    {
     "name": "stdout",
     "output_type": "stream",
     "text": [
      "Colossal Dreadmaw\n"
     ]
    },
    {
     "name": "stderr",
     "output_type": "stream",
     "text": [
      "WARNING: Couldn't write lextab module <module 'slimit.lextab' from 'C:\\\\Users\\\\alexg\\\\Anaconda3\\\\lib\\\\site-packages\\\\slimit\\\\lextab.py'>. Won't overwrite existing lextab module\n",
      "WARNING: yacc table file version is out of date\n",
      "WARNING: Token 'BLOCK_COMMENT' defined, but not used\n",
      "WARNING: Token 'CLASS' defined, but not used\n",
      "WARNING: Token 'CONST' defined, but not used\n",
      "WARNING: Token 'ENUM' defined, but not used\n",
      "WARNING: Token 'EXPORT' defined, but not used\n",
      "WARNING: Token 'EXTENDS' defined, but not used\n",
      "WARNING: Token 'IMPORT' defined, but not used\n",
      "WARNING: Token 'LINE_COMMENT' defined, but not used\n",
      "WARNING: Token 'LINE_TERMINATOR' defined, but not used\n",
      "WARNING: Token 'SUPER' defined, but not used\n",
      "WARNING: There are 10 unused tokens\n",
      "WARNING: Couldn't create <module 'slimit.yacctab' from 'C:\\\\Users\\\\alexg\\\\Anaconda3\\\\lib\\\\site-packages\\\\slimit\\\\yacctab.py'>. Won't overwrite existing tabmodule\n"
     ]
    },
    {
     "name": "stdout",
     "output_type": "stream",
     "text": [
      "Cherished Hatchling\n"
     ]
    },
    {
     "name": "stderr",
     "output_type": "stream",
     "text": [
      "WARNING: Couldn't write lextab module <module 'slimit.lextab' from 'C:\\\\Users\\\\alexg\\\\Anaconda3\\\\lib\\\\site-packages\\\\slimit\\\\lextab.py'>. Won't overwrite existing lextab module\n",
      "WARNING: yacc table file version is out of date\n",
      "WARNING: Token 'BLOCK_COMMENT' defined, but not used\n",
      "WARNING: Token 'CLASS' defined, but not used\n",
      "WARNING: Token 'CONST' defined, but not used\n",
      "WARNING: Token 'ENUM' defined, but not used\n",
      "WARNING: Token 'EXPORT' defined, but not used\n",
      "WARNING: Token 'EXTENDS' defined, but not used\n",
      "WARNING: Token 'IMPORT' defined, but not used\n",
      "WARNING: Token 'LINE_COMMENT' defined, but not used\n",
      "WARNING: Token 'LINE_TERMINATOR' defined, but not used\n",
      "WARNING: Token 'SUPER' defined, but not used\n",
      "WARNING: There are 10 unused tokens\n",
      "WARNING: Couldn't create <module 'slimit.yacctab' from 'C:\\\\Users\\\\alexg\\\\Anaconda3\\\\lib\\\\site-packages\\\\slimit\\\\yacctab.py'>. Won't overwrite existing tabmodule\n"
     ]
    },
    {
     "name": "stdout",
     "output_type": "stream",
     "text": [
      "Cacophodon\n"
     ]
    },
    {
     "name": "stderr",
     "output_type": "stream",
     "text": [
      "WARNING: Couldn't write lextab module <module 'slimit.lextab' from 'C:\\\\Users\\\\alexg\\\\Anaconda3\\\\lib\\\\site-packages\\\\slimit\\\\lextab.py'>. Won't overwrite existing lextab module\n",
      "WARNING: yacc table file version is out of date\n",
      "WARNING: Token 'BLOCK_COMMENT' defined, but not used\n",
      "WARNING: Token 'CLASS' defined, but not used\n",
      "WARNING: Token 'CONST' defined, but not used\n",
      "WARNING: Token 'ENUM' defined, but not used\n",
      "WARNING: Token 'EXPORT' defined, but not used\n",
      "WARNING: Token 'EXTENDS' defined, but not used\n",
      "WARNING: Token 'IMPORT' defined, but not used\n",
      "WARNING: Token 'LINE_COMMENT' defined, but not used\n",
      "WARNING: Token 'LINE_TERMINATOR' defined, but not used\n",
      "WARNING: Token 'SUPER' defined, but not used\n",
      "WARNING: There are 10 unused tokens\n",
      "WARNING: Couldn't create <module 'slimit.yacctab' from 'C:\\\\Users\\\\alexg\\\\Anaconda3\\\\lib\\\\site-packages\\\\slimit\\\\yacctab.py'>. Won't overwrite existing tabmodule\n"
     ]
    },
    {
     "name": "stdout",
     "output_type": "stream",
     "text": [
      "Aggressive Urge\n"
     ]
    },
    {
     "name": "stderr",
     "output_type": "stream",
     "text": [
      "WARNING: Couldn't write lextab module <module 'slimit.lextab' from 'C:\\\\Users\\\\alexg\\\\Anaconda3\\\\lib\\\\site-packages\\\\slimit\\\\lextab.py'>. Won't overwrite existing lextab module\n",
      "WARNING: yacc table file version is out of date\n",
      "WARNING: Token 'BLOCK_COMMENT' defined, but not used\n",
      "WARNING: Token 'CLASS' defined, but not used\n",
      "WARNING: Token 'CONST' defined, but not used\n",
      "WARNING: Token 'ENUM' defined, but not used\n",
      "WARNING: Token 'EXPORT' defined, but not used\n",
      "WARNING: Token 'EXTENDS' defined, but not used\n",
      "WARNING: Token 'IMPORT' defined, but not used\n",
      "WARNING: Token 'LINE_COMMENT' defined, but not used\n",
      "WARNING: Token 'LINE_TERMINATOR' defined, but not used\n",
      "WARNING: Token 'SUPER' defined, but not used\n",
      "WARNING: There are 10 unused tokens\n",
      "WARNING: Couldn't create <module 'slimit.yacctab' from 'C:\\\\Users\\\\alexg\\\\Anaconda3\\\\lib\\\\site-packages\\\\slimit\\\\yacctab.py'>. Won't overwrite existing tabmodule\n"
     ]
    },
    {
     "name": "stdout",
     "output_type": "stream",
     "text": [
      "Tilonalli's Summoner\n"
     ]
    },
    {
     "name": "stderr",
     "output_type": "stream",
     "text": [
      "WARNING: Couldn't write lextab module <module 'slimit.lextab' from 'C:\\\\Users\\\\alexg\\\\Anaconda3\\\\lib\\\\site-packages\\\\slimit\\\\lextab.py'>. Won't overwrite existing lextab module\n",
      "WARNING: yacc table file version is out of date\n",
      "WARNING: Token 'BLOCK_COMMENT' defined, but not used\n",
      "WARNING: Token 'CLASS' defined, but not used\n",
      "WARNING: Token 'CONST' defined, but not used\n",
      "WARNING: Token 'ENUM' defined, but not used\n",
      "WARNING: Token 'EXPORT' defined, but not used\n",
      "WARNING: Token 'EXTENDS' defined, but not used\n",
      "WARNING: Token 'IMPORT' defined, but not used\n",
      "WARNING: Token 'LINE_COMMENT' defined, but not used\n",
      "WARNING: Token 'LINE_TERMINATOR' defined, but not used\n",
      "WARNING: Token 'SUPER' defined, but not used\n",
      "WARNING: There are 10 unused tokens\n",
      "WARNING: Couldn't create <module 'slimit.yacctab' from 'C:\\\\Users\\\\alexg\\\\Anaconda3\\\\lib\\\\site-packages\\\\slimit\\\\yacctab.py'>. Won't overwrite existing tabmodule\n"
     ]
    },
    {
     "name": "stdout",
     "output_type": "stream",
     "text": [
      "Tilonalli's Crown\n"
     ]
    },
    {
     "name": "stderr",
     "output_type": "stream",
     "text": [
      "WARNING: Couldn't write lextab module <module 'slimit.lextab' from 'C:\\\\Users\\\\alexg\\\\Anaconda3\\\\lib\\\\site-packages\\\\slimit\\\\lextab.py'>. Won't overwrite existing lextab module\n",
      "WARNING: yacc table file version is out of date\n",
      "WARNING: Token 'BLOCK_COMMENT' defined, but not used\n",
      "WARNING: Token 'CLASS' defined, but not used\n",
      "WARNING: Token 'CONST' defined, but not used\n",
      "WARNING: Token 'ENUM' defined, but not used\n",
      "WARNING: Token 'EXPORT' defined, but not used\n",
      "WARNING: Token 'EXTENDS' defined, but not used\n",
      "WARNING: Token 'IMPORT' defined, but not used\n",
      "WARNING: Token 'LINE_COMMENT' defined, but not used\n",
      "WARNING: Token 'LINE_TERMINATOR' defined, but not used\n",
      "WARNING: Token 'SUPER' defined, but not used\n",
      "WARNING: There are 10 unused tokens\n",
      "WARNING: Couldn't create <module 'slimit.yacctab' from 'C:\\\\Users\\\\alexg\\\\Anaconda3\\\\lib\\\\site-packages\\\\slimit\\\\yacctab.py'>. Won't overwrite existing tabmodule\n"
     ]
    },
    {
     "name": "stdout",
     "output_type": "stream",
     "text": [
      "Swaggering Corsair\n"
     ]
    },
    {
     "name": "stderr",
     "output_type": "stream",
     "text": [
      "WARNING: Couldn't write lextab module <module 'slimit.lextab' from 'C:\\\\Users\\\\alexg\\\\Anaconda3\\\\lib\\\\site-packages\\\\slimit\\\\lextab.py'>. Won't overwrite existing lextab module\n",
      "WARNING: yacc table file version is out of date\n",
      "WARNING: Token 'BLOCK_COMMENT' defined, but not used\n",
      "WARNING: Token 'CLASS' defined, but not used\n",
      "WARNING: Token 'CONST' defined, but not used\n",
      "WARNING: Token 'ENUM' defined, but not used\n",
      "WARNING: Token 'EXPORT' defined, but not used\n",
      "WARNING: Token 'EXTENDS' defined, but not used\n",
      "WARNING: Token 'IMPORT' defined, but not used\n",
      "WARNING: Token 'LINE_COMMENT' defined, but not used\n",
      "WARNING: Token 'LINE_TERMINATOR' defined, but not used\n",
      "WARNING: Token 'SUPER' defined, but not used\n",
      "WARNING: There are 10 unused tokens\n",
      "WARNING: Couldn't create <module 'slimit.yacctab' from 'C:\\\\Users\\\\alexg\\\\Anaconda3\\\\lib\\\\site-packages\\\\slimit\\\\yacctab.py'>. Won't overwrite existing tabmodule\n"
     ]
    },
    {
     "name": "stdout",
     "output_type": "stream",
     "text": [
      "Sun-Collared Raptor\n"
     ]
    },
    {
     "name": "stderr",
     "output_type": "stream",
     "text": [
      "WARNING: Couldn't write lextab module <module 'slimit.lextab' from 'C:\\\\Users\\\\alexg\\\\Anaconda3\\\\lib\\\\site-packages\\\\slimit\\\\lextab.py'>. Won't overwrite existing lextab module\n",
      "WARNING: yacc table file version is out of date\n",
      "WARNING: Token 'BLOCK_COMMENT' defined, but not used\n",
      "WARNING: Token 'CLASS' defined, but not used\n",
      "WARNING: Token 'CONST' defined, but not used\n",
      "WARNING: Token 'ENUM' defined, but not used\n",
      "WARNING: Token 'EXPORT' defined, but not used\n",
      "WARNING: Token 'EXTENDS' defined, but not used\n",
      "WARNING: Token 'IMPORT' defined, but not used\n",
      "WARNING: Token 'LINE_COMMENT' defined, but not used\n",
      "WARNING: Token 'LINE_TERMINATOR' defined, but not used\n",
      "WARNING: Token 'SUPER' defined, but not used\n",
      "WARNING: There are 10 unused tokens\n",
      "WARNING: Couldn't create <module 'slimit.yacctab' from 'C:\\\\Users\\\\alexg\\\\Anaconda3\\\\lib\\\\site-packages\\\\slimit\\\\yacctab.py'>. Won't overwrite existing tabmodule\n"
     ]
    },
    {
     "name": "stdout",
     "output_type": "stream",
     "text": [
      "Storm Fleet Swashbuckler\n"
     ]
    },
    {
     "name": "stderr",
     "output_type": "stream",
     "text": [
      "WARNING: Couldn't write lextab module <module 'slimit.lextab' from 'C:\\\\Users\\\\alexg\\\\Anaconda3\\\\lib\\\\site-packages\\\\slimit\\\\lextab.py'>. Won't overwrite existing lextab module\n",
      "WARNING: yacc table file version is out of date\n",
      "WARNING: Token 'BLOCK_COMMENT' defined, but not used\n",
      "WARNING: Token 'CLASS' defined, but not used\n",
      "WARNING: Token 'CONST' defined, but not used\n",
      "WARNING: Token 'ENUM' defined, but not used\n",
      "WARNING: Token 'EXPORT' defined, but not used\n",
      "WARNING: Token 'EXTENDS' defined, but not used\n",
      "WARNING: Token 'IMPORT' defined, but not used\n",
      "WARNING: Token 'LINE_COMMENT' defined, but not used\n",
      "WARNING: Token 'LINE_TERMINATOR' defined, but not used\n",
      "WARNING: Token 'SUPER' defined, but not used\n",
      "WARNING: There are 10 unused tokens\n",
      "WARNING: Couldn't create <module 'slimit.yacctab' from 'C:\\\\Users\\\\alexg\\\\Anaconda3\\\\lib\\\\site-packages\\\\slimit\\\\yacctab.py'>. Won't overwrite existing tabmodule\n"
     ]
    },
    {
     "name": "stdout",
     "output_type": "stream",
     "text": [
      "Stampeding Horncrest\n"
     ]
    },
    {
     "name": "stderr",
     "output_type": "stream",
     "text": [
      "WARNING: Couldn't write lextab module <module 'slimit.lextab' from 'C:\\\\Users\\\\alexg\\\\Anaconda3\\\\lib\\\\site-packages\\\\slimit\\\\lextab.py'>. Won't overwrite existing lextab module\n",
      "WARNING: yacc table file version is out of date\n",
      "WARNING: Token 'BLOCK_COMMENT' defined, but not used\n",
      "WARNING: Token 'CLASS' defined, but not used\n",
      "WARNING: Token 'CONST' defined, but not used\n",
      "WARNING: Token 'ENUM' defined, but not used\n",
      "WARNING: Token 'EXPORT' defined, but not used\n",
      "WARNING: Token 'EXTENDS' defined, but not used\n",
      "WARNING: Token 'IMPORT' defined, but not used\n",
      "WARNING: Token 'LINE_COMMENT' defined, but not used\n",
      "WARNING: Token 'LINE_TERMINATOR' defined, but not used\n",
      "WARNING: Token 'SUPER' defined, but not used\n",
      "WARNING: There are 10 unused tokens\n",
      "WARNING: Couldn't create <module 'slimit.yacctab' from 'C:\\\\Users\\\\alexg\\\\Anaconda3\\\\lib\\\\site-packages\\\\slimit\\\\yacctab.py'>. Won't overwrite existing tabmodule\n"
     ]
    },
    {
     "name": "stdout",
     "output_type": "stream",
     "text": [
      "Silverclad Ferocidons\n"
     ]
    },
    {
     "name": "stderr",
     "output_type": "stream",
     "text": [
      "WARNING: Couldn't write lextab module <module 'slimit.lextab' from 'C:\\\\Users\\\\alexg\\\\Anaconda3\\\\lib\\\\site-packages\\\\slimit\\\\lextab.py'>. Won't overwrite existing lextab module\n",
      "WARNING: yacc table file version is out of date\n",
      "WARNING: Token 'BLOCK_COMMENT' defined, but not used\n",
      "WARNING: Token 'CLASS' defined, but not used\n",
      "WARNING: Token 'CONST' defined, but not used\n",
      "WARNING: Token 'ENUM' defined, but not used\n",
      "WARNING: Token 'EXPORT' defined, but not used\n",
      "WARNING: Token 'EXTENDS' defined, but not used\n",
      "WARNING: Token 'IMPORT' defined, but not used\n",
      "WARNING: Token 'LINE_COMMENT' defined, but not used\n",
      "WARNING: Token 'LINE_TERMINATOR' defined, but not used\n",
      "WARNING: Token 'SUPER' defined, but not used\n",
      "WARNING: There are 10 unused tokens\n",
      "WARNING: Couldn't create <module 'slimit.yacctab' from 'C:\\\\Users\\\\alexg\\\\Anaconda3\\\\lib\\\\site-packages\\\\slimit\\\\yacctab.py'>. Won't overwrite existing tabmodule\n"
     ]
    },
    {
     "name": "stdout",
     "output_type": "stream",
     "text": [
      "Shatter\n"
     ]
    },
    {
     "name": "stderr",
     "output_type": "stream",
     "text": [
      "WARNING: Couldn't write lextab module <module 'slimit.lextab' from 'C:\\\\Users\\\\alexg\\\\Anaconda3\\\\lib\\\\site-packages\\\\slimit\\\\lextab.py'>. Won't overwrite existing lextab module\n",
      "WARNING: yacc table file version is out of date\n",
      "WARNING: Token 'BLOCK_COMMENT' defined, but not used\n",
      "WARNING: Token 'CLASS' defined, but not used\n",
      "WARNING: Token 'CONST' defined, but not used\n",
      "WARNING: Token 'ENUM' defined, but not used\n",
      "WARNING: Token 'EXPORT' defined, but not used\n",
      "WARNING: Token 'EXTENDS' defined, but not used\n",
      "WARNING: Token 'IMPORT' defined, but not used\n",
      "WARNING: Token 'LINE_COMMENT' defined, but not used\n",
      "WARNING: Token 'LINE_TERMINATOR' defined, but not used\n",
      "WARNING: Token 'SUPER' defined, but not used\n",
      "WARNING: There are 10 unused tokens\n",
      "WARNING: Couldn't create <module 'slimit.yacctab' from 'C:\\\\Users\\\\alexg\\\\Anaconda3\\\\lib\\\\site-packages\\\\slimit\\\\yacctab.py'>. Won't overwrite existing tabmodule\n"
     ]
    },
    {
     "name": "stdout",
     "output_type": "stream",
     "text": [
      "Shake the Foundations\n"
     ]
    },
    {
     "name": "stderr",
     "output_type": "stream",
     "text": [
      "WARNING: Couldn't write lextab module <module 'slimit.lextab' from 'C:\\\\Users\\\\alexg\\\\Anaconda3\\\\lib\\\\site-packages\\\\slimit\\\\lextab.py'>. Won't overwrite existing lextab module\n",
      "WARNING: yacc table file version is out of date\n",
      "WARNING: Token 'BLOCK_COMMENT' defined, but not used\n",
      "WARNING: Token 'CLASS' defined, but not used\n",
      "WARNING: Token 'CONST' defined, but not used\n",
      "WARNING: Token 'ENUM' defined, but not used\n",
      "WARNING: Token 'EXPORT' defined, but not used\n",
      "WARNING: Token 'EXTENDS' defined, but not used\n",
      "WARNING: Token 'IMPORT' defined, but not used\n",
      "WARNING: Token 'LINE_COMMENT' defined, but not used\n",
      "WARNING: Token 'LINE_TERMINATOR' defined, but not used\n",
      "WARNING: Token 'SUPER' defined, but not used\n",
      "WARNING: There are 10 unused tokens\n",
      "WARNING: Couldn't create <module 'slimit.yacctab' from 'C:\\\\Users\\\\alexg\\\\Anaconda3\\\\lib\\\\site-packages\\\\slimit\\\\yacctab.py'>. Won't overwrite existing tabmodule\n"
     ]
    },
    {
     "name": "stdout",
     "output_type": "stream",
     "text": [
      "See Red\n"
     ]
    },
    {
     "name": "stderr",
     "output_type": "stream",
     "text": [
      "WARNING: Couldn't write lextab module <module 'slimit.lextab' from 'C:\\\\Users\\\\alexg\\\\Anaconda3\\\\lib\\\\site-packages\\\\slimit\\\\lextab.py'>. Won't overwrite existing lextab module\n",
      "WARNING: yacc table file version is out of date\n",
      "WARNING: Token 'BLOCK_COMMENT' defined, but not used\n",
      "WARNING: Token 'CLASS' defined, but not used\n",
      "WARNING: Token 'CONST' defined, but not used\n",
      "WARNING: Token 'ENUM' defined, but not used\n",
      "WARNING: Token 'EXPORT' defined, but not used\n",
      "WARNING: Token 'EXTENDS' defined, but not used\n",
      "WARNING: Token 'IMPORT' defined, but not used\n",
      "WARNING: Token 'LINE_COMMENT' defined, but not used\n",
      "WARNING: Token 'LINE_TERMINATOR' defined, but not used\n",
      "WARNING: Token 'SUPER' defined, but not used\n",
      "WARNING: There are 10 unused tokens\n",
      "WARNING: Couldn't create <module 'slimit.yacctab' from 'C:\\\\Users\\\\alexg\\\\Anaconda3\\\\lib\\\\site-packages\\\\slimit\\\\yacctab.py'>. Won't overwrite existing tabmodule\n"
     ]
    },
    {
     "name": "stdout",
     "output_type": "stream",
     "text": [
      "Rekindling Phoenix\n"
     ]
    },
    {
     "name": "stderr",
     "output_type": "stream",
     "text": [
      "WARNING: Couldn't write lextab module <module 'slimit.lextab' from 'C:\\\\Users\\\\alexg\\\\Anaconda3\\\\lib\\\\site-packages\\\\slimit\\\\lextab.py'>. Won't overwrite existing lextab module\n",
      "WARNING: yacc table file version is out of date\n",
      "WARNING: Token 'BLOCK_COMMENT' defined, but not used\n",
      "WARNING: Token 'CLASS' defined, but not used\n",
      "WARNING: Token 'CONST' defined, but not used\n",
      "WARNING: Token 'ENUM' defined, but not used\n",
      "WARNING: Token 'EXPORT' defined, but not used\n",
      "WARNING: Token 'EXTENDS' defined, but not used\n",
      "WARNING: Token 'IMPORT' defined, but not used\n",
      "WARNING: Token 'LINE_COMMENT' defined, but not used\n",
      "WARNING: Token 'LINE_TERMINATOR' defined, but not used\n",
      "WARNING: Token 'SUPER' defined, but not used\n",
      "WARNING: There are 10 unused tokens\n",
      "WARNING: Couldn't create <module 'slimit.yacctab' from 'C:\\\\Users\\\\alexg\\\\Anaconda3\\\\lib\\\\site-packages\\\\slimit\\\\yacctab.py'>. Won't overwrite existing tabmodule\n"
     ]
    },
    {
     "name": "stdout",
     "output_type": "stream",
     "text": [
      "Reckless Rage\n"
     ]
    },
    {
     "name": "stderr",
     "output_type": "stream",
     "text": [
      "WARNING: Couldn't write lextab module <module 'slimit.lextab' from 'C:\\\\Users\\\\alexg\\\\Anaconda3\\\\lib\\\\site-packages\\\\slimit\\\\lextab.py'>. Won't overwrite existing lextab module\n",
      "WARNING: yacc table file version is out of date\n",
      "WARNING: Token 'BLOCK_COMMENT' defined, but not used\n",
      "WARNING: Token 'CLASS' defined, but not used\n",
      "WARNING: Token 'CONST' defined, but not used\n",
      "WARNING: Token 'ENUM' defined, but not used\n",
      "WARNING: Token 'EXPORT' defined, but not used\n",
      "WARNING: Token 'EXTENDS' defined, but not used\n",
      "WARNING: Token 'IMPORT' defined, but not used\n",
      "WARNING: Token 'LINE_COMMENT' defined, but not used\n",
      "WARNING: Token 'LINE_TERMINATOR' defined, but not used\n",
      "WARNING: Token 'SUPER' defined, but not used\n",
      "WARNING: There are 10 unused tokens\n",
      "WARNING: Couldn't create <module 'slimit.yacctab' from 'C:\\\\Users\\\\alexg\\\\Anaconda3\\\\lib\\\\site-packages\\\\slimit\\\\yacctab.py'>. Won't overwrite existing tabmodule\n"
     ]
    },
    {
     "name": "stdout",
     "output_type": "stream",
     "text": [
      "Pirate's Pillage\n"
     ]
    },
    {
     "name": "stderr",
     "output_type": "stream",
     "text": [
      "WARNING: Couldn't write lextab module <module 'slimit.lextab' from 'C:\\\\Users\\\\alexg\\\\Anaconda3\\\\lib\\\\site-packages\\\\slimit\\\\lextab.py'>. Won't overwrite existing lextab module\n",
      "WARNING: yacc table file version is out of date\n",
      "WARNING: Token 'BLOCK_COMMENT' defined, but not used\n",
      "WARNING: Token 'CLASS' defined, but not used\n",
      "WARNING: Token 'CONST' defined, but not used\n",
      "WARNING: Token 'ENUM' defined, but not used\n",
      "WARNING: Token 'EXPORT' defined, but not used\n",
      "WARNING: Token 'EXTENDS' defined, but not used\n",
      "WARNING: Token 'IMPORT' defined, but not used\n",
      "WARNING: Token 'LINE_COMMENT' defined, but not used\n",
      "WARNING: Token 'LINE_TERMINATOR' defined, but not used\n",
      "WARNING: Token 'SUPER' defined, but not used\n",
      "WARNING: There are 10 unused tokens\n",
      "WARNING: Couldn't create <module 'slimit.yacctab' from 'C:\\\\Users\\\\alexg\\\\Anaconda3\\\\lib\\\\site-packages\\\\slimit\\\\yacctab.py'>. Won't overwrite existing tabmodule\n"
     ]
    },
    {
     "name": "stdout",
     "output_type": "stream",
     "text": [
      "Orazca Raptor\n"
     ]
    },
    {
     "name": "stderr",
     "output_type": "stream",
     "text": [
      "WARNING: Couldn't write lextab module <module 'slimit.lextab' from 'C:\\\\Users\\\\alexg\\\\Anaconda3\\\\lib\\\\site-packages\\\\slimit\\\\lextab.py'>. Won't overwrite existing lextab module\n",
      "WARNING: yacc table file version is out of date\n",
      "WARNING: Token 'BLOCK_COMMENT' defined, but not used\n",
      "WARNING: Token 'CLASS' defined, but not used\n",
      "WARNING: Token 'CONST' defined, but not used\n",
      "WARNING: Token 'ENUM' defined, but not used\n",
      "WARNING: Token 'EXPORT' defined, but not used\n",
      "WARNING: Token 'EXTENDS' defined, but not used\n",
      "WARNING: Token 'IMPORT' defined, but not used\n",
      "WARNING: Token 'LINE_COMMENT' defined, but not used\n",
      "WARNING: Token 'LINE_TERMINATOR' defined, but not used\n",
      "WARNING: Token 'SUPER' defined, but not used\n",
      "WARNING: There are 10 unused tokens\n",
      "WARNING: Couldn't create <module 'slimit.yacctab' from 'C:\\\\Users\\\\alexg\\\\Anaconda3\\\\lib\\\\site-packages\\\\slimit\\\\yacctab.py'>. Won't overwrite existing tabmodule\n"
     ]
    },
    {
     "name": "stdout",
     "output_type": "stream",
     "text": [
      "Needletooth Raptor\n"
     ]
    },
    {
     "name": "stderr",
     "output_type": "stream",
     "text": [
      "WARNING: Couldn't write lextab module <module 'slimit.lextab' from 'C:\\\\Users\\\\alexg\\\\Anaconda3\\\\lib\\\\site-packages\\\\slimit\\\\lextab.py'>. Won't overwrite existing lextab module\n",
      "WARNING: yacc table file version is out of date\n",
      "WARNING: Token 'BLOCK_COMMENT' defined, but not used\n",
      "WARNING: Token 'CLASS' defined, but not used\n",
      "WARNING: Token 'CONST' defined, but not used\n",
      "WARNING: Token 'ENUM' defined, but not used\n",
      "WARNING: Token 'EXPORT' defined, but not used\n",
      "WARNING: Token 'EXTENDS' defined, but not used\n",
      "WARNING: Token 'IMPORT' defined, but not used\n",
      "WARNING: Token 'LINE_COMMENT' defined, but not used\n",
      "WARNING: Token 'LINE_TERMINATOR' defined, but not used\n",
      "WARNING: Token 'SUPER' defined, but not used\n",
      "WARNING: There are 10 unused tokens\n",
      "WARNING: Couldn't create <module 'slimit.yacctab' from 'C:\\\\Users\\\\alexg\\\\Anaconda3\\\\lib\\\\site-packages\\\\slimit\\\\yacctab.py'>. Won't overwrite existing tabmodule\n"
     ]
    },
    {
     "name": "stdout",
     "output_type": "stream",
     "text": [
      "Mutiny\n"
     ]
    },
    {
     "name": "stderr",
     "output_type": "stream",
     "text": [
      "WARNING: Couldn't write lextab module <module 'slimit.lextab' from 'C:\\\\Users\\\\alexg\\\\Anaconda3\\\\lib\\\\site-packages\\\\slimit\\\\lextab.py'>. Won't overwrite existing lextab module\n",
      "WARNING: yacc table file version is out of date\n",
      "WARNING: Token 'BLOCK_COMMENT' defined, but not used\n",
      "WARNING: Token 'CLASS' defined, but not used\n",
      "WARNING: Token 'CONST' defined, but not used\n",
      "WARNING: Token 'ENUM' defined, but not used\n",
      "WARNING: Token 'EXPORT' defined, but not used\n",
      "WARNING: Token 'EXTENDS' defined, but not used\n",
      "WARNING: Token 'IMPORT' defined, but not used\n",
      "WARNING: Token 'LINE_COMMENT' defined, but not used\n",
      "WARNING: Token 'LINE_TERMINATOR' defined, but not used\n",
      "WARNING: Token 'SUPER' defined, but not used\n",
      "WARNING: There are 10 unused tokens\n",
      "WARNING: Couldn't create <module 'slimit.yacctab' from 'C:\\\\Users\\\\alexg\\\\Anaconda3\\\\lib\\\\site-packages\\\\slimit\\\\yacctab.py'>. Won't overwrite existing tabmodule\n"
     ]
    },
    {
     "name": "stdout",
     "output_type": "stream",
     "text": [
      "Goblin Trailblazer\n"
     ]
    },
    {
     "name": "stderr",
     "output_type": "stream",
     "text": [
      "WARNING: Couldn't write lextab module <module 'slimit.lextab' from 'C:\\\\Users\\\\alexg\\\\Anaconda3\\\\lib\\\\site-packages\\\\slimit\\\\lextab.py'>. Won't overwrite existing lextab module\n",
      "WARNING: yacc table file version is out of date\n",
      "WARNING: Token 'BLOCK_COMMENT' defined, but not used\n",
      "WARNING: Token 'CLASS' defined, but not used\n",
      "WARNING: Token 'CONST' defined, but not used\n",
      "WARNING: Token 'ENUM' defined, but not used\n",
      "WARNING: Token 'EXPORT' defined, but not used\n",
      "WARNING: Token 'EXTENDS' defined, but not used\n",
      "WARNING: Token 'IMPORT' defined, but not used\n",
      "WARNING: Token 'LINE_COMMENT' defined, but not used\n",
      "WARNING: Token 'LINE_TERMINATOR' defined, but not used\n",
      "WARNING: Token 'SUPER' defined, but not used\n",
      "WARNING: There are 10 unused tokens\n",
      "WARNING: Couldn't create <module 'slimit.yacctab' from 'C:\\\\Users\\\\alexg\\\\Anaconda3\\\\lib\\\\site-packages\\\\slimit\\\\yacctab.py'>. Won't overwrite existing tabmodule\n"
     ]
    },
    {
     "name": "stdout",
     "output_type": "stream",
     "text": [
      "Frilled Deathspitter\n"
     ]
    },
    {
     "name": "stderr",
     "output_type": "stream",
     "text": [
      "WARNING: Couldn't write lextab module <module 'slimit.lextab' from 'C:\\\\Users\\\\alexg\\\\Anaconda3\\\\lib\\\\site-packages\\\\slimit\\\\lextab.py'>. Won't overwrite existing lextab module\n",
      "WARNING: yacc table file version is out of date\n",
      "WARNING: Token 'BLOCK_COMMENT' defined, but not used\n",
      "WARNING: Token 'CLASS' defined, but not used\n",
      "WARNING: Token 'CONST' defined, but not used\n",
      "WARNING: Token 'ENUM' defined, but not used\n",
      "WARNING: Token 'EXPORT' defined, but not used\n",
      "WARNING: Token 'EXTENDS' defined, but not used\n",
      "WARNING: Token 'IMPORT' defined, but not used\n",
      "WARNING: Token 'LINE_COMMENT' defined, but not used\n",
      "WARNING: Token 'LINE_TERMINATOR' defined, but not used\n",
      "WARNING: Token 'SUPER' defined, but not used\n",
      "WARNING: There are 10 unused tokens\n",
      "WARNING: Couldn't create <module 'slimit.yacctab' from 'C:\\\\Users\\\\alexg\\\\Anaconda3\\\\lib\\\\site-packages\\\\slimit\\\\yacctab.py'>. Won't overwrite existing tabmodule\n"
     ]
    },
    {
     "name": "stdout",
     "output_type": "stream",
     "text": [
      "Form of the Dinosaur\n"
     ]
    },
    {
     "name": "stderr",
     "output_type": "stream",
     "text": [
      "WARNING: Couldn't write lextab module <module 'slimit.lextab' from 'C:\\\\Users\\\\alexg\\\\Anaconda3\\\\lib\\\\site-packages\\\\slimit\\\\lextab.py'>. Won't overwrite existing lextab module\n",
      "WARNING: yacc table file version is out of date\n",
      "WARNING: Token 'BLOCK_COMMENT' defined, but not used\n",
      "WARNING: Token 'CLASS' defined, but not used\n",
      "WARNING: Token 'CONST' defined, but not used\n",
      "WARNING: Token 'ENUM' defined, but not used\n",
      "WARNING: Token 'EXPORT' defined, but not used\n",
      "WARNING: Token 'EXTENDS' defined, but not used\n",
      "WARNING: Token 'IMPORT' defined, but not used\n",
      "WARNING: Token 'LINE_COMMENT' defined, but not used\n",
      "WARNING: Token 'LINE_TERMINATOR' defined, but not used\n",
      "WARNING: Token 'SUPER' defined, but not used\n",
      "WARNING: There are 10 unused tokens\n",
      "WARNING: Couldn't create <module 'slimit.yacctab' from 'C:\\\\Users\\\\alexg\\\\Anaconda3\\\\lib\\\\site-packages\\\\slimit\\\\yacctab.py'>. Won't overwrite existing tabmodule\n"
     ]
    },
    {
     "name": "stdout",
     "output_type": "stream",
     "text": [
      "Forerunner of the Empire\n"
     ]
    },
    {
     "name": "stderr",
     "output_type": "stream",
     "text": [
      "WARNING: Couldn't write lextab module <module 'slimit.lextab' from 'C:\\\\Users\\\\alexg\\\\Anaconda3\\\\lib\\\\site-packages\\\\slimit\\\\lextab.py'>. Won't overwrite existing lextab module\n",
      "WARNING: yacc table file version is out of date\n",
      "WARNING: Token 'BLOCK_COMMENT' defined, but not used\n",
      "WARNING: Token 'CLASS' defined, but not used\n",
      "WARNING: Token 'CONST' defined, but not used\n",
      "WARNING: Token 'ENUM' defined, but not used\n",
      "WARNING: Token 'EXPORT' defined, but not used\n",
      "WARNING: Token 'EXTENDS' defined, but not used\n",
      "WARNING: Token 'IMPORT' defined, but not used\n",
      "WARNING: Token 'LINE_COMMENT' defined, but not used\n",
      "WARNING: Token 'LINE_TERMINATOR' defined, but not used\n",
      "WARNING: Token 'SUPER' defined, but not used\n",
      "WARNING: There are 10 unused tokens\n",
      "WARNING: Couldn't create <module 'slimit.yacctab' from 'C:\\\\Users\\\\alexg\\\\Anaconda3\\\\lib\\\\site-packages\\\\slimit\\\\yacctab.py'>. Won't overwrite existing tabmodule\n"
     ]
    },
    {
     "name": "stdout",
     "output_type": "stream",
     "text": [
      "Fanatical Firebrand\n"
     ]
    },
    {
     "name": "stderr",
     "output_type": "stream",
     "text": [
      "WARNING: Couldn't write lextab module <module 'slimit.lextab' from 'C:\\\\Users\\\\alexg\\\\Anaconda3\\\\lib\\\\site-packages\\\\slimit\\\\lextab.py'>. Won't overwrite existing lextab module\n",
      "WARNING: yacc table file version is out of date\n",
      "WARNING: Token 'BLOCK_COMMENT' defined, but not used\n",
      "WARNING: Token 'CLASS' defined, but not used\n",
      "WARNING: Token 'CONST' defined, but not used\n",
      "WARNING: Token 'ENUM' defined, but not used\n",
      "WARNING: Token 'EXPORT' defined, but not used\n",
      "WARNING: Token 'EXTENDS' defined, but not used\n",
      "WARNING: Token 'IMPORT' defined, but not used\n",
      "WARNING: Token 'LINE_COMMENT' defined, but not used\n",
      "WARNING: Token 'LINE_TERMINATOR' defined, but not used\n",
      "WARNING: Token 'SUPER' defined, but not used\n",
      "WARNING: There are 10 unused tokens\n",
      "WARNING: Couldn't create <module 'slimit.yacctab' from 'C:\\\\Users\\\\alexg\\\\Anaconda3\\\\lib\\\\site-packages\\\\slimit\\\\yacctab.py'>. Won't overwrite existing tabmodule\n"
     ]
    },
    {
     "name": "stdout",
     "output_type": "stream",
     "text": [
      "Etali, Primal Storm\n"
     ]
    },
    {
     "name": "stderr",
     "output_type": "stream",
     "text": [
      "WARNING: Couldn't write lextab module <module 'slimit.lextab' from 'C:\\\\Users\\\\alexg\\\\Anaconda3\\\\lib\\\\site-packages\\\\slimit\\\\lextab.py'>. Won't overwrite existing lextab module\n",
      "WARNING: yacc table file version is out of date\n",
      "WARNING: Token 'BLOCK_COMMENT' defined, but not used\n",
      "WARNING: Token 'CLASS' defined, but not used\n",
      "WARNING: Token 'CONST' defined, but not used\n",
      "WARNING: Token 'ENUM' defined, but not used\n",
      "WARNING: Token 'EXPORT' defined, but not used\n",
      "WARNING: Token 'EXTENDS' defined, but not used\n",
      "WARNING: Token 'IMPORT' defined, but not used\n",
      "WARNING: Token 'LINE_COMMENT' defined, but not used\n",
      "WARNING: Token 'LINE_TERMINATOR' defined, but not used\n",
      "WARNING: Token 'SUPER' defined, but not used\n",
      "WARNING: There are 10 unused tokens\n",
      "WARNING: Couldn't create <module 'slimit.yacctab' from 'C:\\\\Users\\\\alexg\\\\Anaconda3\\\\lib\\\\site-packages\\\\slimit\\\\yacctab.py'>. Won't overwrite existing tabmodule\n"
     ]
    },
    {
     "name": "stdout",
     "output_type": "stream",
     "text": [
      "Dire Fleet Daredevil\n"
     ]
    },
    {
     "name": "stderr",
     "output_type": "stream",
     "text": [
      "WARNING: Couldn't write lextab module <module 'slimit.lextab' from 'C:\\\\Users\\\\alexg\\\\Anaconda3\\\\lib\\\\site-packages\\\\slimit\\\\lextab.py'>. Won't overwrite existing lextab module\n",
      "WARNING: yacc table file version is out of date\n",
      "WARNING: Token 'BLOCK_COMMENT' defined, but not used\n",
      "WARNING: Token 'CLASS' defined, but not used\n",
      "WARNING: Token 'CONST' defined, but not used\n",
      "WARNING: Token 'ENUM' defined, but not used\n",
      "WARNING: Token 'EXPORT' defined, but not used\n",
      "WARNING: Token 'EXTENDS' defined, but not used\n",
      "WARNING: Token 'IMPORT' defined, but not used\n",
      "WARNING: Token 'LINE_COMMENT' defined, but not used\n",
      "WARNING: Token 'LINE_TERMINATOR' defined, but not used\n",
      "WARNING: Token 'SUPER' defined, but not used\n",
      "WARNING: There are 10 unused tokens\n",
      "WARNING: Couldn't create <module 'slimit.yacctab' from 'C:\\\\Users\\\\alexg\\\\Anaconda3\\\\lib\\\\site-packages\\\\slimit\\\\yacctab.py'>. Won't overwrite existing tabmodule\n"
     ]
    },
    {
     "name": "stdout",
     "output_type": "stream",
     "text": [
      "Daring Buccaneer\n"
     ]
    },
    {
     "name": "stderr",
     "output_type": "stream",
     "text": [
      "WARNING: Couldn't write lextab module <module 'slimit.lextab' from 'C:\\\\Users\\\\alexg\\\\Anaconda3\\\\lib\\\\site-packages\\\\slimit\\\\lextab.py'>. Won't overwrite existing lextab module\n",
      "WARNING: yacc table file version is out of date\n",
      "WARNING: Token 'BLOCK_COMMENT' defined, but not used\n",
      "WARNING: Token 'CLASS' defined, but not used\n",
      "WARNING: Token 'CONST' defined, but not used\n",
      "WARNING: Token 'ENUM' defined, but not used\n",
      "WARNING: Token 'EXPORT' defined, but not used\n",
      "WARNING: Token 'EXTENDS' defined, but not used\n",
      "WARNING: Token 'IMPORT' defined, but not used\n",
      "WARNING: Token 'LINE_COMMENT' defined, but not used\n",
      "WARNING: Token 'LINE_TERMINATOR' defined, but not used\n",
      "WARNING: Token 'SUPER' defined, but not used\n",
      "WARNING: There are 10 unused tokens\n",
      "WARNING: Couldn't create <module 'slimit.yacctab' from 'C:\\\\Users\\\\alexg\\\\Anaconda3\\\\lib\\\\site-packages\\\\slimit\\\\yacctab.py'>. Won't overwrite existing tabmodule\n"
     ]
    },
    {
     "name": "stdout",
     "output_type": "stream",
     "text": [
      "Charging Tuskodon\n"
     ]
    },
    {
     "name": "stderr",
     "output_type": "stream",
     "text": [
      "WARNING: Couldn't write lextab module <module 'slimit.lextab' from 'C:\\\\Users\\\\alexg\\\\Anaconda3\\\\lib\\\\site-packages\\\\slimit\\\\lextab.py'>. Won't overwrite existing lextab module\n",
      "WARNING: yacc table file version is out of date\n",
      "WARNING: Token 'BLOCK_COMMENT' defined, but not used\n",
      "WARNING: Token 'CLASS' defined, but not used\n",
      "WARNING: Token 'CONST' defined, but not used\n",
      "WARNING: Token 'ENUM' defined, but not used\n",
      "WARNING: Token 'EXPORT' defined, but not used\n",
      "WARNING: Token 'EXTENDS' defined, but not used\n",
      "WARNING: Token 'IMPORT' defined, but not used\n",
      "WARNING: Token 'LINE_COMMENT' defined, but not used\n",
      "WARNING: Token 'LINE_TERMINATOR' defined, but not used\n",
      "WARNING: Token 'SUPER' defined, but not used\n",
      "WARNING: There are 10 unused tokens\n",
      "WARNING: Couldn't create <module 'slimit.yacctab' from 'C:\\\\Users\\\\alexg\\\\Anaconda3\\\\lib\\\\site-packages\\\\slimit\\\\yacctab.py'>. Won't overwrite existing tabmodule\n"
     ]
    },
    {
     "name": "stdout",
     "output_type": "stream",
     "text": [
      "Buccaneer's Bravado\n"
     ]
    },
    {
     "name": "stderr",
     "output_type": "stream",
     "text": [
      "WARNING: Couldn't write lextab module <module 'slimit.lextab' from 'C:\\\\Users\\\\alexg\\\\Anaconda3\\\\lib\\\\site-packages\\\\slimit\\\\lextab.py'>. Won't overwrite existing lextab module\n",
      "WARNING: yacc table file version is out of date\n",
      "WARNING: Token 'BLOCK_COMMENT' defined, but not used\n",
      "WARNING: Token 'CLASS' defined, but not used\n",
      "WARNING: Token 'CONST' defined, but not used\n",
      "WARNING: Token 'ENUM' defined, but not used\n",
      "WARNING: Token 'EXPORT' defined, but not used\n",
      "WARNING: Token 'EXTENDS' defined, but not used\n",
      "WARNING: Token 'IMPORT' defined, but not used\n",
      "WARNING: Token 'LINE_COMMENT' defined, but not used\n",
      "WARNING: Token 'LINE_TERMINATOR' defined, but not used\n",
      "WARNING: Token 'SUPER' defined, but not used\n",
      "WARNING: There are 10 unused tokens\n",
      "WARNING: Couldn't create <module 'slimit.yacctab' from 'C:\\\\Users\\\\alexg\\\\Anaconda3\\\\lib\\\\site-packages\\\\slimit\\\\yacctab.py'>. Won't overwrite existing tabmodule\n"
     ]
    },
    {
     "name": "stdout",
     "output_type": "stream",
     "text": [
      "Brazen Freebooter\n"
     ]
    },
    {
     "name": "stderr",
     "output_type": "stream",
     "text": [
      "WARNING: Couldn't write lextab module <module 'slimit.lextab' from 'C:\\\\Users\\\\alexg\\\\Anaconda3\\\\lib\\\\site-packages\\\\slimit\\\\lextab.py'>. Won't overwrite existing lextab module\n",
      "WARNING: yacc table file version is out of date\n",
      "WARNING: Token 'BLOCK_COMMENT' defined, but not used\n",
      "WARNING: Token 'CLASS' defined, but not used\n",
      "WARNING: Token 'CONST' defined, but not used\n",
      "WARNING: Token 'ENUM' defined, but not used\n",
      "WARNING: Token 'EXPORT' defined, but not used\n",
      "WARNING: Token 'EXTENDS' defined, but not used\n",
      "WARNING: Token 'IMPORT' defined, but not used\n",
      "WARNING: Token 'LINE_COMMENT' defined, but not used\n",
      "WARNING: Token 'LINE_TERMINATOR' defined, but not used\n",
      "WARNING: Token 'SUPER' defined, but not used\n",
      "WARNING: There are 10 unused tokens\n",
      "WARNING: Couldn't create <module 'slimit.yacctab' from 'C:\\\\Users\\\\alexg\\\\Anaconda3\\\\lib\\\\site-packages\\\\slimit\\\\yacctab.py'>. Won't overwrite existing tabmodule\n"
     ]
    },
    {
     "name": "stdout",
     "output_type": "stream",
     "text": [
      "Brass's Bounty\n"
     ]
    },
    {
     "name": "stderr",
     "output_type": "stream",
     "text": [
      "WARNING: Couldn't write lextab module <module 'slimit.lextab' from 'C:\\\\Users\\\\alexg\\\\Anaconda3\\\\lib\\\\site-packages\\\\slimit\\\\lextab.py'>. Won't overwrite existing lextab module\n",
      "WARNING: yacc table file version is out of date\n",
      "WARNING: Token 'BLOCK_COMMENT' defined, but not used\n",
      "WARNING: Token 'CLASS' defined, but not used\n",
      "WARNING: Token 'CONST' defined, but not used\n",
      "WARNING: Token 'ENUM' defined, but not used\n",
      "WARNING: Token 'EXPORT' defined, but not used\n",
      "WARNING: Token 'EXTENDS' defined, but not used\n",
      "WARNING: Token 'IMPORT' defined, but not used\n",
      "WARNING: Token 'LINE_COMMENT' defined, but not used\n",
      "WARNING: Token 'LINE_TERMINATOR' defined, but not used\n",
      "WARNING: Token 'SUPER' defined, but not used\n",
      "WARNING: There are 10 unused tokens\n",
      "WARNING: Couldn't create <module 'slimit.yacctab' from 'C:\\\\Users\\\\alexg\\\\Anaconda3\\\\lib\\\\site-packages\\\\slimit\\\\yacctab.py'>. Won't overwrite existing tabmodule\n"
     ]
    },
    {
     "name": "stdout",
     "output_type": "stream",
     "text": [
      "Bombard\n"
     ]
    },
    {
     "name": "stderr",
     "output_type": "stream",
     "text": [
      "WARNING: Couldn't write lextab module <module 'slimit.lextab' from 'C:\\\\Users\\\\alexg\\\\Anaconda3\\\\lib\\\\site-packages\\\\slimit\\\\lextab.py'>. Won't overwrite existing lextab module\n",
      "WARNING: yacc table file version is out of date\n",
      "WARNING: Token 'BLOCK_COMMENT' defined, but not used\n",
      "WARNING: Token 'CLASS' defined, but not used\n",
      "WARNING: Token 'CONST' defined, but not used\n",
      "WARNING: Token 'ENUM' defined, but not used\n",
      "WARNING: Token 'EXPORT' defined, but not used\n",
      "WARNING: Token 'EXTENDS' defined, but not used\n",
      "WARNING: Token 'IMPORT' defined, but not used\n",
      "WARNING: Token 'LINE_COMMENT' defined, but not used\n",
      "WARNING: Token 'LINE_TERMINATOR' defined, but not used\n",
      "WARNING: Token 'SUPER' defined, but not used\n",
      "WARNING: There are 10 unused tokens\n",
      "WARNING: Couldn't create <module 'slimit.yacctab' from 'C:\\\\Users\\\\alexg\\\\Anaconda3\\\\lib\\\\site-packages\\\\slimit\\\\yacctab.py'>. Won't overwrite existing tabmodule\n"
     ]
    },
    {
     "name": "stdout",
     "output_type": "stream",
     "text": [
      "Blood Sun\n"
     ]
    },
    {
     "name": "stderr",
     "output_type": "stream",
     "text": [
      "WARNING: Couldn't write lextab module <module 'slimit.lextab' from 'C:\\\\Users\\\\alexg\\\\Anaconda3\\\\lib\\\\site-packages\\\\slimit\\\\lextab.py'>. Won't overwrite existing lextab module\n",
      "WARNING: yacc table file version is out of date\n",
      "WARNING: Token 'BLOCK_COMMENT' defined, but not used\n",
      "WARNING: Token 'CLASS' defined, but not used\n",
      "WARNING: Token 'CONST' defined, but not used\n",
      "WARNING: Token 'ENUM' defined, but not used\n",
      "WARNING: Token 'EXPORT' defined, but not used\n",
      "WARNING: Token 'EXTENDS' defined, but not used\n",
      "WARNING: Token 'IMPORT' defined, but not used\n",
      "WARNING: Token 'LINE_COMMENT' defined, but not used\n",
      "WARNING: Token 'LINE_TERMINATOR' defined, but not used\n",
      "WARNING: Token 'SUPER' defined, but not used\n",
      "WARNING: There are 10 unused tokens\n",
      "WARNING: Couldn't create <module 'slimit.yacctab' from 'C:\\\\Users\\\\alexg\\\\Anaconda3\\\\lib\\\\site-packages\\\\slimit\\\\yacctab.py'>. Won't overwrite existing tabmodule\n"
     ]
    },
    {
     "name": "stdout",
     "output_type": "stream",
     "text": [
      "Voracious Vampire\n"
     ]
    },
    {
     "name": "stderr",
     "output_type": "stream",
     "text": [
      "WARNING: Couldn't write lextab module <module 'slimit.lextab' from 'C:\\\\Users\\\\alexg\\\\Anaconda3\\\\lib\\\\site-packages\\\\slimit\\\\lextab.py'>. Won't overwrite existing lextab module\n",
      "WARNING: yacc table file version is out of date\n",
      "WARNING: Token 'BLOCK_COMMENT' defined, but not used\n",
      "WARNING: Token 'CLASS' defined, but not used\n",
      "WARNING: Token 'CONST' defined, but not used\n",
      "WARNING: Token 'ENUM' defined, but not used\n",
      "WARNING: Token 'EXPORT' defined, but not used\n",
      "WARNING: Token 'EXTENDS' defined, but not used\n",
      "WARNING: Token 'IMPORT' defined, but not used\n",
      "WARNING: Token 'LINE_COMMENT' defined, but not used\n",
      "WARNING: Token 'LINE_TERMINATOR' defined, but not used\n",
      "WARNING: Token 'SUPER' defined, but not used\n",
      "WARNING: There are 10 unused tokens\n",
      "WARNING: Couldn't create <module 'slimit.yacctab' from 'C:\\\\Users\\\\alexg\\\\Anaconda3\\\\lib\\\\site-packages\\\\slimit\\\\yacctab.py'>. Won't overwrite existing tabmodule\n"
     ]
    },
    {
     "name": "stdout",
     "output_type": "stream",
     "text": [
      "Vona's Hunger\n"
     ]
    },
    {
     "name": "stderr",
     "output_type": "stream",
     "text": [
      "WARNING: Couldn't write lextab module <module 'slimit.lextab' from 'C:\\\\Users\\\\alexg\\\\Anaconda3\\\\lib\\\\site-packages\\\\slimit\\\\lextab.py'>. Won't overwrite existing lextab module\n",
      "WARNING: yacc table file version is out of date\n",
      "WARNING: Token 'BLOCK_COMMENT' defined, but not used\n",
      "WARNING: Token 'CLASS' defined, but not used\n",
      "WARNING: Token 'CONST' defined, but not used\n",
      "WARNING: Token 'ENUM' defined, but not used\n",
      "WARNING: Token 'EXPORT' defined, but not used\n",
      "WARNING: Token 'EXTENDS' defined, but not used\n",
      "WARNING: Token 'IMPORT' defined, but not used\n",
      "WARNING: Token 'LINE_COMMENT' defined, but not used\n",
      "WARNING: Token 'LINE_TERMINATOR' defined, but not used\n",
      "WARNING: Token 'SUPER' defined, but not used\n",
      "WARNING: There are 10 unused tokens\n",
      "WARNING: Couldn't create <module 'slimit.yacctab' from 'C:\\\\Users\\\\alexg\\\\Anaconda3\\\\lib\\\\site-packages\\\\slimit\\\\yacctab.py'>. Won't overwrite existing tabmodule\n"
     ]
    },
    {
     "name": "stdout",
     "output_type": "stream",
     "text": [
      "Vampire Revenant\n"
     ]
    },
    {
     "name": "stderr",
     "output_type": "stream",
     "text": [
      "WARNING: Couldn't write lextab module <module 'slimit.lextab' from 'C:\\\\Users\\\\alexg\\\\Anaconda3\\\\lib\\\\site-packages\\\\slimit\\\\lextab.py'>. Won't overwrite existing lextab module\n",
      "WARNING: yacc table file version is out of date\n",
      "WARNING: Token 'BLOCK_COMMENT' defined, but not used\n",
      "WARNING: Token 'CLASS' defined, but not used\n",
      "WARNING: Token 'CONST' defined, but not used\n",
      "WARNING: Token 'ENUM' defined, but not used\n",
      "WARNING: Token 'EXPORT' defined, but not used\n",
      "WARNING: Token 'EXTENDS' defined, but not used\n",
      "WARNING: Token 'IMPORT' defined, but not used\n",
      "WARNING: Token 'LINE_COMMENT' defined, but not used\n",
      "WARNING: Token 'LINE_TERMINATOR' defined, but not used\n",
      "WARNING: Token 'SUPER' defined, but not used\n",
      "WARNING: There are 10 unused tokens\n",
      "WARNING: Couldn't create <module 'slimit.yacctab' from 'C:\\\\Users\\\\alexg\\\\Anaconda3\\\\lib\\\\site-packages\\\\slimit\\\\yacctab.py'>. Won't overwrite existing tabmodule\n"
     ]
    },
    {
     "name": "stdout",
     "output_type": "stream",
     "text": [
      "Twilight Prophet\n"
     ]
    },
    {
     "name": "stderr",
     "output_type": "stream",
     "text": [
      "WARNING: Couldn't write lextab module <module 'slimit.lextab' from 'C:\\\\Users\\\\alexg\\\\Anaconda3\\\\lib\\\\site-packages\\\\slimit\\\\lextab.py'>. Won't overwrite existing lextab module\n",
      "WARNING: yacc table file version is out of date\n",
      "WARNING: Token 'BLOCK_COMMENT' defined, but not used\n",
      "WARNING: Token 'CLASS' defined, but not used\n",
      "WARNING: Token 'CONST' defined, but not used\n",
      "WARNING: Token 'ENUM' defined, but not used\n",
      "WARNING: Token 'EXPORT' defined, but not used\n",
      "WARNING: Token 'EXTENDS' defined, but not used\n",
      "WARNING: Token 'IMPORT' defined, but not used\n",
      "WARNING: Token 'LINE_COMMENT' defined, but not used\n",
      "WARNING: Token 'LINE_TERMINATOR' defined, but not used\n",
      "WARNING: Token 'SUPER' defined, but not used\n",
      "WARNING: There are 10 unused tokens\n",
      "WARNING: Couldn't create <module 'slimit.yacctab' from 'C:\\\\Users\\\\alexg\\\\Anaconda3\\\\lib\\\\site-packages\\\\slimit\\\\yacctab.py'>. Won't overwrite existing tabmodule\n"
     ]
    },
    {
     "name": "stdout",
     "output_type": "stream",
     "text": [
      "Tomb Robber\n"
     ]
    },
    {
     "name": "stderr",
     "output_type": "stream",
     "text": [
      "WARNING: Couldn't write lextab module <module 'slimit.lextab' from 'C:\\\\Users\\\\alexg\\\\Anaconda3\\\\lib\\\\site-packages\\\\slimit\\\\lextab.py'>. Won't overwrite existing lextab module\n",
      "WARNING: yacc table file version is out of date\n",
      "WARNING: Token 'BLOCK_COMMENT' defined, but not used\n",
      "WARNING: Token 'CLASS' defined, but not used\n",
      "WARNING: Token 'CONST' defined, but not used\n",
      "WARNING: Token 'ENUM' defined, but not used\n",
      "WARNING: Token 'EXPORT' defined, but not used\n",
      "WARNING: Token 'EXTENDS' defined, but not used\n",
      "WARNING: Token 'IMPORT' defined, but not used\n",
      "WARNING: Token 'LINE_COMMENT' defined, but not used\n",
      "WARNING: Token 'LINE_TERMINATOR' defined, but not used\n",
      "WARNING: Token 'SUPER' defined, but not used\n",
      "WARNING: There are 10 unused tokens\n",
      "WARNING: Couldn't create <module 'slimit.yacctab' from 'C:\\\\Users\\\\alexg\\\\Anaconda3\\\\lib\\\\site-packages\\\\slimit\\\\yacctab.py'>. Won't overwrite existing tabmodule\n"
     ]
    },
    {
     "name": "stdout",
     "output_type": "stream",
     "text": [
      "Tetzimoc, Primal Death\n"
     ]
    },
    {
     "name": "stderr",
     "output_type": "stream",
     "text": [
      "WARNING: Couldn't write lextab module <module 'slimit.lextab' from 'C:\\\\Users\\\\alexg\\\\Anaconda3\\\\lib\\\\site-packages\\\\slimit\\\\lextab.py'>. Won't overwrite existing lextab module\n",
      "WARNING: yacc table file version is out of date\n",
      "WARNING: Token 'BLOCK_COMMENT' defined, but not used\n",
      "WARNING: Token 'CLASS' defined, but not used\n",
      "WARNING: Token 'CONST' defined, but not used\n",
      "WARNING: Token 'ENUM' defined, but not used\n",
      "WARNING: Token 'EXPORT' defined, but not used\n",
      "WARNING: Token 'EXTENDS' defined, but not used\n",
      "WARNING: Token 'IMPORT' defined, but not used\n",
      "WARNING: Token 'LINE_COMMENT' defined, but not used\n",
      "WARNING: Token 'LINE_TERMINATOR' defined, but not used\n",
      "WARNING: Token 'SUPER' defined, but not used\n",
      "WARNING: There are 10 unused tokens\n",
      "WARNING: Couldn't create <module 'slimit.yacctab' from 'C:\\\\Users\\\\alexg\\\\Anaconda3\\\\lib\\\\site-packages\\\\slimit\\\\yacctab.py'>. Won't overwrite existing tabmodule\n"
     ]
    },
    {
     "name": "stdout",
     "output_type": "stream",
     "text": [
      "Sadistic Skymarcher\n"
     ]
    },
    {
     "name": "stderr",
     "output_type": "stream",
     "text": [
      "WARNING: Couldn't write lextab module <module 'slimit.lextab' from 'C:\\\\Users\\\\alexg\\\\Anaconda3\\\\lib\\\\site-packages\\\\slimit\\\\lextab.py'>. Won't overwrite existing lextab module\n",
      "WARNING: yacc table file version is out of date\n",
      "WARNING: Token 'BLOCK_COMMENT' defined, but not used\n",
      "WARNING: Token 'CLASS' defined, but not used\n",
      "WARNING: Token 'CONST' defined, but not used\n",
      "WARNING: Token 'ENUM' defined, but not used\n",
      "WARNING: Token 'EXPORT' defined, but not used\n",
      "WARNING: Token 'EXTENDS' defined, but not used\n",
      "WARNING: Token 'IMPORT' defined, but not used\n",
      "WARNING: Token 'LINE_COMMENT' defined, but not used\n",
      "WARNING: Token 'LINE_TERMINATOR' defined, but not used\n",
      "WARNING: Token 'SUPER' defined, but not used\n",
      "WARNING: There are 10 unused tokens\n",
      "WARNING: Couldn't create <module 'slimit.yacctab' from 'C:\\\\Users\\\\alexg\\\\Anaconda3\\\\lib\\\\site-packages\\\\slimit\\\\yacctab.py'>. Won't overwrite existing tabmodule\n"
     ]
    },
    {
     "name": "stdout",
     "output_type": "stream",
     "text": [
      "Recover\n"
     ]
    },
    {
     "name": "stderr",
     "output_type": "stream",
     "text": [
      "WARNING: Couldn't write lextab module <module 'slimit.lextab' from 'C:\\\\Users\\\\alexg\\\\Anaconda3\\\\lib\\\\site-packages\\\\slimit\\\\lextab.py'>. Won't overwrite existing lextab module\n",
      "WARNING: yacc table file version is out of date\n",
      "WARNING: Token 'BLOCK_COMMENT' defined, but not used\n",
      "WARNING: Token 'CLASS' defined, but not used\n",
      "WARNING: Token 'CONST' defined, but not used\n",
      "WARNING: Token 'ENUM' defined, but not used\n",
      "WARNING: Token 'EXPORT' defined, but not used\n",
      "WARNING: Token 'EXTENDS' defined, but not used\n",
      "WARNING: Token 'IMPORT' defined, but not used\n",
      "WARNING: Token 'LINE_COMMENT' defined, but not used\n",
      "WARNING: Token 'LINE_TERMINATOR' defined, but not used\n",
      "WARNING: Token 'SUPER' defined, but not used\n",
      "WARNING: There are 10 unused tokens\n",
      "WARNING: Couldn't create <module 'slimit.yacctab' from 'C:\\\\Users\\\\alexg\\\\Anaconda3\\\\lib\\\\site-packages\\\\slimit\\\\yacctab.py'>. Won't overwrite existing tabmodule\n"
     ]
    },
    {
     "name": "stdout",
     "output_type": "stream",
     "text": [
      "Reaver Ambush\n"
     ]
    },
    {
     "name": "stderr",
     "output_type": "stream",
     "text": [
      "WARNING: Couldn't write lextab module <module 'slimit.lextab' from 'C:\\\\Users\\\\alexg\\\\Anaconda3\\\\lib\\\\site-packages\\\\slimit\\\\lextab.py'>. Won't overwrite existing lextab module\n",
      "WARNING: yacc table file version is out of date\n",
      "WARNING: Token 'BLOCK_COMMENT' defined, but not used\n",
      "WARNING: Token 'CLASS' defined, but not used\n",
      "WARNING: Token 'CONST' defined, but not used\n",
      "WARNING: Token 'ENUM' defined, but not used\n",
      "WARNING: Token 'EXPORT' defined, but not used\n",
      "WARNING: Token 'EXTENDS' defined, but not used\n",
      "WARNING: Token 'IMPORT' defined, but not used\n",
      "WARNING: Token 'LINE_COMMENT' defined, but not used\n",
      "WARNING: Token 'LINE_TERMINATOR' defined, but not used\n",
      "WARNING: Token 'SUPER' defined, but not used\n",
      "WARNING: There are 10 unused tokens\n",
      "WARNING: Couldn't create <module 'slimit.yacctab' from 'C:\\\\Users\\\\alexg\\\\Anaconda3\\\\lib\\\\site-packages\\\\slimit\\\\yacctab.py'>. Won't overwrite existing tabmodule\n"
     ]
    },
    {
     "name": "stdout",
     "output_type": "stream",
     "text": [
      "Ravenous Chupacabra\n"
     ]
    },
    {
     "name": "stderr",
     "output_type": "stream",
     "text": [
      "WARNING: Couldn't write lextab module <module 'slimit.lextab' from 'C:\\\\Users\\\\alexg\\\\Anaconda3\\\\lib\\\\site-packages\\\\slimit\\\\lextab.py'>. Won't overwrite existing lextab module\n",
      "WARNING: yacc table file version is out of date\n",
      "WARNING: Token 'BLOCK_COMMENT' defined, but not used\n",
      "WARNING: Token 'CLASS' defined, but not used\n",
      "WARNING: Token 'CONST' defined, but not used\n",
      "WARNING: Token 'ENUM' defined, but not used\n",
      "WARNING: Token 'EXPORT' defined, but not used\n",
      "WARNING: Token 'EXTENDS' defined, but not used\n",
      "WARNING: Token 'IMPORT' defined, but not used\n",
      "WARNING: Token 'LINE_COMMENT' defined, but not used\n",
      "WARNING: Token 'LINE_TERMINATOR' defined, but not used\n",
      "WARNING: Token 'SUPER' defined, but not used\n",
      "WARNING: There are 10 unused tokens\n",
      "WARNING: Couldn't create <module 'slimit.yacctab' from 'C:\\\\Users\\\\alexg\\\\Anaconda3\\\\lib\\\\site-packages\\\\slimit\\\\yacctab.py'>. Won't overwrite existing tabmodule\n"
     ]
    },
    {
     "name": "stdout",
     "output_type": "stream",
     "text": [
      "Pitiless Plunderer\n"
     ]
    },
    {
     "name": "stderr",
     "output_type": "stream",
     "text": [
      "WARNING: Couldn't write lextab module <module 'slimit.lextab' from 'C:\\\\Users\\\\alexg\\\\Anaconda3\\\\lib\\\\site-packages\\\\slimit\\\\lextab.py'>. Won't overwrite existing lextab module\n",
      "WARNING: yacc table file version is out of date\n",
      "WARNING: Token 'BLOCK_COMMENT' defined, but not used\n",
      "WARNING: Token 'CLASS' defined, but not used\n",
      "WARNING: Token 'CONST' defined, but not used\n",
      "WARNING: Token 'ENUM' defined, but not used\n",
      "WARNING: Token 'EXPORT' defined, but not used\n",
      "WARNING: Token 'EXTENDS' defined, but not used\n",
      "WARNING: Token 'IMPORT' defined, but not used\n",
      "WARNING: Token 'LINE_COMMENT' defined, but not used\n",
      "WARNING: Token 'LINE_TERMINATOR' defined, but not used\n",
      "WARNING: Token 'SUPER' defined, but not used\n",
      "WARNING: There are 10 unused tokens\n",
      "WARNING: Couldn't create <module 'slimit.yacctab' from 'C:\\\\Users\\\\alexg\\\\Anaconda3\\\\lib\\\\site-packages\\\\slimit\\\\yacctab.py'>. Won't overwrite existing tabmodule\n"
     ]
    },
    {
     "name": "stdout",
     "output_type": "stream",
     "text": [
      "Oathsworn Vampire\n"
     ]
    },
    {
     "name": "stderr",
     "output_type": "stream",
     "text": [
      "WARNING: Couldn't write lextab module <module 'slimit.lextab' from 'C:\\\\Users\\\\alexg\\\\Anaconda3\\\\lib\\\\site-packages\\\\slimit\\\\lextab.py'>. Won't overwrite existing lextab module\n",
      "WARNING: yacc table file version is out of date\n",
      "WARNING: Token 'BLOCK_COMMENT' defined, but not used\n",
      "WARNING: Token 'CLASS' defined, but not used\n",
      "WARNING: Token 'CONST' defined, but not used\n",
      "WARNING: Token 'ENUM' defined, but not used\n",
      "WARNING: Token 'EXPORT' defined, but not used\n",
      "WARNING: Token 'EXTENDS' defined, but not used\n",
      "WARNING: Token 'IMPORT' defined, but not used\n",
      "WARNING: Token 'LINE_COMMENT' defined, but not used\n",
      "WARNING: Token 'LINE_TERMINATOR' defined, but not used\n",
      "WARNING: Token 'SUPER' defined, but not used\n",
      "WARNING: There are 10 unused tokens\n",
      "WARNING: Couldn't create <module 'slimit.yacctab' from 'C:\\\\Users\\\\alexg\\\\Anaconda3\\\\lib\\\\site-packages\\\\slimit\\\\yacctab.py'>. Won't overwrite existing tabmodule\n"
     ]
    },
    {
     "name": "stdout",
     "output_type": "stream",
     "text": [
      "Moment of Craving\n"
     ]
    },
    {
     "name": "stderr",
     "output_type": "stream",
     "text": [
      "WARNING: Couldn't write lextab module <module 'slimit.lextab' from 'C:\\\\Users\\\\alexg\\\\Anaconda3\\\\lib\\\\site-packages\\\\slimit\\\\lextab.py'>. Won't overwrite existing lextab module\n",
      "WARNING: yacc table file version is out of date\n",
      "WARNING: Token 'BLOCK_COMMENT' defined, but not used\n",
      "WARNING: Token 'CLASS' defined, but not used\n",
      "WARNING: Token 'CONST' defined, but not used\n",
      "WARNING: Token 'ENUM' defined, but not used\n",
      "WARNING: Token 'EXPORT' defined, but not used\n",
      "WARNING: Token 'EXTENDS' defined, but not used\n",
      "WARNING: Token 'IMPORT' defined, but not used\n",
      "WARNING: Token 'LINE_COMMENT' defined, but not used\n",
      "WARNING: Token 'LINE_TERMINATOR' defined, but not used\n",
      "WARNING: Token 'SUPER' defined, but not used\n",
      "WARNING: There are 10 unused tokens\n",
      "WARNING: Couldn't create <module 'slimit.yacctab' from 'C:\\\\Users\\\\alexg\\\\Anaconda3\\\\lib\\\\site-packages\\\\slimit\\\\yacctab.py'>. Won't overwrite existing tabmodule\n"
     ]
    },
    {
     "name": "stdout",
     "output_type": "stream",
     "text": [
      "Mausoleum Harpy\n"
     ]
    },
    {
     "name": "stderr",
     "output_type": "stream",
     "text": [
      "WARNING: Couldn't write lextab module <module 'slimit.lextab' from 'C:\\\\Users\\\\alexg\\\\Anaconda3\\\\lib\\\\site-packages\\\\slimit\\\\lextab.py'>. Won't overwrite existing lextab module\n",
      "WARNING: yacc table file version is out of date\n",
      "WARNING: Token 'BLOCK_COMMENT' defined, but not used\n",
      "WARNING: Token 'CLASS' defined, but not used\n",
      "WARNING: Token 'CONST' defined, but not used\n",
      "WARNING: Token 'ENUM' defined, but not used\n",
      "WARNING: Token 'EXPORT' defined, but not used\n",
      "WARNING: Token 'EXTENDS' defined, but not used\n",
      "WARNING: Token 'IMPORT' defined, but not used\n",
      "WARNING: Token 'LINE_COMMENT' defined, but not used\n",
      "WARNING: Token 'LINE_TERMINATOR' defined, but not used\n",
      "WARNING: Token 'SUPER' defined, but not used\n",
      "WARNING: There are 10 unused tokens\n",
      "WARNING: Couldn't create <module 'slimit.yacctab' from 'C:\\\\Users\\\\alexg\\\\Anaconda3\\\\lib\\\\site-packages\\\\slimit\\\\yacctab.py'>. Won't overwrite existing tabmodule\n"
     ]
    },
    {
     "name": "stdout",
     "output_type": "stream",
     "text": [
      "Mastermind's Acquisition\n"
     ]
    },
    {
     "name": "stderr",
     "output_type": "stream",
     "text": [
      "WARNING: Couldn't write lextab module <module 'slimit.lextab' from 'C:\\\\Users\\\\alexg\\\\Anaconda3\\\\lib\\\\site-packages\\\\slimit\\\\lextab.py'>. Won't overwrite existing lextab module\n",
      "WARNING: yacc table file version is out of date\n",
      "WARNING: Token 'BLOCK_COMMENT' defined, but not used\n",
      "WARNING: Token 'CLASS' defined, but not used\n",
      "WARNING: Token 'CONST' defined, but not used\n",
      "WARNING: Token 'ENUM' defined, but not used\n",
      "WARNING: Token 'EXPORT' defined, but not used\n",
      "WARNING: Token 'EXTENDS' defined, but not used\n",
      "WARNING: Token 'IMPORT' defined, but not used\n",
      "WARNING: Token 'LINE_COMMENT' defined, but not used\n",
      "WARNING: Token 'LINE_TERMINATOR' defined, but not used\n",
      "WARNING: Token 'SUPER' defined, but not used\n",
      "WARNING: There are 10 unused tokens\n",
      "WARNING: Couldn't create <module 'slimit.yacctab' from 'C:\\\\Users\\\\alexg\\\\Anaconda3\\\\lib\\\\site-packages\\\\slimit\\\\yacctab.py'>. Won't overwrite existing tabmodule\n"
     ]
    },
    {
     "name": "stdout",
     "output_type": "stream",
     "text": [
      "Impale\n"
     ]
    },
    {
     "name": "stderr",
     "output_type": "stream",
     "text": [
      "WARNING: Couldn't write lextab module <module 'slimit.lextab' from 'C:\\\\Users\\\\alexg\\\\Anaconda3\\\\lib\\\\site-packages\\\\slimit\\\\lextab.py'>. Won't overwrite existing lextab module\n",
      "WARNING: yacc table file version is out of date\n",
      "WARNING: Token 'BLOCK_COMMENT' defined, but not used\n",
      "WARNING: Token 'CLASS' defined, but not used\n",
      "WARNING: Token 'CONST' defined, but not used\n",
      "WARNING: Token 'ENUM' defined, but not used\n",
      "WARNING: Token 'EXPORT' defined, but not used\n",
      "WARNING: Token 'EXTENDS' defined, but not used\n",
      "WARNING: Token 'IMPORT' defined, but not used\n",
      "WARNING: Token 'LINE_COMMENT' defined, but not used\n",
      "WARNING: Token 'LINE_TERMINATOR' defined, but not used\n",
      "WARNING: Token 'SUPER' defined, but not used\n",
      "WARNING: There are 10 unused tokens\n",
      "WARNING: Couldn't create <module 'slimit.yacctab' from 'C:\\\\Users\\\\alexg\\\\Anaconda3\\\\lib\\\\site-packages\\\\slimit\\\\yacctab.py'>. Won't overwrite existing tabmodule\n"
     ]
    },
    {
     "name": "stdout",
     "output_type": "stream",
     "text": [
      "Gruesome Fate\n"
     ]
    },
    {
     "name": "stderr",
     "output_type": "stream",
     "text": [
      "WARNING: Couldn't write lextab module <module 'slimit.lextab' from 'C:\\\\Users\\\\alexg\\\\Anaconda3\\\\lib\\\\site-packages\\\\slimit\\\\lextab.py'>. Won't overwrite existing lextab module\n",
      "WARNING: yacc table file version is out of date\n",
      "WARNING: Token 'BLOCK_COMMENT' defined, but not used\n",
      "WARNING: Token 'CLASS' defined, but not used\n",
      "WARNING: Token 'CONST' defined, but not used\n",
      "WARNING: Token 'ENUM' defined, but not used\n",
      "WARNING: Token 'EXPORT' defined, but not used\n",
      "WARNING: Token 'EXTENDS' defined, but not used\n",
      "WARNING: Token 'IMPORT' defined, but not used\n",
      "WARNING: Token 'LINE_COMMENT' defined, but not used\n",
      "WARNING: Token 'LINE_TERMINATOR' defined, but not used\n",
      "WARNING: Token 'SUPER' defined, but not used\n",
      "WARNING: There are 10 unused tokens\n",
      "WARNING: Couldn't create <module 'slimit.yacctab' from 'C:\\\\Users\\\\alexg\\\\Anaconda3\\\\lib\\\\site-packages\\\\slimit\\\\yacctab.py'>. Won't overwrite existing tabmodule\n"
     ]
    },
    {
     "name": "stdout",
     "output_type": "stream",
     "text": [
      "Grasping Scoundrel\n"
     ]
    },
    {
     "name": "stderr",
     "output_type": "stream",
     "text": [
      "WARNING: Couldn't write lextab module <module 'slimit.lextab' from 'C:\\\\Users\\\\alexg\\\\Anaconda3\\\\lib\\\\site-packages\\\\slimit\\\\lextab.py'>. Won't overwrite existing lextab module\n",
      "WARNING: yacc table file version is out of date\n",
      "WARNING: Token 'BLOCK_COMMENT' defined, but not used\n",
      "WARNING: Token 'CLASS' defined, but not used\n",
      "WARNING: Token 'CONST' defined, but not used\n",
      "WARNING: Token 'ENUM' defined, but not used\n",
      "WARNING: Token 'EXPORT' defined, but not used\n",
      "WARNING: Token 'EXTENDS' defined, but not used\n",
      "WARNING: Token 'IMPORT' defined, but not used\n",
      "WARNING: Token 'LINE_COMMENT' defined, but not used\n",
      "WARNING: Token 'LINE_TERMINATOR' defined, but not used\n",
      "WARNING: Token 'SUPER' defined, but not used\n",
      "WARNING: There are 10 unused tokens\n",
      "WARNING: Couldn't create <module 'slimit.yacctab' from 'C:\\\\Users\\\\alexg\\\\Anaconda3\\\\lib\\\\site-packages\\\\slimit\\\\yacctab.py'>. Won't overwrite existing tabmodule\n"
     ]
    },
    {
     "name": "stdout",
     "output_type": "stream",
     "text": [
      "Golden Demise\n"
     ]
    },
    {
     "name": "stderr",
     "output_type": "stream",
     "text": [
      "WARNING: Couldn't write lextab module <module 'slimit.lextab' from 'C:\\\\Users\\\\alexg\\\\Anaconda3\\\\lib\\\\site-packages\\\\slimit\\\\lextab.py'>. Won't overwrite existing lextab module\n",
      "WARNING: yacc table file version is out of date\n",
      "WARNING: Token 'BLOCK_COMMENT' defined, but not used\n",
      "WARNING: Token 'CLASS' defined, but not used\n",
      "WARNING: Token 'CONST' defined, but not used\n",
      "WARNING: Token 'ENUM' defined, but not used\n",
      "WARNING: Token 'EXPORT' defined, but not used\n",
      "WARNING: Token 'EXTENDS' defined, but not used\n",
      "WARNING: Token 'IMPORT' defined, but not used\n",
      "WARNING: Token 'LINE_COMMENT' defined, but not used\n",
      "WARNING: Token 'LINE_TERMINATOR' defined, but not used\n",
      "WARNING: Token 'SUPER' defined, but not used\n",
      "WARNING: There are 10 unused tokens\n",
      "WARNING: Couldn't create <module 'slimit.yacctab' from 'C:\\\\Users\\\\alexg\\\\Anaconda3\\\\lib\\\\site-packages\\\\slimit\\\\yacctab.py'>. Won't overwrite existing tabmodule\n"
     ]
    },
    {
     "name": "stdout",
     "output_type": "stream",
     "text": [
      "Forerunner of the Coalition\n"
     ]
    },
    {
     "name": "stderr",
     "output_type": "stream",
     "text": [
      "WARNING: Couldn't write lextab module <module 'slimit.lextab' from 'C:\\\\Users\\\\alexg\\\\Anaconda3\\\\lib\\\\site-packages\\\\slimit\\\\lextab.py'>. Won't overwrite existing lextab module\n",
      "WARNING: yacc table file version is out of date\n",
      "WARNING: Token 'BLOCK_COMMENT' defined, but not used\n",
      "WARNING: Token 'CLASS' defined, but not used\n",
      "WARNING: Token 'CONST' defined, but not used\n",
      "WARNING: Token 'ENUM' defined, but not used\n",
      "WARNING: Token 'EXPORT' defined, but not used\n",
      "WARNING: Token 'EXTENDS' defined, but not used\n",
      "WARNING: Token 'IMPORT' defined, but not used\n",
      "WARNING: Token 'LINE_COMMENT' defined, but not used\n",
      "WARNING: Token 'LINE_TERMINATOR' defined, but not used\n",
      "WARNING: Token 'SUPER' defined, but not used\n",
      "WARNING: There are 10 unused tokens\n",
      "WARNING: Couldn't create <module 'slimit.yacctab' from 'C:\\\\Users\\\\alexg\\\\Anaconda3\\\\lib\\\\site-packages\\\\slimit\\\\yacctab.py'>. Won't overwrite existing tabmodule\n"
     ]
    },
    {
     "name": "stdout",
     "output_type": "stream",
     "text": [
      "Fathom Fleet Boarder\n"
     ]
    },
    {
     "name": "stderr",
     "output_type": "stream",
     "text": [
      "WARNING: Couldn't write lextab module <module 'slimit.lextab' from 'C:\\\\Users\\\\alexg\\\\Anaconda3\\\\lib\\\\site-packages\\\\slimit\\\\lextab.py'>. Won't overwrite existing lextab module\n",
      "WARNING: yacc table file version is out of date\n",
      "WARNING: Token 'BLOCK_COMMENT' defined, but not used\n",
      "WARNING: Token 'CLASS' defined, but not used\n",
      "WARNING: Token 'CONST' defined, but not used\n",
      "WARNING: Token 'ENUM' defined, but not used\n",
      "WARNING: Token 'EXPORT' defined, but not used\n",
      "WARNING: Token 'EXTENDS' defined, but not used\n",
      "WARNING: Token 'IMPORT' defined, but not used\n",
      "WARNING: Token 'LINE_COMMENT' defined, but not used\n",
      "WARNING: Token 'LINE_TERMINATOR' defined, but not used\n",
      "WARNING: Token 'SUPER' defined, but not used\n",
      "WARNING: There are 10 unused tokens\n",
      "WARNING: Couldn't create <module 'slimit.yacctab' from 'C:\\\\Users\\\\alexg\\\\Anaconda3\\\\lib\\\\site-packages\\\\slimit\\\\yacctab.py'>. Won't overwrite existing tabmodule\n"
     ]
    },
    {
     "name": "stdout",
     "output_type": "stream",
     "text": [
      "Dusk Legion Zealot\n"
     ]
    },
    {
     "name": "stderr",
     "output_type": "stream",
     "text": [
      "WARNING: Couldn't write lextab module <module 'slimit.lextab' from 'C:\\\\Users\\\\alexg\\\\Anaconda3\\\\lib\\\\site-packages\\\\slimit\\\\lextab.py'>. Won't overwrite existing lextab module\n",
      "WARNING: yacc table file version is out of date\n",
      "WARNING: Token 'BLOCK_COMMENT' defined, but not used\n",
      "WARNING: Token 'CLASS' defined, but not used\n",
      "WARNING: Token 'CONST' defined, but not used\n",
      "WARNING: Token 'ENUM' defined, but not used\n",
      "WARNING: Token 'EXPORT' defined, but not used\n",
      "WARNING: Token 'EXTENDS' defined, but not used\n",
      "WARNING: Token 'IMPORT' defined, but not used\n",
      "WARNING: Token 'LINE_COMMENT' defined, but not used\n",
      "WARNING: Token 'LINE_TERMINATOR' defined, but not used\n",
      "WARNING: Token 'SUPER' defined, but not used\n",
      "WARNING: There are 10 unused tokens\n",
      "WARNING: Couldn't create <module 'slimit.yacctab' from 'C:\\\\Users\\\\alexg\\\\Anaconda3\\\\lib\\\\site-packages\\\\slimit\\\\yacctab.py'>. Won't overwrite existing tabmodule\n"
     ]
    },
    {
     "name": "stdout",
     "output_type": "stream",
     "text": [
      "Dusk Charger\n"
     ]
    },
    {
     "name": "stderr",
     "output_type": "stream",
     "text": [
      "WARNING: Couldn't write lextab module <module 'slimit.lextab' from 'C:\\\\Users\\\\alexg\\\\Anaconda3\\\\lib\\\\site-packages\\\\slimit\\\\lextab.py'>. Won't overwrite existing lextab module\n",
      "WARNING: yacc table file version is out of date\n",
      "WARNING: Token 'BLOCK_COMMENT' defined, but not used\n",
      "WARNING: Token 'CLASS' defined, but not used\n",
      "WARNING: Token 'CONST' defined, but not used\n",
      "WARNING: Token 'ENUM' defined, but not used\n",
      "WARNING: Token 'EXPORT' defined, but not used\n",
      "WARNING: Token 'EXTENDS' defined, but not used\n",
      "WARNING: Token 'IMPORT' defined, but not used\n",
      "WARNING: Token 'LINE_COMMENT' defined, but not used\n",
      "WARNING: Token 'LINE_TERMINATOR' defined, but not used\n",
      "WARNING: Token 'SUPER' defined, but not used\n",
      "WARNING: There are 10 unused tokens\n",
      "WARNING: Couldn't create <module 'slimit.yacctab' from 'C:\\\\Users\\\\alexg\\\\Anaconda3\\\\lib\\\\site-packages\\\\slimit\\\\yacctab.py'>. Won't overwrite existing tabmodule\n"
     ]
    },
    {
     "name": "stdout",
     "output_type": "stream",
     "text": [
      "Dire Fleet Poisoner\n"
     ]
    },
    {
     "name": "stderr",
     "output_type": "stream",
     "text": [
      "WARNING: Couldn't write lextab module <module 'slimit.lextab' from 'C:\\\\Users\\\\alexg\\\\Anaconda3\\\\lib\\\\site-packages\\\\slimit\\\\lextab.py'>. Won't overwrite existing lextab module\n",
      "WARNING: yacc table file version is out of date\n",
      "WARNING: Token 'BLOCK_COMMENT' defined, but not used\n",
      "WARNING: Token 'CLASS' defined, but not used\n",
      "WARNING: Token 'CONST' defined, but not used\n",
      "WARNING: Token 'ENUM' defined, but not used\n",
      "WARNING: Token 'EXPORT' defined, but not used\n",
      "WARNING: Token 'EXTENDS' defined, but not used\n",
      "WARNING: Token 'IMPORT' defined, but not used\n",
      "WARNING: Token 'LINE_COMMENT' defined, but not used\n",
      "WARNING: Token 'LINE_TERMINATOR' defined, but not used\n",
      "WARNING: Token 'SUPER' defined, but not used\n",
      "WARNING: There are 10 unused tokens\n",
      "WARNING: Couldn't create <module 'slimit.yacctab' from 'C:\\\\Users\\\\alexg\\\\Anaconda3\\\\lib\\\\site-packages\\\\slimit\\\\yacctab.py'>. Won't overwrite existing tabmodule\n"
     ]
    },
    {
     "name": "stdout",
     "output_type": "stream",
     "text": [
      "Dinosaur Hunter\n"
     ]
    },
    {
     "name": "stderr",
     "output_type": "stream",
     "text": [
      "WARNING: Couldn't write lextab module <module 'slimit.lextab' from 'C:\\\\Users\\\\alexg\\\\Anaconda3\\\\lib\\\\site-packages\\\\slimit\\\\lextab.py'>. Won't overwrite existing lextab module\n",
      "WARNING: yacc table file version is out of date\n",
      "WARNING: Token 'BLOCK_COMMENT' defined, but not used\n",
      "WARNING: Token 'CLASS' defined, but not used\n",
      "WARNING: Token 'CONST' defined, but not used\n",
      "WARNING: Token 'ENUM' defined, but not used\n",
      "WARNING: Token 'EXPORT' defined, but not used\n",
      "WARNING: Token 'EXTENDS' defined, but not used\n",
      "WARNING: Token 'IMPORT' defined, but not used\n",
      "WARNING: Token 'LINE_COMMENT' defined, but not used\n",
      "WARNING: Token 'LINE_TERMINATOR' defined, but not used\n",
      "WARNING: Token 'SUPER' defined, but not used\n",
      "WARNING: There are 10 unused tokens\n",
      "WARNING: Couldn't create <module 'slimit.yacctab' from 'C:\\\\Users\\\\alexg\\\\Anaconda3\\\\lib\\\\site-packages\\\\slimit\\\\yacctab.py'>. Won't overwrite existing tabmodule\n"
     ]
    },
    {
     "name": "stdout",
     "output_type": "stream",
     "text": [
      "Dead Man's Chest\n"
     ]
    },
    {
     "name": "stderr",
     "output_type": "stream",
     "text": [
      "WARNING: Couldn't write lextab module <module 'slimit.lextab' from 'C:\\\\Users\\\\alexg\\\\Anaconda3\\\\lib\\\\site-packages\\\\slimit\\\\lextab.py'>. Won't overwrite existing lextab module\n",
      "WARNING: yacc table file version is out of date\n",
      "WARNING: Token 'BLOCK_COMMENT' defined, but not used\n",
      "WARNING: Token 'CLASS' defined, but not used\n",
      "WARNING: Token 'CONST' defined, but not used\n",
      "WARNING: Token 'ENUM' defined, but not used\n",
      "WARNING: Token 'EXPORT' defined, but not used\n",
      "WARNING: Token 'EXTENDS' defined, but not used\n",
      "WARNING: Token 'IMPORT' defined, but not used\n",
      "WARNING: Token 'LINE_COMMENT' defined, but not used\n",
      "WARNING: Token 'LINE_TERMINATOR' defined, but not used\n",
      "WARNING: Token 'SUPER' defined, but not used\n",
      "WARNING: There are 10 unused tokens\n",
      "WARNING: Couldn't create <module 'slimit.yacctab' from 'C:\\\\Users\\\\alexg\\\\Anaconda3\\\\lib\\\\site-packages\\\\slimit\\\\yacctab.py'>. Won't overwrite existing tabmodule\n"
     ]
    },
    {
     "name": "stdout",
     "output_type": "stream",
     "text": [
      "Dark Inquiry\n"
     ]
    },
    {
     "name": "stderr",
     "output_type": "stream",
     "text": [
      "WARNING: Couldn't write lextab module <module 'slimit.lextab' from 'C:\\\\Users\\\\alexg\\\\Anaconda3\\\\lib\\\\site-packages\\\\slimit\\\\lextab.py'>. Won't overwrite existing lextab module\n",
      "WARNING: yacc table file version is out of date\n",
      "WARNING: Token 'BLOCK_COMMENT' defined, but not used\n",
      "WARNING: Token 'CLASS' defined, but not used\n",
      "WARNING: Token 'CONST' defined, but not used\n",
      "WARNING: Token 'ENUM' defined, but not used\n",
      "WARNING: Token 'EXPORT' defined, but not used\n",
      "WARNING: Token 'EXTENDS' defined, but not used\n",
      "WARNING: Token 'IMPORT' defined, but not used\n",
      "WARNING: Token 'LINE_COMMENT' defined, but not used\n",
      "WARNING: Token 'LINE_TERMINATOR' defined, but not used\n",
      "WARNING: Token 'SUPER' defined, but not used\n",
      "WARNING: There are 10 unused tokens\n",
      "WARNING: Couldn't create <module 'slimit.yacctab' from 'C:\\\\Users\\\\alexg\\\\Anaconda3\\\\lib\\\\site-packages\\\\slimit\\\\yacctab.py'>. Won't overwrite existing tabmodule\n"
     ]
    },
    {
     "name": "stdout",
     "output_type": "stream",
     "text": [
      "Champion of Dusk\n"
     ]
    },
    {
     "name": "stderr",
     "output_type": "stream",
     "text": [
      "WARNING: Couldn't write lextab module <module 'slimit.lextab' from 'C:\\\\Users\\\\alexg\\\\Anaconda3\\\\lib\\\\site-packages\\\\slimit\\\\lextab.py'>. Won't overwrite existing lextab module\n",
      "WARNING: yacc table file version is out of date\n",
      "WARNING: Token 'BLOCK_COMMENT' defined, but not used\n",
      "WARNING: Token 'CLASS' defined, but not used\n",
      "WARNING: Token 'CONST' defined, but not used\n",
      "WARNING: Token 'ENUM' defined, but not used\n",
      "WARNING: Token 'EXPORT' defined, but not used\n",
      "WARNING: Token 'EXTENDS' defined, but not used\n",
      "WARNING: Token 'IMPORT' defined, but not used\n",
      "WARNING: Token 'LINE_COMMENT' defined, but not used\n",
      "WARNING: Token 'LINE_TERMINATOR' defined, but not used\n",
      "WARNING: Token 'SUPER' defined, but not used\n",
      "WARNING: There are 10 unused tokens\n",
      "WARNING: Couldn't create <module 'slimit.yacctab' from 'C:\\\\Users\\\\alexg\\\\Anaconda3\\\\lib\\\\site-packages\\\\slimit\\\\yacctab.py'>. Won't overwrite existing tabmodule\n"
     ]
    },
    {
     "name": "stdout",
     "output_type": "stream",
     "text": [
      "Canal Monitor\n"
     ]
    },
    {
     "name": "stderr",
     "output_type": "stream",
     "text": [
      "WARNING: Couldn't write lextab module <module 'slimit.lextab' from 'C:\\\\Users\\\\alexg\\\\Anaconda3\\\\lib\\\\site-packages\\\\slimit\\\\lextab.py'>. Won't overwrite existing lextab module\n",
      "WARNING: yacc table file version is out of date\n",
      "WARNING: Token 'BLOCK_COMMENT' defined, but not used\n",
      "WARNING: Token 'CLASS' defined, but not used\n",
      "WARNING: Token 'CONST' defined, but not used\n",
      "WARNING: Token 'ENUM' defined, but not used\n",
      "WARNING: Token 'EXPORT' defined, but not used\n",
      "WARNING: Token 'EXTENDS' defined, but not used\n",
      "WARNING: Token 'IMPORT' defined, but not used\n",
      "WARNING: Token 'LINE_COMMENT' defined, but not used\n",
      "WARNING: Token 'LINE_TERMINATOR' defined, but not used\n",
      "WARNING: Token 'SUPER' defined, but not used\n",
      "WARNING: There are 10 unused tokens\n",
      "WARNING: Couldn't create <module 'slimit.yacctab' from 'C:\\\\Users\\\\alexg\\\\Anaconda3\\\\lib\\\\site-packages\\\\slimit\\\\yacctab.py'>. Won't overwrite existing tabmodule\n"
     ]
    },
    {
     "name": "stdout",
     "output_type": "stream",
     "text": [
      "Arterial Flow\n"
     ]
    },
    {
     "name": "stderr",
     "output_type": "stream",
     "text": [
      "WARNING: Couldn't write lextab module <module 'slimit.lextab' from 'C:\\\\Users\\\\alexg\\\\Anaconda3\\\\lib\\\\site-packages\\\\slimit\\\\lextab.py'>. Won't overwrite existing lextab module\n",
      "WARNING: yacc table file version is out of date\n",
      "WARNING: Token 'BLOCK_COMMENT' defined, but not used\n",
      "WARNING: Token 'CLASS' defined, but not used\n",
      "WARNING: Token 'CONST' defined, but not used\n",
      "WARNING: Token 'ENUM' defined, but not used\n",
      "WARNING: Token 'EXPORT' defined, but not used\n",
      "WARNING: Token 'EXTENDS' defined, but not used\n",
      "WARNING: Token 'IMPORT' defined, but not used\n",
      "WARNING: Token 'LINE_COMMENT' defined, but not used\n",
      "WARNING: Token 'LINE_TERMINATOR' defined, but not used\n",
      "WARNING: Token 'SUPER' defined, but not used\n",
      "WARNING: There are 10 unused tokens\n",
      "WARNING: Couldn't create <module 'slimit.yacctab' from 'C:\\\\Users\\\\alexg\\\\Anaconda3\\\\lib\\\\site-packages\\\\slimit\\\\yacctab.py'>. Won't overwrite existing tabmodule\n"
     ]
    },
    {
     "name": "stdout",
     "output_type": "stream",
     "text": [
      "Waterknot\n"
     ]
    },
    {
     "name": "stderr",
     "output_type": "stream",
     "text": [
      "WARNING: Couldn't write lextab module <module 'slimit.lextab' from 'C:\\\\Users\\\\alexg\\\\Anaconda3\\\\lib\\\\site-packages\\\\slimit\\\\lextab.py'>. Won't overwrite existing lextab module\n",
      "WARNING: yacc table file version is out of date\n",
      "WARNING: Token 'BLOCK_COMMENT' defined, but not used\n",
      "WARNING: Token 'CLASS' defined, but not used\n",
      "WARNING: Token 'CONST' defined, but not used\n",
      "WARNING: Token 'ENUM' defined, but not used\n",
      "WARNING: Token 'EXPORT' defined, but not used\n",
      "WARNING: Token 'EXTENDS' defined, but not used\n",
      "WARNING: Token 'IMPORT' defined, but not used\n",
      "WARNING: Token 'LINE_COMMENT' defined, but not used\n",
      "WARNING: Token 'LINE_TERMINATOR' defined, but not used\n",
      "WARNING: Token 'SUPER' defined, but not used\n",
      "WARNING: There are 10 unused tokens\n",
      "WARNING: Couldn't create <module 'slimit.yacctab' from 'C:\\\\Users\\\\alexg\\\\Anaconda3\\\\lib\\\\site-packages\\\\slimit\\\\yacctab.py'>. Won't overwrite existing tabmodule\n"
     ]
    },
    {
     "name": "stdout",
     "output_type": "stream",
     "text": [
      "Warkite Marauder\n"
     ]
    },
    {
     "name": "stderr",
     "output_type": "stream",
     "text": [
      "WARNING: Couldn't write lextab module <module 'slimit.lextab' from 'C:\\\\Users\\\\alexg\\\\Anaconda3\\\\lib\\\\site-packages\\\\slimit\\\\lextab.py'>. Won't overwrite existing lextab module\n",
      "WARNING: yacc table file version is out of date\n",
      "WARNING: Token 'BLOCK_COMMENT' defined, but not used\n",
      "WARNING: Token 'CLASS' defined, but not used\n",
      "WARNING: Token 'CONST' defined, but not used\n",
      "WARNING: Token 'ENUM' defined, but not used\n",
      "WARNING: Token 'EXPORT' defined, but not used\n",
      "WARNING: Token 'EXTENDS' defined, but not used\n",
      "WARNING: Token 'IMPORT' defined, but not used\n",
      "WARNING: Token 'LINE_COMMENT' defined, but not used\n",
      "WARNING: Token 'LINE_TERMINATOR' defined, but not used\n",
      "WARNING: Token 'SUPER' defined, but not used\n",
      "WARNING: There are 10 unused tokens\n",
      "WARNING: Couldn't create <module 'slimit.yacctab' from 'C:\\\\Users\\\\alexg\\\\Anaconda3\\\\lib\\\\site-packages\\\\slimit\\\\yacctab.py'>. Won't overwrite existing tabmodule\n"
     ]
    },
    {
     "name": "stdout",
     "output_type": "stream",
     "text": [
      "Timestream Navigator\n"
     ]
    },
    {
     "name": "stderr",
     "output_type": "stream",
     "text": [
      "WARNING: Couldn't write lextab module <module 'slimit.lextab' from 'C:\\\\Users\\\\alexg\\\\Anaconda3\\\\lib\\\\site-packages\\\\slimit\\\\lextab.py'>. Won't overwrite existing lextab module\n",
      "WARNING: yacc table file version is out of date\n",
      "WARNING: Token 'BLOCK_COMMENT' defined, but not used\n",
      "WARNING: Token 'CLASS' defined, but not used\n",
      "WARNING: Token 'CONST' defined, but not used\n",
      "WARNING: Token 'ENUM' defined, but not used\n",
      "WARNING: Token 'EXPORT' defined, but not used\n",
      "WARNING: Token 'EXTENDS' defined, but not used\n",
      "WARNING: Token 'IMPORT' defined, but not used\n",
      "WARNING: Token 'LINE_COMMENT' defined, but not used\n",
      "WARNING: Token 'LINE_TERMINATOR' defined, but not used\n",
      "WARNING: Token 'SUPER' defined, but not used\n",
      "WARNING: There are 10 unused tokens\n",
      "WARNING: Couldn't create <module 'slimit.yacctab' from 'C:\\\\Users\\\\alexg\\\\Anaconda3\\\\lib\\\\site-packages\\\\slimit\\\\yacctab.py'>. Won't overwrite existing tabmodule\n"
     ]
    },
    {
     "name": "stdout",
     "output_type": "stream",
     "text": [
      "Sworn Guardian\n"
     ]
    },
    {
     "name": "stderr",
     "output_type": "stream",
     "text": [
      "WARNING: Couldn't write lextab module <module 'slimit.lextab' from 'C:\\\\Users\\\\alexg\\\\Anaconda3\\\\lib\\\\site-packages\\\\slimit\\\\lextab.py'>. Won't overwrite existing lextab module\n",
      "WARNING: yacc table file version is out of date\n",
      "WARNING: Token 'BLOCK_COMMENT' defined, but not used\n",
      "WARNING: Token 'CLASS' defined, but not used\n",
      "WARNING: Token 'CONST' defined, but not used\n",
      "WARNING: Token 'ENUM' defined, but not used\n",
      "WARNING: Token 'EXPORT' defined, but not used\n",
      "WARNING: Token 'EXTENDS' defined, but not used\n",
      "WARNING: Token 'IMPORT' defined, but not used\n",
      "WARNING: Token 'LINE_COMMENT' defined, but not used\n",
      "WARNING: Token 'LINE_TERMINATOR' defined, but not used\n",
      "WARNING: Token 'SUPER' defined, but not used\n",
      "WARNING: There are 10 unused tokens\n",
      "WARNING: Couldn't create <module 'slimit.yacctab' from 'C:\\\\Users\\\\alexg\\\\Anaconda3\\\\lib\\\\site-packages\\\\slimit\\\\yacctab.py'>. Won't overwrite existing tabmodule\n"
     ]
    },
    {
     "name": "stdout",
     "output_type": "stream",
     "text": [
      "Spire Winder\n"
     ]
    },
    {
     "name": "stderr",
     "output_type": "stream",
     "text": [
      "WARNING: Couldn't write lextab module <module 'slimit.lextab' from 'C:\\\\Users\\\\alexg\\\\Anaconda3\\\\lib\\\\site-packages\\\\slimit\\\\lextab.py'>. Won't overwrite existing lextab module\n",
      "WARNING: yacc table file version is out of date\n",
      "WARNING: Token 'BLOCK_COMMENT' defined, but not used\n",
      "WARNING: Token 'CLASS' defined, but not used\n",
      "WARNING: Token 'CONST' defined, but not used\n",
      "WARNING: Token 'ENUM' defined, but not used\n",
      "WARNING: Token 'EXPORT' defined, but not used\n",
      "WARNING: Token 'EXTENDS' defined, but not used\n",
      "WARNING: Token 'IMPORT' defined, but not used\n",
      "WARNING: Token 'LINE_COMMENT' defined, but not used\n",
      "WARNING: Token 'LINE_TERMINATOR' defined, but not used\n",
      "WARNING: Token 'SUPER' defined, but not used\n",
      "WARNING: There are 10 unused tokens\n",
      "WARNING: Couldn't create <module 'slimit.yacctab' from 'C:\\\\Users\\\\alexg\\\\Anaconda3\\\\lib\\\\site-packages\\\\slimit\\\\yacctab.py'>. Won't overwrite existing tabmodule\n"
     ]
    },
    {
     "name": "stdout",
     "output_type": "stream",
     "text": [
      "Soul of the Rapids\n"
     ]
    },
    {
     "name": "stderr",
     "output_type": "stream",
     "text": [
      "WARNING: Couldn't write lextab module <module 'slimit.lextab' from 'C:\\\\Users\\\\alexg\\\\Anaconda3\\\\lib\\\\site-packages\\\\slimit\\\\lextab.py'>. Won't overwrite existing lextab module\n",
      "WARNING: yacc table file version is out of date\n",
      "WARNING: Token 'BLOCK_COMMENT' defined, but not used\n",
      "WARNING: Token 'CLASS' defined, but not used\n",
      "WARNING: Token 'CONST' defined, but not used\n",
      "WARNING: Token 'ENUM' defined, but not used\n",
      "WARNING: Token 'EXPORT' defined, but not used\n",
      "WARNING: Token 'EXTENDS' defined, but not used\n",
      "WARNING: Token 'IMPORT' defined, but not used\n",
      "WARNING: Token 'LINE_COMMENT' defined, but not used\n",
      "WARNING: Token 'LINE_TERMINATOR' defined, but not used\n",
      "WARNING: Token 'SUPER' defined, but not used\n",
      "WARNING: There are 10 unused tokens\n",
      "WARNING: Couldn't create <module 'slimit.yacctab' from 'C:\\\\Users\\\\alexg\\\\Anaconda3\\\\lib\\\\site-packages\\\\slimit\\\\yacctab.py'>. Won't overwrite existing tabmodule\n"
     ]
    },
    {
     "name": "stdout",
     "output_type": "stream",
     "text": [
      "Slippery Scoundrel\n"
     ]
    },
    {
     "name": "stderr",
     "output_type": "stream",
     "text": [
      "WARNING: Couldn't write lextab module <module 'slimit.lextab' from 'C:\\\\Users\\\\alexg\\\\Anaconda3\\\\lib\\\\site-packages\\\\slimit\\\\lextab.py'>. Won't overwrite existing lextab module\n",
      "WARNING: yacc table file version is out of date\n",
      "WARNING: Token 'BLOCK_COMMENT' defined, but not used\n",
      "WARNING: Token 'CLASS' defined, but not used\n",
      "WARNING: Token 'CONST' defined, but not used\n",
      "WARNING: Token 'ENUM' defined, but not used\n",
      "WARNING: Token 'EXPORT' defined, but not used\n",
      "WARNING: Token 'EXTENDS' defined, but not used\n",
      "WARNING: Token 'IMPORT' defined, but not used\n",
      "WARNING: Token 'LINE_COMMENT' defined, but not used\n",
      "WARNING: Token 'LINE_TERMINATOR' defined, but not used\n",
      "WARNING: Token 'SUPER' defined, but not used\n",
      "WARNING: There are 10 unused tokens\n",
      "WARNING: Couldn't create <module 'slimit.yacctab' from 'C:\\\\Users\\\\alexg\\\\Anaconda3\\\\lib\\\\site-packages\\\\slimit\\\\yacctab.py'>. Won't overwrite existing tabmodule\n"
     ]
    },
    {
     "name": "stdout",
     "output_type": "stream",
     "text": [
      "Siren Reaver\n"
     ]
    },
    {
     "name": "stderr",
     "output_type": "stream",
     "text": [
      "WARNING: Couldn't write lextab module <module 'slimit.lextab' from 'C:\\\\Users\\\\alexg\\\\Anaconda3\\\\lib\\\\site-packages\\\\slimit\\\\lextab.py'>. Won't overwrite existing lextab module\n",
      "WARNING: yacc table file version is out of date\n",
      "WARNING: Token 'BLOCK_COMMENT' defined, but not used\n",
      "WARNING: Token 'CLASS' defined, but not used\n",
      "WARNING: Token 'CONST' defined, but not used\n",
      "WARNING: Token 'ENUM' defined, but not used\n",
      "WARNING: Token 'EXPORT' defined, but not used\n",
      "WARNING: Token 'EXTENDS' defined, but not used\n",
      "WARNING: Token 'IMPORT' defined, but not used\n",
      "WARNING: Token 'LINE_COMMENT' defined, but not used\n",
      "WARNING: Token 'LINE_TERMINATOR' defined, but not used\n",
      "WARNING: Token 'SUPER' defined, but not used\n",
      "WARNING: There are 10 unused tokens\n",
      "WARNING: Couldn't create <module 'slimit.yacctab' from 'C:\\\\Users\\\\alexg\\\\Anaconda3\\\\lib\\\\site-packages\\\\slimit\\\\yacctab.py'>. Won't overwrite existing tabmodule\n"
     ]
    },
    {
     "name": "stdout",
     "output_type": "stream",
     "text": [
      "Silvergill Adept\n"
     ]
    },
    {
     "name": "stderr",
     "output_type": "stream",
     "text": [
      "WARNING: Couldn't write lextab module <module 'slimit.lextab' from 'C:\\\\Users\\\\alexg\\\\Anaconda3\\\\lib\\\\site-packages\\\\slimit\\\\lextab.py'>. Won't overwrite existing lextab module\n",
      "WARNING: yacc table file version is out of date\n",
      "WARNING: Token 'BLOCK_COMMENT' defined, but not used\n",
      "WARNING: Token 'CLASS' defined, but not used\n",
      "WARNING: Token 'CONST' defined, but not used\n",
      "WARNING: Token 'ENUM' defined, but not used\n",
      "WARNING: Token 'EXPORT' defined, but not used\n",
      "WARNING: Token 'EXTENDS' defined, but not used\n",
      "WARNING: Token 'IMPORT' defined, but not used\n",
      "WARNING: Token 'LINE_COMMENT' defined, but not used\n",
      "WARNING: Token 'LINE_TERMINATOR' defined, but not used\n",
      "WARNING: Token 'SUPER' defined, but not used\n",
      "WARNING: There are 10 unused tokens\n",
      "WARNING: Couldn't create <module 'slimit.yacctab' from 'C:\\\\Users\\\\alexg\\\\Anaconda3\\\\lib\\\\site-packages\\\\slimit\\\\yacctab.py'>. Won't overwrite existing tabmodule\n"
     ]
    },
    {
     "name": "stdout",
     "output_type": "stream",
     "text": [
      "Secrets of the Golden City\n"
     ]
    },
    {
     "name": "stderr",
     "output_type": "stream",
     "text": [
      "WARNING: Couldn't write lextab module <module 'slimit.lextab' from 'C:\\\\Users\\\\alexg\\\\Anaconda3\\\\lib\\\\site-packages\\\\slimit\\\\lextab.py'>. Won't overwrite existing lextab module\n",
      "WARNING: yacc table file version is out of date\n",
      "WARNING: Token 'BLOCK_COMMENT' defined, but not used\n",
      "WARNING: Token 'CLASS' defined, but not used\n",
      "WARNING: Token 'CONST' defined, but not used\n",
      "WARNING: Token 'ENUM' defined, but not used\n",
      "WARNING: Token 'EXPORT' defined, but not used\n",
      "WARNING: Token 'EXTENDS' defined, but not used\n",
      "WARNING: Token 'IMPORT' defined, but not used\n",
      "WARNING: Token 'LINE_COMMENT' defined, but not used\n",
      "WARNING: Token 'LINE_TERMINATOR' defined, but not used\n",
      "WARNING: Token 'SUPER' defined, but not used\n",
      "WARNING: There are 10 unused tokens\n",
      "WARNING: Couldn't create <module 'slimit.yacctab' from 'C:\\\\Users\\\\alexg\\\\Anaconda3\\\\lib\\\\site-packages\\\\slimit\\\\yacctab.py'>. Won't overwrite existing tabmodule\n"
     ]
    },
    {
     "name": "stdout",
     "output_type": "stream",
     "text": [
      "Seafloor Oracle\n"
     ]
    },
    {
     "name": "stderr",
     "output_type": "stream",
     "text": [
      "WARNING: Couldn't write lextab module <module 'slimit.lextab' from 'C:\\\\Users\\\\alexg\\\\Anaconda3\\\\lib\\\\site-packages\\\\slimit\\\\lextab.py'>. Won't overwrite existing lextab module\n",
      "WARNING: yacc table file version is out of date\n",
      "WARNING: Token 'BLOCK_COMMENT' defined, but not used\n",
      "WARNING: Token 'CLASS' defined, but not used\n",
      "WARNING: Token 'CONST' defined, but not used\n",
      "WARNING: Token 'ENUM' defined, but not used\n",
      "WARNING: Token 'EXPORT' defined, but not used\n",
      "WARNING: Token 'EXTENDS' defined, but not used\n",
      "WARNING: Token 'IMPORT' defined, but not used\n",
      "WARNING: Token 'LINE_COMMENT' defined, but not used\n",
      "WARNING: Token 'LINE_TERMINATOR' defined, but not used\n",
      "WARNING: Token 'SUPER' defined, but not used\n",
      "WARNING: There are 10 unused tokens\n",
      "WARNING: Couldn't create <module 'slimit.yacctab' from 'C:\\\\Users\\\\alexg\\\\Anaconda3\\\\lib\\\\site-packages\\\\slimit\\\\yacctab.py'>. Won't overwrite existing tabmodule\n"
     ]
    },
    {
     "name": "stdout",
     "output_type": "stream",
     "text": [
      "Sea Legs\n"
     ]
    },
    {
     "name": "stderr",
     "output_type": "stream",
     "text": [
      "WARNING: Couldn't write lextab module <module 'slimit.lextab' from 'C:\\\\Users\\\\alexg\\\\Anaconda3\\\\lib\\\\site-packages\\\\slimit\\\\lextab.py'>. Won't overwrite existing lextab module\n",
      "WARNING: yacc table file version is out of date\n",
      "WARNING: Token 'BLOCK_COMMENT' defined, but not used\n",
      "WARNING: Token 'CLASS' defined, but not used\n",
      "WARNING: Token 'CONST' defined, but not used\n",
      "WARNING: Token 'ENUM' defined, but not used\n",
      "WARNING: Token 'EXPORT' defined, but not used\n",
      "WARNING: Token 'EXTENDS' defined, but not used\n",
      "WARNING: Token 'IMPORT' defined, but not used\n",
      "WARNING: Token 'LINE_COMMENT' defined, but not used\n",
      "WARNING: Token 'LINE_TERMINATOR' defined, but not used\n",
      "WARNING: Token 'SUPER' defined, but not used\n",
      "WARNING: There are 10 unused tokens\n",
      "WARNING: Couldn't create <module 'slimit.yacctab' from 'C:\\\\Users\\\\alexg\\\\Anaconda3\\\\lib\\\\site-packages\\\\slimit\\\\yacctab.py'>. Won't overwrite existing tabmodule\n"
     ]
    },
    {
     "name": "stdout",
     "output_type": "stream",
     "text": [
      "Sailor of Means\n"
     ]
    },
    {
     "name": "stderr",
     "output_type": "stream",
     "text": [
      "WARNING: Couldn't write lextab module <module 'slimit.lextab' from 'C:\\\\Users\\\\alexg\\\\Anaconda3\\\\lib\\\\site-packages\\\\slimit\\\\lextab.py'>. Won't overwrite existing lextab module\n",
      "WARNING: yacc table file version is out of date\n",
      "WARNING: Token 'BLOCK_COMMENT' defined, but not used\n",
      "WARNING: Token 'CLASS' defined, but not used\n",
      "WARNING: Token 'CONST' defined, but not used\n",
      "WARNING: Token 'ENUM' defined, but not used\n",
      "WARNING: Token 'EXPORT' defined, but not used\n",
      "WARNING: Token 'EXTENDS' defined, but not used\n",
      "WARNING: Token 'IMPORT' defined, but not used\n",
      "WARNING: Token 'LINE_COMMENT' defined, but not used\n",
      "WARNING: Token 'LINE_TERMINATOR' defined, but not used\n",
      "WARNING: Token 'SUPER' defined, but not used\n",
      "WARNING: There are 10 unused tokens\n",
      "WARNING: Couldn't create <module 'slimit.yacctab' from 'C:\\\\Users\\\\alexg\\\\Anaconda3\\\\lib\\\\site-packages\\\\slimit\\\\yacctab.py'>. Won't overwrite existing tabmodule\n"
     ]
    },
    {
     "name": "stdout",
     "output_type": "stream",
     "text": [
      "Riverwise Augur\n"
     ]
    },
    {
     "name": "stderr",
     "output_type": "stream",
     "text": [
      "WARNING: Couldn't write lextab module <module 'slimit.lextab' from 'C:\\\\Users\\\\alexg\\\\Anaconda3\\\\lib\\\\site-packages\\\\slimit\\\\lextab.py'>. Won't overwrite existing lextab module\n",
      "WARNING: yacc table file version is out of date\n",
      "WARNING: Token 'BLOCK_COMMENT' defined, but not used\n",
      "WARNING: Token 'CLASS' defined, but not used\n",
      "WARNING: Token 'CONST' defined, but not used\n",
      "WARNING: Token 'ENUM' defined, but not used\n",
      "WARNING: Token 'EXPORT' defined, but not used\n",
      "WARNING: Token 'EXTENDS' defined, but not used\n",
      "WARNING: Token 'IMPORT' defined, but not used\n",
      "WARNING: Token 'LINE_COMMENT' defined, but not used\n",
      "WARNING: Token 'LINE_TERMINATOR' defined, but not used\n",
      "WARNING: Token 'SUPER' defined, but not used\n",
      "WARNING: There are 10 unused tokens\n",
      "WARNING: Couldn't create <module 'slimit.yacctab' from 'C:\\\\Users\\\\alexg\\\\Anaconda3\\\\lib\\\\site-packages\\\\slimit\\\\yacctab.py'>. Won't overwrite existing tabmodule\n"
     ]
    },
    {
     "name": "stdout",
     "output_type": "stream",
     "text": [
      "River Darter\n"
     ]
    },
    {
     "name": "stderr",
     "output_type": "stream",
     "text": [
      "WARNING: Couldn't write lextab module <module 'slimit.lextab' from 'C:\\\\Users\\\\alexg\\\\Anaconda3\\\\lib\\\\site-packages\\\\slimit\\\\lextab.py'>. Won't overwrite existing lextab module\n",
      "WARNING: yacc table file version is out of date\n",
      "WARNING: Token 'BLOCK_COMMENT' defined, but not used\n",
      "WARNING: Token 'CLASS' defined, but not used\n",
      "WARNING: Token 'CONST' defined, but not used\n",
      "WARNING: Token 'ENUM' defined, but not used\n",
      "WARNING: Token 'EXPORT' defined, but not used\n",
      "WARNING: Token 'EXTENDS' defined, but not used\n",
      "WARNING: Token 'IMPORT' defined, but not used\n",
      "WARNING: Token 'LINE_COMMENT' defined, but not used\n",
      "WARNING: Token 'LINE_TERMINATOR' defined, but not used\n",
      "WARNING: Token 'SUPER' defined, but not used\n",
      "WARNING: There are 10 unused tokens\n",
      "WARNING: Couldn't create <module 'slimit.yacctab' from 'C:\\\\Users\\\\alexg\\\\Anaconda3\\\\lib\\\\site-packages\\\\slimit\\\\yacctab.py'>. Won't overwrite existing tabmodule\n"
     ]
    },
    {
     "name": "stdout",
     "output_type": "stream",
     "text": [
      "Release to the Wind\n"
     ]
    },
    {
     "name": "stderr",
     "output_type": "stream",
     "text": [
      "WARNING: Couldn't write lextab module <module 'slimit.lextab' from 'C:\\\\Users\\\\alexg\\\\Anaconda3\\\\lib\\\\site-packages\\\\slimit\\\\lextab.py'>. Won't overwrite existing lextab module\n",
      "WARNING: yacc table file version is out of date\n",
      "WARNING: Token 'BLOCK_COMMENT' defined, but not used\n",
      "WARNING: Token 'CLASS' defined, but not used\n",
      "WARNING: Token 'CONST' defined, but not used\n",
      "WARNING: Token 'ENUM' defined, but not used\n",
      "WARNING: Token 'EXPORT' defined, but not used\n",
      "WARNING: Token 'EXTENDS' defined, but not used\n",
      "WARNING: Token 'IMPORT' defined, but not used\n",
      "WARNING: Token 'LINE_COMMENT' defined, but not used\n",
      "WARNING: Token 'LINE_TERMINATOR' defined, but not used\n",
      "WARNING: Token 'SUPER' defined, but not used\n",
      "WARNING: There are 10 unused tokens\n",
      "WARNING: Couldn't create <module 'slimit.yacctab' from 'C:\\\\Users\\\\alexg\\\\Anaconda3\\\\lib\\\\site-packages\\\\slimit\\\\yacctab.py'>. Won't overwrite existing tabmodule\n"
     ]
    },
    {
     "name": "stdout",
     "output_type": "stream",
     "text": [
      "Nezahal, Primal Tide\n"
     ]
    },
    {
     "name": "stderr",
     "output_type": "stream",
     "text": [
      "WARNING: Couldn't write lextab module <module 'slimit.lextab' from 'C:\\\\Users\\\\alexg\\\\Anaconda3\\\\lib\\\\site-packages\\\\slimit\\\\lextab.py'>. Won't overwrite existing lextab module\n",
      "WARNING: yacc table file version is out of date\n",
      "WARNING: Token 'BLOCK_COMMENT' defined, but not used\n",
      "WARNING: Token 'CLASS' defined, but not used\n",
      "WARNING: Token 'CONST' defined, but not used\n",
      "WARNING: Token 'ENUM' defined, but not used\n",
      "WARNING: Token 'EXPORT' defined, but not used\n",
      "WARNING: Token 'EXTENDS' defined, but not used\n",
      "WARNING: Token 'IMPORT' defined, but not used\n",
      "WARNING: Token 'LINE_COMMENT' defined, but not used\n",
      "WARNING: Token 'LINE_TERMINATOR' defined, but not used\n",
      "WARNING: Token 'SUPER' defined, but not used\n",
      "WARNING: There are 10 unused tokens\n",
      "WARNING: Couldn't create <module 'slimit.yacctab' from 'C:\\\\Users\\\\alexg\\\\Anaconda3\\\\lib\\\\site-packages\\\\slimit\\\\yacctab.py'>. Won't overwrite existing tabmodule\n"
     ]
    },
    {
     "name": "stdout",
     "output_type": "stream",
     "text": [
      "Negate\n"
     ]
    },
    {
     "name": "stderr",
     "output_type": "stream",
     "text": [
      "WARNING: Couldn't write lextab module <module 'slimit.lextab' from 'C:\\\\Users\\\\alexg\\\\Anaconda3\\\\lib\\\\site-packages\\\\slimit\\\\lextab.py'>. Won't overwrite existing lextab module\n",
      "WARNING: yacc table file version is out of date\n",
      "WARNING: Token 'BLOCK_COMMENT' defined, but not used\n",
      "WARNING: Token 'CLASS' defined, but not used\n",
      "WARNING: Token 'CONST' defined, but not used\n",
      "WARNING: Token 'ENUM' defined, but not used\n",
      "WARNING: Token 'EXPORT' defined, but not used\n",
      "WARNING: Token 'EXTENDS' defined, but not used\n",
      "WARNING: Token 'IMPORT' defined, but not used\n",
      "WARNING: Token 'LINE_COMMENT' defined, but not used\n",
      "WARNING: Token 'LINE_TERMINATOR' defined, but not used\n",
      "WARNING: Token 'SUPER' defined, but not used\n",
      "WARNING: There are 10 unused tokens\n",
      "WARNING: Couldn't create <module 'slimit.yacctab' from 'C:\\\\Users\\\\alexg\\\\Anaconda3\\\\lib\\\\site-packages\\\\slimit\\\\yacctab.py'>. Won't overwrite existing tabmodule\n"
     ]
    },
    {
     "name": "stdout",
     "output_type": "stream",
     "text": [
      "Mist-Cloaked Herald\n"
     ]
    },
    {
     "name": "stderr",
     "output_type": "stream",
     "text": [
      "WARNING: Couldn't write lextab module <module 'slimit.lextab' from 'C:\\\\Users\\\\alexg\\\\Anaconda3\\\\lib\\\\site-packages\\\\slimit\\\\lextab.py'>. Won't overwrite existing lextab module\n",
      "WARNING: yacc table file version is out of date\n",
      "WARNING: Token 'BLOCK_COMMENT' defined, but not used\n",
      "WARNING: Token 'CLASS' defined, but not used\n",
      "WARNING: Token 'CONST' defined, but not used\n",
      "WARNING: Token 'ENUM' defined, but not used\n",
      "WARNING: Token 'EXPORT' defined, but not used\n",
      "WARNING: Token 'EXTENDS' defined, but not used\n",
      "WARNING: Token 'IMPORT' defined, but not used\n",
      "WARNING: Token 'LINE_COMMENT' defined, but not used\n",
      "WARNING: Token 'LINE_TERMINATOR' defined, but not used\n",
      "WARNING: Token 'SUPER' defined, but not used\n",
      "WARNING: There are 10 unused tokens\n",
      "WARNING: Couldn't create <module 'slimit.yacctab' from 'C:\\\\Users\\\\alexg\\\\Anaconda3\\\\lib\\\\site-packages\\\\slimit\\\\yacctab.py'>. Won't overwrite existing tabmodule\n"
     ]
    },
    {
     "name": "stdout",
     "output_type": "stream",
     "text": [
      "Kumena's Awakening\n"
     ]
    },
    {
     "name": "stderr",
     "output_type": "stream",
     "text": [
      "WARNING: Couldn't write lextab module <module 'slimit.lextab' from 'C:\\\\Users\\\\alexg\\\\Anaconda3\\\\lib\\\\site-packages\\\\slimit\\\\lextab.py'>. Won't overwrite existing lextab module\n",
      "WARNING: yacc table file version is out of date\n",
      "WARNING: Token 'BLOCK_COMMENT' defined, but not used\n",
      "WARNING: Token 'CLASS' defined, but not used\n",
      "WARNING: Token 'CONST' defined, but not used\n",
      "WARNING: Token 'ENUM' defined, but not used\n",
      "WARNING: Token 'EXPORT' defined, but not used\n",
      "WARNING: Token 'EXTENDS' defined, but not used\n",
      "WARNING: Token 'IMPORT' defined, but not used\n",
      "WARNING: Token 'LINE_COMMENT' defined, but not used\n",
      "WARNING: Token 'LINE_TERMINATOR' defined, but not used\n",
      "WARNING: Token 'SUPER' defined, but not used\n",
      "WARNING: There are 10 unused tokens\n",
      "WARNING: Couldn't create <module 'slimit.yacctab' from 'C:\\\\Users\\\\alexg\\\\Anaconda3\\\\lib\\\\site-packages\\\\slimit\\\\yacctab.py'>. Won't overwrite existing tabmodule\n"
     ]
    },
    {
     "name": "stdout",
     "output_type": "stream",
     "text": [
      "Kitesail Corsair\n"
     ]
    },
    {
     "name": "stderr",
     "output_type": "stream",
     "text": [
      "WARNING: Couldn't write lextab module <module 'slimit.lextab' from 'C:\\\\Users\\\\alexg\\\\Anaconda3\\\\lib\\\\site-packages\\\\slimit\\\\lextab.py'>. Won't overwrite existing lextab module\n",
      "WARNING: yacc table file version is out of date\n",
      "WARNING: Token 'BLOCK_COMMENT' defined, but not used\n",
      "WARNING: Token 'CLASS' defined, but not used\n",
      "WARNING: Token 'CONST' defined, but not used\n",
      "WARNING: Token 'ENUM' defined, but not used\n",
      "WARNING: Token 'EXPORT' defined, but not used\n",
      "WARNING: Token 'EXTENDS' defined, but not used\n",
      "WARNING: Token 'IMPORT' defined, but not used\n",
      "WARNING: Token 'LINE_COMMENT' defined, but not used\n",
      "WARNING: Token 'LINE_TERMINATOR' defined, but not used\n",
      "WARNING: Token 'SUPER' defined, but not used\n",
      "WARNING: There are 10 unused tokens\n",
      "WARNING: Couldn't create <module 'slimit.yacctab' from 'C:\\\\Users\\\\alexg\\\\Anaconda3\\\\lib\\\\site-packages\\\\slimit\\\\yacctab.py'>. Won't overwrite existing tabmodule\n"
     ]
    },
    {
     "name": "stdout",
     "output_type": "stream",
     "text": [
      "Induced Amnesia\n"
     ]
    },
    {
     "name": "stderr",
     "output_type": "stream",
     "text": [
      "WARNING: Couldn't write lextab module <module 'slimit.lextab' from 'C:\\\\Users\\\\alexg\\\\Anaconda3\\\\lib\\\\site-packages\\\\slimit\\\\lextab.py'>. Won't overwrite existing lextab module\n",
      "WARNING: yacc table file version is out of date\n",
      "WARNING: Token 'BLOCK_COMMENT' defined, but not used\n",
      "WARNING: Token 'CLASS' defined, but not used\n",
      "WARNING: Token 'CONST' defined, but not used\n",
      "WARNING: Token 'ENUM' defined, but not used\n",
      "WARNING: Token 'EXPORT' defined, but not used\n",
      "WARNING: Token 'EXTENDS' defined, but not used\n",
      "WARNING: Token 'IMPORT' defined, but not used\n",
      "WARNING: Token 'LINE_COMMENT' defined, but not used\n",
      "WARNING: Token 'LINE_TERMINATOR' defined, but not used\n",
      "WARNING: Token 'SUPER' defined, but not used\n",
      "WARNING: There are 10 unused tokens\n",
      "WARNING: Couldn't create <module 'slimit.yacctab' from 'C:\\\\Users\\\\alexg\\\\Anaconda3\\\\lib\\\\site-packages\\\\slimit\\\\yacctab.py'>. Won't overwrite existing tabmodule\n"
     ]
    },
    {
     "name": "stdout",
     "output_type": "stream",
     "text": [
      "Hornswoggle\n"
     ]
    },
    {
     "name": "stderr",
     "output_type": "stream",
     "text": [
      "WARNING: Couldn't write lextab module <module 'slimit.lextab' from 'C:\\\\Users\\\\alexg\\\\Anaconda3\\\\lib\\\\site-packages\\\\slimit\\\\lextab.py'>. Won't overwrite existing lextab module\n",
      "WARNING: yacc table file version is out of date\n",
      "WARNING: Token 'BLOCK_COMMENT' defined, but not used\n",
      "WARNING: Token 'CLASS' defined, but not used\n",
      "WARNING: Token 'CONST' defined, but not used\n",
      "WARNING: Token 'ENUM' defined, but not used\n",
      "WARNING: Token 'EXPORT' defined, but not used\n",
      "WARNING: Token 'EXTENDS' defined, but not used\n",
      "WARNING: Token 'IMPORT' defined, but not used\n",
      "WARNING: Token 'LINE_COMMENT' defined, but not used\n",
      "WARNING: Token 'LINE_TERMINATOR' defined, but not used\n",
      "WARNING: Token 'SUPER' defined, but not used\n",
      "WARNING: There are 10 unused tokens\n",
      "WARNING: Couldn't create <module 'slimit.yacctab' from 'C:\\\\Users\\\\alexg\\\\Anaconda3\\\\lib\\\\site-packages\\\\slimit\\\\yacctab.py'>. Won't overwrite existing tabmodule\n"
     ]
    },
    {
     "name": "stdout",
     "output_type": "stream",
     "text": [
      "Flood of Recollection\n"
     ]
    },
    {
     "name": "stderr",
     "output_type": "stream",
     "text": [
      "WARNING: Couldn't write lextab module <module 'slimit.lextab' from 'C:\\\\Users\\\\alexg\\\\Anaconda3\\\\lib\\\\site-packages\\\\slimit\\\\lextab.py'>. Won't overwrite existing lextab module\n",
      "WARNING: yacc table file version is out of date\n",
      "WARNING: Token 'BLOCK_COMMENT' defined, but not used\n",
      "WARNING: Token 'CLASS' defined, but not used\n",
      "WARNING: Token 'CONST' defined, but not used\n",
      "WARNING: Token 'ENUM' defined, but not used\n",
      "WARNING: Token 'EXPORT' defined, but not used\n",
      "WARNING: Token 'EXTENDS' defined, but not used\n",
      "WARNING: Token 'IMPORT' defined, but not used\n",
      "WARNING: Token 'LINE_COMMENT' defined, but not used\n",
      "WARNING: Token 'LINE_TERMINATOR' defined, but not used\n",
      "WARNING: Token 'SUPER' defined, but not used\n",
      "WARNING: There are 10 unused tokens\n",
      "WARNING: Couldn't create <module 'slimit.yacctab' from 'C:\\\\Users\\\\alexg\\\\Anaconda3\\\\lib\\\\site-packages\\\\slimit\\\\yacctab.py'>. Won't overwrite existing tabmodule\n"
     ]
    },
    {
     "name": "stdout",
     "output_type": "stream",
     "text": [
      "Expel from Orazca\n"
     ]
    },
    {
     "name": "stderr",
     "output_type": "stream",
     "text": [
      "WARNING: Couldn't write lextab module <module 'slimit.lextab' from 'C:\\\\Users\\\\alexg\\\\Anaconda3\\\\lib\\\\site-packages\\\\slimit\\\\lextab.py'>. Won't overwrite existing lextab module\n",
      "WARNING: yacc table file version is out of date\n",
      "WARNING: Token 'BLOCK_COMMENT' defined, but not used\n",
      "WARNING: Token 'CLASS' defined, but not used\n",
      "WARNING: Token 'CONST' defined, but not used\n",
      "WARNING: Token 'ENUM' defined, but not used\n",
      "WARNING: Token 'EXPORT' defined, but not used\n",
      "WARNING: Token 'EXTENDS' defined, but not used\n",
      "WARNING: Token 'IMPORT' defined, but not used\n",
      "WARNING: Token 'LINE_COMMENT' defined, but not used\n",
      "WARNING: Token 'LINE_TERMINATOR' defined, but not used\n",
      "WARNING: Token 'SUPER' defined, but not used\n",
      "WARNING: There are 10 unused tokens\n",
      "WARNING: Couldn't create <module 'slimit.yacctab' from 'C:\\\\Users\\\\alexg\\\\Anaconda3\\\\lib\\\\site-packages\\\\slimit\\\\yacctab.py'>. Won't overwrite existing tabmodule\n"
     ]
    },
    {
     "name": "stdout",
     "output_type": "stream",
     "text": [
      "Deadeye Rig-Hauler\n"
     ]
    },
    {
     "name": "stderr",
     "output_type": "stream",
     "text": [
      "WARNING: Couldn't write lextab module <module 'slimit.lextab' from 'C:\\\\Users\\\\alexg\\\\Anaconda3\\\\lib\\\\site-packages\\\\slimit\\\\lextab.py'>. Won't overwrite existing lextab module\n",
      "WARNING: yacc table file version is out of date\n",
      "WARNING: Token 'BLOCK_COMMENT' defined, but not used\n",
      "WARNING: Token 'CLASS' defined, but not used\n",
      "WARNING: Token 'CONST' defined, but not used\n",
      "WARNING: Token 'ENUM' defined, but not used\n",
      "WARNING: Token 'EXPORT' defined, but not used\n",
      "WARNING: Token 'EXTENDS' defined, but not used\n",
      "WARNING: Token 'IMPORT' defined, but not used\n",
      "WARNING: Token 'LINE_COMMENT' defined, but not used\n",
      "WARNING: Token 'LINE_TERMINATOR' defined, but not used\n",
      "WARNING: Token 'SUPER' defined, but not used\n",
      "WARNING: There are 10 unused tokens\n",
      "WARNING: Couldn't create <module 'slimit.yacctab' from 'C:\\\\Users\\\\alexg\\\\Anaconda3\\\\lib\\\\site-packages\\\\slimit\\\\yacctab.py'>. Won't overwrite existing tabmodule\n"
     ]
    },
    {
     "name": "stdout",
     "output_type": "stream",
     "text": [
      "Curious Obsession\n"
     ]
    },
    {
     "name": "stderr",
     "output_type": "stream",
     "text": [
      "WARNING: Couldn't write lextab module <module 'slimit.lextab' from 'C:\\\\Users\\\\alexg\\\\Anaconda3\\\\lib\\\\site-packages\\\\slimit\\\\lextab.py'>. Won't overwrite existing lextab module\n",
      "WARNING: yacc table file version is out of date\n",
      "WARNING: Token 'BLOCK_COMMENT' defined, but not used\n",
      "WARNING: Token 'CLASS' defined, but not used\n",
      "WARNING: Token 'CONST' defined, but not used\n",
      "WARNING: Token 'ENUM' defined, but not used\n",
      "WARNING: Token 'EXPORT' defined, but not used\n",
      "WARNING: Token 'EXTENDS' defined, but not used\n",
      "WARNING: Token 'IMPORT' defined, but not used\n",
      "WARNING: Token 'LINE_COMMENT' defined, but not used\n",
      "WARNING: Token 'LINE_TERMINATOR' defined, but not used\n",
      "WARNING: Token 'SUPER' defined, but not used\n",
      "WARNING: There are 10 unused tokens\n",
      "WARNING: Couldn't create <module 'slimit.yacctab' from 'C:\\\\Users\\\\alexg\\\\Anaconda3\\\\lib\\\\site-packages\\\\slimit\\\\yacctab.py'>. Won't overwrite existing tabmodule\n"
     ]
    },
    {
     "name": "stdout",
     "output_type": "stream",
     "text": [
      "Crashing Tide\n"
     ]
    },
    {
     "name": "stderr",
     "output_type": "stream",
     "text": [
      "WARNING: Couldn't write lextab module <module 'slimit.lextab' from 'C:\\\\Users\\\\alexg\\\\Anaconda3\\\\lib\\\\site-packages\\\\slimit\\\\lextab.py'>. Won't overwrite existing lextab module\n",
      "WARNING: yacc table file version is out of date\n",
      "WARNING: Token 'BLOCK_COMMENT' defined, but not used\n",
      "WARNING: Token 'CLASS' defined, but not used\n",
      "WARNING: Token 'CONST' defined, but not used\n",
      "WARNING: Token 'ENUM' defined, but not used\n",
      "WARNING: Token 'EXPORT' defined, but not used\n",
      "WARNING: Token 'EXTENDS' defined, but not used\n",
      "WARNING: Token 'IMPORT' defined, but not used\n",
      "WARNING: Token 'LINE_COMMENT' defined, but not used\n",
      "WARNING: Token 'LINE_TERMINATOR' defined, but not used\n",
      "WARNING: Token 'SUPER' defined, but not used\n",
      "WARNING: There are 10 unused tokens\n",
      "WARNING: Couldn't create <module 'slimit.yacctab' from 'C:\\\\Users\\\\alexg\\\\Anaconda3\\\\lib\\\\site-packages\\\\slimit\\\\yacctab.py'>. Won't overwrite existing tabmodule\n"
     ]
    },
    {
     "name": "stdout",
     "output_type": "stream",
     "text": [
      "Crafty Cutpurse\n"
     ]
    },
    {
     "name": "stderr",
     "output_type": "stream",
     "text": [
      "WARNING: Couldn't write lextab module <module 'slimit.lextab' from 'C:\\\\Users\\\\alexg\\\\Anaconda3\\\\lib\\\\site-packages\\\\slimit\\\\lextab.py'>. Won't overwrite existing lextab module\n",
      "WARNING: yacc table file version is out of date\n",
      "WARNING: Token 'BLOCK_COMMENT' defined, but not used\n",
      "WARNING: Token 'CLASS' defined, but not used\n",
      "WARNING: Token 'CONST' defined, but not used\n",
      "WARNING: Token 'ENUM' defined, but not used\n",
      "WARNING: Token 'EXPORT' defined, but not used\n",
      "WARNING: Token 'EXTENDS' defined, but not used\n",
      "WARNING: Token 'IMPORT' defined, but not used\n",
      "WARNING: Token 'LINE_COMMENT' defined, but not used\n",
      "WARNING: Token 'LINE_TERMINATOR' defined, but not used\n",
      "WARNING: Token 'SUPER' defined, but not used\n",
      "WARNING: There are 10 unused tokens\n",
      "WARNING: Couldn't create <module 'slimit.yacctab' from 'C:\\\\Users\\\\alexg\\\\Anaconda3\\\\lib\\\\site-packages\\\\slimit\\\\yacctab.py'>. Won't overwrite existing tabmodule\n"
     ]
    },
    {
     "name": "stdout",
     "output_type": "stream",
     "text": [
      "Aquatic Incursion\n"
     ]
    },
    {
     "name": "stderr",
     "output_type": "stream",
     "text": [
      "WARNING: Couldn't write lextab module <module 'slimit.lextab' from 'C:\\\\Users\\\\alexg\\\\Anaconda3\\\\lib\\\\site-packages\\\\slimit\\\\lextab.py'>. Won't overwrite existing lextab module\n",
      "WARNING: yacc table file version is out of date\n",
      "WARNING: Token 'BLOCK_COMMENT' defined, but not used\n",
      "WARNING: Token 'CLASS' defined, but not used\n",
      "WARNING: Token 'CONST' defined, but not used\n",
      "WARNING: Token 'ENUM' defined, but not used\n",
      "WARNING: Token 'EXPORT' defined, but not used\n",
      "WARNING: Token 'EXTENDS' defined, but not used\n",
      "WARNING: Token 'IMPORT' defined, but not used\n",
      "WARNING: Token 'LINE_COMMENT' defined, but not used\n",
      "WARNING: Token 'LINE_TERMINATOR' defined, but not used\n",
      "WARNING: Token 'SUPER' defined, but not used\n",
      "WARNING: There are 10 unused tokens\n",
      "WARNING: Couldn't create <module 'slimit.yacctab' from 'C:\\\\Users\\\\alexg\\\\Anaconda3\\\\lib\\\\site-packages\\\\slimit\\\\yacctab.py'>. Won't overwrite existing tabmodule\n"
     ]
    },
    {
     "name": "stdout",
     "output_type": "stream",
     "text": [
      "Admiral's Order\n"
     ]
    },
    {
     "name": "stderr",
     "output_type": "stream",
     "text": [
      "WARNING: Couldn't write lextab module <module 'slimit.lextab' from 'C:\\\\Users\\\\alexg\\\\Anaconda3\\\\lib\\\\site-packages\\\\slimit\\\\lextab.py'>. Won't overwrite existing lextab module\n",
      "WARNING: yacc table file version is out of date\n",
      "WARNING: Token 'BLOCK_COMMENT' defined, but not used\n",
      "WARNING: Token 'CLASS' defined, but not used\n",
      "WARNING: Token 'CONST' defined, but not used\n",
      "WARNING: Token 'ENUM' defined, but not used\n",
      "WARNING: Token 'EXPORT' defined, but not used\n",
      "WARNING: Token 'EXTENDS' defined, but not used\n",
      "WARNING: Token 'IMPORT' defined, but not used\n",
      "WARNING: Token 'LINE_COMMENT' defined, but not used\n",
      "WARNING: Token 'LINE_TERMINATOR' defined, but not used\n",
      "WARNING: Token 'SUPER' defined, but not used\n",
      "WARNING: There are 10 unused tokens\n",
      "WARNING: Couldn't create <module 'slimit.yacctab' from 'C:\\\\Users\\\\alexg\\\\Anaconda3\\\\lib\\\\site-packages\\\\slimit\\\\yacctab.py'>. Won't overwrite existing tabmodule\n"
     ]
    },
    {
     "name": "stdout",
     "output_type": "stream",
     "text": [
      "Zetalpa, Primal Dawn\n"
     ]
    },
    {
     "name": "stderr",
     "output_type": "stream",
     "text": [
      "WARNING: Couldn't write lextab module <module 'slimit.lextab' from 'C:\\\\Users\\\\alexg\\\\Anaconda3\\\\lib\\\\site-packages\\\\slimit\\\\lextab.py'>. Won't overwrite existing lextab module\n",
      "WARNING: yacc table file version is out of date\n",
      "WARNING: Token 'BLOCK_COMMENT' defined, but not used\n",
      "WARNING: Token 'CLASS' defined, but not used\n",
      "WARNING: Token 'CONST' defined, but not used\n",
      "WARNING: Token 'ENUM' defined, but not used\n",
      "WARNING: Token 'EXPORT' defined, but not used\n",
      "WARNING: Token 'EXTENDS' defined, but not used\n",
      "WARNING: Token 'IMPORT' defined, but not used\n",
      "WARNING: Token 'LINE_COMMENT' defined, but not used\n",
      "WARNING: Token 'LINE_TERMINATOR' defined, but not used\n",
      "WARNING: Token 'SUPER' defined, but not used\n",
      "WARNING: There are 10 unused tokens\n",
      "WARNING: Couldn't create <module 'slimit.yacctab' from 'C:\\\\Users\\\\alexg\\\\Anaconda3\\\\lib\\\\site-packages\\\\slimit\\\\yacctab.py'>. Won't overwrite existing tabmodule\n"
     ]
    },
    {
     "name": "stdout",
     "output_type": "stream",
     "text": [
      "Trapjaw Tyrant\n"
     ]
    },
    {
     "name": "stderr",
     "output_type": "stream",
     "text": [
      "WARNING: Couldn't write lextab module <module 'slimit.lextab' from 'C:\\\\Users\\\\alexg\\\\Anaconda3\\\\lib\\\\site-packages\\\\slimit\\\\lextab.py'>. Won't overwrite existing lextab module\n",
      "WARNING: yacc table file version is out of date\n",
      "WARNING: Token 'BLOCK_COMMENT' defined, but not used\n",
      "WARNING: Token 'CLASS' defined, but not used\n",
      "WARNING: Token 'CONST' defined, but not used\n",
      "WARNING: Token 'ENUM' defined, but not used\n",
      "WARNING: Token 'EXPORT' defined, but not used\n",
      "WARNING: Token 'EXTENDS' defined, but not used\n",
      "WARNING: Token 'IMPORT' defined, but not used\n",
      "WARNING: Token 'LINE_COMMENT' defined, but not used\n",
      "WARNING: Token 'LINE_TERMINATOR' defined, but not used\n",
      "WARNING: Token 'SUPER' defined, but not used\n",
      "WARNING: There are 10 unused tokens\n",
      "WARNING: Couldn't create <module 'slimit.yacctab' from 'C:\\\\Users\\\\alexg\\\\Anaconda3\\\\lib\\\\site-packages\\\\slimit\\\\yacctab.py'>. Won't overwrite existing tabmodule\n"
     ]
    },
    {
     "name": "stdout",
     "output_type": "stream",
     "text": [
      "Temple Altisaur\n"
     ]
    },
    {
     "name": "stderr",
     "output_type": "stream",
     "text": [
      "WARNING: Couldn't write lextab module <module 'slimit.lextab' from 'C:\\\\Users\\\\alexg\\\\Anaconda3\\\\lib\\\\site-packages\\\\slimit\\\\lextab.py'>. Won't overwrite existing lextab module\n",
      "WARNING: yacc table file version is out of date\n",
      "WARNING: Token 'BLOCK_COMMENT' defined, but not used\n",
      "WARNING: Token 'CLASS' defined, but not used\n",
      "WARNING: Token 'CONST' defined, but not used\n",
      "WARNING: Token 'ENUM' defined, but not used\n",
      "WARNING: Token 'EXPORT' defined, but not used\n",
      "WARNING: Token 'EXTENDS' defined, but not used\n",
      "WARNING: Token 'IMPORT' defined, but not used\n",
      "WARNING: Token 'LINE_COMMENT' defined, but not used\n",
      "WARNING: Token 'LINE_TERMINATOR' defined, but not used\n",
      "WARNING: Token 'SUPER' defined, but not used\n",
      "WARNING: There are 10 unused tokens\n",
      "WARNING: Couldn't create <module 'slimit.yacctab' from 'C:\\\\Users\\\\alexg\\\\Anaconda3\\\\lib\\\\site-packages\\\\slimit\\\\yacctab.py'>. Won't overwrite existing tabmodule\n"
     ]
    },
    {
     "name": "stdout",
     "output_type": "stream",
     "text": [
      "Sun-Crested Pterodon\n"
     ]
    },
    {
     "name": "stderr",
     "output_type": "stream",
     "text": [
      "WARNING: Couldn't write lextab module <module 'slimit.lextab' from 'C:\\\\Users\\\\alexg\\\\Anaconda3\\\\lib\\\\site-packages\\\\slimit\\\\lextab.py'>. Won't overwrite existing lextab module\n",
      "WARNING: yacc table file version is out of date\n",
      "WARNING: Token 'BLOCK_COMMENT' defined, but not used\n",
      "WARNING: Token 'CLASS' defined, but not used\n",
      "WARNING: Token 'CONST' defined, but not used\n",
      "WARNING: Token 'ENUM' defined, but not used\n",
      "WARNING: Token 'EXPORT' defined, but not used\n",
      "WARNING: Token 'EXTENDS' defined, but not used\n",
      "WARNING: Token 'IMPORT' defined, but not used\n",
      "WARNING: Token 'LINE_COMMENT' defined, but not used\n",
      "WARNING: Token 'LINE_TERMINATOR' defined, but not used\n",
      "WARNING: Token 'SUPER' defined, but not used\n",
      "WARNING: There are 10 unused tokens\n",
      "WARNING: Couldn't create <module 'slimit.yacctab' from 'C:\\\\Users\\\\alexg\\\\Anaconda3\\\\lib\\\\site-packages\\\\slimit\\\\yacctab.py'>. Won't overwrite existing tabmodule\n"
     ]
    },
    {
     "name": "stdout",
     "output_type": "stream",
     "text": [
      "Sun Sentinel\n"
     ]
    },
    {
     "name": "stderr",
     "output_type": "stream",
     "text": [
      "WARNING: Couldn't write lextab module <module 'slimit.lextab' from 'C:\\\\Users\\\\alexg\\\\Anaconda3\\\\lib\\\\site-packages\\\\slimit\\\\lextab.py'>. Won't overwrite existing lextab module\n",
      "WARNING: yacc table file version is out of date\n",
      "WARNING: Token 'BLOCK_COMMENT' defined, but not used\n",
      "WARNING: Token 'CLASS' defined, but not used\n",
      "WARNING: Token 'CONST' defined, but not used\n",
      "WARNING: Token 'ENUM' defined, but not used\n",
      "WARNING: Token 'EXPORT' defined, but not used\n",
      "WARNING: Token 'EXTENDS' defined, but not used\n",
      "WARNING: Token 'IMPORT' defined, but not used\n",
      "WARNING: Token 'LINE_COMMENT' defined, but not used\n",
      "WARNING: Token 'LINE_TERMINATOR' defined, but not used\n",
      "WARNING: Token 'SUPER' defined, but not used\n",
      "WARNING: There are 10 unused tokens\n",
      "WARNING: Couldn't create <module 'slimit.yacctab' from 'C:\\\\Users\\\\alexg\\\\Anaconda3\\\\lib\\\\site-packages\\\\slimit\\\\yacctab.py'>. Won't overwrite existing tabmodule\n"
     ]
    },
    {
     "name": "stdout",
     "output_type": "stream",
     "text": [
      "Squire's Devotion\n"
     ]
    },
    {
     "name": "stderr",
     "output_type": "stream",
     "text": [
      "WARNING: Couldn't write lextab module <module 'slimit.lextab' from 'C:\\\\Users\\\\alexg\\\\Anaconda3\\\\lib\\\\site-packages\\\\slimit\\\\lextab.py'>. Won't overwrite existing lextab module\n",
      "WARNING: yacc table file version is out of date\n",
      "WARNING: Token 'BLOCK_COMMENT' defined, but not used\n",
      "WARNING: Token 'CLASS' defined, but not used\n",
      "WARNING: Token 'CONST' defined, but not used\n",
      "WARNING: Token 'ENUM' defined, but not used\n",
      "WARNING: Token 'EXPORT' defined, but not used\n",
      "WARNING: Token 'EXTENDS' defined, but not used\n",
      "WARNING: Token 'IMPORT' defined, but not used\n",
      "WARNING: Token 'LINE_COMMENT' defined, but not used\n",
      "WARNING: Token 'LINE_TERMINATOR' defined, but not used\n",
      "WARNING: Token 'SUPER' defined, but not used\n",
      "WARNING: There are 10 unused tokens\n",
      "WARNING: Couldn't create <module 'slimit.yacctab' from 'C:\\\\Users\\\\alexg\\\\Anaconda3\\\\lib\\\\site-packages\\\\slimit\\\\yacctab.py'>. Won't overwrite existing tabmodule\n"
     ]
    },
    {
     "name": "stdout",
     "output_type": "stream",
     "text": [
      "Sphinx's Decree\n"
     ]
    },
    {
     "name": "stderr",
     "output_type": "stream",
     "text": [
      "WARNING: Couldn't write lextab module <module 'slimit.lextab' from 'C:\\\\Users\\\\alexg\\\\Anaconda3\\\\lib\\\\site-packages\\\\slimit\\\\lextab.py'>. Won't overwrite existing lextab module\n",
      "WARNING: yacc table file version is out of date\n",
      "WARNING: Token 'BLOCK_COMMENT' defined, but not used\n",
      "WARNING: Token 'CLASS' defined, but not used\n",
      "WARNING: Token 'CONST' defined, but not used\n",
      "WARNING: Token 'ENUM' defined, but not used\n",
      "WARNING: Token 'EXPORT' defined, but not used\n",
      "WARNING: Token 'EXTENDS' defined, but not used\n",
      "WARNING: Token 'IMPORT' defined, but not used\n",
      "WARNING: Token 'LINE_COMMENT' defined, but not used\n",
      "WARNING: Token 'LINE_TERMINATOR' defined, but not used\n",
      "WARNING: Token 'SUPER' defined, but not used\n",
      "WARNING: There are 10 unused tokens\n",
      "WARNING: Couldn't create <module 'slimit.yacctab' from 'C:\\\\Users\\\\alexg\\\\Anaconda3\\\\lib\\\\site-packages\\\\slimit\\\\yacctab.py'>. Won't overwrite existing tabmodule\n"
     ]
    },
    {
     "name": "stdout",
     "output_type": "stream",
     "text": [
      "Snubhorn Sentry\n"
     ]
    },
    {
     "name": "stderr",
     "output_type": "stream",
     "text": [
      "WARNING: Couldn't write lextab module <module 'slimit.lextab' from 'C:\\\\Users\\\\alexg\\\\Anaconda3\\\\lib\\\\site-packages\\\\slimit\\\\lextab.py'>. Won't overwrite existing lextab module\n",
      "WARNING: yacc table file version is out of date\n",
      "WARNING: Token 'BLOCK_COMMENT' defined, but not used\n",
      "WARNING: Token 'CLASS' defined, but not used\n",
      "WARNING: Token 'CONST' defined, but not used\n",
      "WARNING: Token 'ENUM' defined, but not used\n",
      "WARNING: Token 'EXPORT' defined, but not used\n",
      "WARNING: Token 'EXTENDS' defined, but not used\n",
      "WARNING: Token 'IMPORT' defined, but not used\n",
      "WARNING: Token 'LINE_COMMENT' defined, but not used\n",
      "WARNING: Token 'LINE_TERMINATOR' defined, but not used\n",
      "WARNING: Token 'SUPER' defined, but not used\n",
      "WARNING: There are 10 unused tokens\n",
      "WARNING: Couldn't create <module 'slimit.yacctab' from 'C:\\\\Users\\\\alexg\\\\Anaconda3\\\\lib\\\\site-packages\\\\slimit\\\\yacctab.py'>. Won't overwrite existing tabmodule\n"
     ]
    },
    {
     "name": "stdout",
     "output_type": "stream",
     "text": [
      "Slaughter the Strong\n"
     ]
    },
    {
     "name": "stderr",
     "output_type": "stream",
     "text": [
      "WARNING: Couldn't write lextab module <module 'slimit.lextab' from 'C:\\\\Users\\\\alexg\\\\Anaconda3\\\\lib\\\\site-packages\\\\slimit\\\\lextab.py'>. Won't overwrite existing lextab module\n",
      "WARNING: yacc table file version is out of date\n",
      "WARNING: Token 'BLOCK_COMMENT' defined, but not used\n",
      "WARNING: Token 'CLASS' defined, but not used\n",
      "WARNING: Token 'CONST' defined, but not used\n",
      "WARNING: Token 'ENUM' defined, but not used\n",
      "WARNING: Token 'EXPORT' defined, but not used\n",
      "WARNING: Token 'EXTENDS' defined, but not used\n",
      "WARNING: Token 'IMPORT' defined, but not used\n",
      "WARNING: Token 'LINE_COMMENT' defined, but not used\n",
      "WARNING: Token 'LINE_TERMINATOR' defined, but not used\n",
      "WARNING: Token 'SUPER' defined, but not used\n",
      "WARNING: There are 10 unused tokens\n",
      "WARNING: Couldn't create <module 'slimit.yacctab' from 'C:\\\\Users\\\\alexg\\\\Anaconda3\\\\lib\\\\site-packages\\\\slimit\\\\yacctab.py'>. Won't overwrite existing tabmodule\n"
     ]
    },
    {
     "name": "stdout",
     "output_type": "stream",
     "text": [
      "Skymarcher Aspirant\n"
     ]
    },
    {
     "name": "stderr",
     "output_type": "stream",
     "text": [
      "WARNING: Couldn't write lextab module <module 'slimit.lextab' from 'C:\\\\Users\\\\alexg\\\\Anaconda3\\\\lib\\\\site-packages\\\\slimit\\\\lextab.py'>. Won't overwrite existing lextab module\n",
      "WARNING: yacc table file version is out of date\n",
      "WARNING: Token 'BLOCK_COMMENT' defined, but not used\n",
      "WARNING: Token 'CLASS' defined, but not used\n",
      "WARNING: Token 'CONST' defined, but not used\n",
      "WARNING: Token 'ENUM' defined, but not used\n",
      "WARNING: Token 'EXPORT' defined, but not used\n",
      "WARNING: Token 'EXTENDS' defined, but not used\n",
      "WARNING: Token 'IMPORT' defined, but not used\n",
      "WARNING: Token 'LINE_COMMENT' defined, but not used\n",
      "WARNING: Token 'LINE_TERMINATOR' defined, but not used\n",
      "WARNING: Token 'SUPER' defined, but not used\n",
      "WARNING: There are 10 unused tokens\n",
      "WARNING: Couldn't create <module 'slimit.yacctab' from 'C:\\\\Users\\\\alexg\\\\Anaconda3\\\\lib\\\\site-packages\\\\slimit\\\\yacctab.py'>. Won't overwrite existing tabmodule\n"
     ]
    },
    {
     "name": "stdout",
     "output_type": "stream",
     "text": [
      "Sanguine Glorifier\n"
     ]
    },
    {
     "name": "stderr",
     "output_type": "stream",
     "text": [
      "WARNING: Couldn't write lextab module <module 'slimit.lextab' from 'C:\\\\Users\\\\alexg\\\\Anaconda3\\\\lib\\\\site-packages\\\\slimit\\\\lextab.py'>. Won't overwrite existing lextab module\n",
      "WARNING: yacc table file version is out of date\n",
      "WARNING: Token 'BLOCK_COMMENT' defined, but not used\n",
      "WARNING: Token 'CLASS' defined, but not used\n",
      "WARNING: Token 'CONST' defined, but not used\n",
      "WARNING: Token 'ENUM' defined, but not used\n",
      "WARNING: Token 'EXPORT' defined, but not used\n",
      "WARNING: Token 'EXTENDS' defined, but not used\n",
      "WARNING: Token 'IMPORT' defined, but not used\n",
      "WARNING: Token 'LINE_COMMENT' defined, but not used\n",
      "WARNING: Token 'LINE_TERMINATOR' defined, but not used\n",
      "WARNING: Token 'SUPER' defined, but not used\n",
      "WARNING: There are 10 unused tokens\n",
      "WARNING: Couldn't create <module 'slimit.yacctab' from 'C:\\\\Users\\\\alexg\\\\Anaconda3\\\\lib\\\\site-packages\\\\slimit\\\\yacctab.py'>. Won't overwrite existing tabmodule\n"
     ]
    },
    {
     "name": "stdout",
     "output_type": "stream",
     "text": [
      "Raptor Companion\n"
     ]
    },
    {
     "name": "stderr",
     "output_type": "stream",
     "text": [
      "WARNING: Couldn't write lextab module <module 'slimit.lextab' from 'C:\\\\Users\\\\alexg\\\\Anaconda3\\\\lib\\\\site-packages\\\\slimit\\\\lextab.py'>. Won't overwrite existing lextab module\n",
      "WARNING: yacc table file version is out of date\n",
      "WARNING: Token 'BLOCK_COMMENT' defined, but not used\n",
      "WARNING: Token 'CLASS' defined, but not used\n",
      "WARNING: Token 'CONST' defined, but not used\n",
      "WARNING: Token 'ENUM' defined, but not used\n",
      "WARNING: Token 'EXPORT' defined, but not used\n",
      "WARNING: Token 'EXTENDS' defined, but not used\n",
      "WARNING: Token 'IMPORT' defined, but not used\n",
      "WARNING: Token 'LINE_COMMENT' defined, but not used\n",
      "WARNING: Token 'LINE_TERMINATOR' defined, but not used\n",
      "WARNING: Token 'SUPER' defined, but not used\n",
      "WARNING: There are 10 unused tokens\n",
      "WARNING: Couldn't create <module 'slimit.yacctab' from 'C:\\\\Users\\\\alexg\\\\Anaconda3\\\\lib\\\\site-packages\\\\slimit\\\\yacctab.py'>. Won't overwrite existing tabmodule\n"
     ]
    },
    {
     "name": "stdout",
     "output_type": "stream",
     "text": [
      "Radiant Destiny\n"
     ]
    },
    {
     "name": "stderr",
     "output_type": "stream",
     "text": [
      "WARNING: Couldn't write lextab module <module 'slimit.lextab' from 'C:\\\\Users\\\\alexg\\\\Anaconda3\\\\lib\\\\site-packages\\\\slimit\\\\lextab.py'>. Won't overwrite existing lextab module\n",
      "WARNING: yacc table file version is out of date\n",
      "WARNING: Token 'BLOCK_COMMENT' defined, but not used\n",
      "WARNING: Token 'CLASS' defined, but not used\n",
      "WARNING: Token 'CONST' defined, but not used\n",
      "WARNING: Token 'ENUM' defined, but not used\n",
      "WARNING: Token 'EXPORT' defined, but not used\n",
      "WARNING: Token 'EXTENDS' defined, but not used\n",
      "WARNING: Token 'IMPORT' defined, but not used\n",
      "WARNING: Token 'LINE_COMMENT' defined, but not used\n",
      "WARNING: Token 'LINE_TERMINATOR' defined, but not used\n",
      "WARNING: Token 'SUPER' defined, but not used\n",
      "WARNING: There are 10 unused tokens\n",
      "WARNING: Couldn't create <module 'slimit.yacctab' from 'C:\\\\Users\\\\alexg\\\\Anaconda3\\\\lib\\\\site-packages\\\\slimit\\\\yacctab.py'>. Won't overwrite existing tabmodule\n"
     ]
    },
    {
     "name": "stdout",
     "output_type": "stream",
     "text": [
      "Pride of Conquerors\n"
     ]
    },
    {
     "name": "stderr",
     "output_type": "stream",
     "text": [
      "WARNING: Couldn't write lextab module <module 'slimit.lextab' from 'C:\\\\Users\\\\alexg\\\\Anaconda3\\\\lib\\\\site-packages\\\\slimit\\\\lextab.py'>. Won't overwrite existing lextab module\n",
      "WARNING: yacc table file version is out of date\n",
      "WARNING: Token 'BLOCK_COMMENT' defined, but not used\n",
      "WARNING: Token 'CLASS' defined, but not used\n",
      "WARNING: Token 'CONST' defined, but not used\n",
      "WARNING: Token 'ENUM' defined, but not used\n",
      "WARNING: Token 'EXPORT' defined, but not used\n",
      "WARNING: Token 'EXTENDS' defined, but not used\n",
      "WARNING: Token 'IMPORT' defined, but not used\n",
      "WARNING: Token 'LINE_COMMENT' defined, but not used\n",
      "WARNING: Token 'LINE_TERMINATOR' defined, but not used\n",
      "WARNING: Token 'SUPER' defined, but not used\n",
      "WARNING: There are 10 unused tokens\n",
      "WARNING: Couldn't create <module 'slimit.yacctab' from 'C:\\\\Users\\\\alexg\\\\Anaconda3\\\\lib\\\\site-packages\\\\slimit\\\\yacctab.py'>. Won't overwrite existing tabmodule\n"
     ]
    },
    {
     "name": "stdout",
     "output_type": "stream",
     "text": [
      "Paladin of Atonement\n"
     ]
    },
    {
     "name": "stderr",
     "output_type": "stream",
     "text": [
      "WARNING: Couldn't write lextab module <module 'slimit.lextab' from 'C:\\\\Users\\\\alexg\\\\Anaconda3\\\\lib\\\\site-packages\\\\slimit\\\\lextab.py'>. Won't overwrite existing lextab module\n",
      "WARNING: yacc table file version is out of date\n",
      "WARNING: Token 'BLOCK_COMMENT' defined, but not used\n",
      "WARNING: Token 'CLASS' defined, but not used\n",
      "WARNING: Token 'CONST' defined, but not used\n",
      "WARNING: Token 'ENUM' defined, but not used\n",
      "WARNING: Token 'EXPORT' defined, but not used\n",
      "WARNING: Token 'EXTENDS' defined, but not used\n",
      "WARNING: Token 'IMPORT' defined, but not used\n",
      "WARNING: Token 'LINE_COMMENT' defined, but not used\n",
      "WARNING: Token 'LINE_TERMINATOR' defined, but not used\n",
      "WARNING: Token 'SUPER' defined, but not used\n",
      "WARNING: There are 10 unused tokens\n",
      "WARNING: Couldn't create <module 'slimit.yacctab' from 'C:\\\\Users\\\\alexg\\\\Anaconda3\\\\lib\\\\site-packages\\\\slimit\\\\yacctab.py'>. Won't overwrite existing tabmodule\n"
     ]
    },
    {
     "name": "stdout",
     "output_type": "stream",
     "text": [
      "Moment of Triumph\n"
     ]
    },
    {
     "name": "stderr",
     "output_type": "stream",
     "text": [
      "WARNING: Couldn't write lextab module <module 'slimit.lextab' from 'C:\\\\Users\\\\alexg\\\\Anaconda3\\\\lib\\\\site-packages\\\\slimit\\\\lextab.py'>. Won't overwrite existing lextab module\n",
      "WARNING: yacc table file version is out of date\n",
      "WARNING: Token 'BLOCK_COMMENT' defined, but not used\n",
      "WARNING: Token 'CLASS' defined, but not used\n",
      "WARNING: Token 'CONST' defined, but not used\n",
      "WARNING: Token 'ENUM' defined, but not used\n",
      "WARNING: Token 'EXPORT' defined, but not used\n",
      "WARNING: Token 'EXTENDS' defined, but not used\n",
      "WARNING: Token 'IMPORT' defined, but not used\n",
      "WARNING: Token 'LINE_COMMENT' defined, but not used\n",
      "WARNING: Token 'LINE_TERMINATOR' defined, but not used\n",
      "WARNING: Token 'SUPER' defined, but not used\n",
      "WARNING: There are 10 unused tokens\n",
      "WARNING: Couldn't create <module 'slimit.yacctab' from 'C:\\\\Users\\\\alexg\\\\Anaconda3\\\\lib\\\\site-packages\\\\slimit\\\\yacctab.py'>. Won't overwrite existing tabmodule\n"
     ]
    },
    {
     "name": "stdout",
     "output_type": "stream",
     "text": [
      "Martyr of Dusk\n"
     ]
    },
    {
     "name": "stderr",
     "output_type": "stream",
     "text": [
      "WARNING: Couldn't write lextab module <module 'slimit.lextab' from 'C:\\\\Users\\\\alexg\\\\Anaconda3\\\\lib\\\\site-packages\\\\slimit\\\\lextab.py'>. Won't overwrite existing lextab module\n",
      "WARNING: yacc table file version is out of date\n",
      "WARNING: Token 'BLOCK_COMMENT' defined, but not used\n",
      "WARNING: Token 'CLASS' defined, but not used\n",
      "WARNING: Token 'CONST' defined, but not used\n",
      "WARNING: Token 'ENUM' defined, but not used\n",
      "WARNING: Token 'EXPORT' defined, but not used\n",
      "WARNING: Token 'EXTENDS' defined, but not used\n",
      "WARNING: Token 'IMPORT' defined, but not used\n",
      "WARNING: Token 'LINE_COMMENT' defined, but not used\n",
      "WARNING: Token 'LINE_TERMINATOR' defined, but not used\n",
      "WARNING: Token 'SUPER' defined, but not used\n",
      "WARNING: There are 10 unused tokens\n",
      "WARNING: Couldn't create <module 'slimit.yacctab' from 'C:\\\\Users\\\\alexg\\\\Anaconda3\\\\lib\\\\site-packages\\\\slimit\\\\yacctab.py'>. Won't overwrite existing tabmodule\n"
     ]
    },
    {
     "name": "stdout",
     "output_type": "stream",
     "text": [
      "Majestic Heliopterus\n"
     ]
    },
    {
     "name": "stderr",
     "output_type": "stream",
     "text": [
      "WARNING: Couldn't write lextab module <module 'slimit.lextab' from 'C:\\\\Users\\\\alexg\\\\Anaconda3\\\\lib\\\\site-packages\\\\slimit\\\\lextab.py'>. Won't overwrite existing lextab module\n",
      "WARNING: yacc table file version is out of date\n",
      "WARNING: Token 'BLOCK_COMMENT' defined, but not used\n",
      "WARNING: Token 'CLASS' defined, but not used\n",
      "WARNING: Token 'CONST' defined, but not used\n",
      "WARNING: Token 'ENUM' defined, but not used\n",
      "WARNING: Token 'EXPORT' defined, but not used\n",
      "WARNING: Token 'EXTENDS' defined, but not used\n",
      "WARNING: Token 'IMPORT' defined, but not used\n",
      "WARNING: Token 'LINE_COMMENT' defined, but not used\n",
      "WARNING: Token 'LINE_TERMINATOR' defined, but not used\n",
      "WARNING: Token 'SUPER' defined, but not used\n",
      "WARNING: There are 10 unused tokens\n",
      "WARNING: Couldn't create <module 'slimit.yacctab' from 'C:\\\\Users\\\\alexg\\\\Anaconda3\\\\lib\\\\site-packages\\\\slimit\\\\yacctab.py'>. Won't overwrite existing tabmodule\n"
     ]
    },
    {
     "name": "stdout",
     "output_type": "stream",
     "text": [
      "Luminous Bonds\n"
     ]
    },
    {
     "name": "stderr",
     "output_type": "stream",
     "text": [
      "WARNING: Couldn't write lextab module <module 'slimit.lextab' from 'C:\\\\Users\\\\alexg\\\\Anaconda3\\\\lib\\\\site-packages\\\\slimit\\\\lextab.py'>. Won't overwrite existing lextab module\n",
      "WARNING: yacc table file version is out of date\n",
      "WARNING: Token 'BLOCK_COMMENT' defined, but not used\n",
      "WARNING: Token 'CLASS' defined, but not used\n",
      "WARNING: Token 'CONST' defined, but not used\n",
      "WARNING: Token 'ENUM' defined, but not used\n",
      "WARNING: Token 'EXPORT' defined, but not used\n",
      "WARNING: Token 'EXTENDS' defined, but not used\n",
      "WARNING: Token 'IMPORT' defined, but not used\n",
      "WARNING: Token 'LINE_COMMENT' defined, but not used\n",
      "WARNING: Token 'LINE_TERMINATOR' defined, but not used\n",
      "WARNING: Token 'SUPER' defined, but not used\n",
      "WARNING: There are 10 unused tokens\n",
      "WARNING: Couldn't create <module 'slimit.yacctab' from 'C:\\\\Users\\\\alexg\\\\Anaconda3\\\\lib\\\\site-packages\\\\slimit\\\\yacctab.py'>. Won't overwrite existing tabmodule\n"
     ]
    },
    {
     "name": "stdout",
     "output_type": "stream",
     "text": [
      "Legion Conquistador\n"
     ]
    },
    {
     "name": "stderr",
     "output_type": "stream",
     "text": [
      "WARNING: Couldn't write lextab module <module 'slimit.lextab' from 'C:\\\\Users\\\\alexg\\\\Anaconda3\\\\lib\\\\site-packages\\\\slimit\\\\lextab.py'>. Won't overwrite existing lextab module\n",
      "WARNING: yacc table file version is out of date\n",
      "WARNING: Token 'BLOCK_COMMENT' defined, but not used\n",
      "WARNING: Token 'CLASS' defined, but not used\n",
      "WARNING: Token 'CONST' defined, but not used\n",
      "WARNING: Token 'ENUM' defined, but not used\n",
      "WARNING: Token 'EXPORT' defined, but not used\n",
      "WARNING: Token 'EXTENDS' defined, but not used\n",
      "WARNING: Token 'IMPORT' defined, but not used\n",
      "WARNING: Token 'LINE_COMMENT' defined, but not used\n",
      "WARNING: Token 'LINE_TERMINATOR' defined, but not used\n",
      "WARNING: Token 'SUPER' defined, but not used\n",
      "WARNING: There are 10 unused tokens\n",
      "WARNING: Couldn't create <module 'slimit.yacctab' from 'C:\\\\Users\\\\alexg\\\\Anaconda3\\\\lib\\\\site-packages\\\\slimit\\\\yacctab.py'>. Won't overwrite existing tabmodule\n"
     ]
    },
    {
     "name": "stdout",
     "output_type": "stream",
     "text": [
      "Imperial Ceratops\n"
     ]
    },
    {
     "name": "stderr",
     "output_type": "stream",
     "text": [
      "WARNING: Couldn't write lextab module <module 'slimit.lextab' from 'C:\\\\Users\\\\alexg\\\\Anaconda3\\\\lib\\\\site-packages\\\\slimit\\\\lextab.py'>. Won't overwrite existing lextab module\n",
      "WARNING: yacc table file version is out of date\n",
      "WARNING: Token 'BLOCK_COMMENT' defined, but not used\n",
      "WARNING: Token 'CLASS' defined, but not used\n",
      "WARNING: Token 'CONST' defined, but not used\n",
      "WARNING: Token 'ENUM' defined, but not used\n",
      "WARNING: Token 'EXPORT' defined, but not used\n",
      "WARNING: Token 'EXTENDS' defined, but not used\n",
      "WARNING: Token 'IMPORT' defined, but not used\n",
      "WARNING: Token 'LINE_COMMENT' defined, but not used\n",
      "WARNING: Token 'LINE_TERMINATOR' defined, but not used\n",
      "WARNING: Token 'SUPER' defined, but not used\n",
      "WARNING: There are 10 unused tokens\n",
      "WARNING: Couldn't create <module 'slimit.yacctab' from 'C:\\\\Users\\\\alexg\\\\Anaconda3\\\\lib\\\\site-packages\\\\slimit\\\\yacctab.py'>. Won't overwrite existing tabmodule\n"
     ]
    },
    {
     "name": "stdout",
     "output_type": "stream",
     "text": [
      "Forerunner of the Legion\n"
     ]
    },
    {
     "name": "stderr",
     "output_type": "stream",
     "text": [
      "WARNING: Couldn't write lextab module <module 'slimit.lextab' from 'C:\\\\Users\\\\alexg\\\\Anaconda3\\\\lib\\\\site-packages\\\\slimit\\\\lextab.py'>. Won't overwrite existing lextab module\n",
      "WARNING: yacc table file version is out of date\n",
      "WARNING: Token 'BLOCK_COMMENT' defined, but not used\n",
      "WARNING: Token 'CLASS' defined, but not used\n",
      "WARNING: Token 'CONST' defined, but not used\n",
      "WARNING: Token 'ENUM' defined, but not used\n",
      "WARNING: Token 'EXPORT' defined, but not used\n",
      "WARNING: Token 'EXTENDS' defined, but not used\n",
      "WARNING: Token 'IMPORT' defined, but not used\n",
      "WARNING: Token 'LINE_COMMENT' defined, but not used\n",
      "WARNING: Token 'LINE_TERMINATOR' defined, but not used\n",
      "WARNING: Token 'SUPER' defined, but not used\n",
      "WARNING: There are 10 unused tokens\n",
      "WARNING: Couldn't create <module 'slimit.yacctab' from 'C:\\\\Users\\\\alexg\\\\Anaconda3\\\\lib\\\\site-packages\\\\slimit\\\\yacctab.py'>. Won't overwrite existing tabmodule\n"
     ]
    },
    {
     "name": "stdout",
     "output_type": "stream",
     "text": [
      "Famished Paladin\n"
     ]
    },
    {
     "name": "stderr",
     "output_type": "stream",
     "text": [
      "WARNING: Couldn't write lextab module <module 'slimit.lextab' from 'C:\\\\Users\\\\alexg\\\\Anaconda3\\\\lib\\\\site-packages\\\\slimit\\\\lextab.py'>. Won't overwrite existing lextab module\n",
      "WARNING: yacc table file version is out of date\n",
      "WARNING: Token 'BLOCK_COMMENT' defined, but not used\n",
      "WARNING: Token 'CLASS' defined, but not used\n",
      "WARNING: Token 'CONST' defined, but not used\n",
      "WARNING: Token 'ENUM' defined, but not used\n",
      "WARNING: Token 'EXPORT' defined, but not used\n",
      "WARNING: Token 'EXTENDS' defined, but not used\n",
      "WARNING: Token 'IMPORT' defined, but not used\n",
      "WARNING: Token 'LINE_COMMENT' defined, but not used\n",
      "WARNING: Token 'LINE_TERMINATOR' defined, but not used\n",
      "WARNING: Token 'SUPER' defined, but not used\n",
      "WARNING: There are 10 unused tokens\n",
      "WARNING: Couldn't create <module 'slimit.yacctab' from 'C:\\\\Users\\\\alexg\\\\Anaconda3\\\\lib\\\\site-packages\\\\slimit\\\\yacctab.py'>. Won't overwrite existing tabmodule\n"
     ]
    },
    {
     "name": "stdout",
     "output_type": "stream",
     "text": [
      "Exultant Skymarcher\n"
     ]
    },
    {
     "name": "stderr",
     "output_type": "stream",
     "text": [
      "WARNING: Couldn't write lextab module <module 'slimit.lextab' from 'C:\\\\Users\\\\alexg\\\\Anaconda3\\\\lib\\\\site-packages\\\\slimit\\\\lextab.py'>. Won't overwrite existing lextab module\n",
      "WARNING: yacc table file version is out of date\n",
      "WARNING: Token 'BLOCK_COMMENT' defined, but not used\n",
      "WARNING: Token 'CLASS' defined, but not used\n",
      "WARNING: Token 'CONST' defined, but not used\n",
      "WARNING: Token 'ENUM' defined, but not used\n",
      "WARNING: Token 'EXPORT' defined, but not used\n",
      "WARNING: Token 'EXTENDS' defined, but not used\n",
      "WARNING: Token 'IMPORT' defined, but not used\n",
      "WARNING: Token 'LINE_COMMENT' defined, but not used\n",
      "WARNING: Token 'LINE_TERMINATOR' defined, but not used\n",
      "WARNING: Token 'SUPER' defined, but not used\n",
      "WARNING: There are 10 unused tokens\n",
      "WARNING: Couldn't create <module 'slimit.yacctab' from 'C:\\\\Users\\\\alexg\\\\Anaconda3\\\\lib\\\\site-packages\\\\slimit\\\\yacctab.py'>. Won't overwrite existing tabmodule\n"
     ]
    },
    {
     "name": "stdout",
     "output_type": "stream",
     "text": [
      "Everdawn Champion\n"
     ]
    },
    {
     "name": "stderr",
     "output_type": "stream",
     "text": [
      "WARNING: Couldn't write lextab module <module 'slimit.lextab' from 'C:\\\\Users\\\\alexg\\\\Anaconda3\\\\lib\\\\site-packages\\\\slimit\\\\lextab.py'>. Won't overwrite existing lextab module\n",
      "WARNING: yacc table file version is out of date\n",
      "WARNING: Token 'BLOCK_COMMENT' defined, but not used\n",
      "WARNING: Token 'CLASS' defined, but not used\n",
      "WARNING: Token 'CONST' defined, but not used\n",
      "WARNING: Token 'ENUM' defined, but not used\n",
      "WARNING: Token 'EXPORT' defined, but not used\n",
      "WARNING: Token 'EXTENDS' defined, but not used\n",
      "WARNING: Token 'IMPORT' defined, but not used\n",
      "WARNING: Token 'LINE_COMMENT' defined, but not used\n",
      "WARNING: Token 'LINE_TERMINATOR' defined, but not used\n",
      "WARNING: Token 'SUPER' defined, but not used\n",
      "WARNING: There are 10 unused tokens\n",
      "WARNING: Couldn't create <module 'slimit.yacctab' from 'C:\\\\Users\\\\alexg\\\\Anaconda3\\\\lib\\\\site-packages\\\\slimit\\\\yacctab.py'>. Won't overwrite existing tabmodule\n"
     ]
    },
    {
     "name": "stdout",
     "output_type": "stream",
     "text": [
      "Divine Verdict\n"
     ]
    },
    {
     "name": "stderr",
     "output_type": "stream",
     "text": [
      "WARNING: Couldn't write lextab module <module 'slimit.lextab' from 'C:\\\\Users\\\\alexg\\\\Anaconda3\\\\lib\\\\site-packages\\\\slimit\\\\lextab.py'>. Won't overwrite existing lextab module\n",
      "WARNING: yacc table file version is out of date\n",
      "WARNING: Token 'BLOCK_COMMENT' defined, but not used\n",
      "WARNING: Token 'CLASS' defined, but not used\n",
      "WARNING: Token 'CONST' defined, but not used\n",
      "WARNING: Token 'ENUM' defined, but not used\n",
      "WARNING: Token 'EXPORT' defined, but not used\n",
      "WARNING: Token 'EXTENDS' defined, but not used\n",
      "WARNING: Token 'IMPORT' defined, but not used\n",
      "WARNING: Token 'LINE_COMMENT' defined, but not used\n",
      "WARNING: Token 'LINE_TERMINATOR' defined, but not used\n",
      "WARNING: Token 'SUPER' defined, but not used\n",
      "WARNING: There are 10 unused tokens\n",
      "WARNING: Couldn't create <module 'slimit.yacctab' from 'C:\\\\Users\\\\alexg\\\\Anaconda3\\\\lib\\\\site-packages\\\\slimit\\\\yacctab.py'>. Won't overwrite existing tabmodule\n"
     ]
    },
    {
     "name": "stdout",
     "output_type": "stream",
     "text": [
      "Cleansing Ray\n"
     ]
    },
    {
     "name": "stderr",
     "output_type": "stream",
     "text": [
      "WARNING: Couldn't write lextab module <module 'slimit.lextab' from 'C:\\\\Users\\\\alexg\\\\Anaconda3\\\\lib\\\\site-packages\\\\slimit\\\\lextab.py'>. Won't overwrite existing lextab module\n",
      "WARNING: yacc table file version is out of date\n",
      "WARNING: Token 'BLOCK_COMMENT' defined, but not used\n",
      "WARNING: Token 'CLASS' defined, but not used\n",
      "WARNING: Token 'CONST' defined, but not used\n",
      "WARNING: Token 'ENUM' defined, but not used\n",
      "WARNING: Token 'EXPORT' defined, but not used\n",
      "WARNING: Token 'EXTENDS' defined, but not used\n",
      "WARNING: Token 'IMPORT' defined, but not used\n",
      "WARNING: Token 'LINE_COMMENT' defined, but not used\n",
      "WARNING: Token 'LINE_TERMINATOR' defined, but not used\n",
      "WARNING: Token 'SUPER' defined, but not used\n",
      "WARNING: There are 10 unused tokens\n",
      "WARNING: Couldn't create <module 'slimit.yacctab' from 'C:\\\\Users\\\\alexg\\\\Anaconda3\\\\lib\\\\site-packages\\\\slimit\\\\yacctab.py'>. Won't overwrite existing tabmodule\n"
     ]
    },
    {
     "name": "stdout",
     "output_type": "stream",
     "text": [
      "Blazing Hope\n"
     ]
    },
    {
     "name": "stderr",
     "output_type": "stream",
     "text": [
      "WARNING: Couldn't write lextab module <module 'slimit.lextab' from 'C:\\\\Users\\\\alexg\\\\Anaconda3\\\\lib\\\\site-packages\\\\slimit\\\\lextab.py'>. Won't overwrite existing lextab module\n",
      "WARNING: yacc table file version is out of date\n",
      "WARNING: Token 'BLOCK_COMMENT' defined, but not used\n",
      "WARNING: Token 'CLASS' defined, but not used\n",
      "WARNING: Token 'CONST' defined, but not used\n",
      "WARNING: Token 'ENUM' defined, but not used\n",
      "WARNING: Token 'EXPORT' defined, but not used\n",
      "WARNING: Token 'EXTENDS' defined, but not used\n",
      "WARNING: Token 'IMPORT' defined, but not used\n",
      "WARNING: Token 'LINE_COMMENT' defined, but not used\n",
      "WARNING: Token 'LINE_TERMINATOR' defined, but not used\n",
      "WARNING: Token 'SUPER' defined, but not used\n",
      "WARNING: There are 10 unused tokens\n",
      "WARNING: Couldn't create <module 'slimit.yacctab' from 'C:\\\\Users\\\\alexg\\\\Anaconda3\\\\lib\\\\site-packages\\\\slimit\\\\yacctab.py'>. Won't overwrite existing tabmodule\n"
     ]
    },
    {
     "name": "stdout",
     "output_type": "stream",
     "text": [
      "Bishop of Binding\n"
     ]
    },
    {
     "name": "stderr",
     "output_type": "stream",
     "text": [
      "WARNING: Couldn't write lextab module <module 'slimit.lextab' from 'C:\\\\Users\\\\alexg\\\\Anaconda3\\\\lib\\\\site-packages\\\\slimit\\\\lextab.py'>. Won't overwrite existing lextab module\n",
      "WARNING: yacc table file version is out of date\n",
      "WARNING: Token 'BLOCK_COMMENT' defined, but not used\n",
      "WARNING: Token 'CLASS' defined, but not used\n",
      "WARNING: Token 'CONST' defined, but not used\n",
      "WARNING: Token 'ENUM' defined, but not used\n",
      "WARNING: Token 'EXPORT' defined, but not used\n",
      "WARNING: Token 'EXTENDS' defined, but not used\n",
      "WARNING: Token 'IMPORT' defined, but not used\n",
      "WARNING: Token 'LINE_COMMENT' defined, but not used\n",
      "WARNING: Token 'LINE_TERMINATOR' defined, but not used\n",
      "WARNING: Token 'SUPER' defined, but not used\n",
      "WARNING: There are 10 unused tokens\n",
      "WARNING: Couldn't create <module 'slimit.yacctab' from 'C:\\\\Users\\\\alexg\\\\Anaconda3\\\\lib\\\\site-packages\\\\slimit\\\\yacctab.py'>. Won't overwrite existing tabmodule\n"
     ]
    },
    {
     "name": "stdout",
     "output_type": "stream",
     "text": [
      "Baffling End\n"
     ]
    },
    {
     "name": "stderr",
     "output_type": "stream",
     "text": [
      "WARNING: Couldn't write lextab module <module 'slimit.lextab' from 'C:\\\\Users\\\\alexg\\\\Anaconda3\\\\lib\\\\site-packages\\\\slimit\\\\lextab.py'>. Won't overwrite existing lextab module\n",
      "WARNING: yacc table file version is out of date\n",
      "WARNING: Token 'BLOCK_COMMENT' defined, but not used\n",
      "WARNING: Token 'CLASS' defined, but not used\n",
      "WARNING: Token 'CONST' defined, but not used\n",
      "WARNING: Token 'ENUM' defined, but not used\n",
      "WARNING: Token 'EXPORT' defined, but not used\n",
      "WARNING: Token 'EXTENDS' defined, but not used\n",
      "WARNING: Token 'IMPORT' defined, but not used\n",
      "WARNING: Token 'LINE_COMMENT' defined, but not used\n",
      "WARNING: Token 'LINE_TERMINATOR' defined, but not used\n",
      "WARNING: Token 'SUPER' defined, but not used\n",
      "WARNING: There are 10 unused tokens\n",
      "WARNING: Couldn't create <module 'slimit.yacctab' from 'C:\\\\Users\\\\alexg\\\\Anaconda3\\\\lib\\\\site-packages\\\\slimit\\\\yacctab.py'>. Won't overwrite existing tabmodule\n"
     ]
    },
    {
     "name": "stdout",
     "output_type": "stream",
     "text": [
      "Judge Gift Cards 2018\n",
      "Lord of Atlantis\n"
     ]
    },
    {
     "name": "stderr",
     "output_type": "stream",
     "text": [
      "WARNING: Couldn't write lextab module <module 'slimit.lextab' from 'C:\\\\Users\\\\alexg\\\\Anaconda3\\\\lib\\\\site-packages\\\\slimit\\\\lextab.py'>. Won't overwrite existing lextab module\n",
      "WARNING: yacc table file version is out of date\n",
      "WARNING: Token 'BLOCK_COMMENT' defined, but not used\n",
      "WARNING: Token 'CLASS' defined, but not used\n",
      "WARNING: Token 'CONST' defined, but not used\n",
      "WARNING: Token 'ENUM' defined, but not used\n",
      "WARNING: Token 'EXPORT' defined, but not used\n",
      "WARNING: Token 'EXTENDS' defined, but not used\n",
      "WARNING: Token 'IMPORT' defined, but not used\n",
      "WARNING: Token 'LINE_COMMENT' defined, but not used\n",
      "WARNING: Token 'LINE_TERMINATOR' defined, but not used\n",
      "WARNING: Token 'SUPER' defined, but not used\n",
      "WARNING: There are 10 unused tokens\n",
      "WARNING: Couldn't create <module 'slimit.yacctab' from 'C:\\\\Users\\\\alexg\\\\Anaconda3\\\\lib\\\\site-packages\\\\slimit\\\\yacctab.py'>. Won't overwrite existing tabmodule\n"
     ]
    },
    {
     "name": "stdout",
     "output_type": "stream",
     "text": [
      "Judge Gift Cards 2018 not a set on MTGPrice\n",
      "Unstable\n",
      "Forest\n"
     ]
    },
    {
     "name": "stderr",
     "output_type": "stream",
     "text": [
      "WARNING: Couldn't write lextab module <module 'slimit.lextab' from 'C:\\\\Users\\\\alexg\\\\Anaconda3\\\\lib\\\\site-packages\\\\slimit\\\\lextab.py'>. Won't overwrite existing lextab module\n",
      "WARNING: yacc table file version is out of date\n",
      "WARNING: Token 'BLOCK_COMMENT' defined, but not used\n",
      "WARNING: Token 'CLASS' defined, but not used\n",
      "WARNING: Token 'CONST' defined, but not used\n",
      "WARNING: Token 'ENUM' defined, but not used\n",
      "WARNING: Token 'EXPORT' defined, but not used\n",
      "WARNING: Token 'EXTENDS' defined, but not used\n",
      "WARNING: Token 'IMPORT' defined, but not used\n",
      "WARNING: Token 'LINE_COMMENT' defined, but not used\n",
      "WARNING: Token 'LINE_TERMINATOR' defined, but not used\n",
      "WARNING: Token 'SUPER' defined, but not used\n",
      "WARNING: There are 10 unused tokens\n",
      "WARNING: Couldn't create <module 'slimit.yacctab' from 'C:\\\\Users\\\\alexg\\\\Anaconda3\\\\lib\\\\site-packages\\\\slimit\\\\yacctab.py'>. Won't overwrite existing tabmodule\n"
     ]
    },
    {
     "name": "stdout",
     "output_type": "stream",
     "text": [
      "Unstable not a set on MTGPrice\n",
      "From the Vault: Transform\n",
      "Nissa, Vastwood Seer \n"
     ]
    },
    {
     "name": "stderr",
     "output_type": "stream",
     "text": [
      "WARNING: Couldn't write lextab module <module 'slimit.lextab' from 'C:\\\\Users\\\\alexg\\\\Anaconda3\\\\lib\\\\site-packages\\\\slimit\\\\lextab.py'>. Won't overwrite existing lextab module\n",
      "WARNING: yacc table file version is out of date\n",
      "WARNING: Token 'BLOCK_COMMENT' defined, but not used\n",
      "WARNING: Token 'CLASS' defined, but not used\n",
      "WARNING: Token 'CONST' defined, but not used\n",
      "WARNING: Token 'ENUM' defined, but not used\n",
      "WARNING: Token 'EXPORT' defined, but not used\n",
      "WARNING: Token 'EXTENDS' defined, but not used\n",
      "WARNING: Token 'IMPORT' defined, but not used\n",
      "WARNING: Token 'LINE_COMMENT' defined, but not used\n",
      "WARNING: Token 'LINE_TERMINATOR' defined, but not used\n",
      "WARNING: Token 'SUPER' defined, but not used\n",
      "WARNING: There are 10 unused tokens\n",
      "WARNING: Couldn't create <module 'slimit.yacctab' from 'C:\\\\Users\\\\alexg\\\\Anaconda3\\\\lib\\\\site-packages\\\\slimit\\\\yacctab.py'>. Won't overwrite existing tabmodule\n"
     ]
    },
    {
     "name": "stdout",
     "output_type": "stream",
     "text": [
      "From the Vault: Transform not a set on MTGPrice\n",
      "XLN Treasure Chest\n",
      "Treasure Map \n"
     ]
    },
    {
     "name": "stderr",
     "output_type": "stream",
     "text": [
      "WARNING: Couldn't write lextab module <module 'slimit.lextab' from 'C:\\\\Users\\\\alexg\\\\Anaconda3\\\\lib\\\\site-packages\\\\slimit\\\\lextab.py'>. Won't overwrite existing lextab module\n",
      "WARNING: yacc table file version is out of date\n",
      "WARNING: Token 'BLOCK_COMMENT' defined, but not used\n",
      "WARNING: Token 'CLASS' defined, but not used\n",
      "WARNING: Token 'CONST' defined, but not used\n",
      "WARNING: Token 'ENUM' defined, but not used\n",
      "WARNING: Token 'EXPORT' defined, but not used\n",
      "WARNING: Token 'EXTENDS' defined, but not used\n",
      "WARNING: Token 'IMPORT' defined, but not used\n",
      "WARNING: Token 'LINE_COMMENT' defined, but not used\n",
      "WARNING: Token 'LINE_TERMINATOR' defined, but not used\n",
      "WARNING: Token 'SUPER' defined, but not used\n",
      "WARNING: There are 10 unused tokens\n",
      "WARNING: Couldn't create <module 'slimit.yacctab' from 'C:\\\\Users\\\\alexg\\\\Anaconda3\\\\lib\\\\site-packages\\\\slimit\\\\yacctab.py'>. Won't overwrite existing tabmodule\n"
     ]
    },
    {
     "name": "stdout",
     "output_type": "stream",
     "text": [
      "XLN Treasure Chest not a set on MTGPrice\n",
      "Explorers of Ixalan\n",
      "Tainted Field\n"
     ]
    },
    {
     "name": "stderr",
     "output_type": "stream",
     "text": [
      "WARNING: Couldn't write lextab module <module 'slimit.lextab' from 'C:\\\\Users\\\\alexg\\\\Anaconda3\\\\lib\\\\site-packages\\\\slimit\\\\lextab.py'>. Won't overwrite existing lextab module\n",
      "WARNING: yacc table file version is out of date\n",
      "WARNING: Token 'BLOCK_COMMENT' defined, but not used\n",
      "WARNING: Token 'CLASS' defined, but not used\n",
      "WARNING: Token 'CONST' defined, but not used\n",
      "WARNING: Token 'ENUM' defined, but not used\n",
      "WARNING: Token 'EXPORT' defined, but not used\n",
      "WARNING: Token 'EXTENDS' defined, but not used\n",
      "WARNING: Token 'IMPORT' defined, but not used\n",
      "WARNING: Token 'LINE_COMMENT' defined, but not used\n",
      "WARNING: Token 'LINE_TERMINATOR' defined, but not used\n",
      "WARNING: Token 'SUPER' defined, but not used\n",
      "WARNING: There are 10 unused tokens\n",
      "WARNING: Couldn't create <module 'slimit.yacctab' from 'C:\\\\Users\\\\alexg\\\\Anaconda3\\\\lib\\\\site-packages\\\\slimit\\\\yacctab.py'>. Won't overwrite existing tabmodule\n"
     ]
    },
    {
     "name": "stdout",
     "output_type": "stream",
     "text": [
      "Explorers of Ixalan not a set on MTGPrice\n",
      "Iconic Masters\n",
      "Simic Growth Chamber\n"
     ]
    },
    {
     "name": "stderr",
     "output_type": "stream",
     "text": [
      "WARNING: Couldn't write lextab module <module 'slimit.lextab' from 'C:\\\\Users\\\\alexg\\\\Anaconda3\\\\lib\\\\site-packages\\\\slimit\\\\lextab.py'>. Won't overwrite existing lextab module\n",
      "WARNING: yacc table file version is out of date\n",
      "WARNING: Token 'BLOCK_COMMENT' defined, but not used\n",
      "WARNING: Token 'CLASS' defined, but not used\n",
      "WARNING: Token 'CONST' defined, but not used\n",
      "WARNING: Token 'ENUM' defined, but not used\n",
      "WARNING: Token 'EXPORT' defined, but not used\n",
      "WARNING: Token 'EXTENDS' defined, but not used\n",
      "WARNING: Token 'IMPORT' defined, but not used\n",
      "WARNING: Token 'LINE_COMMENT' defined, but not used\n",
      "WARNING: Token 'LINE_TERMINATOR' defined, but not used\n",
      "WARNING: Token 'SUPER' defined, but not used\n",
      "WARNING: There are 10 unused tokens\n",
      "WARNING: Couldn't create <module 'slimit.yacctab' from 'C:\\\\Users\\\\alexg\\\\Anaconda3\\\\lib\\\\site-packages\\\\slimit\\\\yacctab.py'>. Won't overwrite existing tabmodule\n"
     ]
    },
    {
     "name": "stdout",
     "output_type": "stream",
     "text": [
      "Shimmering Grotto\n"
     ]
    },
    {
     "name": "stderr",
     "output_type": "stream",
     "text": [
      "WARNING: Couldn't write lextab module <module 'slimit.lextab' from 'C:\\\\Users\\\\alexg\\\\Anaconda3\\\\lib\\\\site-packages\\\\slimit\\\\lextab.py'>. Won't overwrite existing lextab module\n",
      "WARNING: yacc table file version is out of date\n",
      "WARNING: Token 'BLOCK_COMMENT' defined, but not used\n",
      "WARNING: Token 'CLASS' defined, but not used\n",
      "WARNING: Token 'CONST' defined, but not used\n",
      "WARNING: Token 'ENUM' defined, but not used\n",
      "WARNING: Token 'EXPORT' defined, but not used\n",
      "WARNING: Token 'EXTENDS' defined, but not used\n",
      "WARNING: Token 'IMPORT' defined, but not used\n",
      "WARNING: Token 'LINE_COMMENT' defined, but not used\n",
      "WARNING: Token 'LINE_TERMINATOR' defined, but not used\n",
      "WARNING: Token 'SUPER' defined, but not used\n",
      "WARNING: There are 10 unused tokens\n",
      "WARNING: Couldn't create <module 'slimit.yacctab' from 'C:\\\\Users\\\\alexg\\\\Anaconda3\\\\lib\\\\site-packages\\\\slimit\\\\yacctab.py'>. Won't overwrite existing tabmodule\n"
     ]
    },
    {
     "name": "stdout",
     "output_type": "stream",
     "text": [
      "Selesnya Sanctuary\n"
     ]
    },
    {
     "name": "stderr",
     "output_type": "stream",
     "text": [
      "WARNING: Couldn't write lextab module <module 'slimit.lextab' from 'C:\\\\Users\\\\alexg\\\\Anaconda3\\\\lib\\\\site-packages\\\\slimit\\\\lextab.py'>. Won't overwrite existing lextab module\n",
      "WARNING: yacc table file version is out of date\n",
      "WARNING: Token 'BLOCK_COMMENT' defined, but not used\n",
      "WARNING: Token 'CLASS' defined, but not used\n",
      "WARNING: Token 'CONST' defined, but not used\n",
      "WARNING: Token 'ENUM' defined, but not used\n",
      "WARNING: Token 'EXPORT' defined, but not used\n",
      "WARNING: Token 'EXTENDS' defined, but not used\n",
      "WARNING: Token 'IMPORT' defined, but not used\n",
      "WARNING: Token 'LINE_COMMENT' defined, but not used\n",
      "WARNING: Token 'LINE_TERMINATOR' defined, but not used\n",
      "WARNING: Token 'SUPER' defined, but not used\n",
      "WARNING: There are 10 unused tokens\n",
      "WARNING: Couldn't create <module 'slimit.yacctab' from 'C:\\\\Users\\\\alexg\\\\Anaconda3\\\\lib\\\\site-packages\\\\slimit\\\\yacctab.py'>. Won't overwrite existing tabmodule\n"
     ]
    },
    {
     "name": "stdout",
     "output_type": "stream",
     "text": [
      "River of Tears\n"
     ]
    },
    {
     "name": "stderr",
     "output_type": "stream",
     "text": [
      "WARNING: Couldn't write lextab module <module 'slimit.lextab' from 'C:\\\\Users\\\\alexg\\\\Anaconda3\\\\lib\\\\site-packages\\\\slimit\\\\lextab.py'>. Won't overwrite existing lextab module\n",
      "WARNING: yacc table file version is out of date\n",
      "WARNING: Token 'BLOCK_COMMENT' defined, but not used\n",
      "WARNING: Token 'CLASS' defined, but not used\n",
      "WARNING: Token 'CONST' defined, but not used\n",
      "WARNING: Token 'ENUM' defined, but not used\n",
      "WARNING: Token 'EXPORT' defined, but not used\n",
      "WARNING: Token 'EXTENDS' defined, but not used\n",
      "WARNING: Token 'IMPORT' defined, but not used\n",
      "WARNING: Token 'LINE_COMMENT' defined, but not used\n",
      "WARNING: Token 'LINE_TERMINATOR' defined, but not used\n",
      "WARNING: Token 'SUPER' defined, but not used\n",
      "WARNING: There are 10 unused tokens\n",
      "WARNING: Couldn't create <module 'slimit.yacctab' from 'C:\\\\Users\\\\alexg\\\\Anaconda3\\\\lib\\\\site-packages\\\\slimit\\\\yacctab.py'>. Won't overwrite existing tabmodule\n"
     ]
    },
    {
     "name": "stdout",
     "output_type": "stream",
     "text": [
      "Rakdos Carnarium\n"
     ]
    },
    {
     "name": "stderr",
     "output_type": "stream",
     "text": [
      "WARNING: Couldn't write lextab module <module 'slimit.lextab' from 'C:\\\\Users\\\\alexg\\\\Anaconda3\\\\lib\\\\site-packages\\\\slimit\\\\lextab.py'>. Won't overwrite existing lextab module\n",
      "WARNING: yacc table file version is out of date\n",
      "WARNING: Token 'BLOCK_COMMENT' defined, but not used\n",
      "WARNING: Token 'CLASS' defined, but not used\n",
      "WARNING: Token 'CONST' defined, but not used\n",
      "WARNING: Token 'ENUM' defined, but not used\n",
      "WARNING: Token 'EXPORT' defined, but not used\n",
      "WARNING: Token 'EXTENDS' defined, but not used\n",
      "WARNING: Token 'IMPORT' defined, but not used\n",
      "WARNING: Token 'LINE_COMMENT' defined, but not used\n",
      "WARNING: Token 'LINE_TERMINATOR' defined, but not used\n",
      "WARNING: Token 'SUPER' defined, but not used\n",
      "WARNING: There are 10 unused tokens\n",
      "WARNING: Couldn't create <module 'slimit.yacctab' from 'C:\\\\Users\\\\alexg\\\\Anaconda3\\\\lib\\\\site-packages\\\\slimit\\\\yacctab.py'>. Won't overwrite existing tabmodule\n"
     ]
    },
    {
     "name": "stdout",
     "output_type": "stream",
     "text": [
      "Radiant Fountain\n"
     ]
    },
    {
     "name": "stderr",
     "output_type": "stream",
     "text": [
      "WARNING: Couldn't write lextab module <module 'slimit.lextab' from 'C:\\\\Users\\\\alexg\\\\Anaconda3\\\\lib\\\\site-packages\\\\slimit\\\\lextab.py'>. Won't overwrite existing lextab module\n",
      "WARNING: yacc table file version is out of date\n",
      "WARNING: Token 'BLOCK_COMMENT' defined, but not used\n",
      "WARNING: Token 'CLASS' defined, but not used\n",
      "WARNING: Token 'CONST' defined, but not used\n",
      "WARNING: Token 'ENUM' defined, but not used\n",
      "WARNING: Token 'EXPORT' defined, but not used\n",
      "WARNING: Token 'EXTENDS' defined, but not used\n",
      "WARNING: Token 'IMPORT' defined, but not used\n",
      "WARNING: Token 'LINE_COMMENT' defined, but not used\n",
      "WARNING: Token 'LINE_TERMINATOR' defined, but not used\n",
      "WARNING: Token 'SUPER' defined, but not used\n",
      "WARNING: There are 10 unused tokens\n",
      "WARNING: Couldn't create <module 'slimit.yacctab' from 'C:\\\\Users\\\\alexg\\\\Anaconda3\\\\lib\\\\site-packages\\\\slimit\\\\yacctab.py'>. Won't overwrite existing tabmodule\n"
     ]
    },
    {
     "name": "stdout",
     "output_type": "stream",
     "text": [
      "Orzhov Basilica\n"
     ]
    },
    {
     "name": "stderr",
     "output_type": "stream",
     "text": [
      "WARNING: Couldn't write lextab module <module 'slimit.lextab' from 'C:\\\\Users\\\\alexg\\\\Anaconda3\\\\lib\\\\site-packages\\\\slimit\\\\lextab.py'>. Won't overwrite existing lextab module\n",
      "WARNING: yacc table file version is out of date\n",
      "WARNING: Token 'BLOCK_COMMENT' defined, but not used\n",
      "WARNING: Token 'CLASS' defined, but not used\n",
      "WARNING: Token 'CONST' defined, but not used\n",
      "WARNING: Token 'ENUM' defined, but not used\n",
      "WARNING: Token 'EXPORT' defined, but not used\n",
      "WARNING: Token 'EXTENDS' defined, but not used\n",
      "WARNING: Token 'IMPORT' defined, but not used\n",
      "WARNING: Token 'LINE_COMMENT' defined, but not used\n",
      "WARNING: Token 'LINE_TERMINATOR' defined, but not used\n",
      "WARNING: Token 'SUPER' defined, but not used\n",
      "WARNING: There are 10 unused tokens\n",
      "WARNING: Couldn't create <module 'slimit.yacctab' from 'C:\\\\Users\\\\alexg\\\\Anaconda3\\\\lib\\\\site-packages\\\\slimit\\\\yacctab.py'>. Won't overwrite existing tabmodule\n"
     ]
    },
    {
     "name": "stdout",
     "output_type": "stream",
     "text": [
      "Nimbus Maze\n"
     ]
    },
    {
     "name": "stderr",
     "output_type": "stream",
     "text": [
      "WARNING: Couldn't write lextab module <module 'slimit.lextab' from 'C:\\\\Users\\\\alexg\\\\Anaconda3\\\\lib\\\\site-packages\\\\slimit\\\\lextab.py'>. Won't overwrite existing lextab module\n",
      "WARNING: yacc table file version is out of date\n",
      "WARNING: Token 'BLOCK_COMMENT' defined, but not used\n",
      "WARNING: Token 'CLASS' defined, but not used\n",
      "WARNING: Token 'CONST' defined, but not used\n",
      "WARNING: Token 'ENUM' defined, but not used\n",
      "WARNING: Token 'EXPORT' defined, but not used\n",
      "WARNING: Token 'EXTENDS' defined, but not used\n",
      "WARNING: Token 'IMPORT' defined, but not used\n",
      "WARNING: Token 'LINE_COMMENT' defined, but not used\n",
      "WARNING: Token 'LINE_TERMINATOR' defined, but not used\n",
      "WARNING: Token 'SUPER' defined, but not used\n",
      "WARNING: There are 10 unused tokens\n",
      "WARNING: Couldn't create <module 'slimit.yacctab' from 'C:\\\\Users\\\\alexg\\\\Anaconda3\\\\lib\\\\site-packages\\\\slimit\\\\yacctab.py'>. Won't overwrite existing tabmodule\n"
     ]
    },
    {
     "name": "stdout",
     "output_type": "stream",
     "text": [
      "Izzet Boilerworks\n"
     ]
    },
    {
     "name": "stderr",
     "output_type": "stream",
     "text": [
      "WARNING: Couldn't write lextab module <module 'slimit.lextab' from 'C:\\\\Users\\\\alexg\\\\Anaconda3\\\\lib\\\\site-packages\\\\slimit\\\\lextab.py'>. Won't overwrite existing lextab module\n",
      "WARNING: yacc table file version is out of date\n",
      "WARNING: Token 'BLOCK_COMMENT' defined, but not used\n",
      "WARNING: Token 'CLASS' defined, but not used\n",
      "WARNING: Token 'CONST' defined, but not used\n",
      "WARNING: Token 'ENUM' defined, but not used\n",
      "WARNING: Token 'EXPORT' defined, but not used\n",
      "WARNING: Token 'EXTENDS' defined, but not used\n",
      "WARNING: Token 'IMPORT' defined, but not used\n",
      "WARNING: Token 'LINE_COMMENT' defined, but not used\n",
      "WARNING: Token 'LINE_TERMINATOR' defined, but not used\n",
      "WARNING: Token 'SUPER' defined, but not used\n",
      "WARNING: There are 10 unused tokens\n",
      "WARNING: Couldn't create <module 'slimit.yacctab' from 'C:\\\\Users\\\\alexg\\\\Anaconda3\\\\lib\\\\site-packages\\\\slimit\\\\yacctab.py'>. Won't overwrite existing tabmodule\n"
     ]
    },
    {
     "name": "stdout",
     "output_type": "stream",
     "text": [
      "Horizon Canopy\n"
     ]
    },
    {
     "name": "stderr",
     "output_type": "stream",
     "text": [
      "WARNING: Couldn't write lextab module <module 'slimit.lextab' from 'C:\\\\Users\\\\alexg\\\\Anaconda3\\\\lib\\\\site-packages\\\\slimit\\\\lextab.py'>. Won't overwrite existing lextab module\n",
      "WARNING: yacc table file version is out of date\n",
      "WARNING: Token 'BLOCK_COMMENT' defined, but not used\n",
      "WARNING: Token 'CLASS' defined, but not used\n",
      "WARNING: Token 'CONST' defined, but not used\n",
      "WARNING: Token 'ENUM' defined, but not used\n",
      "WARNING: Token 'EXPORT' defined, but not used\n",
      "WARNING: Token 'EXTENDS' defined, but not used\n",
      "WARNING: Token 'IMPORT' defined, but not used\n",
      "WARNING: Token 'LINE_COMMENT' defined, but not used\n",
      "WARNING: Token 'LINE_TERMINATOR' defined, but not used\n",
      "WARNING: Token 'SUPER' defined, but not used\n",
      "WARNING: There are 10 unused tokens\n",
      "WARNING: Couldn't create <module 'slimit.yacctab' from 'C:\\\\Users\\\\alexg\\\\Anaconda3\\\\lib\\\\site-packages\\\\slimit\\\\yacctab.py'>. Won't overwrite existing tabmodule\n"
     ]
    },
    {
     "name": "stdout",
     "output_type": "stream",
     "text": [
      "Gruul Turf\n"
     ]
    },
    {
     "name": "stderr",
     "output_type": "stream",
     "text": [
      "WARNING: Couldn't write lextab module <module 'slimit.lextab' from 'C:\\\\Users\\\\alexg\\\\Anaconda3\\\\lib\\\\site-packages\\\\slimit\\\\lextab.py'>. Won't overwrite existing lextab module\n",
      "WARNING: yacc table file version is out of date\n",
      "WARNING: Token 'BLOCK_COMMENT' defined, but not used\n",
      "WARNING: Token 'CLASS' defined, but not used\n",
      "WARNING: Token 'CONST' defined, but not used\n",
      "WARNING: Token 'ENUM' defined, but not used\n",
      "WARNING: Token 'EXPORT' defined, but not used\n",
      "WARNING: Token 'EXTENDS' defined, but not used\n",
      "WARNING: Token 'IMPORT' defined, but not used\n",
      "WARNING: Token 'LINE_COMMENT' defined, but not used\n",
      "WARNING: Token 'LINE_TERMINATOR' defined, but not used\n",
      "WARNING: Token 'SUPER' defined, but not used\n",
      "WARNING: There are 10 unused tokens\n",
      "WARNING: Couldn't create <module 'slimit.yacctab' from 'C:\\\\Users\\\\alexg\\\\Anaconda3\\\\lib\\\\site-packages\\\\slimit\\\\yacctab.py'>. Won't overwrite existing tabmodule\n"
     ]
    },
    {
     "name": "stdout",
     "output_type": "stream",
     "text": [
      "Grove of the Burnwillows\n"
     ]
    },
    {
     "name": "stderr",
     "output_type": "stream",
     "text": [
      "WARNING: Couldn't write lextab module <module 'slimit.lextab' from 'C:\\\\Users\\\\alexg\\\\Anaconda3\\\\lib\\\\site-packages\\\\slimit\\\\lextab.py'>. Won't overwrite existing lextab module\n",
      "WARNING: yacc table file version is out of date\n",
      "WARNING: Token 'BLOCK_COMMENT' defined, but not used\n",
      "WARNING: Token 'CLASS' defined, but not used\n",
      "WARNING: Token 'CONST' defined, but not used\n",
      "WARNING: Token 'ENUM' defined, but not used\n",
      "WARNING: Token 'EXPORT' defined, but not used\n",
      "WARNING: Token 'EXTENDS' defined, but not used\n",
      "WARNING: Token 'IMPORT' defined, but not used\n",
      "WARNING: Token 'LINE_COMMENT' defined, but not used\n",
      "WARNING: Token 'LINE_TERMINATOR' defined, but not used\n",
      "WARNING: Token 'SUPER' defined, but not used\n",
      "WARNING: There are 10 unused tokens\n",
      "WARNING: Couldn't create <module 'slimit.yacctab' from 'C:\\\\Users\\\\alexg\\\\Anaconda3\\\\lib\\\\site-packages\\\\slimit\\\\yacctab.py'>. Won't overwrite existing tabmodule\n"
     ]
    },
    {
     "name": "stdout",
     "output_type": "stream",
     "text": [
      "Graven Cairns\n"
     ]
    },
    {
     "name": "stderr",
     "output_type": "stream",
     "text": [
      "WARNING: Couldn't write lextab module <module 'slimit.lextab' from 'C:\\\\Users\\\\alexg\\\\Anaconda3\\\\lib\\\\site-packages\\\\slimit\\\\lextab.py'>. Won't overwrite existing lextab module\n",
      "WARNING: yacc table file version is out of date\n",
      "WARNING: Token 'BLOCK_COMMENT' defined, but not used\n",
      "WARNING: Token 'CLASS' defined, but not used\n",
      "WARNING: Token 'CONST' defined, but not used\n",
      "WARNING: Token 'ENUM' defined, but not used\n",
      "WARNING: Token 'EXPORT' defined, but not used\n",
      "WARNING: Token 'EXTENDS' defined, but not used\n",
      "WARNING: Token 'IMPORT' defined, but not used\n",
      "WARNING: Token 'LINE_COMMENT' defined, but not used\n",
      "WARNING: Token 'LINE_TERMINATOR' defined, but not used\n",
      "WARNING: Token 'SUPER' defined, but not used\n",
      "WARNING: There are 10 unused tokens\n",
      "WARNING: Couldn't create <module 'slimit.yacctab' from 'C:\\\\Users\\\\alexg\\\\Anaconda3\\\\lib\\\\site-packages\\\\slimit\\\\yacctab.py'>. Won't overwrite existing tabmodule\n"
     ]
    },
    {
     "name": "stdout",
     "output_type": "stream",
     "text": [
      "Golgari Rot Farm\n"
     ]
    },
    {
     "name": "stderr",
     "output_type": "stream",
     "text": [
      "WARNING: Couldn't write lextab module <module 'slimit.lextab' from 'C:\\\\Users\\\\alexg\\\\Anaconda3\\\\lib\\\\site-packages\\\\slimit\\\\lextab.py'>. Won't overwrite existing lextab module\n",
      "WARNING: yacc table file version is out of date\n",
      "WARNING: Token 'BLOCK_COMMENT' defined, but not used\n",
      "WARNING: Token 'CLASS' defined, but not used\n",
      "WARNING: Token 'CONST' defined, but not used\n",
      "WARNING: Token 'ENUM' defined, but not used\n",
      "WARNING: Token 'EXPORT' defined, but not used\n",
      "WARNING: Token 'EXTENDS' defined, but not used\n",
      "WARNING: Token 'IMPORT' defined, but not used\n",
      "WARNING: Token 'LINE_COMMENT' defined, but not used\n",
      "WARNING: Token 'LINE_TERMINATOR' defined, but not used\n",
      "WARNING: Token 'SUPER' defined, but not used\n",
      "WARNING: There are 10 unused tokens\n",
      "WARNING: Couldn't create <module 'slimit.yacctab' from 'C:\\\\Users\\\\alexg\\\\Anaconda3\\\\lib\\\\site-packages\\\\slimit\\\\yacctab.py'>. Won't overwrite existing tabmodule\n"
     ]
    },
    {
     "name": "stdout",
     "output_type": "stream",
     "text": [
      "Evolving Wilds\n"
     ]
    },
    {
     "name": "stderr",
     "output_type": "stream",
     "text": [
      "WARNING: Couldn't write lextab module <module 'slimit.lextab' from 'C:\\\\Users\\\\alexg\\\\Anaconda3\\\\lib\\\\site-packages\\\\slimit\\\\lextab.py'>. Won't overwrite existing lextab module\n",
      "WARNING: yacc table file version is out of date\n",
      "WARNING: Token 'BLOCK_COMMENT' defined, but not used\n",
      "WARNING: Token 'CLASS' defined, but not used\n",
      "WARNING: Token 'CONST' defined, but not used\n",
      "WARNING: Token 'ENUM' defined, but not used\n",
      "WARNING: Token 'EXPORT' defined, but not used\n",
      "WARNING: Token 'EXTENDS' defined, but not used\n",
      "WARNING: Token 'IMPORT' defined, but not used\n",
      "WARNING: Token 'LINE_COMMENT' defined, but not used\n",
      "WARNING: Token 'LINE_TERMINATOR' defined, but not used\n",
      "WARNING: Token 'SUPER' defined, but not used\n",
      "WARNING: There are 10 unused tokens\n",
      "WARNING: Couldn't create <module 'slimit.yacctab' from 'C:\\\\Users\\\\alexg\\\\Anaconda3\\\\lib\\\\site-packages\\\\slimit\\\\yacctab.py'>. Won't overwrite existing tabmodule\n"
     ]
    },
    {
     "name": "stdout",
     "output_type": "stream",
     "text": [
      "Dimir Aqueduct\n"
     ]
    },
    {
     "name": "stderr",
     "output_type": "stream",
     "text": [
      "WARNING: Couldn't write lextab module <module 'slimit.lextab' from 'C:\\\\Users\\\\alexg\\\\Anaconda3\\\\lib\\\\site-packages\\\\slimit\\\\lextab.py'>. Won't overwrite existing lextab module\n",
      "WARNING: yacc table file version is out of date\n",
      "WARNING: Token 'BLOCK_COMMENT' defined, but not used\n",
      "WARNING: Token 'CLASS' defined, but not used\n",
      "WARNING: Token 'CONST' defined, but not used\n",
      "WARNING: Token 'ENUM' defined, but not used\n",
      "WARNING: Token 'EXPORT' defined, but not used\n",
      "WARNING: Token 'EXTENDS' defined, but not used\n",
      "WARNING: Token 'IMPORT' defined, but not used\n",
      "WARNING: Token 'LINE_COMMENT' defined, but not used\n",
      "WARNING: Token 'LINE_TERMINATOR' defined, but not used\n",
      "WARNING: Token 'SUPER' defined, but not used\n",
      "WARNING: There are 10 unused tokens\n",
      "WARNING: Couldn't create <module 'slimit.yacctab' from 'C:\\\\Users\\\\alexg\\\\Anaconda3\\\\lib\\\\site-packages\\\\slimit\\\\yacctab.py'>. Won't overwrite existing tabmodule\n"
     ]
    },
    {
     "name": "stdout",
     "output_type": "stream",
     "text": [
      "Boros Garrison\n"
     ]
    },
    {
     "name": "stderr",
     "output_type": "stream",
     "text": [
      "WARNING: Couldn't write lextab module <module 'slimit.lextab' from 'C:\\\\Users\\\\alexg\\\\Anaconda3\\\\lib\\\\site-packages\\\\slimit\\\\lextab.py'>. Won't overwrite existing lextab module\n",
      "WARNING: yacc table file version is out of date\n",
      "WARNING: Token 'BLOCK_COMMENT' defined, but not used\n",
      "WARNING: Token 'CLASS' defined, but not used\n",
      "WARNING: Token 'CONST' defined, but not used\n",
      "WARNING: Token 'ENUM' defined, but not used\n",
      "WARNING: Token 'EXPORT' defined, but not used\n",
      "WARNING: Token 'EXTENDS' defined, but not used\n",
      "WARNING: Token 'IMPORT' defined, but not used\n",
      "WARNING: Token 'LINE_COMMENT' defined, but not used\n",
      "WARNING: Token 'LINE_TERMINATOR' defined, but not used\n",
      "WARNING: Token 'SUPER' defined, but not used\n",
      "WARNING: There are 10 unused tokens\n",
      "WARNING: Couldn't create <module 'slimit.yacctab' from 'C:\\\\Users\\\\alexg\\\\Anaconda3\\\\lib\\\\site-packages\\\\slimit\\\\yacctab.py'>. Won't overwrite existing tabmodule\n"
     ]
    },
    {
     "name": "stdout",
     "output_type": "stream",
     "text": [
      "Azorius Chancery\n"
     ]
    },
    {
     "name": "stderr",
     "output_type": "stream",
     "text": [
      "WARNING: Couldn't write lextab module <module 'slimit.lextab' from 'C:\\\\Users\\\\alexg\\\\Anaconda3\\\\lib\\\\site-packages\\\\slimit\\\\lextab.py'>. Won't overwrite existing lextab module\n",
      "WARNING: yacc table file version is out of date\n",
      "WARNING: Token 'BLOCK_COMMENT' defined, but not used\n",
      "WARNING: Token 'CLASS' defined, but not used\n",
      "WARNING: Token 'CONST' defined, but not used\n",
      "WARNING: Token 'ENUM' defined, but not used\n",
      "WARNING: Token 'EXPORT' defined, but not used\n",
      "WARNING: Token 'EXTENDS' defined, but not used\n",
      "WARNING: Token 'IMPORT' defined, but not used\n",
      "WARNING: Token 'LINE_COMMENT' defined, but not used\n",
      "WARNING: Token 'LINE_TERMINATOR' defined, but not used\n",
      "WARNING: Token 'SUPER' defined, but not used\n",
      "WARNING: There are 10 unused tokens\n",
      "WARNING: Couldn't create <module 'slimit.yacctab' from 'C:\\\\Users\\\\alexg\\\\Anaconda3\\\\lib\\\\site-packages\\\\slimit\\\\yacctab.py'>. Won't overwrite existing tabmodule\n"
     ]
    },
    {
     "name": "stdout",
     "output_type": "stream",
     "text": [
      "Trepanation Blade\n"
     ]
    },
    {
     "name": "stderr",
     "output_type": "stream",
     "text": [
      "WARNING: Couldn't write lextab module <module 'slimit.lextab' from 'C:\\\\Users\\\\alexg\\\\Anaconda3\\\\lib\\\\site-packages\\\\slimit\\\\lextab.py'>. Won't overwrite existing lextab module\n",
      "WARNING: yacc table file version is out of date\n",
      "WARNING: Token 'BLOCK_COMMENT' defined, but not used\n",
      "WARNING: Token 'CLASS' defined, but not used\n",
      "WARNING: Token 'CONST' defined, but not used\n",
      "WARNING: Token 'ENUM' defined, but not used\n",
      "WARNING: Token 'EXPORT' defined, but not used\n",
      "WARNING: Token 'EXTENDS' defined, but not used\n",
      "WARNING: Token 'IMPORT' defined, but not used\n",
      "WARNING: Token 'LINE_COMMENT' defined, but not used\n",
      "WARNING: Token 'LINE_TERMINATOR' defined, but not used\n",
      "WARNING: Token 'SUPER' defined, but not used\n",
      "WARNING: There are 10 unused tokens\n",
      "WARNING: Couldn't create <module 'slimit.yacctab' from 'C:\\\\Users\\\\alexg\\\\Anaconda3\\\\lib\\\\site-packages\\\\slimit\\\\yacctab.py'>. Won't overwrite existing tabmodule\n"
     ]
    },
    {
     "name": "stdout",
     "output_type": "stream",
     "text": [
      "Thran Dynamo\n"
     ]
    },
    {
     "name": "stderr",
     "output_type": "stream",
     "text": [
      "WARNING: Couldn't write lextab module <module 'slimit.lextab' from 'C:\\\\Users\\\\alexg\\\\Anaconda3\\\\lib\\\\site-packages\\\\slimit\\\\lextab.py'>. Won't overwrite existing lextab module\n",
      "WARNING: yacc table file version is out of date\n",
      "WARNING: Token 'BLOCK_COMMENT' defined, but not used\n",
      "WARNING: Token 'CLASS' defined, but not used\n",
      "WARNING: Token 'CONST' defined, but not used\n",
      "WARNING: Token 'ENUM' defined, but not used\n",
      "WARNING: Token 'EXPORT' defined, but not used\n",
      "WARNING: Token 'EXTENDS' defined, but not used\n",
      "WARNING: Token 'IMPORT' defined, but not used\n",
      "WARNING: Token 'LINE_COMMENT' defined, but not used\n",
      "WARNING: Token 'LINE_TERMINATOR' defined, but not used\n",
      "WARNING: Token 'SUPER' defined, but not used\n",
      "WARNING: There are 10 unused tokens\n",
      "WARNING: Couldn't create <module 'slimit.yacctab' from 'C:\\\\Users\\\\alexg\\\\Anaconda3\\\\lib\\\\site-packages\\\\slimit\\\\yacctab.py'>. Won't overwrite existing tabmodule\n"
     ]
    },
    {
     "name": "stdout",
     "output_type": "stream",
     "text": [
      "Star Compass\n"
     ]
    },
    {
     "name": "stderr",
     "output_type": "stream",
     "text": [
      "WARNING: Couldn't write lextab module <module 'slimit.lextab' from 'C:\\\\Users\\\\alexg\\\\Anaconda3\\\\lib\\\\site-packages\\\\slimit\\\\lextab.py'>. Won't overwrite existing lextab module\n",
      "WARNING: yacc table file version is out of date\n",
      "WARNING: Token 'BLOCK_COMMENT' defined, but not used\n",
      "WARNING: Token 'CLASS' defined, but not used\n",
      "WARNING: Token 'CONST' defined, but not used\n",
      "WARNING: Token 'ENUM' defined, but not used\n",
      "WARNING: Token 'EXPORT' defined, but not used\n",
      "WARNING: Token 'EXTENDS' defined, but not used\n",
      "WARNING: Token 'IMPORT' defined, but not used\n",
      "WARNING: Token 'LINE_COMMENT' defined, but not used\n",
      "WARNING: Token 'LINE_TERMINATOR' defined, but not used\n",
      "WARNING: Token 'SUPER' defined, but not used\n",
      "WARNING: There are 10 unused tokens\n",
      "WARNING: Couldn't create <module 'slimit.yacctab' from 'C:\\\\Users\\\\alexg\\\\Anaconda3\\\\lib\\\\site-packages\\\\slimit\\\\yacctab.py'>. Won't overwrite existing tabmodule\n"
     ]
    },
    {
     "name": "stdout",
     "output_type": "stream",
     "text": [
      "Serum Powder\n"
     ]
    },
    {
     "name": "stderr",
     "output_type": "stream",
     "text": [
      "WARNING: Couldn't write lextab module <module 'slimit.lextab' from 'C:\\\\Users\\\\alexg\\\\Anaconda3\\\\lib\\\\site-packages\\\\slimit\\\\lextab.py'>. Won't overwrite existing lextab module\n",
      "WARNING: yacc table file version is out of date\n",
      "WARNING: Token 'BLOCK_COMMENT' defined, but not used\n",
      "WARNING: Token 'CLASS' defined, but not used\n",
      "WARNING: Token 'CONST' defined, but not used\n",
      "WARNING: Token 'ENUM' defined, but not used\n",
      "WARNING: Token 'EXPORT' defined, but not used\n",
      "WARNING: Token 'EXTENDS' defined, but not used\n",
      "WARNING: Token 'IMPORT' defined, but not used\n",
      "WARNING: Token 'LINE_COMMENT' defined, but not used\n",
      "WARNING: Token 'LINE_TERMINATOR' defined, but not used\n",
      "WARNING: Token 'SUPER' defined, but not used\n",
      "WARNING: There are 10 unused tokens\n",
      "WARNING: Couldn't create <module 'slimit.yacctab' from 'C:\\\\Users\\\\alexg\\\\Anaconda3\\\\lib\\\\site-packages\\\\slimit\\\\yacctab.py'>. Won't overwrite existing tabmodule\n"
     ]
    },
    {
     "name": "stdout",
     "output_type": "stream",
     "text": [
      "Sandstone Oracle\n"
     ]
    },
    {
     "name": "stderr",
     "output_type": "stream",
     "text": [
      "WARNING: Couldn't write lextab module <module 'slimit.lextab' from 'C:\\\\Users\\\\alexg\\\\Anaconda3\\\\lib\\\\site-packages\\\\slimit\\\\lextab.py'>. Won't overwrite existing lextab module\n",
      "WARNING: yacc table file version is out of date\n",
      "WARNING: Token 'BLOCK_COMMENT' defined, but not used\n",
      "WARNING: Token 'CLASS' defined, but not used\n",
      "WARNING: Token 'CONST' defined, but not used\n",
      "WARNING: Token 'ENUM' defined, but not used\n",
      "WARNING: Token 'EXPORT' defined, but not used\n",
      "WARNING: Token 'EXTENDS' defined, but not used\n",
      "WARNING: Token 'IMPORT' defined, but not used\n",
      "WARNING: Token 'LINE_COMMENT' defined, but not used\n",
      "WARNING: Token 'LINE_TERMINATOR' defined, but not used\n",
      "WARNING: Token 'SUPER' defined, but not used\n",
      "WARNING: There are 10 unused tokens\n",
      "WARNING: Couldn't create <module 'slimit.yacctab' from 'C:\\\\Users\\\\alexg\\\\Anaconda3\\\\lib\\\\site-packages\\\\slimit\\\\yacctab.py'>. Won't overwrite existing tabmodule\n"
     ]
    },
    {
     "name": "stdout",
     "output_type": "stream",
     "text": [
      "Runed Servitor\n"
     ]
    },
    {
     "name": "stderr",
     "output_type": "stream",
     "text": [
      "WARNING: Couldn't write lextab module <module 'slimit.lextab' from 'C:\\\\Users\\\\alexg\\\\Anaconda3\\\\lib\\\\site-packages\\\\slimit\\\\lextab.py'>. Won't overwrite existing lextab module\n",
      "WARNING: yacc table file version is out of date\n",
      "WARNING: Token 'BLOCK_COMMENT' defined, but not used\n",
      "WARNING: Token 'CLASS' defined, but not used\n",
      "WARNING: Token 'CONST' defined, but not used\n",
      "WARNING: Token 'ENUM' defined, but not used\n",
      "WARNING: Token 'EXPORT' defined, but not used\n",
      "WARNING: Token 'EXTENDS' defined, but not used\n",
      "WARNING: Token 'IMPORT' defined, but not used\n",
      "WARNING: Token 'LINE_COMMENT' defined, but not used\n",
      "WARNING: Token 'LINE_TERMINATOR' defined, but not used\n",
      "WARNING: Token 'SUPER' defined, but not used\n",
      "WARNING: There are 10 unused tokens\n",
      "WARNING: Couldn't create <module 'slimit.yacctab' from 'C:\\\\Users\\\\alexg\\\\Anaconda3\\\\lib\\\\site-packages\\\\slimit\\\\yacctab.py'>. Won't overwrite existing tabmodule\n"
     ]
    },
    {
     "name": "stdout",
     "output_type": "stream",
     "text": [
      "Pristine Talisman\n"
     ]
    },
    {
     "name": "stderr",
     "output_type": "stream",
     "text": [
      "WARNING: Couldn't write lextab module <module 'slimit.lextab' from 'C:\\\\Users\\\\alexg\\\\Anaconda3\\\\lib\\\\site-packages\\\\slimit\\\\lextab.py'>. Won't overwrite existing lextab module\n",
      "WARNING: yacc table file version is out of date\n",
      "WARNING: Token 'BLOCK_COMMENT' defined, but not used\n",
      "WARNING: Token 'CLASS' defined, but not used\n",
      "WARNING: Token 'CONST' defined, but not used\n",
      "WARNING: Token 'ENUM' defined, but not used\n",
      "WARNING: Token 'EXPORT' defined, but not used\n",
      "WARNING: Token 'EXTENDS' defined, but not used\n",
      "WARNING: Token 'IMPORT' defined, but not used\n",
      "WARNING: Token 'LINE_COMMENT' defined, but not used\n",
      "WARNING: Token 'LINE_TERMINATOR' defined, but not used\n",
      "WARNING: Token 'SUPER' defined, but not used\n",
      "WARNING: There are 10 unused tokens\n",
      "WARNING: Couldn't create <module 'slimit.yacctab' from 'C:\\\\Users\\\\alexg\\\\Anaconda3\\\\lib\\\\site-packages\\\\slimit\\\\yacctab.py'>. Won't overwrite existing tabmodule\n"
     ]
    },
    {
     "name": "stdout",
     "output_type": "stream",
     "text": [
      "Palladium Myr\n"
     ]
    },
    {
     "name": "stderr",
     "output_type": "stream",
     "text": [
      "WARNING: Couldn't write lextab module <module 'slimit.lextab' from 'C:\\\\Users\\\\alexg\\\\Anaconda3\\\\lib\\\\site-packages\\\\slimit\\\\lextab.py'>. Won't overwrite existing lextab module\n",
      "WARNING: yacc table file version is out of date\n",
      "WARNING: Token 'BLOCK_COMMENT' defined, but not used\n",
      "WARNING: Token 'CLASS' defined, but not used\n",
      "WARNING: Token 'CONST' defined, but not used\n",
      "WARNING: Token 'ENUM' defined, but not used\n",
      "WARNING: Token 'EXPORT' defined, but not used\n",
      "WARNING: Token 'EXTENDS' defined, but not used\n",
      "WARNING: Token 'IMPORT' defined, but not used\n",
      "WARNING: Token 'LINE_COMMENT' defined, but not used\n",
      "WARNING: Token 'LINE_TERMINATOR' defined, but not used\n",
      "WARNING: Token 'SUPER' defined, but not used\n",
      "WARNING: There are 10 unused tokens\n",
      "WARNING: Couldn't create <module 'slimit.yacctab' from 'C:\\\\Users\\\\alexg\\\\Anaconda3\\\\lib\\\\site-packages\\\\slimit\\\\yacctab.py'>. Won't overwrite existing tabmodule\n"
     ]
    },
    {
     "name": "stdout",
     "output_type": "stream",
     "text": [
      "Oblivion Stone\n"
     ]
    },
    {
     "name": "stderr",
     "output_type": "stream",
     "text": [
      "WARNING: Couldn't write lextab module <module 'slimit.lextab' from 'C:\\\\Users\\\\alexg\\\\Anaconda3\\\\lib\\\\site-packages\\\\slimit\\\\lextab.py'>. Won't overwrite existing lextab module\n",
      "WARNING: yacc table file version is out of date\n",
      "WARNING: Token 'BLOCK_COMMENT' defined, but not used\n",
      "WARNING: Token 'CLASS' defined, but not used\n",
      "WARNING: Token 'CONST' defined, but not used\n",
      "WARNING: Token 'ENUM' defined, but not used\n",
      "WARNING: Token 'EXPORT' defined, but not used\n",
      "WARNING: Token 'EXTENDS' defined, but not used\n",
      "WARNING: Token 'IMPORT' defined, but not used\n",
      "WARNING: Token 'LINE_COMMENT' defined, but not used\n",
      "WARNING: Token 'LINE_TERMINATOR' defined, but not used\n",
      "WARNING: Token 'SUPER' defined, but not used\n",
      "WARNING: There are 10 unused tokens\n",
      "WARNING: Couldn't create <module 'slimit.yacctab' from 'C:\\\\Users\\\\alexg\\\\Anaconda3\\\\lib\\\\site-packages\\\\slimit\\\\yacctab.py'>. Won't overwrite existing tabmodule\n"
     ]
    },
    {
     "name": "stdout",
     "output_type": "stream",
     "text": [
      "Moonglove Extract\n"
     ]
    },
    {
     "name": "stderr",
     "output_type": "stream",
     "text": [
      "WARNING: Couldn't write lextab module <module 'slimit.lextab' from 'C:\\\\Users\\\\alexg\\\\Anaconda3\\\\lib\\\\site-packages\\\\slimit\\\\lextab.py'>. Won't overwrite existing lextab module\n",
      "WARNING: yacc table file version is out of date\n",
      "WARNING: Token 'BLOCK_COMMENT' defined, but not used\n",
      "WARNING: Token 'CLASS' defined, but not used\n",
      "WARNING: Token 'CONST' defined, but not used\n",
      "WARNING: Token 'ENUM' defined, but not used\n",
      "WARNING: Token 'EXPORT' defined, but not used\n",
      "WARNING: Token 'EXTENDS' defined, but not used\n",
      "WARNING: Token 'IMPORT' defined, but not used\n",
      "WARNING: Token 'LINE_COMMENT' defined, but not used\n",
      "WARNING: Token 'LINE_TERMINATOR' defined, but not used\n",
      "WARNING: Token 'SUPER' defined, but not used\n",
      "WARNING: There are 10 unused tokens\n",
      "WARNING: Couldn't create <module 'slimit.yacctab' from 'C:\\\\Users\\\\alexg\\\\Anaconda3\\\\lib\\\\site-packages\\\\slimit\\\\yacctab.py'>. Won't overwrite existing tabmodule\n"
     ]
    },
    {
     "name": "stdout",
     "output_type": "stream",
     "text": [
      "Mishra's Bauble\n"
     ]
    },
    {
     "name": "stderr",
     "output_type": "stream",
     "text": [
      "WARNING: Couldn't write lextab module <module 'slimit.lextab' from 'C:\\\\Users\\\\alexg\\\\Anaconda3\\\\lib\\\\site-packages\\\\slimit\\\\lextab.py'>. Won't overwrite existing lextab module\n",
      "WARNING: yacc table file version is out of date\n",
      "WARNING: Token 'BLOCK_COMMENT' defined, but not used\n",
      "WARNING: Token 'CLASS' defined, but not used\n",
      "WARNING: Token 'CONST' defined, but not used\n",
      "WARNING: Token 'ENUM' defined, but not used\n",
      "WARNING: Token 'EXPORT' defined, but not used\n",
      "WARNING: Token 'EXTENDS' defined, but not used\n",
      "WARNING: Token 'IMPORT' defined, but not used\n",
      "WARNING: Token 'LINE_COMMENT' defined, but not used\n",
      "WARNING: Token 'LINE_TERMINATOR' defined, but not used\n",
      "WARNING: Token 'SUPER' defined, but not used\n",
      "WARNING: There are 10 unused tokens\n",
      "WARNING: Couldn't create <module 'slimit.yacctab' from 'C:\\\\Users\\\\alexg\\\\Anaconda3\\\\lib\\\\site-packages\\\\slimit\\\\yacctab.py'>. Won't overwrite existing tabmodule\n"
     ]
    },
    {
     "name": "stdout",
     "output_type": "stream",
     "text": [
      "Mindcrank\n"
     ]
    },
    {
     "name": "stderr",
     "output_type": "stream",
     "text": [
      "WARNING: Couldn't write lextab module <module 'slimit.lextab' from 'C:\\\\Users\\\\alexg\\\\Anaconda3\\\\lib\\\\site-packages\\\\slimit\\\\lextab.py'>. Won't overwrite existing lextab module\n",
      "WARNING: yacc table file version is out of date\n",
      "WARNING: Token 'BLOCK_COMMENT' defined, but not used\n",
      "WARNING: Token 'CLASS' defined, but not used\n",
      "WARNING: Token 'CONST' defined, but not used\n",
      "WARNING: Token 'ENUM' defined, but not used\n",
      "WARNING: Token 'EXPORT' defined, but not used\n",
      "WARNING: Token 'EXTENDS' defined, but not used\n",
      "WARNING: Token 'IMPORT' defined, but not used\n",
      "WARNING: Token 'LINE_COMMENT' defined, but not used\n",
      "WARNING: Token 'LINE_TERMINATOR' defined, but not used\n",
      "WARNING: Token 'SUPER' defined, but not used\n",
      "WARNING: There are 10 unused tokens\n",
      "WARNING: Couldn't create <module 'slimit.yacctab' from 'C:\\\\Users\\\\alexg\\\\Anaconda3\\\\lib\\\\site-packages\\\\slimit\\\\yacctab.py'>. Won't overwrite existing tabmodule\n"
     ]
    },
    {
     "name": "stdout",
     "output_type": "stream",
     "text": [
      "Mind Stone\n"
     ]
    },
    {
     "name": "stderr",
     "output_type": "stream",
     "text": [
      "WARNING: Couldn't write lextab module <module 'slimit.lextab' from 'C:\\\\Users\\\\alexg\\\\Anaconda3\\\\lib\\\\site-packages\\\\slimit\\\\lextab.py'>. Won't overwrite existing lextab module\n",
      "WARNING: yacc table file version is out of date\n",
      "WARNING: Token 'BLOCK_COMMENT' defined, but not used\n",
      "WARNING: Token 'CLASS' defined, but not used\n",
      "WARNING: Token 'CONST' defined, but not used\n",
      "WARNING: Token 'ENUM' defined, but not used\n",
      "WARNING: Token 'EXPORT' defined, but not used\n",
      "WARNING: Token 'EXTENDS' defined, but not used\n",
      "WARNING: Token 'IMPORT' defined, but not used\n",
      "WARNING: Token 'LINE_COMMENT' defined, but not used\n",
      "WARNING: Token 'LINE_TERMINATOR' defined, but not used\n",
      "WARNING: Token 'SUPER' defined, but not used\n",
      "WARNING: There are 10 unused tokens\n",
      "WARNING: Couldn't create <module 'slimit.yacctab' from 'C:\\\\Users\\\\alexg\\\\Anaconda3\\\\lib\\\\site-packages\\\\slimit\\\\yacctab.py'>. Won't overwrite existing tabmodule\n"
     ]
    },
    {
     "name": "stdout",
     "output_type": "stream",
     "text": [
      "Manakin\n"
     ]
    },
    {
     "name": "stderr",
     "output_type": "stream",
     "text": [
      "WARNING: Couldn't write lextab module <module 'slimit.lextab' from 'C:\\\\Users\\\\alexg\\\\Anaconda3\\\\lib\\\\site-packages\\\\slimit\\\\lextab.py'>. Won't overwrite existing lextab module\n",
      "WARNING: yacc table file version is out of date\n",
      "WARNING: Token 'BLOCK_COMMENT' defined, but not used\n",
      "WARNING: Token 'CLASS' defined, but not used\n",
      "WARNING: Token 'CONST' defined, but not used\n",
      "WARNING: Token 'ENUM' defined, but not used\n",
      "WARNING: Token 'EXPORT' defined, but not used\n",
      "WARNING: Token 'EXTENDS' defined, but not used\n",
      "WARNING: Token 'IMPORT' defined, but not used\n",
      "WARNING: Token 'LINE_COMMENT' defined, but not used\n",
      "WARNING: Token 'LINE_TERMINATOR' defined, but not used\n",
      "WARNING: Token 'SUPER' defined, but not used\n",
      "WARNING: There are 10 unused tokens\n"
     ]
    },
    {
     "name": "stdout",
     "output_type": "stream",
     "text": [
      "Iconic Masters not a set on MTGPrice\n",
      "Duel Decks: Merfolk vs. Goblins\n",
      "Mountain\n"
     ]
    },
    {
     "name": "stderr",
     "output_type": "stream",
     "text": [
      "WARNING: Couldn't write lextab module <module 'slimit.lextab' from 'C:\\\\Users\\\\alexg\\\\Anaconda3\\\\lib\\\\site-packages\\\\slimit\\\\lextab.py'>. Won't overwrite existing lextab module\n",
      "WARNING: yacc table file version is out of date\n",
      "WARNING: Token 'BLOCK_COMMENT' defined, but not used\n",
      "WARNING: Token 'CLASS' defined, but not used\n",
      "WARNING: Token 'CONST' defined, but not used\n",
      "WARNING: Token 'ENUM' defined, but not used\n",
      "WARNING: Token 'EXPORT' defined, but not used\n",
      "WARNING: Token 'EXTENDS' defined, but not used\n",
      "WARNING: Token 'IMPORT' defined, but not used\n",
      "WARNING: Token 'LINE_COMMENT' defined, but not used\n",
      "WARNING: Token 'LINE_TERMINATOR' defined, but not used\n",
      "WARNING: Token 'SUPER' defined, but not used\n",
      "WARNING: There are 10 unused tokens\n",
      "WARNING: Couldn't create <module 'slimit.yacctab' from 'C:\\\\Users\\\\alexg\\\\Anaconda3\\\\lib\\\\site-packages\\\\slimit\\\\yacctab.py'>. Won't overwrite existing tabmodule\n"
     ]
    },
    {
     "name": "stdout",
     "output_type": "stream",
     "text": [
      "Duel Decks: Merfolk vs. Goblins not a set on MTGPrice\n",
      "2017 Gift Pack\n",
      "Forest\n"
     ]
    },
    {
     "name": "stderr",
     "output_type": "stream",
     "text": [
      "WARNING: Couldn't write lextab module <module 'slimit.lextab' from 'C:\\\\Users\\\\alexg\\\\Anaconda3\\\\lib\\\\site-packages\\\\slimit\\\\lextab.py'>. Won't overwrite existing lextab module\n",
      "WARNING: yacc table file version is out of date\n",
      "WARNING: Token 'BLOCK_COMMENT' defined, but not used\n",
      "WARNING: Token 'CLASS' defined, but not used\n",
      "WARNING: Token 'CONST' defined, but not used\n",
      "WARNING: Token 'ENUM' defined, but not used\n",
      "WARNING: Token 'EXPORT' defined, but not used\n",
      "WARNING: Token 'EXTENDS' defined, but not used\n",
      "WARNING: Token 'IMPORT' defined, but not used\n",
      "WARNING: Token 'LINE_COMMENT' defined, but not used\n",
      "WARNING: Token 'LINE_TERMINATOR' defined, but not used\n",
      "WARNING: Token 'SUPER' defined, but not used\n",
      "WARNING: There are 10 unused tokens\n"
     ]
    },
    {
     "name": "stdout",
     "output_type": "stream",
     "text": [
      "2017 Gift Pack not a set on MTGPrice\n",
      "Ixalan\n",
      "Stone Quarry\n"
     ]
    },
    {
     "name": "stderr",
     "output_type": "stream",
     "text": [
      "WARNING: Couldn't write lextab module <module 'slimit.lextab' from 'C:\\\\Users\\\\alexg\\\\Anaconda3\\\\lib\\\\site-packages\\\\slimit\\\\lextab.py'>. Won't overwrite existing lextab module\n",
      "WARNING: yacc table file version is out of date\n",
      "WARNING: Token 'BLOCK_COMMENT' defined, but not used\n",
      "WARNING: Token 'CLASS' defined, but not used\n",
      "WARNING: Token 'CONST' defined, but not used\n",
      "WARNING: Token 'ENUM' defined, but not used\n",
      "WARNING: Token 'EXPORT' defined, but not used\n",
      "WARNING: Token 'EXTENDS' defined, but not used\n",
      "WARNING: Token 'IMPORT' defined, but not used\n",
      "WARNING: Token 'LINE_COMMENT' defined, but not used\n",
      "WARNING: Token 'LINE_TERMINATOR' defined, but not used\n",
      "WARNING: Token 'SUPER' defined, but not used\n",
      "WARNING: There are 10 unused tokens\n",
      "WARNING: Couldn't create <module 'slimit.yacctab' from 'C:\\\\Users\\\\alexg\\\\Anaconda3\\\\lib\\\\site-packages\\\\slimit\\\\yacctab.py'>. Won't overwrite existing tabmodule\n"
     ]
    },
    {
     "name": "stdout",
     "output_type": "stream",
     "text": [
      "Sun-Blessed Mount\n"
     ]
    },
    {
     "name": "stderr",
     "output_type": "stream",
     "text": [
      "WARNING: Couldn't write lextab module <module 'slimit.lextab' from 'C:\\\\Users\\\\alexg\\\\Anaconda3\\\\lib\\\\site-packages\\\\slimit\\\\lextab.py'>. Won't overwrite existing lextab module\n",
      "WARNING: yacc table file version is out of date\n",
      "WARNING: Token 'BLOCK_COMMENT' defined, but not used\n",
      "WARNING: Token 'CLASS' defined, but not used\n",
      "WARNING: Token 'CONST' defined, but not used\n",
      "WARNING: Token 'ENUM' defined, but not used\n",
      "WARNING: Token 'EXPORT' defined, but not used\n",
      "WARNING: Token 'EXTENDS' defined, but not used\n",
      "WARNING: Token 'IMPORT' defined, but not used\n",
      "WARNING: Token 'LINE_COMMENT' defined, but not used\n",
      "WARNING: Token 'LINE_TERMINATOR' defined, but not used\n",
      "WARNING: Token 'SUPER' defined, but not used\n",
      "WARNING: There are 10 unused tokens\n",
      "WARNING: Couldn't create <module 'slimit.yacctab' from 'C:\\\\Users\\\\alexg\\\\Anaconda3\\\\lib\\\\site-packages\\\\slimit\\\\yacctab.py'>. Won't overwrite existing tabmodule\n"
     ]
    },
    {
     "name": "stdout",
     "output_type": "stream",
     "text": [
      "Huatli's Spurring\n"
     ]
    },
    {
     "name": "stderr",
     "output_type": "stream",
     "text": [
      "WARNING: Couldn't write lextab module <module 'slimit.lextab' from 'C:\\\\Users\\\\alexg\\\\Anaconda3\\\\lib\\\\site-packages\\\\slimit\\\\lextab.py'>. Won't overwrite existing lextab module\n",
      "WARNING: yacc table file version is out of date\n",
      "WARNING: Token 'BLOCK_COMMENT' defined, but not used\n",
      "WARNING: Token 'CLASS' defined, but not used\n",
      "WARNING: Token 'CONST' defined, but not used\n",
      "WARNING: Token 'ENUM' defined, but not used\n",
      "WARNING: Token 'EXPORT' defined, but not used\n",
      "WARNING: Token 'EXTENDS' defined, but not used\n",
      "WARNING: Token 'IMPORT' defined, but not used\n",
      "WARNING: Token 'LINE_COMMENT' defined, but not used\n",
      "WARNING: Token 'LINE_TERMINATOR' defined, but not used\n",
      "WARNING: Token 'SUPER' defined, but not used\n",
      "WARNING: There are 10 unused tokens\n",
      "WARNING: Couldn't create <module 'slimit.yacctab' from 'C:\\\\Users\\\\alexg\\\\Anaconda3\\\\lib\\\\site-packages\\\\slimit\\\\yacctab.py'>. Won't overwrite existing tabmodule\n"
     ]
    },
    {
     "name": "stdout",
     "output_type": "stream",
     "text": [
      "Huatli's Snubhorn\n"
     ]
    },
    {
     "name": "stderr",
     "output_type": "stream",
     "text": [
      "WARNING: Couldn't write lextab module <module 'slimit.lextab' from 'C:\\\\Users\\\\alexg\\\\Anaconda3\\\\lib\\\\site-packages\\\\slimit\\\\lextab.py'>. Won't overwrite existing lextab module\n",
      "WARNING: yacc table file version is out of date\n",
      "WARNING: Token 'BLOCK_COMMENT' defined, but not used\n",
      "WARNING: Token 'CLASS' defined, but not used\n",
      "WARNING: Token 'CONST' defined, but not used\n",
      "WARNING: Token 'ENUM' defined, but not used\n",
      "WARNING: Token 'EXPORT' defined, but not used\n",
      "WARNING: Token 'EXTENDS' defined, but not used\n",
      "WARNING: Token 'IMPORT' defined, but not used\n",
      "WARNING: Token 'LINE_COMMENT' defined, but not used\n",
      "WARNING: Token 'LINE_TERMINATOR' defined, but not used\n",
      "WARNING: Token 'SUPER' defined, but not used\n",
      "WARNING: There are 10 unused tokens\n",
      "WARNING: Couldn't create <module 'slimit.yacctab' from 'C:\\\\Users\\\\alexg\\\\Anaconda3\\\\lib\\\\site-packages\\\\slimit\\\\yacctab.py'>. Won't overwrite existing tabmodule\n"
     ]
    },
    {
     "name": "stdout",
     "output_type": "stream",
     "text": [
      "Huatli, Dinosaur Knight\n"
     ]
    }
   ],
   "source": [
    "sets_price_history(sets, all_cards_df)"
   ]
  },
  {
   "cell_type": "code",
   "execution_count": null,
   "metadata": {},
   "outputs": [],
   "source": []
  }
 ],
 "metadata": {
  "kernelspec": {
   "display_name": "Python 3",
   "language": "python",
   "name": "python3"
  },
  "language_info": {
   "codemirror_mode": {
    "name": "ipython",
    "version": 3
   },
   "file_extension": ".py",
   "mimetype": "text/x-python",
   "name": "python",
   "nbconvert_exporter": "python",
   "pygments_lexer": "ipython3",
   "version": "3.6.5"
  }
 },
 "nbformat": 4,
 "nbformat_minor": 2
}
