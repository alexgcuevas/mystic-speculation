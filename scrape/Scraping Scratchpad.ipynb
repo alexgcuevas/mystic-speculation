{
 "cells": [
  {
   "cell_type": "markdown",
   "metadata": {},
   "source": [
    "# Getting Started"
   ]
  },
  {
   "cell_type": "markdown",
   "metadata": {},
   "source": [
    "Scryfall API:\n",
    "\"We kindly ask that you insert 50 – 100 milliseconds of delay between the requests you send to the server. (i.e., 10 requests per second on average).\""
   ]
  },
  {
   "cell_type": "code",
   "execution_count": 54,
   "metadata": {},
   "outputs": [],
   "source": [
    "# import all the things\n",
    "import numpy as np\n",
    "import pandas as pd\n",
    "import json, requests, pickle\n",
    "from bs4 import BeautifulSoup"
   ]
  },
  {
   "cell_type": "code",
   "execution_count": null,
   "metadata": {},
   "outputs": [],
   "source": [
    "# Get setlist into dataframe\n",
    "link = 'https://api.scryfall.com/sets'\n",
    "response = requests.get(link)\n",
    "sets = response.json()['data']\n",
    "sets_df = pd.DataFrame(sets)"
   ]
  },
  {
   "cell_type": "markdown",
   "metadata": {},
   "source": [
    "## Clean up set data "
   ]
  },
  {
   "cell_type": "code",
   "execution_count": null,
   "metadata": {},
   "outputs": [],
   "source": [
    "# Ignore sets with no release date (likely promotional / outliers), set release date to index\n",
    "sets_df.dropna(subset=['released_at'], inplace=True)\n",
    "sets_df.set_index('released_at', inplace=True)\n",
    "\n",
    "# Remove repetitive information and online data\n",
    "sets_df.drop(['digital','mtgo_code','parent_set_code','object'], axis=1, inplace=True)"
   ]
  },
  {
   "cell_type": "code",
   "execution_count": null,
   "metadata": {},
   "outputs": [],
   "source": [
    "# Make even cleaner for ease of exploration\n",
    "clean_df = sets_df[['name','code','block_code','card_count','set_type']]\n",
    "clean_df['set_type'].unique()"
   ]
  },
  {
   "cell_type": "code",
   "execution_count": null,
   "metadata": {},
   "outputs": [],
   "source": [
    "# after extensive manual checking of set legality / onlineness\n",
    "sets_to_drop = [\n",
    "    'me1',\n",
    "    'me2',\n",
    "    'me3',\n",
    "    'me4',\n",
    "    'vma',\n",
    "    'tpr',\n",
    "    'e02',\n",
    "    'gnt',\n",
    "    'td0',\n",
    "    'mgb',\n",
    "    'ana',\n",
    "    'w17',\n",
    "    'w16',\n",
    "    'itp'\n",
    "]\n",
    "types_to_drop = [\n",
    "    'memorabilia',\n",
    "    'funny',\n",
    "    'treasure_chest'\n",
    "]"
   ]
  },
  {
   "cell_type": "code",
   "execution_count": null,
   "metadata": {},
   "outputs": [],
   "source": [
    "final_sets = sets_df[sets_df['code'].apply(lambda x: x not in sets_to_drop)]\n",
    "final_sets = final_sets[final_sets['set_type'].apply(lambda x: x not in types_to_drop)]\n",
    "final_sets.head()"
   ]
  },
  {
   "cell_type": "markdown",
   "metadata": {},
   "source": [
    "## Get Card Data"
   ]
  },
  {
   "cell_type": "code",
   "execution_count": null,
   "metadata": {},
   "outputs": [],
   "source": [
    "# get 1 page\n",
    "link = 'https://api.scryfall.com/cards?page=1'\n",
    "response = requests.get(link)\n",
    "cards = response.json()['data']\n",
    "cards_df = pd.DataFrame(cards)"
   ]
  },
  {
   "cell_type": "code",
   "execution_count": null,
   "metadata": {},
   "outputs": [],
   "source": [
    "cards_df.info()"
   ]
  },
  {
   "cell_type": "code",
   "execution_count": null,
   "metadata": {},
   "outputs": [],
   "source": [
    "# Filters: not legal in vintage (tokens, joke cards, conspiracies, etc.), only english cards\n",
    "clean_cards = cards_df[(cards_df['legalities'].apply(lambda x: x['vintage']!='not_legal')) & (cards_df['lang']=='en')]\n",
    "clean_cards.set_index('id', inplace=True)\n",
    "clean_cards.info()"
   ]
  },
  {
   "cell_type": "code",
   "execution_count": null,
   "metadata": {},
   "outputs": [],
   "source": [
    "# Features to keep\n",
    "MVP_features = [\n",
    "    'name',\n",
    "    'set_name',\n",
    "    'type_line',    \n",
    "    'mana_cost',\n",
    "    'rarity',\n",
    "    'oracle_text',\n",
    "    'power',\n",
    "    'toughness',\n",
    "    'loyalty',\n",
    "    'cmc',\n",
    "    'set',\n",
    "    'color_identity',\n",
    "    'colors',    \n",
    "    'reprint',\n",
    "    'layout',\n",
    "    'legalities',\n",
    "]\n",
    "\n",
    "misc_features = [\n",
    "    'all_parts',\n",
    "    'artist',\n",
    "    'border_color',\n",
    "    'card_faces',\n",
    "    'edhrec_rank',\n",
    "    'flavor_text',\n",
    "    'foil',\n",
    "    'nonfoil',\n",
    "    'full_art',\n",
    "    'watermark'    \n",
    "    'timeshifted',\n",
    "    'colorshifted',\n",
    "    'futureshifted',\n",
    "    'illustration_id',\n",
    "    'multiverse_ids',\n",
    "    'oracle_id',\n",
    "    'prints_search_uri',\n",
    "    'rulings_uri',\n",
    "    'set_search_uri',\n",
    "]"
   ]
  },
  {
   "cell_type": "code",
   "execution_count": null,
   "metadata": {},
   "outputs": [],
   "source": [
    "clean_cards[MVP_features].head()"
   ]
  },
  {
   "cell_type": "markdown",
   "metadata": {},
   "source": [
    "Next Step: Write loop into scraper, get all the cards! Get the hell off jupyter ntoebooK!"
   ]
  },
  {
   "cell_type": "markdown",
   "metadata": {},
   "source": [
    "### Formats\n",
    "Starting w/ modern:\n",
    "* Standard\n",
    "* Modern\n",
    "* Extended\n",
    "* Legacy\n",
    "* Vintage\n",
    "* Block Constructed (deprecated)\n",
    "* Extended (deprecated)\n",
    "* Commander\n",
    "* Casual"
   ]
  },
  {
   "cell_type": "markdown",
   "metadata": {},
   "source": [
    "Questions:\n",
    "    Should I only care about non foils?\n",
    "    Should I do reprint / set search on my own, or use the API? "
   ]
  },
  {
   "cell_type": "markdown",
   "metadata": {},
   "source": [
    "## Post-Scryfall Scrape: How do the cards look?"
   ]
  },
  {
   "cell_type": "code",
   "execution_count": 55,
   "metadata": {},
   "outputs": [
    {
     "name": "stderr",
     "output_type": "stream",
     "text": [
      "C:\\Users\\alexg\\Anaconda3\\lib\\site-packages\\IPython\\core\\interactiveshell.py:2785: DtypeWarning: Columns (9) have mixed types. Specify dtype option on import or set low_memory=False.\n",
      "  interactivity=interactivity, compiler=compiler, result=result)\n"
     ]
    },
    {
     "name": "stdout",
     "output_type": "stream",
     "text": [
      "<class 'pandas.core.frame.DataFrame'>\n",
      "RangeIndex: 41291 entries, 0 to 41290\n",
      "Data columns (total 17 columns):\n",
      "id                41291 non-null object\n",
      "name              41291 non-null object\n",
      "set_name          41291 non-null object\n",
      "type_line         41291 non-null object\n",
      "mana_cost         36309 non-null object\n",
      "rarity            41291 non-null object\n",
      "oracle_text       40216 non-null object\n",
      "power             18913 non-null object\n",
      "toughness         18913 non-null object\n",
      "loyalty           306 non-null object\n",
      "cmc               41291 non-null float64\n",
      "set               41291 non-null object\n",
      "color_identity    41291 non-null object\n",
      "colors            41113 non-null object\n",
      "reprint           41291 non-null bool\n",
      "layout            41291 non-null object\n",
      "legalities        41291 non-null object\n",
      "dtypes: bool(1), float64(1), object(15)\n",
      "memory usage: 5.1+ MB\n"
     ]
    }
   ],
   "source": [
    "all_cards_df = pd.read_csv('all_vintage_cards.csv')\n",
    "all_cards_df.info()"
   ]
  },
  {
   "cell_type": "markdown",
   "metadata": {},
   "source": [
    "## MTGPrice Scraping"
   ]
  },
  {
   "cell_type": "code",
   "execution_count": null,
   "metadata": {},
   "outputs": [],
   "source": [
    "# trying slimit parser\n",
    "from slimit import ast\n",
    "from slimit.parser import Parser\n",
    "from slimit.visitors import nodevisitor"
   ]
  },
  {
   "cell_type": "code",
   "execution_count": null,
   "metadata": {},
   "outputs": [],
   "source": [
    "# Turn card data into soup\n",
    "link = 'https://www.mtgprice.com/sets/Visions/Vampiric_Tutor'\n",
    "soup = BeautifulSoup(requests.get(link).content, 'html.parser')\n",
    "\n",
    "# GET RESULTS\n",
    "text_to_find = 'var results = ['\n",
    "history=[]\n",
    "for script in soup.findAll('script', type='text/javascript'):\n",
    "    if text_to_find in script.text:\n",
    "        parser = Parser()\n",
    "        tree = parser.parse(script.text)\n",
    "        for node in nodevisitor.visit(tree):\n",
    "            if isinstance(node, ast.Assign) and getattr(node.left, 'value', '') == \"\\\"data\\\"\":\n",
    "                for prices in node.right.items:\n",
    "                    history.append([prices.items[0].value,prices.items[1].value])\n",
    "                break\n",
    "print(np.array(history).shape)"
   ]
  },
  {
   "cell_type": "markdown",
   "metadata": {},
   "source": [
    "### Let's try a whole set"
   ]
  },
  {
   "cell_type": "code",
   "execution_count": null,
   "metadata": {},
   "outputs": [],
   "source": [
    "def card_price_history(setname, cardname):\n",
    "    # Turn card data into soup\n",
    "    link = 'https://www.mtgprice.com/sets/' + '_'.join(setname.split()) + '/' + '_'.join(cardname.split())\n",
    "    soup = BeautifulSoup(requests.get(link).content, 'html.parser')\n",
    "\n",
    "    # GET RESULTS\n",
    "    text_to_find = 'var results = ['\n",
    "    history=[]\n",
    "    for script in soup.findAll('script', type='text/javascript'):\n",
    "        if text_to_find in script.text:\n",
    "            parser = Parser()\n",
    "            tree = parser.parse(script.text)\n",
    "            for node in nodevisitor.visit(tree):\n",
    "                if isinstance(node, ast.Assign) and getattr(node.left, 'value', '') == \"\\\"data\\\"\":\n",
    "                    for prices in node.right.items:\n",
    "                        history.append([prices.items[0].value,prices.items[1].value])\n",
    "                    break\n",
    "    return np.array(history)"
   ]
  },
  {
   "cell_type": "code",
   "execution_count": null,
   "metadata": {},
   "outputs": [],
   "source": [
    "def sets_price_history(sets, all_cards_df):\n",
    "    set_dict = {}\n",
    "    for setname in sets:\n",
    "        print(setname)\n",
    "        cards = all_cards_df[all_cards_df['set_name'] == setname]['name'].values\n",
    "        card_dict = {}\n",
    "        for cardname in cards:\n",
    "            if '/' in cardname:\n",
    "                cardname = cardname.split('/')[0]\n",
    "            print(cardname)\n",
    "            try:\n",
    "                history = card_price_history(setname, cardname)\n",
    "                card_dict[cardname] = history\n",
    "            except:\n",
    "                print('{} not a set on MTGPrice'.format(setname))\n",
    "                break\n",
    "        set_dict[setname] = card_dict"
   ]
  },
  {
   "cell_type": "code",
   "execution_count": null,
   "metadata": {},
   "outputs": [],
   "source": [
    "with open('price_scrape_0.p', 'rb') as f:\n",
    "    u = pickle._Unpickler(f)\n",
    "    u.encoding = 'latin1'\n",
    "    MVP_scrape = u.load()"
   ]
  },
  {
   "cell_type": "code",
   "execution_count": null,
   "metadata": {},
   "outputs": [],
   "source": [
    "sets_price_history(sets, all_cards_df)"
   ]
  },
  {
   "cell_type": "code",
   "execution_count": 5,
   "metadata": {},
   "outputs": [
    {
     "data": {
      "text/plain": [
       "['Ultimate Box Topper',\n",
       " 'Ultimate Masters',\n",
       " 'Game Night',\n",
       " 'Vintage Championship',\n",
       " 'Legacy Championship',\n",
       " 'GRN Guild Kit',\n",
       " 'Guilds of Ravnica Promos',\n",
       " 'Ravnica Weekend',\n",
       " 'Guilds of Ravnica',\n",
       " 'Mythic Edition',\n",
       " 'Magic Online Promos',\n",
       " 'Commander 2018 Oversized',\n",
       " 'Commander 2018',\n",
       " 'San Diego Comic-Con 2018',\n",
       " 'Arena New Player Experience',\n",
       " 'M19 Standard Showdown',\n",
       " 'Core Set 2019 Promos',\n",
       " 'Core Set 2019',\n",
       " 'You Make the Cube',\n",
       " 'Global Series Jiang Yanggu & Mu Yanling',\n",
       " 'Signature Spellbook: Jace',\n",
       " 'Battlebond Promos',\n",
       " 'Commander Anthology Volume II',\n",
       " 'Battlebond',\n",
       " 'Dominaria',\n",
       " 'Dominaria Promos',\n",
       " 'Duel Decks: Elves vs. Inventors',\n",
       " 'Masters 25',\n",
       " 'Resale Promos',\n",
       " 'Nationals Promos',\n",
       " 'Rivals of Ixalan Promos',\n",
       " 'Rivals of Ixalan',\n",
       " 'Judge Gift Cards 2018',\n",
       " 'Unstable',\n",
       " 'From the Vault: Transform',\n",
       " 'XLN Treasure Chest',\n",
       " 'Explorers of Ixalan',\n",
       " 'Iconic Masters',\n",
       " 'Duel Decks: Merfolk vs. Goblins',\n",
       " '2017 Gift Pack',\n",
       " 'Ixalan',\n",
       " 'Ixalan Promos',\n",
       " 'XLN Standard Showdown',\n",
       " 'Commander 2017 Oversized',\n",
       " 'Commander 2017',\n",
       " 'San Diego Comic-Con 2017',\n",
       " 'Hour of Devastation',\n",
       " 'Hour of Devastation Promos',\n",
       " 'Archenemy: Nicol Bolas',\n",
       " 'Commander Anthology',\n",
       " 'Amonkhet',\n",
       " 'Amonkhet Promos',\n",
       " 'Amonkhet Invocations',\n",
       " 'Welcome Deck 2017',\n",
       " 'Duel Decks: Mind vs. Might',\n",
       " 'Modern Masters 2017',\n",
       " 'Aether Revolt',\n",
       " 'Aether Revolt Promos',\n",
       " 'Judge Gift Cards 2017',\n",
       " 'Friday Night Magic 2017',\n",
       " 'Planechase Anthology',\n",
       " 'Commander 2016 Oversized',\n",
       " 'Commander 2016',\n",
       " 'San Diego Comic-Con 2016',\n",
       " 'Kaladesh',\n",
       " 'Kaladesh Promos',\n",
       " 'Kaladesh Inventions',\n",
       " 'Duel Decks: Nissa vs. Ob Nixilis',\n",
       " 'Conspiracy: Take the Crown',\n",
       " 'From the Vault: Lore',\n",
       " 'Eldritch Moon',\n",
       " 'Eldritch Moon Promos',\n",
       " 'Eternal Masters',\n",
       " 'Shadows over Innistrad',\n",
       " 'Shadows over Innistrad Promos',\n",
       " 'Welcome Deck 2016',\n",
       " 'Duel Decks: Blessed vs. Cursed',\n",
       " 'Oath of the Gatewatch',\n",
       " 'Oath of the Gatewatch Promos',\n",
       " 'Judge Gift Cards 2016',\n",
       " 'Friday Night Magic 2016',\n",
       " 'Legendary Cube',\n",
       " 'Commander 2015 Oversized',\n",
       " 'Commander 2015',\n",
       " 'Battle for Zendikar',\n",
       " 'BFZ Standard Series',\n",
       " 'Battle for Zendikar Promos',\n",
       " 'Zendikar Expeditions',\n",
       " 'Duel Decks: Zendikar vs. Eldrazi',\n",
       " 'From the Vault: Angels',\n",
       " 'Magic Origins Clash Pack',\n",
       " 'Magic Origins Promos',\n",
       " 'Magic Origins',\n",
       " 'San Diego Comic-Con 2015',\n",
       " 'Modern Masters 2015',\n",
       " 'Tempest Remastered',\n",
       " 'Tarkir Dragonfury',\n",
       " 'Dragons of Tarkir',\n",
       " 'Dragons of Tarkir Promos',\n",
       " 'Duel Decks: Elspeth vs. Kiora',\n",
       " 'Fate Reforged Clash Pack',\n",
       " 'Fate Reforged',\n",
       " 'Fate Reforged Promos',\n",
       " \"Ugin's Fate\",\n",
       " 'Pro Tour Promos',\n",
       " 'Judge Gift Cards 2015',\n",
       " 'Friday Night Magic 2015',\n",
       " 'Duel Decks Anthology: Jace vs. Chandra',\n",
       " 'Duel Decks Anthology: Garruk vs. Liliana',\n",
       " 'Duel Decks Anthology: Elves vs. Goblins',\n",
       " 'Duel Decks Anthology: Divine vs. Demonic',\n",
       " 'Commander 2014 Oversized',\n",
       " 'Commander 2014',\n",
       " 'Khans of Tarkir',\n",
       " 'Khans of Tarkir Promos',\n",
       " 'Duel Decks: Speed vs. Cunning',\n",
       " 'From the Vault: Annihilation',\n",
       " 'Magic 2015',\n",
       " 'Magic 2015 Clash Pack',\n",
       " 'Magic 2015 Promos',\n",
       " 'San Diego Comic-Con 2014',\n",
       " 'Vintage Masters',\n",
       " 'Launch Parties',\n",
       " 'Conspiracy',\n",
       " 'Modern Event Deck 2014',\n",
       " \"Journey into Nyx Hero's Path\",\n",
       " 'Journey into Nyx',\n",
       " 'Journey into Nyx Promos',\n",
       " 'Duel Decks: Jace vs. Vraska',\n",
       " 'Born of the Gods',\n",
       " 'Born of the Gods Promos',\n",
       " 'Duels of the Planeswalkers Promos 2014',\n",
       " 'IDW Comics 2014',\n",
       " 'Judge Gift Cards 2014',\n",
       " 'Friday Night Magic 2014',\n",
       " 'Commander 2013 Oversized',\n",
       " 'Commander 2013',\n",
       " 'Theros',\n",
       " 'Theros Promos',\n",
       " 'Duel Decks: Heroes vs. Monsters',\n",
       " 'From the Vault: Twenty',\n",
       " 'Magic 2014',\n",
       " 'Magic 2014 Promos',\n",
       " 'San Diego Comic-Con 2013',\n",
       " 'Modern Masters',\n",
       " \"Dragon's Maze\",\n",
       " \"Dragon's Maze Promos\",\n",
       " 'World Magic Cup Qualifiers',\n",
       " 'Duel Decks: Sorin vs. Tibalt',\n",
       " 'Gatecrash',\n",
       " 'Gatecrash Promos',\n",
       " 'Duels of the Planeswalkers Promos 2013',\n",
       " 'IDW Comics 2013',\n",
       " 'Judge Gift Cards 2013',\n",
       " 'Friday Night Magic 2013',\n",
       " \"Commander's Arsenal Oversized\",\n",
       " \"Commander's Arsenal\",\n",
       " 'Return to Ravnica',\n",
       " 'Return to Ravnica Promos',\n",
       " 'Duel Decks: Izzet vs. Golgari',\n",
       " 'From the Vault: Realms',\n",
       " 'Magic 2013',\n",
       " 'Magic 2013 Promos',\n",
       " 'Planechase 2012',\n",
       " 'Avacyn Restored',\n",
       " 'Open the Helvault',\n",
       " 'Avacyn Restored Promos',\n",
       " 'Duel Decks: Venser vs. Koth',\n",
       " 'Dark Ascension',\n",
       " 'Dark Ascension Promos',\n",
       " 'IDW Comics 2012',\n",
       " 'Wizards Play Network 2012',\n",
       " 'Duels of the Planeswalkers Promos 2012',\n",
       " 'Judge Gift Cards 2012',\n",
       " 'Friday Night Magic 2012',\n",
       " 'Premium Deck Series: Graveborn',\n",
       " 'Innistrad',\n",
       " 'Innistrad Promos',\n",
       " 'Duel Decks: Ajani vs. Nicol Bolas',\n",
       " 'From the Vault: Legends',\n",
       " 'Magic 2012',\n",
       " 'Magic 2012 Promos',\n",
       " 'Commander 2011 Oversized',\n",
       " 'Commander 2011 Launch Party',\n",
       " 'Commander 2011',\n",
       " 'Duel Decks: Mirrodin Pure vs. New Phyrexia',\n",
       " 'New Phyrexia',\n",
       " 'New Phyrexia Promos',\n",
       " 'Duel Decks: Knights vs. Dragons',\n",
       " 'Mirrodin Besieged',\n",
       " 'Mirrodin Besieged Promos',\n",
       " 'Masters Edition IV',\n",
       " 'Duels of the Planeswalkers Promos 2011',\n",
       " 'Wizards Play Network 2011',\n",
       " 'Magic Player Rewards 2011',\n",
       " 'Judge Gift Cards 2011',\n",
       " 'Friday Night Magic 2011',\n",
       " 'Premium Deck Series: Fire and Lightning',\n",
       " 'Magic Online Theme Decks',\n",
       " 'Scars of Mirrodin',\n",
       " 'Scars of Mirrodin Promos',\n",
       " 'Duel Decks: Elspeth vs. Tezzeret',\n",
       " 'From the Vault: Relics',\n",
       " 'Magic 2011',\n",
       " 'Magic 2011 Promos',\n",
       " 'Archenemy',\n",
       " 'Duels of the Planeswalkers',\n",
       " 'Rise of the Eldrazi Promos',\n",
       " 'Rise of the Eldrazi',\n",
       " 'Duel Decks: Phyrexia vs. the Coalition',\n",
       " 'Worldwake Promos',\n",
       " 'Worldwake',\n",
       " 'Duels of the Planeswalkers Promos 2010',\n",
       " 'Wizards Play Network 2010',\n",
       " 'Magic Player Rewards 2010',\n",
       " 'Judge Gift Cards 2010',\n",
       " 'Friday Night Magic 2010',\n",
       " 'Premium Deck Series: Slivers',\n",
       " 'Duel Decks: Garruk vs. Liliana',\n",
       " 'Zendikar Promos',\n",
       " 'Zendikar',\n",
       " 'Masters Edition III',\n",
       " 'Planechase',\n",
       " 'From the Vault: Exiled',\n",
       " 'Magic 2010',\n",
       " 'Magic 2010 Promos',\n",
       " 'Alara Reborn',\n",
       " 'Prerelease Events',\n",
       " 'Duel Decks: Divine vs. Demonic',\n",
       " 'URL/Convention Promos',\n",
       " 'Conflux',\n",
       " 'Miscellaneous Book Promos',\n",
       " 'Wizards Play Network 2009',\n",
       " 'Duels of the Planeswalkers Promos 2009',\n",
       " 'Magic Player Rewards 2009',\n",
       " 'Judge Gift Cards 2009',\n",
       " 'Friday Night Magic 2009',\n",
       " 'Duel Decks: Jace vs. Chandra',\n",
       " 'Shards of Alara',\n",
       " 'Wizards Play Network 2008',\n",
       " 'Masters Edition II',\n",
       " 'From the Vault: Dragons',\n",
       " 'Eventide',\n",
       " 'Shadowmoor',\n",
       " '15th Anniversary Cards',\n",
       " 'Champs and States',\n",
       " 'Morningtide',\n",
       " 'Junior Super Series',\n",
       " 'Junior Series Europe',\n",
       " 'Junior APAC Series',\n",
       " 'Gateway 2008',\n",
       " 'Magic Player Rewards 2008',\n",
       " 'Judge Gift Cards 2008',\n",
       " 'Friday Night Magic 2008',\n",
       " 'Duel Decks: Elves vs. Goblins',\n",
       " 'Release Events',\n",
       " 'Lorwyn',\n",
       " 'Masters Edition',\n",
       " 'Summer of Magic',\n",
       " 'Tenth Edition',\n",
       " 'Tenth Edition Promos',\n",
       " 'Future Sight',\n",
       " 'Grand Prix Promos',\n",
       " 'Planar Chaos',\n",
       " 'Gateway 2007',\n",
       " 'Magic Player Rewards 2007',\n",
       " 'Judge Gift Cards 2007',\n",
       " 'Friday Night Magic 2007',\n",
       " 'Time Spiral',\n",
       " 'Time Spiral Timeshifted',\n",
       " 'Coldsnap Theme Decks',\n",
       " 'Coldsnap',\n",
       " 'Dissension',\n",
       " 'Guildpact',\n",
       " 'Arena League 2006',\n",
       " 'Hachette UK',\n",
       " 'Gateway 2006',\n",
       " 'Magic Player Rewards 2006',\n",
       " 'Judge Gift Cards 2006',\n",
       " 'Friday Night Magic 2006',\n",
       " 'Two-Headed Giant Tournament',\n",
       " 'Ravnica: City of Guilds',\n",
       " 'Ninth Edition',\n",
       " 'Saviors of Kamigawa',\n",
       " 'Betrayers of Kamigawa',\n",
       " 'Arena League 2005',\n",
       " 'Magic Player Rewards 2005',\n",
       " 'Judge Gift Cards 2005',\n",
       " 'Friday Night Magic 2005',\n",
       " 'Unhinged',\n",
       " 'Champions of Kamigawa',\n",
       " 'World Championship Decks 2004',\n",
       " 'Fifth Dawn',\n",
       " 'Darksteel',\n",
       " 'Arena League 2004',\n",
       " 'Magic Player Rewards 2004',\n",
       " 'Judge Gift Cards 2004',\n",
       " 'Friday Night Magic 2004',\n",
       " 'Mirrodin',\n",
       " 'World Championship Decks 2003',\n",
       " 'Eighth Edition',\n",
       " 'Scourge',\n",
       " 'Legions',\n",
       " 'Arena League 2003',\n",
       " 'Magic Player Rewards 2003',\n",
       " 'Judge Gift Cards 2003',\n",
       " 'Friday Night Magic 2003',\n",
       " 'Onslaught',\n",
       " 'World Championship Decks 2002',\n",
       " 'Judgment',\n",
       " 'Torment',\n",
       " 'Arena League 2002',\n",
       " 'Magic Player Rewards 2002',\n",
       " 'Judge Gift Cards 2002',\n",
       " 'Friday Night Magic 2002',\n",
       " 'Deckmasters',\n",
       " 'Odyssey',\n",
       " 'World Championship Decks 2001',\n",
       " 'Apocalypse',\n",
       " 'Seventh Edition',\n",
       " 'Planeshift',\n",
       " 'Arena League 2001',\n",
       " 'Magic Player Rewards 2001',\n",
       " 'Judge Gift Cards 2001',\n",
       " 'Friday Night Magic 2001',\n",
       " 'Invasion',\n",
       " 'Beatdown Box Set',\n",
       " 'World Championship Decks 2000',\n",
       " 'Prophecy',\n",
       " 'Starter 2000',\n",
       " 'Nemesis',\n",
       " 'European Land Program',\n",
       " 'Arena League 2000',\n",
       " 'Judge Gift Cards 2000',\n",
       " 'Friday Night Magic 2000',\n",
       " 'Battle Royale Box Set',\n",
       " 'Mercadian Masques',\n",
       " 'Wizards of the Coast Online Store',\n",
       " 'World Championship Decks 1999',\n",
       " 'Worlds',\n",
       " 'Guru',\n",
       " 'Starter 1999',\n",
       " \"Urza's Destiny\",\n",
       " 'Portal Three Kingdoms',\n",
       " 'Classic Sixth Edition',\n",
       " \"Urza's Legacy\",\n",
       " 'Arena League 1999',\n",
       " 'Judge Gift Cards 1999',\n",
       " 'Anthologies',\n",
       " \"Urza's Saga\",\n",
       " 'Asia Pacific Land Program',\n",
       " 'World Championship Decks 1998',\n",
       " 'Unglued',\n",
       " 'Exodus',\n",
       " 'Portal Second Age',\n",
       " 'Stronghold',\n",
       " 'Judge Gift Cards 1998',\n",
       " 'Tempest',\n",
       " 'World Championship Decks 1997',\n",
       " 'Weatherlight',\n",
       " 'Portal Demo Game',\n",
       " 'Portal',\n",
       " 'Fifth Edition',\n",
       " 'Visions',\n",
       " 'Introductory Two-Player Set',\n",
       " 'Multiverse Gift Box',\n",
       " 'Mirage',\n",
       " 'Arena League 1996',\n",
       " 'Rivals Quick Start Set',\n",
       " 'Alliances',\n",
       " 'Pro Tour Collector Set',\n",
       " 'Homelands',\n",
       " 'Chronicles',\n",
       " 'Ice Age',\n",
       " 'Fourth Edition',\n",
       " 'Magazine Inserts',\n",
       " 'DCI Legend Membership',\n",
       " 'Fallen Empires',\n",
       " 'The Dark',\n",
       " 'Summer Magic / Edgar',\n",
       " 'Legends',\n",
       " 'Revised Edition',\n",
       " 'Antiquities',\n",
       " 'HarperPrism Book Promos',\n",
       " 'Dragon Con',\n",
       " 'Arabian Nights',\n",
       " 'Intl. Collectors’ Edition',\n",
       " 'Collectors’ Edition',\n",
       " 'Unlimited Edition',\n",
       " 'Limited Edition Beta',\n",
       " 'Limited Edition Alpha']"
      ]
     },
     "execution_count": 5,
     "metadata": {},
     "output_type": "execute_result"
    }
   ],
   "source": [
    "list(all_cards_df['set_name'].unique())"
   ]
  },
  {
   "cell_type": "code",
   "execution_count": 9,
   "metadata": {},
   "outputs": [],
   "source": [
    "my_dict = {'thing1':[[1,2],[3,4],[5,6]],'thing2':[[11,21],[31,41],[51,61]]}"
   ]
  },
  {
   "cell_type": "code",
   "execution_count": 10,
   "metadata": {},
   "outputs": [
    {
     "data": {
      "text/plain": [
       "{'thing1': [[1, 2], [3, 4], [5, 6]], 'thing2': [[11, 21], [31, 41], [51, 61]]}"
      ]
     },
     "execution_count": 10,
     "metadata": {},
     "output_type": "execute_result"
    }
   ],
   "source": [
    "my_dict"
   ]
  },
  {
   "cell_type": "code",
   "execution_count": 12,
   "metadata": {},
   "outputs": [
    {
     "data": {
      "text/html": [
       "<div>\n",
       "<style scoped>\n",
       "    .dataframe tbody tr th:only-of-type {\n",
       "        vertical-align: middle;\n",
       "    }\n",
       "\n",
       "    .dataframe tbody tr th {\n",
       "        vertical-align: top;\n",
       "    }\n",
       "\n",
       "    .dataframe thead th {\n",
       "        text-align: right;\n",
       "    }\n",
       "</style>\n",
       "<table border=\"1\" class=\"dataframe\">\n",
       "  <thead>\n",
       "    <tr style=\"text-align: right;\">\n",
       "      <th></th>\n",
       "      <th>0</th>\n",
       "      <th>1</th>\n",
       "      <th>2</th>\n",
       "    </tr>\n",
       "  </thead>\n",
       "  <tbody>\n",
       "    <tr>\n",
       "      <th>thing1</th>\n",
       "      <td>[1, 2]</td>\n",
       "      <td>[3, 4]</td>\n",
       "      <td>[5, 6]</td>\n",
       "    </tr>\n",
       "    <tr>\n",
       "      <th>thing2</th>\n",
       "      <td>[11, 21]</td>\n",
       "      <td>[31, 41]</td>\n",
       "      <td>[51, 61]</td>\n",
       "    </tr>\n",
       "  </tbody>\n",
       "</table>\n",
       "</div>"
      ],
      "text/plain": [
       "               0         1         2\n",
       "thing1    [1, 2]    [3, 4]    [5, 6]\n",
       "thing2  [11, 21]  [31, 41]  [51, 61]"
      ]
     },
     "execution_count": 12,
     "metadata": {},
     "output_type": "execute_result"
    }
   ],
   "source": [
    "pd.DataFrame(my_dict).T"
   ]
  },
  {
   "cell_type": "markdown",
   "metadata": {},
   "source": [
    "## Connect to AWS RDS (PostgreSQL database)"
   ]
  },
  {
   "cell_type": "code",
   "execution_count": 1,
   "metadata": {},
   "outputs": [],
   "source": [
    "from sqlalchemy import create_engine\n",
    "import psycopg2"
   ]
  },
  {
   "cell_type": "code",
   "execution_count": 33,
   "metadata": {},
   "outputs": [],
   "source": [
    "# Define all database info\n",
    "RDS_hostname = 'mystic-speculation.cwxojtlggspu.us-east-1.rds.amazonaws.com'\n",
    "port = '5432'\n",
    "db_name = 'mystic_speculation'\n",
    "\n",
    "# load username and pw information for database\n",
    "with open('login.txt', 'r') as login_info:\n",
    "    username = login_info.readline().strip()\n",
    "    password = login_info.readline().strip()"
   ]
  },
  {
   "cell_type": "code",
   "execution_count": 50,
   "metadata": {},
   "outputs": [],
   "source": [
    "# connect to database with sqlalchemy engine\n",
    "db_string = 'postgres://{0}:{1}@{2}:{3}/{4}'.format(username, password, RDS_hostname, port, db_name)\n",
    "engine = create_engine(db_string)\n",
    "mystic = engine.connect()"
   ]
  },
  {
   "cell_type": "code",
   "execution_count": 51,
   "metadata": {},
   "outputs": [
    {
     "name": "stdout",
     "output_type": "stream",
     "text": [
      "inserted two rows:\n",
      "('Arcanis the Omnipotent', 'Onslaught', '1234567890', 12.3)\n",
      "('Arcanis the Omnipotent', 'Masters', '1111111111', 123.0)\n",
      "updated both rows:\n",
      "('Arcanis the Omnipotent', 'Onslaught', '1234567890', 32.1)\n",
      "('Arcanis the Omnipotent', 'Masters', '1111111111', 32.1)\n",
      "deleted one row:\n"
     ]
    }
   ],
   "source": [
    "# Perform CRUD db operations\n",
    "\n",
    "# Create\n",
    "mystic.execute(\"CREATE TABLE IF NOT EXISTS price_history (cardname text, setname text, timestamp text, price float)\")\n",
    "mystic.execute(\"INSERT INTO price_history (cardname, setname, timestamp, price) values ('Arcanis the Omnipotent', 'Onslaught', 1234567890, 12.30)\")\n",
    "mystic.execute(\"INSERT INTO price_history (cardname, setname, timestamp, price) values ('Arcanis the Omnipotent', 'Masters', 1111111111, 123.00)\")\n",
    "\n",
    "# Read\n",
    "results = mystic.execute(\"select * from price_history\")\n",
    "print('inserted two rows:')\n",
    "for r in results:\n",
    "    print(r)\n",
    "\n",
    "# Update\n",
    "mystic.execute(\"update price_history set price=32.10 where cardname = 'Arcanis the Omnipotent'\")\n",
    "results = mystic.execute(\"select * from price_history\")\n",
    "print('updated both rows:')\n",
    "for r in results:\n",
    "    print(r)\n",
    "    \n",
    "# Delete\n",
    "mystic.execute(\"DELETE FROM price_history *\")\n",
    "results = mystic.execute(\"select * from price_history\")\n",
    "print('deleted one row:')\n",
    "for r in results:\n",
    "    print(r)"
   ]
  },
  {
   "cell_type": "code",
   "execution_count": 44,
   "metadata": {},
   "outputs": [],
   "source": [
    "results = mystic.execute(\"select * from price_history\")\n",
    "for r in results:\n",
    "    print(r)"
   ]
  },
  {
   "cell_type": "code",
   "execution_count": 45,
   "metadata": {},
   "outputs": [],
   "source": [
    "mystic.close()"
   ]
  },
  {
   "cell_type": "code",
   "execution_count": 56,
   "metadata": {},
   "outputs": [
    {
     "data": {
      "text/plain": [
       "array(['mythic', 'rare', 'uncommon', 'common'], dtype=object)"
      ]
     },
     "execution_count": 56,
     "metadata": {},
     "output_type": "execute_result"
    }
   ],
   "source": [
    "all_cards_df['rarity'].unique()"
   ]
  },
  {
   "cell_type": "code",
   "execution_count": null,
   "metadata": {},
   "outputs": [],
   "source": []
  }
 ],
 "metadata": {
  "kernelspec": {
   "display_name": "Python 3",
   "language": "python",
   "name": "python3"
  },
  "language_info": {
   "codemirror_mode": {
    "name": "ipython",
    "version": 3
   },
   "file_extension": ".py",
   "mimetype": "text/x-python",
   "name": "python",
   "nbconvert_exporter": "python",
   "pygments_lexer": "ipython3",
   "version": "3.6.5"
  }
 },
 "nbformat": 4,
 "nbformat_minor": 2
}
