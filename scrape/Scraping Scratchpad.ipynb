{
 "cells": [
  {
   "cell_type": "markdown",
   "metadata": {},
   "source": [
    "First, we're going to use Scryfall's wonderful API to download all of the cards and their features. Because there are a limited number of cards & features, it should be OK to save these all in .csv for now. "
   ]
  },
  {
   "cell_type": "code",
   "execution_count": 2,
   "metadata": {},
   "outputs": [],
   "source": [
    "# Import basic data wrangling and scraping tools \n",
    "import numpy as np\n",
    "import pandas as pd\n",
    "import json, requests, pickle\n",
    "from bs4 import BeautifulSoup"
   ]
  },
  {
   "cell_type": "markdown",
   "metadata": {},
   "source": [
    "## Exploring set data\n",
    "\n",
    "Before jumping into the cards (which are a little more complicated), let's start by looking at the sets (card expansions)."
   ]
  },
  {
   "cell_type": "code",
   "execution_count": 6,
   "metadata": {},
   "outputs": [
    {
     "data": {
      "text/html": [
       "<div>\n",
       "<style scoped>\n",
       "    .dataframe tbody tr th:only-of-type {\n",
       "        vertical-align: middle;\n",
       "    }\n",
       "\n",
       "    .dataframe tbody tr th {\n",
       "        vertical-align: top;\n",
       "    }\n",
       "\n",
       "    .dataframe thead th {\n",
       "        text-align: right;\n",
       "    }\n",
       "</style>\n",
       "<table border=\"1\" class=\"dataframe\">\n",
       "  <thead>\n",
       "    <tr style=\"text-align: right;\">\n",
       "      <th></th>\n",
       "      <th>block</th>\n",
       "      <th>block_code</th>\n",
       "      <th>card_count</th>\n",
       "      <th>code</th>\n",
       "      <th>digital</th>\n",
       "      <th>foil_only</th>\n",
       "      <th>icon_svg_uri</th>\n",
       "      <th>mtgo_code</th>\n",
       "      <th>name</th>\n",
       "      <th>object</th>\n",
       "      <th>parent_set_code</th>\n",
       "      <th>released_at</th>\n",
       "      <th>scryfall_uri</th>\n",
       "      <th>search_uri</th>\n",
       "      <th>set_type</th>\n",
       "      <th>uri</th>\n",
       "    </tr>\n",
       "  </thead>\n",
       "  <tbody>\n",
       "    <tr>\n",
       "      <th>0</th>\n",
       "      <td>NaN</td>\n",
       "      <td>NaN</td>\n",
       "      <td>40</td>\n",
       "      <td>puma</td>\n",
       "      <td>False</td>\n",
       "      <td>True</td>\n",
       "      <td>https://img.scryfall.com/sets/uma.svg?1541998800</td>\n",
       "      <td>NaN</td>\n",
       "      <td>Ultimate Box Topper</td>\n",
       "      <td>set</td>\n",
       "      <td>uma</td>\n",
       "      <td>NaN</td>\n",
       "      <td>https://scryfall.com/sets/puma</td>\n",
       "      <td>https://api.scryfall.com/cards/search?order=se...</td>\n",
       "      <td>masterpiece</td>\n",
       "      <td>https://api.scryfall.com/sets/puma</td>\n",
       "    </tr>\n",
       "  </tbody>\n",
       "</table>\n",
       "</div>"
      ],
      "text/plain": [
       "  block block_code  card_count  code  digital  foil_only  \\\n",
       "0   NaN        NaN          40  puma    False       True   \n",
       "\n",
       "                                       icon_svg_uri mtgo_code  \\\n",
       "0  https://img.scryfall.com/sets/uma.svg?1541998800       NaN   \n",
       "\n",
       "                  name object parent_set_code released_at  \\\n",
       "0  Ultimate Box Topper    set             uma         NaN   \n",
       "\n",
       "                     scryfall_uri  \\\n",
       "0  https://scryfall.com/sets/puma   \n",
       "\n",
       "                                          search_uri     set_type  \\\n",
       "0  https://api.scryfall.com/cards/search?order=se...  masterpiece   \n",
       "\n",
       "                                  uri  \n",
       "0  https://api.scryfall.com/sets/puma  "
      ]
     },
     "execution_count": 6,
     "metadata": {},
     "output_type": "execute_result"
    }
   ],
   "source": [
    "# Get setlist into dataframe\n",
    "link = 'https://api.scryfall.com/sets'\n",
    "response = requests.get(link)\n",
    "sets = response.json()['data']\n",
    "sets_df = pd.DataFrame(sets)\n",
    "sets_df.head(1)"
   ]
  },
  {
   "cell_type": "markdown",
   "metadata": {},
   "source": [
    "\n",
    "Looks like there is a lot of extra data here we don't need. Let's clean it up a bit:"
   ]
  },
  {
   "cell_type": "code",
   "execution_count": 7,
   "metadata": {},
   "outputs": [
    {
     "data": {
      "text/html": [
       "<div>\n",
       "<style scoped>\n",
       "    .dataframe tbody tr th:only-of-type {\n",
       "        vertical-align: middle;\n",
       "    }\n",
       "\n",
       "    .dataframe tbody tr th {\n",
       "        vertical-align: top;\n",
       "    }\n",
       "\n",
       "    .dataframe thead th {\n",
       "        text-align: right;\n",
       "    }\n",
       "</style>\n",
       "<table border=\"1\" class=\"dataframe\">\n",
       "  <thead>\n",
       "    <tr style=\"text-align: right;\">\n",
       "      <th></th>\n",
       "      <th>block</th>\n",
       "      <th>block_code</th>\n",
       "      <th>card_count</th>\n",
       "      <th>code</th>\n",
       "      <th>foil_only</th>\n",
       "      <th>icon_svg_uri</th>\n",
       "      <th>name</th>\n",
       "      <th>scryfall_uri</th>\n",
       "      <th>search_uri</th>\n",
       "      <th>set_type</th>\n",
       "      <th>uri</th>\n",
       "    </tr>\n",
       "    <tr>\n",
       "      <th>released_at</th>\n",
       "      <th></th>\n",
       "      <th></th>\n",
       "      <th></th>\n",
       "      <th></th>\n",
       "      <th></th>\n",
       "      <th></th>\n",
       "      <th></th>\n",
       "      <th></th>\n",
       "      <th></th>\n",
       "      <th></th>\n",
       "      <th></th>\n",
       "    </tr>\n",
       "  </thead>\n",
       "  <tbody>\n",
       "    <tr>\n",
       "      <th>2018-12-07</th>\n",
       "      <td>NaN</td>\n",
       "      <td>NaN</td>\n",
       "      <td>41</td>\n",
       "      <td>uma</td>\n",
       "      <td>False</td>\n",
       "      <td>https://img.scryfall.com/sets/uma.svg?1541998800</td>\n",
       "      <td>Ultimate Masters</td>\n",
       "      <td>https://scryfall.com/sets/uma</td>\n",
       "      <td>https://api.scryfall.com/cards/search?order=se...</td>\n",
       "      <td>masters</td>\n",
       "      <td>https://api.scryfall.com/sets/uma</td>\n",
       "    </tr>\n",
       "  </tbody>\n",
       "</table>\n",
       "</div>"
      ],
      "text/plain": [
       "            block block_code  card_count code  foil_only  \\\n",
       "released_at                                                \n",
       "2018-12-07    NaN        NaN          41  uma      False   \n",
       "\n",
       "                                                 icon_svg_uri  \\\n",
       "released_at                                                     \n",
       "2018-12-07   https://img.scryfall.com/sets/uma.svg?1541998800   \n",
       "\n",
       "                         name                   scryfall_uri  \\\n",
       "released_at                                                    \n",
       "2018-12-07   Ultimate Masters  https://scryfall.com/sets/uma   \n",
       "\n",
       "                                                    search_uri set_type  \\\n",
       "released_at                                                               \n",
       "2018-12-07   https://api.scryfall.com/cards/search?order=se...  masters   \n",
       "\n",
       "                                           uri  \n",
       "released_at                                     \n",
       "2018-12-07   https://api.scryfall.com/sets/uma  "
      ]
     },
     "execution_count": 7,
     "metadata": {},
     "output_type": "execute_result"
    }
   ],
   "source": [
    "# Ignore sets with no release date (likely promotional / outliers)\n",
    "sets_df.dropna(subset=['released_at'], inplace=True)\n",
    "# Set release date to index - chronological order makes sense, right?\n",
    "sets_df.set_index('released_at', inplace=True)\n",
    "# Remove repetitive information and online data\n",
    "sets_df.drop(['digital','mtgo_code','parent_set_code','object'], axis=1, inplace=True)\n",
    "\n",
    "sets_df.head(1)"
   ]
  },
  {
   "cell_type": "markdown",
   "metadata": {},
   "source": [
    "Looks better, but still some extra information here, like the uris. We might need them later though, so for the next cleaning step I'll just make a new dataframe."
   ]
  },
  {
   "cell_type": "code",
   "execution_count": 16,
   "metadata": {},
   "outputs": [
    {
     "data": {
      "text/html": [
       "<div>\n",
       "<style scoped>\n",
       "    .dataframe tbody tr th:only-of-type {\n",
       "        vertical-align: middle;\n",
       "    }\n",
       "\n",
       "    .dataframe tbody tr th {\n",
       "        vertical-align: top;\n",
       "    }\n",
       "\n",
       "    .dataframe thead th {\n",
       "        text-align: right;\n",
       "    }\n",
       "</style>\n",
       "<table border=\"1\" class=\"dataframe\">\n",
       "  <thead>\n",
       "    <tr style=\"text-align: right;\">\n",
       "      <th></th>\n",
       "      <th>name</th>\n",
       "      <th>code</th>\n",
       "      <th>block_code</th>\n",
       "      <th>card_count</th>\n",
       "      <th>set_type</th>\n",
       "    </tr>\n",
       "    <tr>\n",
       "      <th>released_at</th>\n",
       "      <th></th>\n",
       "      <th></th>\n",
       "      <th></th>\n",
       "      <th></th>\n",
       "      <th></th>\n",
       "    </tr>\n",
       "  </thead>\n",
       "  <tbody>\n",
       "    <tr>\n",
       "      <th>2018-12-07</th>\n",
       "      <td>Ultimate Masters</td>\n",
       "      <td>uma</td>\n",
       "      <td>NaN</td>\n",
       "      <td>41</td>\n",
       "      <td>masters</td>\n",
       "    </tr>\n",
       "    <tr>\n",
       "      <th>2018-11-16</th>\n",
       "      <td>Game Night</td>\n",
       "      <td>gnt</td>\n",
       "      <td>NaN</td>\n",
       "      <td>68</td>\n",
       "      <td>box</td>\n",
       "    </tr>\n",
       "    <tr>\n",
       "      <th>2018-11-02</th>\n",
       "      <td>GRN Guild Kit</td>\n",
       "      <td>gk1</td>\n",
       "      <td>NaN</td>\n",
       "      <td>127</td>\n",
       "      <td>box</td>\n",
       "    </tr>\n",
       "    <tr>\n",
       "      <th>2018-10-05</th>\n",
       "      <td>Guilds of Ravnica</td>\n",
       "      <td>grn</td>\n",
       "      <td>grn</td>\n",
       "      <td>273</td>\n",
       "      <td>expansion</td>\n",
       "    </tr>\n",
       "    <tr>\n",
       "      <th>2018-08-09</th>\n",
       "      <td>Commander 2018</td>\n",
       "      <td>c18</td>\n",
       "      <td>NaN</td>\n",
       "      <td>307</td>\n",
       "      <td>commander</td>\n",
       "    </tr>\n",
       "    <tr>\n",
       "      <th>2018-08-01</th>\n",
       "      <td>2017 Heroes of the Realm</td>\n",
       "      <td>htr17</td>\n",
       "      <td>NaN</td>\n",
       "      <td>1</td>\n",
       "      <td>memorabilia</td>\n",
       "    </tr>\n",
       "    <tr>\n",
       "      <th>2018-07-14</th>\n",
       "      <td>Arena New Player Experience</td>\n",
       "      <td>ana</td>\n",
       "      <td>NaN</td>\n",
       "      <td>41</td>\n",
       "      <td>starter</td>\n",
       "    </tr>\n",
       "    <tr>\n",
       "      <th>2018-07-13</th>\n",
       "      <td>Core Set 2019</td>\n",
       "      <td>m19</td>\n",
       "      <td>NaN</td>\n",
       "      <td>314</td>\n",
       "      <td>core</td>\n",
       "    </tr>\n",
       "    <tr>\n",
       "      <th>2018-06-22</th>\n",
       "      <td>Global Series Jiang Yanggu &amp; Mu Yanling</td>\n",
       "      <td>gs1</td>\n",
       "      <td>NaN</td>\n",
       "      <td>41</td>\n",
       "      <td>duel_deck</td>\n",
       "    </tr>\n",
       "    <tr>\n",
       "      <th>2018-06-15</th>\n",
       "      <td>Signature Spellbook: Jace</td>\n",
       "      <td>ss1</td>\n",
       "      <td>NaN</td>\n",
       "      <td>8</td>\n",
       "      <td>spellbook</td>\n",
       "    </tr>\n",
       "  </tbody>\n",
       "</table>\n",
       "</div>"
      ],
      "text/plain": [
       "                                                name   code block_code  \\\n",
       "released_at                                                              \n",
       "2018-12-07                          Ultimate Masters    uma        NaN   \n",
       "2018-11-16                                Game Night    gnt        NaN   \n",
       "2018-11-02                             GRN Guild Kit    gk1        NaN   \n",
       "2018-10-05                         Guilds of Ravnica    grn        grn   \n",
       "2018-08-09                            Commander 2018    c18        NaN   \n",
       "2018-08-01                  2017 Heroes of the Realm  htr17        NaN   \n",
       "2018-07-14               Arena New Player Experience    ana        NaN   \n",
       "2018-07-13                             Core Set 2019    m19        NaN   \n",
       "2018-06-22   Global Series Jiang Yanggu & Mu Yanling    gs1        NaN   \n",
       "2018-06-15                 Signature Spellbook: Jace    ss1        NaN   \n",
       "\n",
       "             card_count     set_type  \n",
       "released_at                           \n",
       "2018-12-07           41      masters  \n",
       "2018-11-16           68          box  \n",
       "2018-11-02          127          box  \n",
       "2018-10-05          273    expansion  \n",
       "2018-08-09          307    commander  \n",
       "2018-08-01            1  memorabilia  \n",
       "2018-07-14           41      starter  \n",
       "2018-07-13          314         core  \n",
       "2018-06-22           41    duel_deck  \n",
       "2018-06-15            8    spellbook  "
      ]
     },
     "execution_count": 16,
     "metadata": {},
     "output_type": "execute_result"
    }
   ],
   "source": [
    "# Make even cleaner for ease of exploration\n",
    "clean_df = sets_df[['name','code','block_code','card_count','set_type']]\n",
    "clean_df.head(10)"
   ]
  },
  {
   "cell_type": "markdown",
   "metadata": {},
   "source": [
    "That's better, but we notice that a lot of these sound weird or have low card counts. Let's investigate the mysterious \"set_type\":"
   ]
  },
  {
   "cell_type": "code",
   "execution_count": 10,
   "metadata": {},
   "outputs": [
    {
     "data": {
      "text/plain": [
       "array(['masters', 'box', 'expansion', 'commander', 'memorabilia',\n",
       "       'starter', 'core', 'duel_deck', 'spellbook', 'draft_innovation',\n",
       "       'funny', 'from_the_vault', 'archenemy', 'planechase',\n",
       "       'treasure_chest', 'premium_deck'], dtype=object)"
      ]
     },
     "execution_count": 10,
     "metadata": {},
     "output_type": "execute_result"
    }
   ],
   "source": [
    "clean_df['set_type'].unique()"
   ]
  },
  {
   "cell_type": "markdown",
   "metadata": {},
   "source": [
    "After doing some research on the sets, I found that a lot of them are promotional and not legal for any tournament format, or are only available online. So let's get rid of those:"
   ]
  },
  {
   "cell_type": "code",
   "execution_count": 17,
   "metadata": {},
   "outputs": [
    {
     "data": {
      "text/html": [
       "<div>\n",
       "<style scoped>\n",
       "    .dataframe tbody tr th:only-of-type {\n",
       "        vertical-align: middle;\n",
       "    }\n",
       "\n",
       "    .dataframe tbody tr th {\n",
       "        vertical-align: top;\n",
       "    }\n",
       "\n",
       "    .dataframe thead th {\n",
       "        text-align: right;\n",
       "    }\n",
       "</style>\n",
       "<table border=\"1\" class=\"dataframe\">\n",
       "  <thead>\n",
       "    <tr style=\"text-align: right;\">\n",
       "      <th></th>\n",
       "      <th>name</th>\n",
       "      <th>code</th>\n",
       "      <th>block_code</th>\n",
       "      <th>card_count</th>\n",
       "      <th>set_type</th>\n",
       "    </tr>\n",
       "    <tr>\n",
       "      <th>released_at</th>\n",
       "      <th></th>\n",
       "      <th></th>\n",
       "      <th></th>\n",
       "      <th></th>\n",
       "      <th></th>\n",
       "    </tr>\n",
       "  </thead>\n",
       "  <tbody>\n",
       "    <tr>\n",
       "      <th>2018-12-07</th>\n",
       "      <td>Ultimate Masters</td>\n",
       "      <td>uma</td>\n",
       "      <td>NaN</td>\n",
       "      <td>41</td>\n",
       "      <td>masters</td>\n",
       "    </tr>\n",
       "    <tr>\n",
       "      <th>2018-11-02</th>\n",
       "      <td>GRN Guild Kit</td>\n",
       "      <td>gk1</td>\n",
       "      <td>NaN</td>\n",
       "      <td>127</td>\n",
       "      <td>box</td>\n",
       "    </tr>\n",
       "    <tr>\n",
       "      <th>2018-10-05</th>\n",
       "      <td>Guilds of Ravnica</td>\n",
       "      <td>grn</td>\n",
       "      <td>grn</td>\n",
       "      <td>273</td>\n",
       "      <td>expansion</td>\n",
       "    </tr>\n",
       "    <tr>\n",
       "      <th>2018-08-09</th>\n",
       "      <td>Commander 2018</td>\n",
       "      <td>c18</td>\n",
       "      <td>NaN</td>\n",
       "      <td>307</td>\n",
       "      <td>commander</td>\n",
       "    </tr>\n",
       "    <tr>\n",
       "      <th>2018-07-13</th>\n",
       "      <td>Core Set 2019</td>\n",
       "      <td>m19</td>\n",
       "      <td>NaN</td>\n",
       "      <td>314</td>\n",
       "      <td>core</td>\n",
       "    </tr>\n",
       "    <tr>\n",
       "      <th>2018-06-22</th>\n",
       "      <td>Global Series Jiang Yanggu &amp; Mu Yanling</td>\n",
       "      <td>gs1</td>\n",
       "      <td>NaN</td>\n",
       "      <td>41</td>\n",
       "      <td>duel_deck</td>\n",
       "    </tr>\n",
       "    <tr>\n",
       "      <th>2018-06-15</th>\n",
       "      <td>Signature Spellbook: Jace</td>\n",
       "      <td>ss1</td>\n",
       "      <td>NaN</td>\n",
       "      <td>8</td>\n",
       "      <td>spellbook</td>\n",
       "    </tr>\n",
       "    <tr>\n",
       "      <th>2018-06-08</th>\n",
       "      <td>Battlebond</td>\n",
       "      <td>bbd</td>\n",
       "      <td>NaN</td>\n",
       "      <td>256</td>\n",
       "      <td>draft_innovation</td>\n",
       "    </tr>\n",
       "    <tr>\n",
       "      <th>2018-06-08</th>\n",
       "      <td>Commander Anthology Volume II</td>\n",
       "      <td>cm2</td>\n",
       "      <td>NaN</td>\n",
       "      <td>312</td>\n",
       "      <td>commander</td>\n",
       "    </tr>\n",
       "    <tr>\n",
       "      <th>2018-04-27</th>\n",
       "      <td>Dominaria</td>\n",
       "      <td>dom</td>\n",
       "      <td>NaN</td>\n",
       "      <td>280</td>\n",
       "      <td>expansion</td>\n",
       "    </tr>\n",
       "  </tbody>\n",
       "</table>\n",
       "</div>"
      ],
      "text/plain": [
       "                                                name code block_code  \\\n",
       "released_at                                                            \n",
       "2018-12-07                          Ultimate Masters  uma        NaN   \n",
       "2018-11-02                             GRN Guild Kit  gk1        NaN   \n",
       "2018-10-05                         Guilds of Ravnica  grn        grn   \n",
       "2018-08-09                            Commander 2018  c18        NaN   \n",
       "2018-07-13                             Core Set 2019  m19        NaN   \n",
       "2018-06-22   Global Series Jiang Yanggu & Mu Yanling  gs1        NaN   \n",
       "2018-06-15                 Signature Spellbook: Jace  ss1        NaN   \n",
       "2018-06-08                                Battlebond  bbd        NaN   \n",
       "2018-06-08             Commander Anthology Volume II  cm2        NaN   \n",
       "2018-04-27                                 Dominaria  dom        NaN   \n",
       "\n",
       "             card_count          set_type  \n",
       "released_at                                \n",
       "2018-12-07           41           masters  \n",
       "2018-11-02          127               box  \n",
       "2018-10-05          273         expansion  \n",
       "2018-08-09          307         commander  \n",
       "2018-07-13          314              core  \n",
       "2018-06-22           41         duel_deck  \n",
       "2018-06-15            8         spellbook  \n",
       "2018-06-08          256  draft_innovation  \n",
       "2018-06-08          312         commander  \n",
       "2018-04-27          280         expansion  "
      ]
     },
     "execution_count": 17,
     "metadata": {},
     "output_type": "execute_result"
    }
   ],
   "source": [
    "# after extensive manual checking of set legality / onlineness\n",
    "sets_to_drop = [\n",
    "    'me1',\n",
    "    'me2',\n",
    "    'me3',\n",
    "    'me4',\n",
    "    'vma',\n",
    "    'tpr',\n",
    "    'e02',\n",
    "    'gnt',\n",
    "    'td0',\n",
    "    'mgb',\n",
    "    'ana',\n",
    "    'w17',\n",
    "    'w16',\n",
    "    'itp'\n",
    "]\n",
    "types_to_drop = [\n",
    "    'memorabilia',\n",
    "    'funny',\n",
    "    'treasure_chest'\n",
    "]\n",
    "\n",
    "final_sets = clean_df[clean_df['code'].apply(lambda x: x not in sets_to_drop)]\n",
    "final_sets = final_sets[final_sets['set_type'].apply(lambda x: x not in types_to_drop)]\n",
    "final_sets.head(10)"
   ]
  },
  {
   "cell_type": "markdown",
   "metadata": {},
   "source": [
    "This looks better - I recognize more of these sets, and the promotional ones are tournament legal."
   ]
  },
  {
   "cell_type": "markdown",
   "metadata": {},
   "source": [
    "## Get Card Data"
   ]
  },
  {
   "cell_type": "code",
   "execution_count": 7,
   "metadata": {},
   "outputs": [],
   "source": [
    "# get 1 page\n",
    "link = 'https://api.scryfall.com/cards?page=1'\n",
    "response = requests.get(link)\n",
    "cards = response.json()['data']\n",
    "cards_df = pd.DataFrame(cards)"
   ]
  },
  {
   "cell_type": "code",
   "execution_count": 8,
   "metadata": {},
   "outputs": [
    {
     "name": "stdout",
     "output_type": "stream",
     "text": [
      "<class 'pandas.core.frame.DataFrame'>\n",
      "RangeIndex: 175 entries, 0 to 174\n",
      "Data columns (total 55 columns):\n",
      "all_parts            2 non-null object\n",
      "artist               175 non-null object\n",
      "border_color         175 non-null object\n",
      "card_faces           10 non-null object\n",
      "cmc                  175 non-null float64\n",
      "collector_number     175 non-null object\n",
      "color_identity       175 non-null object\n",
      "colors               165 non-null object\n",
      "colorshifted         175 non-null bool\n",
      "digital              175 non-null bool\n",
      "edhrec_rank          136 non-null float64\n",
      "eur                  14 non-null object\n",
      "flavor_text          78 non-null object\n",
      "foil                 175 non-null bool\n",
      "frame                175 non-null object\n",
      "full_art             175 non-null bool\n",
      "futureshifted        175 non-null bool\n",
      "highres_image        175 non-null bool\n",
      "id                   175 non-null object\n",
      "illustration_id      112 non-null object\n",
      "image_uris           165 non-null object\n",
      "lang                 175 non-null object\n",
      "layout               175 non-null object\n",
      "legalities           175 non-null object\n",
      "loyalty              4 non-null object\n",
      "mana_cost            165 non-null object\n",
      "multiverse_ids       175 non-null object\n",
      "name                 175 non-null object\n",
      "nonfoil              175 non-null bool\n",
      "object               175 non-null object\n",
      "oracle_id            175 non-null object\n",
      "oracle_text          165 non-null object\n",
      "oversized            175 non-null bool\n",
      "power                79 non-null object\n",
      "printed_name         6 non-null object\n",
      "printed_type_line    6 non-null object\n",
      "prints_search_uri    175 non-null object\n",
      "purchase_uris        175 non-null object\n",
      "rarity               175 non-null object\n",
      "related_uris         175 non-null object\n",
      "reprint              175 non-null bool\n",
      "reserved             175 non-null bool\n",
      "rulings_uri          175 non-null object\n",
      "scryfall_set_uri     175 non-null object\n",
      "scryfall_uri         175 non-null object\n",
      "set                  175 non-null object\n",
      "set_name             175 non-null object\n",
      "set_search_uri       175 non-null object\n",
      "set_uri              175 non-null object\n",
      "story_spotlight      175 non-null bool\n",
      "timeshifted          175 non-null bool\n",
      "toughness            79 non-null object\n",
      "type_line            175 non-null object\n",
      "uri                  175 non-null object\n",
      "watermark            8 non-null object\n",
      "dtypes: bool(12), float64(2), object(41)\n",
      "memory usage: 60.9+ KB\n"
     ]
    }
   ],
   "source": [
    "cards_df.info()"
   ]
  },
  {
   "cell_type": "code",
   "execution_count": 9,
   "metadata": {},
   "outputs": [
    {
     "name": "stdout",
     "output_type": "stream",
     "text": [
      "<class 'pandas.core.frame.DataFrame'>\n",
      "Index: 148 entries, ff92804a-0c62-4eb8-bbba-f1ca6f426b6e to 1895cf0c-9c2d-41f9-9819-7348ac9e25f0\n",
      "Data columns (total 54 columns):\n",
      "all_parts            0 non-null object\n",
      "artist               148 non-null object\n",
      "border_color         148 non-null object\n",
      "card_faces           0 non-null object\n",
      "cmc                  148 non-null float64\n",
      "collector_number     148 non-null object\n",
      "color_identity       148 non-null object\n",
      "colors               148 non-null object\n",
      "colorshifted         148 non-null bool\n",
      "digital              148 non-null bool\n",
      "edhrec_rank          136 non-null float64\n",
      "eur                  9 non-null object\n",
      "flavor_text          73 non-null object\n",
      "foil                 148 non-null bool\n",
      "frame                148 non-null object\n",
      "full_art             148 non-null bool\n",
      "futureshifted        148 non-null bool\n",
      "highres_image        148 non-null bool\n",
      "illustration_id      95 non-null object\n",
      "image_uris           148 non-null object\n",
      "lang                 148 non-null object\n",
      "layout               148 non-null object\n",
      "legalities           148 non-null object\n",
      "loyalty              4 non-null object\n",
      "mana_cost            148 non-null object\n",
      "multiverse_ids       148 non-null object\n",
      "name                 148 non-null object\n",
      "nonfoil              148 non-null bool\n",
      "object               148 non-null object\n",
      "oracle_id            148 non-null object\n",
      "oracle_text          148 non-null object\n",
      "oversized            148 non-null bool\n",
      "power                68 non-null object\n",
      "printed_name         0 non-null object\n",
      "printed_type_line    0 non-null object\n",
      "prints_search_uri    148 non-null object\n",
      "purchase_uris        148 non-null object\n",
      "rarity               148 non-null object\n",
      "related_uris         148 non-null object\n",
      "reprint              148 non-null bool\n",
      "reserved             148 non-null bool\n",
      "rulings_uri          148 non-null object\n",
      "scryfall_set_uri     148 non-null object\n",
      "scryfall_uri         148 non-null object\n",
      "set                  148 non-null object\n",
      "set_name             148 non-null object\n",
      "set_search_uri       148 non-null object\n",
      "set_uri              148 non-null object\n",
      "story_spotlight      148 non-null bool\n",
      "timeshifted          148 non-null bool\n",
      "toughness            68 non-null object\n",
      "type_line            148 non-null object\n",
      "uri                  148 non-null object\n",
      "watermark            2 non-null object\n",
      "dtypes: bool(12), float64(2), object(40)\n",
      "memory usage: 51.5+ KB\n"
     ]
    }
   ],
   "source": [
    "# Filters: not legal in vintage (tokens, joke cards, conspiracies, etc.), only english cards\n",
    "clean_cards = cards_df[(cards_df['legalities'].apply(lambda x: x['vintage']!='not_legal')) & (cards_df['lang']=='en')]\n",
    "clean_cards.set_index('id', inplace=True)\n",
    "clean_cards.info()"
   ]
  },
  {
   "cell_type": "code",
   "execution_count": 10,
   "metadata": {},
   "outputs": [],
   "source": [
    "# Features to keep\n",
    "MVP_features = [\n",
    "    'name',\n",
    "    'set_name',\n",
    "    'type_line',    \n",
    "    'mana_cost',\n",
    "    'rarity',\n",
    "    'oracle_text',\n",
    "    'power',\n",
    "    'toughness',\n",
    "    'loyalty',\n",
    "    'cmc',\n",
    "    'set',\n",
    "    'color_identity',\n",
    "    'colors',    \n",
    "    'reprint',\n",
    "    'layout',\n",
    "    'legalities',\n",
    "]\n",
    "\n",
    "misc_features = [\n",
    "    'all_parts',\n",
    "    'artist',\n",
    "    'border_color',\n",
    "    'card_faces',\n",
    "    'edhrec_rank',\n",
    "    'flavor_text',\n",
    "    'foil',\n",
    "    'nonfoil',\n",
    "    'full_art',\n",
    "    'watermark'    \n",
    "    'timeshifted',\n",
    "    'colorshifted',\n",
    "    'futureshifted',\n",
    "    'illustration_id',\n",
    "    'multiverse_ids',\n",
    "    'oracle_id',\n",
    "    'prints_search_uri',\n",
    "    'rulings_uri',\n",
    "    'set_search_uri',\n",
    "]"
   ]
  },
  {
   "cell_type": "code",
   "execution_count": 11,
   "metadata": {},
   "outputs": [
    {
     "data": {
      "text/html": [
       "<div>\n",
       "<style scoped>\n",
       "    .dataframe tbody tr th:only-of-type {\n",
       "        vertical-align: middle;\n",
       "    }\n",
       "\n",
       "    .dataframe tbody tr th {\n",
       "        vertical-align: top;\n",
       "    }\n",
       "\n",
       "    .dataframe thead th {\n",
       "        text-align: right;\n",
       "    }\n",
       "</style>\n",
       "<table border=\"1\" class=\"dataframe\">\n",
       "  <thead>\n",
       "    <tr style=\"text-align: right;\">\n",
       "      <th></th>\n",
       "      <th>name</th>\n",
       "      <th>set_name</th>\n",
       "      <th>type_line</th>\n",
       "      <th>mana_cost</th>\n",
       "      <th>rarity</th>\n",
       "      <th>oracle_text</th>\n",
       "      <th>power</th>\n",
       "      <th>toughness</th>\n",
       "      <th>loyalty</th>\n",
       "      <th>cmc</th>\n",
       "      <th>set</th>\n",
       "      <th>color_identity</th>\n",
       "      <th>colors</th>\n",
       "      <th>reprint</th>\n",
       "      <th>layout</th>\n",
       "      <th>legalities</th>\n",
       "    </tr>\n",
       "    <tr>\n",
       "      <th>id</th>\n",
       "      <th></th>\n",
       "      <th></th>\n",
       "      <th></th>\n",
       "      <th></th>\n",
       "      <th></th>\n",
       "      <th></th>\n",
       "      <th></th>\n",
       "      <th></th>\n",
       "      <th></th>\n",
       "      <th></th>\n",
       "      <th></th>\n",
       "      <th></th>\n",
       "      <th></th>\n",
       "      <th></th>\n",
       "      <th></th>\n",
       "      <th></th>\n",
       "    </tr>\n",
       "  </thead>\n",
       "  <tbody>\n",
       "    <tr>\n",
       "      <th>ff92804a-0c62-4eb8-bbba-f1ca6f426b6e</th>\n",
       "      <td>Urborg, Tomb of Yawgmoth</td>\n",
       "      <td>Ultimate Box Topper</td>\n",
       "      <td>Legendary Land</td>\n",
       "      <td></td>\n",
       "      <td>mythic</td>\n",
       "      <td>Each land is a Swamp in addition to its other ...</td>\n",
       "      <td>NaN</td>\n",
       "      <td>NaN</td>\n",
       "      <td>NaN</td>\n",
       "      <td>0.0</td>\n",
       "      <td>puma</td>\n",
       "      <td>[]</td>\n",
       "      <td>[]</td>\n",
       "      <td>True</td>\n",
       "      <td>normal</td>\n",
       "      <td>{'standard': 'not_legal', 'future': 'not_legal...</td>\n",
       "    </tr>\n",
       "    <tr>\n",
       "      <th>5e63fd70-ca5b-45fd-b551-9ebe02410e9c</th>\n",
       "      <td>Stirring Wildwood</td>\n",
       "      <td>Ultimate Box Topper</td>\n",
       "      <td>Land</td>\n",
       "      <td></td>\n",
       "      <td>mythic</td>\n",
       "      <td>Stirring Wildwood enters the battlefield tappe...</td>\n",
       "      <td>NaN</td>\n",
       "      <td>NaN</td>\n",
       "      <td>NaN</td>\n",
       "      <td>0.0</td>\n",
       "      <td>puma</td>\n",
       "      <td>[G, W]</td>\n",
       "      <td>[]</td>\n",
       "      <td>True</td>\n",
       "      <td>normal</td>\n",
       "      <td>{'standard': 'not_legal', 'future': 'not_legal...</td>\n",
       "    </tr>\n",
       "    <tr>\n",
       "      <th>54f41726-e0bb-4154-a2db-4b68b50f5032</th>\n",
       "      <td>Raging Ravine</td>\n",
       "      <td>Ultimate Box Topper</td>\n",
       "      <td>Land</td>\n",
       "      <td></td>\n",
       "      <td>mythic</td>\n",
       "      <td>Raging Ravine enters the battlefield tapped.\\n...</td>\n",
       "      <td>NaN</td>\n",
       "      <td>NaN</td>\n",
       "      <td>NaN</td>\n",
       "      <td>0.0</td>\n",
       "      <td>puma</td>\n",
       "      <td>[G, R]</td>\n",
       "      <td>[]</td>\n",
       "      <td>True</td>\n",
       "      <td>normal</td>\n",
       "      <td>{'standard': 'not_legal', 'future': 'not_legal...</td>\n",
       "    </tr>\n",
       "    <tr>\n",
       "      <th>7c9fb3d9-e018-4aa3-9c14-1a51fae176b4</th>\n",
       "      <td>Lavaclaw Reaches</td>\n",
       "      <td>Ultimate Box Topper</td>\n",
       "      <td>Land</td>\n",
       "      <td></td>\n",
       "      <td>mythic</td>\n",
       "      <td>Lavaclaw Reaches enters the battlefield tapped...</td>\n",
       "      <td>NaN</td>\n",
       "      <td>NaN</td>\n",
       "      <td>NaN</td>\n",
       "      <td>0.0</td>\n",
       "      <td>puma</td>\n",
       "      <td>[B, R]</td>\n",
       "      <td>[]</td>\n",
       "      <td>True</td>\n",
       "      <td>normal</td>\n",
       "      <td>{'standard': 'not_legal', 'future': 'not_legal...</td>\n",
       "    </tr>\n",
       "    <tr>\n",
       "      <th>ff790ded-af9f-4e93-84b7-ddadff5ccad4</th>\n",
       "      <td>Karakas</td>\n",
       "      <td>Ultimate Box Topper</td>\n",
       "      <td>Legendary Land</td>\n",
       "      <td></td>\n",
       "      <td>mythic</td>\n",
       "      <td>{T}: Add {W}.\\n{T}: Return target legendary cr...</td>\n",
       "      <td>NaN</td>\n",
       "      <td>NaN</td>\n",
       "      <td>NaN</td>\n",
       "      <td>0.0</td>\n",
       "      <td>puma</td>\n",
       "      <td>[W]</td>\n",
       "      <td>[]</td>\n",
       "      <td>True</td>\n",
       "      <td>normal</td>\n",
       "      <td>{'standard': 'not_legal', 'future': 'not_legal...</td>\n",
       "    </tr>\n",
       "  </tbody>\n",
       "</table>\n",
       "</div>"
      ],
      "text/plain": [
       "                                                          name  \\\n",
       "id                                                               \n",
       "ff92804a-0c62-4eb8-bbba-f1ca6f426b6e  Urborg, Tomb of Yawgmoth   \n",
       "5e63fd70-ca5b-45fd-b551-9ebe02410e9c         Stirring Wildwood   \n",
       "54f41726-e0bb-4154-a2db-4b68b50f5032             Raging Ravine   \n",
       "7c9fb3d9-e018-4aa3-9c14-1a51fae176b4          Lavaclaw Reaches   \n",
       "ff790ded-af9f-4e93-84b7-ddadff5ccad4                   Karakas   \n",
       "\n",
       "                                                 set_name       type_line  \\\n",
       "id                                                                          \n",
       "ff92804a-0c62-4eb8-bbba-f1ca6f426b6e  Ultimate Box Topper  Legendary Land   \n",
       "5e63fd70-ca5b-45fd-b551-9ebe02410e9c  Ultimate Box Topper            Land   \n",
       "54f41726-e0bb-4154-a2db-4b68b50f5032  Ultimate Box Topper            Land   \n",
       "7c9fb3d9-e018-4aa3-9c14-1a51fae176b4  Ultimate Box Topper            Land   \n",
       "ff790ded-af9f-4e93-84b7-ddadff5ccad4  Ultimate Box Topper  Legendary Land   \n",
       "\n",
       "                                     mana_cost  rarity  \\\n",
       "id                                                       \n",
       "ff92804a-0c62-4eb8-bbba-f1ca6f426b6e            mythic   \n",
       "5e63fd70-ca5b-45fd-b551-9ebe02410e9c            mythic   \n",
       "54f41726-e0bb-4154-a2db-4b68b50f5032            mythic   \n",
       "7c9fb3d9-e018-4aa3-9c14-1a51fae176b4            mythic   \n",
       "ff790ded-af9f-4e93-84b7-ddadff5ccad4            mythic   \n",
       "\n",
       "                                                                            oracle_text  \\\n",
       "id                                                                                        \n",
       "ff92804a-0c62-4eb8-bbba-f1ca6f426b6e  Each land is a Swamp in addition to its other ...   \n",
       "5e63fd70-ca5b-45fd-b551-9ebe02410e9c  Stirring Wildwood enters the battlefield tappe...   \n",
       "54f41726-e0bb-4154-a2db-4b68b50f5032  Raging Ravine enters the battlefield tapped.\\n...   \n",
       "7c9fb3d9-e018-4aa3-9c14-1a51fae176b4  Lavaclaw Reaches enters the battlefield tapped...   \n",
       "ff790ded-af9f-4e93-84b7-ddadff5ccad4  {T}: Add {W}.\\n{T}: Return target legendary cr...   \n",
       "\n",
       "                                     power toughness loyalty  cmc   set  \\\n",
       "id                                                                        \n",
       "ff92804a-0c62-4eb8-bbba-f1ca6f426b6e   NaN       NaN     NaN  0.0  puma   \n",
       "5e63fd70-ca5b-45fd-b551-9ebe02410e9c   NaN       NaN     NaN  0.0  puma   \n",
       "54f41726-e0bb-4154-a2db-4b68b50f5032   NaN       NaN     NaN  0.0  puma   \n",
       "7c9fb3d9-e018-4aa3-9c14-1a51fae176b4   NaN       NaN     NaN  0.0  puma   \n",
       "ff790ded-af9f-4e93-84b7-ddadff5ccad4   NaN       NaN     NaN  0.0  puma   \n",
       "\n",
       "                                     color_identity colors  reprint  layout  \\\n",
       "id                                                                            \n",
       "ff92804a-0c62-4eb8-bbba-f1ca6f426b6e             []     []     True  normal   \n",
       "5e63fd70-ca5b-45fd-b551-9ebe02410e9c         [G, W]     []     True  normal   \n",
       "54f41726-e0bb-4154-a2db-4b68b50f5032         [G, R]     []     True  normal   \n",
       "7c9fb3d9-e018-4aa3-9c14-1a51fae176b4         [B, R]     []     True  normal   \n",
       "ff790ded-af9f-4e93-84b7-ddadff5ccad4            [W]     []     True  normal   \n",
       "\n",
       "                                                                             legalities  \n",
       "id                                                                                       \n",
       "ff92804a-0c62-4eb8-bbba-f1ca6f426b6e  {'standard': 'not_legal', 'future': 'not_legal...  \n",
       "5e63fd70-ca5b-45fd-b551-9ebe02410e9c  {'standard': 'not_legal', 'future': 'not_legal...  \n",
       "54f41726-e0bb-4154-a2db-4b68b50f5032  {'standard': 'not_legal', 'future': 'not_legal...  \n",
       "7c9fb3d9-e018-4aa3-9c14-1a51fae176b4  {'standard': 'not_legal', 'future': 'not_legal...  \n",
       "ff790ded-af9f-4e93-84b7-ddadff5ccad4  {'standard': 'not_legal', 'future': 'not_legal...  "
      ]
     },
     "execution_count": 11,
     "metadata": {},
     "output_type": "execute_result"
    }
   ],
   "source": [
    "clean_cards[MVP_features].head()"
   ]
  },
  {
   "cell_type": "markdown",
   "metadata": {},
   "source": [
    "Next Step: Write loop into scraper, get all the cards! Get the hell off jupyter ntoebooK!"
   ]
  },
  {
   "cell_type": "markdown",
   "metadata": {},
   "source": [
    "### Formats\n",
    "Starting w/ modern:\n",
    "* Standard\n",
    "* Modern\n",
    "* Extended\n",
    "* Legacy\n",
    "* Vintage\n",
    "* Block Constructed (deprecated)\n",
    "* Extended (deprecated)\n",
    "* Commander\n",
    "* Casual"
   ]
  },
  {
   "cell_type": "markdown",
   "metadata": {},
   "source": [
    "Questions:\n",
    "    Should I only care about non foils?\n",
    "    Should I do reprint / set search on my own, or use the API? "
   ]
  },
  {
   "cell_type": "markdown",
   "metadata": {},
   "source": [
    "## Post-Scryfall Scrape: How do the cards look?"
   ]
  },
  {
   "cell_type": "code",
   "execution_count": 3,
   "metadata": {},
   "outputs": [
    {
     "name": "stderr",
     "output_type": "stream",
     "text": [
      "C:\\Users\\alexg\\Anaconda3\\lib\\site-packages\\IPython\\core\\interactiveshell.py:2785: DtypeWarning: Columns (9) have mixed types. Specify dtype option on import or set low_memory=False.\n",
      "  interactivity=interactivity, compiler=compiler, result=result)\n"
     ]
    },
    {
     "name": "stdout",
     "output_type": "stream",
     "text": [
      "<class 'pandas.core.frame.DataFrame'>\n",
      "RangeIndex: 41291 entries, 0 to 41290\n",
      "Data columns (total 17 columns):\n",
      "id                41291 non-null object\n",
      "name              41291 non-null object\n",
      "set_name          41291 non-null object\n",
      "type_line         41291 non-null object\n",
      "mana_cost         36309 non-null object\n",
      "rarity            41291 non-null object\n",
      "oracle_text       40216 non-null object\n",
      "power             18913 non-null object\n",
      "toughness         18913 non-null object\n",
      "loyalty           306 non-null object\n",
      "cmc               41291 non-null float64\n",
      "set               41291 non-null object\n",
      "color_identity    41291 non-null object\n",
      "colors            41113 non-null object\n",
      "reprint           41291 non-null bool\n",
      "layout            41291 non-null object\n",
      "legalities        41291 non-null object\n",
      "dtypes: bool(1), float64(1), object(15)\n",
      "memory usage: 5.1+ MB\n"
     ]
    }
   ],
   "source": [
    "all_cards_df = pd.read_csv('all_vintage_cards.csv')\n",
    "all_cards_df.info()"
   ]
  },
  {
   "cell_type": "markdown",
   "metadata": {},
   "source": [
    "## MTGPrice Scraping"
   ]
  },
  {
   "cell_type": "code",
   "execution_count": 74,
   "metadata": {},
   "outputs": [
    {
     "name": "stderr",
     "output_type": "stream",
     "text": [
      "WARNING: Couldn't write lextab module <module 'slimit.lextab' from 'C:\\\\Users\\\\alexg\\\\Anaconda3\\\\lib\\\\site-packages\\\\slimit\\\\lextab.py'>. Won't overwrite existing lextab module\n",
      "WARNING: yacc table file version is out of date\n",
      "WARNING: Token 'BLOCK_COMMENT' defined, but not used\n",
      "WARNING: Token 'CLASS' defined, but not used\n",
      "WARNING: Token 'CONST' defined, but not used\n",
      "WARNING: Token 'ENUM' defined, but not used\n",
      "WARNING: Token 'EXPORT' defined, but not used\n",
      "WARNING: Token 'EXTENDS' defined, but not used\n",
      "WARNING: Token 'IMPORT' defined, but not used\n",
      "WARNING: Token 'LINE_COMMENT' defined, but not used\n",
      "WARNING: Token 'LINE_TERMINATOR' defined, but not used\n",
      "WARNING: Token 'SUPER' defined, but not used\n",
      "WARNING: There are 10 unused tokens\n",
      "WARNING: Couldn't create <module 'slimit.yacctab' from 'C:\\\\Users\\\\alexg\\\\Anaconda3\\\\lib\\\\site-packages\\\\slimit\\\\yacctab.py'>. Won't overwrite existing tabmodule\n"
     ]
    },
    {
     "name": "stdout",
     "output_type": "stream",
     "text": [
      "(1787, 2)\n"
     ]
    }
   ],
   "source": [
    "# trying slimit parser\n",
    "from slimit import ast\n",
    "from slimit.parser import Parser\n",
    "from slimit.visitors import nodevisitor\n",
    "\n",
    "# Turn card data into soup\n",
    "link = 'https://www.mtgprice.com/sets/Visions/Vampiric_Tutor'\n",
    "soup = BeautifulSoup(requests.get(link).content, 'html.parser')\n",
    "\n",
    "# GET RESULTS\n",
    "text_to_find = 'var results = ['\n",
    "history=[]\n",
    "for script in soup.findAll('script', type='text/javascript'):\n",
    "    if text_to_find in script.text:\n",
    "        parser = Parser()\n",
    "        tree = parser.parse(script.text)\n",
    "        for node in nodevisitor.visit(tree):\n",
    "            if isinstance(node, ast.Assign) and getattr(node.left, 'value', '') == \"\\\"data\\\"\":\n",
    "                for prices in node.right.items:\n",
    "                    history.append([prices.items[0].value,prices.items[1].value])\n",
    "                break\n",
    "print(np.array(history).shape)"
   ]
  },
  {
   "cell_type": "markdown",
   "metadata": {},
   "source": [
    "### Let's try a whole set"
   ]
  },
  {
   "cell_type": "code",
   "execution_count": 157,
   "metadata": {},
   "outputs": [],
   "source": [
    "def card_price_history(setname, cardname):\n",
    "    # Turn card data into soup\n",
    "    link = 'https://www.mtgprice.com/sets/' + '_'.join(setname.split()) + '/' + '_'.join(cardname.split())\n",
    "    soup = BeautifulSoup(requests.get(link).content, 'html.parser')\n",
    "\n",
    "    # GET RESULTS\n",
    "    text_to_find = 'var results = ['\n",
    "    history=[]\n",
    "    for script in soup.findAll('script', type='text/javascript'):\n",
    "        if text_to_find in script.text:\n",
    "            parser = Parser()\n",
    "            tree = parser.parse(script.text)\n",
    "            for node in nodevisitor.visit(tree):\n",
    "                if isinstance(node, ast.Assign) and getattr(node.left, 'value', '') == \"\\\"data\\\"\":\n",
    "                    for prices in node.right.items:\n",
    "                        history.append([prices.items[0].value,prices.items[1].value])\n",
    "                    break\n",
    "    return np.array(history)"
   ]
  },
  {
   "cell_type": "code",
   "execution_count": 130,
   "metadata": {},
   "outputs": [
    {
     "data": {
      "text/plain": [
       "array(['1541404800000', '14.93'], dtype='<U13')"
      ]
     },
     "execution_count": 130,
     "metadata": {},
     "output_type": "execute_result"
    }
   ],
   "source": [
    "hist_dict['Anvil of Bogardan'][-1]"
   ]
  },
  {
   "cell_type": "code",
   "execution_count": 142,
   "metadata": {},
   "outputs": [
    {
     "data": {
      "text/plain": [
       "['Rivals of Ixalan']"
      ]
     },
     "execution_count": 142,
     "metadata": {},
     "output_type": "execute_result"
    }
   ],
   "source": [
    "sets = [all_cards_df['set_name'].unique()[31]]\n",
    "sets"
   ]
  },
  {
   "cell_type": "code",
   "execution_count": 158,
   "metadata": {},
   "outputs": [
    {
     "name": "stdout",
     "output_type": "stream",
     "text": [
      "Rivals of Ixalan\n",
      "Cinder Barrens\n"
     ]
    },
    {
     "name": "stderr",
     "output_type": "stream",
     "text": [
      "WARNING: Couldn't write lextab module <module 'slimit.lextab' from 'C:\\\\Users\\\\alexg\\\\Anaconda3\\\\lib\\\\site-packages\\\\slimit\\\\lextab.py'>. Won't overwrite existing lextab module\n",
      "WARNING: yacc table file version is out of date\n",
      "WARNING: Token 'BLOCK_COMMENT' defined, but not used\n",
      "WARNING: Token 'CLASS' defined, but not used\n",
      "WARNING: Token 'CONST' defined, but not used\n",
      "WARNING: Token 'ENUM' defined, but not used\n",
      "WARNING: Token 'EXPORT' defined, but not used\n",
      "WARNING: Token 'EXTENDS' defined, but not used\n",
      "WARNING: Token 'IMPORT' defined, but not used\n",
      "WARNING: Token 'LINE_COMMENT' defined, but not used\n",
      "WARNING: Token 'LINE_TERMINATOR' defined, but not used\n",
      "WARNING: Token 'SUPER' defined, but not used\n",
      "WARNING: There are 10 unused tokens\n",
      "WARNING: Couldn't create <module 'slimit.yacctab' from 'C:\\\\Users\\\\alexg\\\\Anaconda3\\\\lib\\\\site-packages\\\\slimit\\\\yacctab.py'>. Won't overwrite existing tabmodule\n"
     ]
    },
    {
     "name": "stdout",
     "output_type": "stream",
     "text": [
      "Angrath's Fury\n"
     ]
    },
    {
     "name": "stderr",
     "output_type": "stream",
     "text": [
      "WARNING: Couldn't write lextab module <module 'slimit.lextab' from 'C:\\\\Users\\\\alexg\\\\Anaconda3\\\\lib\\\\site-packages\\\\slimit\\\\lextab.py'>. Won't overwrite existing lextab module\n",
      "WARNING: yacc table file version is out of date\n",
      "WARNING: Token 'BLOCK_COMMENT' defined, but not used\n",
      "WARNING: Token 'CLASS' defined, but not used\n",
      "WARNING: Token 'CONST' defined, but not used\n",
      "WARNING: Token 'ENUM' defined, but not used\n",
      "WARNING: Token 'EXPORT' defined, but not used\n",
      "WARNING: Token 'EXTENDS' defined, but not used\n",
      "WARNING: Token 'IMPORT' defined, but not used\n",
      "WARNING: Token 'LINE_COMMENT' defined, but not used\n",
      "WARNING: Token 'LINE_TERMINATOR' defined, but not used\n",
      "WARNING: Token 'SUPER' defined, but not used\n",
      "WARNING: There are 10 unused tokens\n",
      "WARNING: Couldn't create <module 'slimit.yacctab' from 'C:\\\\Users\\\\alexg\\\\Anaconda3\\\\lib\\\\site-packages\\\\slimit\\\\yacctab.py'>. Won't overwrite existing tabmodule\n"
     ]
    },
    {
     "name": "stdout",
     "output_type": "stream",
     "text": [
      "Swab Goblin\n"
     ]
    },
    {
     "name": "stderr",
     "output_type": "stream",
     "text": [
      "WARNING: Couldn't write lextab module <module 'slimit.lextab' from 'C:\\\\Users\\\\alexg\\\\Anaconda3\\\\lib\\\\site-packages\\\\slimit\\\\lextab.py'>. Won't overwrite existing lextab module\n",
      "WARNING: yacc table file version is out of date\n",
      "WARNING: Token 'BLOCK_COMMENT' defined, but not used\n",
      "WARNING: Token 'CLASS' defined, but not used\n",
      "WARNING: Token 'CONST' defined, but not used\n",
      "WARNING: Token 'ENUM' defined, but not used\n",
      "WARNING: Token 'EXPORT' defined, but not used\n",
      "WARNING: Token 'EXTENDS' defined, but not used\n",
      "WARNING: Token 'IMPORT' defined, but not used\n",
      "WARNING: Token 'LINE_COMMENT' defined, but not used\n",
      "WARNING: Token 'LINE_TERMINATOR' defined, but not used\n",
      "WARNING: Token 'SUPER' defined, but not used\n",
      "WARNING: There are 10 unused tokens\n",
      "WARNING: Couldn't create <module 'slimit.yacctab' from 'C:\\\\Users\\\\alexg\\\\Anaconda3\\\\lib\\\\site-packages\\\\slimit\\\\yacctab.py'>. Won't overwrite existing tabmodule\n"
     ]
    },
    {
     "name": "stdout",
     "output_type": "stream",
     "text": [
      "Angrath's Ambusher\n"
     ]
    },
    {
     "name": "stderr",
     "output_type": "stream",
     "text": [
      "WARNING: Couldn't write lextab module <module 'slimit.lextab' from 'C:\\\\Users\\\\alexg\\\\Anaconda3\\\\lib\\\\site-packages\\\\slimit\\\\lextab.py'>. Won't overwrite existing lextab module\n",
      "WARNING: yacc table file version is out of date\n",
      "WARNING: Token 'BLOCK_COMMENT' defined, but not used\n",
      "WARNING: Token 'CLASS' defined, but not used\n",
      "WARNING: Token 'CONST' defined, but not used\n",
      "WARNING: Token 'ENUM' defined, but not used\n",
      "WARNING: Token 'EXPORT' defined, but not used\n",
      "WARNING: Token 'EXTENDS' defined, but not used\n",
      "WARNING: Token 'IMPORT' defined, but not used\n",
      "WARNING: Token 'LINE_COMMENT' defined, but not used\n",
      "WARNING: Token 'LINE_TERMINATOR' defined, but not used\n",
      "WARNING: Token 'SUPER' defined, but not used\n",
      "WARNING: There are 10 unused tokens\n",
      "WARNING: Couldn't create <module 'slimit.yacctab' from 'C:\\\\Users\\\\alexg\\\\Anaconda3\\\\lib\\\\site-packages\\\\slimit\\\\yacctab.py'>. Won't overwrite existing tabmodule\n"
     ]
    },
    {
     "name": "stdout",
     "output_type": "stream",
     "text": [
      "Angrath, Minotaur Pirate\n"
     ]
    },
    {
     "name": "stderr",
     "output_type": "stream",
     "text": [
      "WARNING: Couldn't write lextab module <module 'slimit.lextab' from 'C:\\\\Users\\\\alexg\\\\Anaconda3\\\\lib\\\\site-packages\\\\slimit\\\\lextab.py'>. Won't overwrite existing lextab module\n",
      "WARNING: yacc table file version is out of date\n",
      "WARNING: Token 'BLOCK_COMMENT' defined, but not used\n",
      "WARNING: Token 'CLASS' defined, but not used\n",
      "WARNING: Token 'CONST' defined, but not used\n",
      "WARNING: Token 'ENUM' defined, but not used\n",
      "WARNING: Token 'EXPORT' defined, but not used\n",
      "WARNING: Token 'EXTENDS' defined, but not used\n",
      "WARNING: Token 'IMPORT' defined, but not used\n",
      "WARNING: Token 'LINE_COMMENT' defined, but not used\n",
      "WARNING: Token 'LINE_TERMINATOR' defined, but not used\n",
      "WARNING: Token 'SUPER' defined, but not used\n",
      "WARNING: There are 10 unused tokens\n",
      "WARNING: Couldn't create <module 'slimit.yacctab' from 'C:\\\\Users\\\\alexg\\\\Anaconda3\\\\lib\\\\site-packages\\\\slimit\\\\yacctab.py'>. Won't overwrite existing tabmodule\n"
     ]
    },
    {
     "name": "stdout",
     "output_type": "stream",
     "text": [
      "Vraska's Scorn\n"
     ]
    },
    {
     "name": "stderr",
     "output_type": "stream",
     "text": [
      "WARNING: Couldn't write lextab module <module 'slimit.lextab' from 'C:\\\\Users\\\\alexg\\\\Anaconda3\\\\lib\\\\site-packages\\\\slimit\\\\lextab.py'>. Won't overwrite existing lextab module\n",
      "WARNING: yacc table file version is out of date\n",
      "WARNING: Token 'BLOCK_COMMENT' defined, but not used\n",
      "WARNING: Token 'CLASS' defined, but not used\n",
      "WARNING: Token 'CONST' defined, but not used\n",
      "WARNING: Token 'ENUM' defined, but not used\n",
      "WARNING: Token 'EXPORT' defined, but not used\n",
      "WARNING: Token 'EXTENDS' defined, but not used\n",
      "WARNING: Token 'IMPORT' defined, but not used\n",
      "WARNING: Token 'LINE_COMMENT' defined, but not used\n",
      "WARNING: Token 'LINE_TERMINATOR' defined, but not used\n",
      "WARNING: Token 'SUPER' defined, but not used\n",
      "WARNING: There are 10 unused tokens\n",
      "WARNING: Couldn't create <module 'slimit.yacctab' from 'C:\\\\Users\\\\alexg\\\\Anaconda3\\\\lib\\\\site-packages\\\\slimit\\\\yacctab.py'>. Won't overwrite existing tabmodule\n"
     ]
    },
    {
     "name": "stdout",
     "output_type": "stream",
     "text": [
      "Vraska's Conquistador\n"
     ]
    },
    {
     "name": "stderr",
     "output_type": "stream",
     "text": [
      "WARNING: Couldn't write lextab module <module 'slimit.lextab' from 'C:\\\\Users\\\\alexg\\\\Anaconda3\\\\lib\\\\site-packages\\\\slimit\\\\lextab.py'>. Won't overwrite existing lextab module\n",
      "WARNING: yacc table file version is out of date\n",
      "WARNING: Token 'BLOCK_COMMENT' defined, but not used\n",
      "WARNING: Token 'CLASS' defined, but not used\n",
      "WARNING: Token 'CONST' defined, but not used\n",
      "WARNING: Token 'ENUM' defined, but not used\n",
      "WARNING: Token 'EXPORT' defined, but not used\n",
      "WARNING: Token 'EXTENDS' defined, but not used\n",
      "WARNING: Token 'IMPORT' defined, but not used\n",
      "WARNING: Token 'LINE_COMMENT' defined, but not used\n",
      "WARNING: Token 'LINE_TERMINATOR' defined, but not used\n",
      "WARNING: Token 'SUPER' defined, but not used\n",
      "WARNING: There are 10 unused tokens\n",
      "WARNING: Couldn't create <module 'slimit.yacctab' from 'C:\\\\Users\\\\alexg\\\\Anaconda3\\\\lib\\\\site-packages\\\\slimit\\\\yacctab.py'>. Won't overwrite existing tabmodule\n"
     ]
    },
    {
     "name": "stdout",
     "output_type": "stream",
     "text": [
      "Vampire Champion\n"
     ]
    },
    {
     "name": "stderr",
     "output_type": "stream",
     "text": [
      "WARNING: Couldn't write lextab module <module 'slimit.lextab' from 'C:\\\\Users\\\\alexg\\\\Anaconda3\\\\lib\\\\site-packages\\\\slimit\\\\lextab.py'>. Won't overwrite existing lextab module\n",
      "WARNING: yacc table file version is out of date\n",
      "WARNING: Token 'BLOCK_COMMENT' defined, but not used\n",
      "WARNING: Token 'CLASS' defined, but not used\n",
      "WARNING: Token 'CONST' defined, but not used\n",
      "WARNING: Token 'ENUM' defined, but not used\n",
      "WARNING: Token 'EXPORT' defined, but not used\n",
      "WARNING: Token 'EXTENDS' defined, but not used\n",
      "WARNING: Token 'IMPORT' defined, but not used\n",
      "WARNING: Token 'LINE_COMMENT' defined, but not used\n",
      "WARNING: Token 'LINE_TERMINATOR' defined, but not used\n",
      "WARNING: Token 'SUPER' defined, but not used\n",
      "WARNING: There are 10 unused tokens\n",
      "WARNING: Couldn't create <module 'slimit.yacctab' from 'C:\\\\Users\\\\alexg\\\\Anaconda3\\\\lib\\\\site-packages\\\\slimit\\\\yacctab.py'>. Won't overwrite existing tabmodule\n"
     ]
    },
    {
     "name": "stdout",
     "output_type": "stream",
     "text": [
      "Vraska, Scheming Gorgon\n"
     ]
    },
    {
     "name": "stderr",
     "output_type": "stream",
     "text": [
      "WARNING: Couldn't write lextab module <module 'slimit.lextab' from 'C:\\\\Users\\\\alexg\\\\Anaconda3\\\\lib\\\\site-packages\\\\slimit\\\\lextab.py'>. Won't overwrite existing lextab module\n",
      "WARNING: yacc table file version is out of date\n",
      "WARNING: Token 'BLOCK_COMMENT' defined, but not used\n",
      "WARNING: Token 'CLASS' defined, but not used\n",
      "WARNING: Token 'CONST' defined, but not used\n",
      "WARNING: Token 'ENUM' defined, but not used\n",
      "WARNING: Token 'EXPORT' defined, but not used\n",
      "WARNING: Token 'EXTENDS' defined, but not used\n",
      "WARNING: Token 'IMPORT' defined, but not used\n",
      "WARNING: Token 'LINE_COMMENT' defined, but not used\n",
      "WARNING: Token 'LINE_TERMINATOR' defined, but not used\n",
      "WARNING: Token 'SUPER' defined, but not used\n",
      "WARNING: There are 10 unused tokens\n",
      "WARNING: Couldn't create <module 'slimit.yacctab' from 'C:\\\\Users\\\\alexg\\\\Anaconda3\\\\lib\\\\site-packages\\\\slimit\\\\yacctab.py'>. Won't overwrite existing tabmodule\n"
     ]
    },
    {
     "name": "stdout",
     "output_type": "stream",
     "text": [
      "Forest\n"
     ]
    },
    {
     "name": "stderr",
     "output_type": "stream",
     "text": [
      "WARNING: Couldn't write lextab module <module 'slimit.lextab' from 'C:\\\\Users\\\\alexg\\\\Anaconda3\\\\lib\\\\site-packages\\\\slimit\\\\lextab.py'>. Won't overwrite existing lextab module\n",
      "WARNING: yacc table file version is out of date\n",
      "WARNING: Token 'BLOCK_COMMENT' defined, but not used\n",
      "WARNING: Token 'CLASS' defined, but not used\n",
      "WARNING: Token 'CONST' defined, but not used\n",
      "WARNING: Token 'ENUM' defined, but not used\n",
      "WARNING: Token 'EXPORT' defined, but not used\n",
      "WARNING: Token 'EXTENDS' defined, but not used\n",
      "WARNING: Token 'IMPORT' defined, but not used\n",
      "WARNING: Token 'LINE_COMMENT' defined, but not used\n",
      "WARNING: Token 'LINE_TERMINATOR' defined, but not used\n",
      "WARNING: Token 'SUPER' defined, but not used\n",
      "WARNING: There are 10 unused tokens\n",
      "WARNING: Couldn't create <module 'slimit.yacctab' from 'C:\\\\Users\\\\alexg\\\\Anaconda3\\\\lib\\\\site-packages\\\\slimit\\\\yacctab.py'>. Won't overwrite existing tabmodule\n"
     ]
    },
    {
     "name": "stdout",
     "output_type": "stream",
     "text": [
      "Mountain\n"
     ]
    },
    {
     "name": "stderr",
     "output_type": "stream",
     "text": [
      "WARNING: Couldn't write lextab module <module 'slimit.lextab' from 'C:\\\\Users\\\\alexg\\\\Anaconda3\\\\lib\\\\site-packages\\\\slimit\\\\lextab.py'>. Won't overwrite existing lextab module\n",
      "WARNING: yacc table file version is out of date\n",
      "WARNING: Token 'BLOCK_COMMENT' defined, but not used\n",
      "WARNING: Token 'CLASS' defined, but not used\n",
      "WARNING: Token 'CONST' defined, but not used\n",
      "WARNING: Token 'ENUM' defined, but not used\n",
      "WARNING: Token 'EXPORT' defined, but not used\n",
      "WARNING: Token 'EXTENDS' defined, but not used\n",
      "WARNING: Token 'IMPORT' defined, but not used\n",
      "WARNING: Token 'LINE_COMMENT' defined, but not used\n",
      "WARNING: Token 'LINE_TERMINATOR' defined, but not used\n",
      "WARNING: Token 'SUPER' defined, but not used\n",
      "WARNING: There are 10 unused tokens\n",
      "WARNING: Couldn't create <module 'slimit.yacctab' from 'C:\\\\Users\\\\alexg\\\\Anaconda3\\\\lib\\\\site-packages\\\\slimit\\\\yacctab.py'>. Won't overwrite existing tabmodule\n"
     ]
    },
    {
     "name": "stdout",
     "output_type": "stream",
     "text": [
      "Swamp\n"
     ]
    },
    {
     "name": "stderr",
     "output_type": "stream",
     "text": [
      "WARNING: Couldn't write lextab module <module 'slimit.lextab' from 'C:\\\\Users\\\\alexg\\\\Anaconda3\\\\lib\\\\site-packages\\\\slimit\\\\lextab.py'>. Won't overwrite existing lextab module\n",
      "WARNING: yacc table file version is out of date\n",
      "WARNING: Token 'BLOCK_COMMENT' defined, but not used\n",
      "WARNING: Token 'CLASS' defined, but not used\n",
      "WARNING: Token 'CONST' defined, but not used\n",
      "WARNING: Token 'ENUM' defined, but not used\n",
      "WARNING: Token 'EXPORT' defined, but not used\n",
      "WARNING: Token 'EXTENDS' defined, but not used\n",
      "WARNING: Token 'IMPORT' defined, but not used\n",
      "WARNING: Token 'LINE_COMMENT' defined, but not used\n",
      "WARNING: Token 'LINE_TERMINATOR' defined, but not used\n",
      "WARNING: Token 'SUPER' defined, but not used\n",
      "WARNING: There are 10 unused tokens\n",
      "WARNING: Couldn't create <module 'slimit.yacctab' from 'C:\\\\Users\\\\alexg\\\\Anaconda3\\\\lib\\\\site-packages\\\\slimit\\\\yacctab.py'>. Won't overwrite existing tabmodule\n"
     ]
    },
    {
     "name": "stdout",
     "output_type": "stream",
     "text": [
      "Island\n"
     ]
    },
    {
     "name": "stderr",
     "output_type": "stream",
     "text": [
      "WARNING: Couldn't write lextab module <module 'slimit.lextab' from 'C:\\\\Users\\\\alexg\\\\Anaconda3\\\\lib\\\\site-packages\\\\slimit\\\\lextab.py'>. Won't overwrite existing lextab module\n",
      "WARNING: yacc table file version is out of date\n",
      "WARNING: Token 'BLOCK_COMMENT' defined, but not used\n",
      "WARNING: Token 'CLASS' defined, but not used\n",
      "WARNING: Token 'CONST' defined, but not used\n",
      "WARNING: Token 'ENUM' defined, but not used\n",
      "WARNING: Token 'EXPORT' defined, but not used\n",
      "WARNING: Token 'EXTENDS' defined, but not used\n",
      "WARNING: Token 'IMPORT' defined, but not used\n",
      "WARNING: Token 'LINE_COMMENT' defined, but not used\n",
      "WARNING: Token 'LINE_TERMINATOR' defined, but not used\n",
      "WARNING: Token 'SUPER' defined, but not used\n",
      "WARNING: There are 10 unused tokens\n",
      "WARNING: Couldn't create <module 'slimit.yacctab' from 'C:\\\\Users\\\\alexg\\\\Anaconda3\\\\lib\\\\site-packages\\\\slimit\\\\yacctab.py'>. Won't overwrite existing tabmodule\n"
     ]
    },
    {
     "name": "stdout",
     "output_type": "stream",
     "text": [
      "Plains\n"
     ]
    },
    {
     "name": "stderr",
     "output_type": "stream",
     "text": [
      "WARNING: Couldn't write lextab module <module 'slimit.lextab' from 'C:\\\\Users\\\\alexg\\\\Anaconda3\\\\lib\\\\site-packages\\\\slimit\\\\lextab.py'>. Won't overwrite existing lextab module\n",
      "WARNING: yacc table file version is out of date\n",
      "WARNING: Token 'BLOCK_COMMENT' defined, but not used\n",
      "WARNING: Token 'CLASS' defined, but not used\n",
      "WARNING: Token 'CONST' defined, but not used\n",
      "WARNING: Token 'ENUM' defined, but not used\n",
      "WARNING: Token 'EXPORT' defined, but not used\n",
      "WARNING: Token 'EXTENDS' defined, but not used\n",
      "WARNING: Token 'IMPORT' defined, but not used\n",
      "WARNING: Token 'LINE_COMMENT' defined, but not used\n",
      "WARNING: Token 'LINE_TERMINATOR' defined, but not used\n",
      "WARNING: Token 'SUPER' defined, but not used\n",
      "WARNING: There are 10 unused tokens\n",
      "WARNING: Couldn't create <module 'slimit.yacctab' from 'C:\\\\Users\\\\alexg\\\\Anaconda3\\\\lib\\\\site-packages\\\\slimit\\\\yacctab.py'>. Won't overwrite existing tabmodule\n"
     ]
    },
    {
     "name": "stdout",
     "output_type": "stream",
     "text": [
      "Woodland Stream\n"
     ]
    },
    {
     "name": "stderr",
     "output_type": "stream",
     "text": [
      "WARNING: Couldn't write lextab module <module 'slimit.lextab' from 'C:\\\\Users\\\\alexg\\\\Anaconda3\\\\lib\\\\site-packages\\\\slimit\\\\lextab.py'>. Won't overwrite existing lextab module\n",
      "WARNING: yacc table file version is out of date\n",
      "WARNING: Token 'BLOCK_COMMENT' defined, but not used\n",
      "WARNING: Token 'CLASS' defined, but not used\n",
      "WARNING: Token 'CONST' defined, but not used\n",
      "WARNING: Token 'ENUM' defined, but not used\n",
      "WARNING: Token 'EXPORT' defined, but not used\n",
      "WARNING: Token 'EXTENDS' defined, but not used\n",
      "WARNING: Token 'IMPORT' defined, but not used\n",
      "WARNING: Token 'LINE_COMMENT' defined, but not used\n",
      "WARNING: Token 'LINE_TERMINATOR' defined, but not used\n",
      "WARNING: Token 'SUPER' defined, but not used\n",
      "WARNING: There are 10 unused tokens\n",
      "WARNING: Couldn't create <module 'slimit.yacctab' from 'C:\\\\Users\\\\alexg\\\\Anaconda3\\\\lib\\\\site-packages\\\\slimit\\\\yacctab.py'>. Won't overwrite existing tabmodule\n"
     ]
    },
    {
     "name": "stdout",
     "output_type": "stream",
     "text": [
      "Stone Quarry\n"
     ]
    },
    {
     "name": "stderr",
     "output_type": "stream",
     "text": [
      "WARNING: Couldn't write lextab module <module 'slimit.lextab' from 'C:\\\\Users\\\\alexg\\\\Anaconda3\\\\lib\\\\site-packages\\\\slimit\\\\lextab.py'>. Won't overwrite existing lextab module\n",
      "WARNING: yacc table file version is out of date\n",
      "WARNING: Token 'BLOCK_COMMENT' defined, but not used\n",
      "WARNING: Token 'CLASS' defined, but not used\n",
      "WARNING: Token 'CONST' defined, but not used\n",
      "WARNING: Token 'ENUM' defined, but not used\n",
      "WARNING: Token 'EXPORT' defined, but not used\n",
      "WARNING: Token 'EXTENDS' defined, but not used\n",
      "WARNING: Token 'IMPORT' defined, but not used\n",
      "WARNING: Token 'LINE_COMMENT' defined, but not used\n",
      "WARNING: Token 'LINE_TERMINATOR' defined, but not used\n",
      "WARNING: Token 'SUPER' defined, but not used\n",
      "WARNING: There are 10 unused tokens\n",
      "WARNING: Couldn't create <module 'slimit.yacctab' from 'C:\\\\Users\\\\alexg\\\\Anaconda3\\\\lib\\\\site-packages\\\\slimit\\\\yacctab.py'>. Won't overwrite existing tabmodule\n"
     ]
    },
    {
     "name": "stdout",
     "output_type": "stream",
     "text": [
      "Highland Lake\n"
     ]
    },
    {
     "name": "stderr",
     "output_type": "stream",
     "text": [
      "WARNING: Couldn't write lextab module <module 'slimit.lextab' from 'C:\\\\Users\\\\alexg\\\\Anaconda3\\\\lib\\\\site-packages\\\\slimit\\\\lextab.py'>. Won't overwrite existing lextab module\n",
      "WARNING: yacc table file version is out of date\n",
      "WARNING: Token 'BLOCK_COMMENT' defined, but not used\n",
      "WARNING: Token 'CLASS' defined, but not used\n",
      "WARNING: Token 'CONST' defined, but not used\n",
      "WARNING: Token 'ENUM' defined, but not used\n",
      "WARNING: Token 'EXPORT' defined, but not used\n",
      "WARNING: Token 'EXTENDS' defined, but not used\n",
      "WARNING: Token 'IMPORT' defined, but not used\n",
      "WARNING: Token 'LINE_COMMENT' defined, but not used\n",
      "WARNING: Token 'LINE_TERMINATOR' defined, but not used\n",
      "WARNING: Token 'SUPER' defined, but not used\n",
      "WARNING: There are 10 unused tokens\n",
      "WARNING: Couldn't create <module 'slimit.yacctab' from 'C:\\\\Users\\\\alexg\\\\Anaconda3\\\\lib\\\\site-packages\\\\slimit\\\\yacctab.py'>. Won't overwrite existing tabmodule\n"
     ]
    },
    {
     "name": "stdout",
     "output_type": "stream",
     "text": [
      "Foul Orchard\n"
     ]
    },
    {
     "name": "stderr",
     "output_type": "stream",
     "text": [
      "WARNING: Couldn't write lextab module <module 'slimit.lextab' from 'C:\\\\Users\\\\alexg\\\\Anaconda3\\\\lib\\\\site-packages\\\\slimit\\\\lextab.py'>. Won't overwrite existing lextab module\n",
      "WARNING: yacc table file version is out of date\n",
      "WARNING: Token 'BLOCK_COMMENT' defined, but not used\n",
      "WARNING: Token 'CLASS' defined, but not used\n",
      "WARNING: Token 'CONST' defined, but not used\n",
      "WARNING: Token 'ENUM' defined, but not used\n",
      "WARNING: Token 'EXPORT' defined, but not used\n",
      "WARNING: Token 'EXTENDS' defined, but not used\n",
      "WARNING: Token 'IMPORT' defined, but not used\n",
      "WARNING: Token 'LINE_COMMENT' defined, but not used\n",
      "WARNING: Token 'LINE_TERMINATOR' defined, but not used\n",
      "WARNING: Token 'SUPER' defined, but not used\n",
      "WARNING: There are 10 unused tokens\n",
      "WARNING: Couldn't create <module 'slimit.yacctab' from 'C:\\\\Users\\\\alexg\\\\Anaconda3\\\\lib\\\\site-packages\\\\slimit\\\\yacctab.py'>. Won't overwrite existing tabmodule\n"
     ]
    },
    {
     "name": "stdout",
     "output_type": "stream",
     "text": [
      "Forsaken Sanctuary\n"
     ]
    },
    {
     "name": "stderr",
     "output_type": "stream",
     "text": [
      "WARNING: Couldn't write lextab module <module 'slimit.lextab' from 'C:\\\\Users\\\\alexg\\\\Anaconda3\\\\lib\\\\site-packages\\\\slimit\\\\lextab.py'>. Won't overwrite existing lextab module\n",
      "WARNING: yacc table file version is out of date\n",
      "WARNING: Token 'BLOCK_COMMENT' defined, but not used\n",
      "WARNING: Token 'CLASS' defined, but not used\n",
      "WARNING: Token 'CONST' defined, but not used\n",
      "WARNING: Token 'ENUM' defined, but not used\n",
      "WARNING: Token 'EXPORT' defined, but not used\n",
      "WARNING: Token 'EXTENDS' defined, but not used\n",
      "WARNING: Token 'IMPORT' defined, but not used\n",
      "WARNING: Token 'LINE_COMMENT' defined, but not used\n",
      "WARNING: Token 'LINE_TERMINATOR' defined, but not used\n",
      "WARNING: Token 'SUPER' defined, but not used\n",
      "WARNING: There are 10 unused tokens\n",
      "WARNING: Couldn't create <module 'slimit.yacctab' from 'C:\\\\Users\\\\alexg\\\\Anaconda3\\\\lib\\\\site-packages\\\\slimit\\\\yacctab.py'>. Won't overwrite existing tabmodule\n"
     ]
    },
    {
     "name": "stdout",
     "output_type": "stream",
     "text": [
      "Evolving Wilds\n"
     ]
    },
    {
     "name": "stderr",
     "output_type": "stream",
     "text": [
      "WARNING: Couldn't write lextab module <module 'slimit.lextab' from 'C:\\\\Users\\\\alexg\\\\Anaconda3\\\\lib\\\\site-packages\\\\slimit\\\\lextab.py'>. Won't overwrite existing lextab module\n",
      "WARNING: yacc table file version is out of date\n",
      "WARNING: Token 'BLOCK_COMMENT' defined, but not used\n",
      "WARNING: Token 'CLASS' defined, but not used\n",
      "WARNING: Token 'CONST' defined, but not used\n",
      "WARNING: Token 'ENUM' defined, but not used\n",
      "WARNING: Token 'EXPORT' defined, but not used\n",
      "WARNING: Token 'EXTENDS' defined, but not used\n",
      "WARNING: Token 'IMPORT' defined, but not used\n",
      "WARNING: Token 'LINE_COMMENT' defined, but not used\n",
      "WARNING: Token 'LINE_TERMINATOR' defined, but not used\n",
      "WARNING: Token 'SUPER' defined, but not used\n",
      "WARNING: There are 10 unused tokens\n",
      "WARNING: Couldn't create <module 'slimit.yacctab' from 'C:\\\\Users\\\\alexg\\\\Anaconda3\\\\lib\\\\site-packages\\\\slimit\\\\yacctab.py'>. Won't overwrite existing tabmodule\n"
     ]
    },
    {
     "name": "stdout",
     "output_type": "stream",
     "text": [
      "Arch of Orazca\n"
     ]
    },
    {
     "name": "stderr",
     "output_type": "stream",
     "text": [
      "WARNING: Couldn't write lextab module <module 'slimit.lextab' from 'C:\\\\Users\\\\alexg\\\\Anaconda3\\\\lib\\\\site-packages\\\\slimit\\\\lextab.py'>. Won't overwrite existing lextab module\n",
      "WARNING: yacc table file version is out of date\n",
      "WARNING: Token 'BLOCK_COMMENT' defined, but not used\n",
      "WARNING: Token 'CLASS' defined, but not used\n",
      "WARNING: Token 'CONST' defined, but not used\n",
      "WARNING: Token 'ENUM' defined, but not used\n",
      "WARNING: Token 'EXPORT' defined, but not used\n",
      "WARNING: Token 'EXTENDS' defined, but not used\n",
      "WARNING: Token 'IMPORT' defined, but not used\n",
      "WARNING: Token 'LINE_COMMENT' defined, but not used\n",
      "WARNING: Token 'LINE_TERMINATOR' defined, but not used\n",
      "WARNING: Token 'SUPER' defined, but not used\n",
      "WARNING: There are 10 unused tokens\n",
      "WARNING: Couldn't create <module 'slimit.yacctab' from 'C:\\\\Users\\\\alexg\\\\Anaconda3\\\\lib\\\\site-packages\\\\slimit\\\\yacctab.py'>. Won't overwrite existing tabmodule\n"
     ]
    },
    {
     "name": "stdout",
     "output_type": "stream",
     "text": [
      "Traveler's Amulet\n"
     ]
    },
    {
     "name": "stderr",
     "output_type": "stream",
     "text": [
      "WARNING: Couldn't write lextab module <module 'slimit.lextab' from 'C:\\\\Users\\\\alexg\\\\Anaconda3\\\\lib\\\\site-packages\\\\slimit\\\\lextab.py'>. Won't overwrite existing lextab module\n",
      "WARNING: yacc table file version is out of date\n",
      "WARNING: Token 'BLOCK_COMMENT' defined, but not used\n",
      "WARNING: Token 'CLASS' defined, but not used\n",
      "WARNING: Token 'CONST' defined, but not used\n",
      "WARNING: Token 'ENUM' defined, but not used\n",
      "WARNING: Token 'EXPORT' defined, but not used\n",
      "WARNING: Token 'EXTENDS' defined, but not used\n",
      "WARNING: Token 'IMPORT' defined, but not used\n",
      "WARNING: Token 'LINE_COMMENT' defined, but not used\n",
      "WARNING: Token 'LINE_TERMINATOR' defined, but not used\n",
      "WARNING: Token 'SUPER' defined, but not used\n",
      "WARNING: There are 10 unused tokens\n",
      "WARNING: Couldn't create <module 'slimit.yacctab' from 'C:\\\\Users\\\\alexg\\\\Anaconda3\\\\lib\\\\site-packages\\\\slimit\\\\yacctab.py'>. Won't overwrite existing tabmodule\n"
     ]
    },
    {
     "name": "stdout",
     "output_type": "stream",
     "text": [
      "Strider Harness\n"
     ]
    },
    {
     "name": "stderr",
     "output_type": "stream",
     "text": [
      "WARNING: Couldn't write lextab module <module 'slimit.lextab' from 'C:\\\\Users\\\\alexg\\\\Anaconda3\\\\lib\\\\site-packages\\\\slimit\\\\lextab.py'>. Won't overwrite existing lextab module\n",
      "WARNING: yacc table file version is out of date\n",
      "WARNING: Token 'BLOCK_COMMENT' defined, but not used\n",
      "WARNING: Token 'CLASS' defined, but not used\n",
      "WARNING: Token 'CONST' defined, but not used\n",
      "WARNING: Token 'ENUM' defined, but not used\n",
      "WARNING: Token 'EXPORT' defined, but not used\n",
      "WARNING: Token 'EXTENDS' defined, but not used\n",
      "WARNING: Token 'IMPORT' defined, but not used\n",
      "WARNING: Token 'LINE_COMMENT' defined, but not used\n",
      "WARNING: Token 'LINE_TERMINATOR' defined, but not used\n",
      "WARNING: Token 'SUPER' defined, but not used\n",
      "WARNING: There are 10 unused tokens\n",
      "WARNING: Couldn't create <module 'slimit.yacctab' from 'C:\\\\Users\\\\alexg\\\\Anaconda3\\\\lib\\\\site-packages\\\\slimit\\\\yacctab.py'>. Won't overwrite existing tabmodule\n"
     ]
    },
    {
     "name": "stdout",
     "output_type": "stream",
     "text": [
      "Silent Gravestone\n"
     ]
    },
    {
     "name": "stderr",
     "output_type": "stream",
     "text": [
      "WARNING: Couldn't write lextab module <module 'slimit.lextab' from 'C:\\\\Users\\\\alexg\\\\Anaconda3\\\\lib\\\\site-packages\\\\slimit\\\\lextab.py'>. Won't overwrite existing lextab module\n",
      "WARNING: yacc table file version is out of date\n",
      "WARNING: Token 'BLOCK_COMMENT' defined, but not used\n",
      "WARNING: Token 'CLASS' defined, but not used\n",
      "WARNING: Token 'CONST' defined, but not used\n",
      "WARNING: Token 'ENUM' defined, but not used\n",
      "WARNING: Token 'EXPORT' defined, but not used\n",
      "WARNING: Token 'EXTENDS' defined, but not used\n",
      "WARNING: Token 'IMPORT' defined, but not used\n",
      "WARNING: Token 'LINE_COMMENT' defined, but not used\n",
      "WARNING: Token 'LINE_TERMINATOR' defined, but not used\n",
      "WARNING: Token 'SUPER' defined, but not used\n",
      "WARNING: There are 10 unused tokens\n",
      "WARNING: Couldn't create <module 'slimit.yacctab' from 'C:\\\\Users\\\\alexg\\\\Anaconda3\\\\lib\\\\site-packages\\\\slimit\\\\yacctab.py'>. Won't overwrite existing tabmodule\n"
     ]
    },
    {
     "name": "stdout",
     "output_type": "stream",
     "text": [
      "Orazca Relic\n"
     ]
    },
    {
     "name": "stderr",
     "output_type": "stream",
     "text": [
      "WARNING: Couldn't write lextab module <module 'slimit.lextab' from 'C:\\\\Users\\\\alexg\\\\Anaconda3\\\\lib\\\\site-packages\\\\slimit\\\\lextab.py'>. Won't overwrite existing lextab module\n",
      "WARNING: yacc table file version is out of date\n",
      "WARNING: Token 'BLOCK_COMMENT' defined, but not used\n",
      "WARNING: Token 'CLASS' defined, but not used\n",
      "WARNING: Token 'CONST' defined, but not used\n",
      "WARNING: Token 'ENUM' defined, but not used\n",
      "WARNING: Token 'EXPORT' defined, but not used\n",
      "WARNING: Token 'EXTENDS' defined, but not used\n",
      "WARNING: Token 'IMPORT' defined, but not used\n",
      "WARNING: Token 'LINE_COMMENT' defined, but not used\n",
      "WARNING: Token 'LINE_TERMINATOR' defined, but not used\n",
      "WARNING: Token 'SUPER' defined, but not used\n",
      "WARNING: There are 10 unused tokens\n",
      "WARNING: Couldn't create <module 'slimit.yacctab' from 'C:\\\\Users\\\\alexg\\\\Anaconda3\\\\lib\\\\site-packages\\\\slimit\\\\yacctab.py'>. Won't overwrite existing tabmodule\n"
     ]
    },
    {
     "name": "stdout",
     "output_type": "stream",
     "text": [
      "The Immortal Sun\n"
     ]
    },
    {
     "name": "stderr",
     "output_type": "stream",
     "text": [
      "WARNING: Couldn't write lextab module <module 'slimit.lextab' from 'C:\\\\Users\\\\alexg\\\\Anaconda3\\\\lib\\\\site-packages\\\\slimit\\\\lextab.py'>. Won't overwrite existing lextab module\n",
      "WARNING: yacc table file version is out of date\n",
      "WARNING: Token 'BLOCK_COMMENT' defined, but not used\n",
      "WARNING: Token 'CLASS' defined, but not used\n",
      "WARNING: Token 'CONST' defined, but not used\n",
      "WARNING: Token 'ENUM' defined, but not used\n",
      "WARNING: Token 'EXPORT' defined, but not used\n",
      "WARNING: Token 'EXTENDS' defined, but not used\n",
      "WARNING: Token 'IMPORT' defined, but not used\n",
      "WARNING: Token 'LINE_COMMENT' defined, but not used\n",
      "WARNING: Token 'LINE_TERMINATOR' defined, but not used\n",
      "WARNING: Token 'SUPER' defined, but not used\n",
      "WARNING: There are 10 unused tokens\n",
      "WARNING: Couldn't create <module 'slimit.yacctab' from 'C:\\\\Users\\\\alexg\\\\Anaconda3\\\\lib\\\\site-packages\\\\slimit\\\\yacctab.py'>. Won't overwrite existing tabmodule\n"
     ]
    },
    {
     "name": "stdout",
     "output_type": "stream",
     "text": [
      "Golden Guardian // Gold-Forge Garrison\n"
     ]
    },
    {
     "name": "stderr",
     "output_type": "stream",
     "text": [
      "WARNING: Couldn't write lextab module <module 'slimit.lextab' from 'C:\\\\Users\\\\alexg\\\\Anaconda3\\\\lib\\\\site-packages\\\\slimit\\\\lextab.py'>. Won't overwrite existing lextab module\n",
      "WARNING: yacc table file version is out of date\n",
      "WARNING: Token 'BLOCK_COMMENT' defined, but not used\n",
      "WARNING: Token 'CLASS' defined, but not used\n",
      "WARNING: Token 'CONST' defined, but not used\n",
      "WARNING: Token 'ENUM' defined, but not used\n",
      "WARNING: Token 'EXPORT' defined, but not used\n",
      "WARNING: Token 'EXTENDS' defined, but not used\n",
      "WARNING: Token 'IMPORT' defined, but not used\n",
      "WARNING: Token 'LINE_COMMENT' defined, but not used\n",
      "WARNING: Token 'LINE_TERMINATOR' defined, but not used\n",
      "WARNING: Token 'SUPER' defined, but not used\n",
      "WARNING: There are 10 unused tokens\n",
      "WARNING: Couldn't create <module 'slimit.yacctab' from 'C:\\\\Users\\\\alexg\\\\Anaconda3\\\\lib\\\\site-packages\\\\slimit\\\\yacctab.py'>. Won't overwrite existing tabmodule\n"
     ]
    },
    {
     "ename": "AttributeError",
     "evalue": "'Null' object has no attribute 'items'",
     "output_type": "error",
     "traceback": [
      "\u001b[1;31m---------------------------------------------------------------------------\u001b[0m",
      "\u001b[1;31mAttributeError\u001b[0m                            Traceback (most recent call last)",
      "\u001b[1;32m<ipython-input-158-2315ef1dc29c>\u001b[0m in \u001b[0;36m<module>\u001b[1;34m()\u001b[0m\n\u001b[0;32m      6\u001b[0m     \u001b[1;32mfor\u001b[0m \u001b[0mcardname\u001b[0m \u001b[1;32min\u001b[0m \u001b[0mcards\u001b[0m\u001b[1;33m:\u001b[0m\u001b[1;33m\u001b[0m\u001b[0m\n\u001b[0;32m      7\u001b[0m         \u001b[0mprint\u001b[0m\u001b[1;33m(\u001b[0m\u001b[0mcardname\u001b[0m\u001b[1;33m)\u001b[0m\u001b[1;33m\u001b[0m\u001b[0m\n\u001b[1;32m----> 8\u001b[1;33m         \u001b[0mhistory\u001b[0m \u001b[1;33m=\u001b[0m \u001b[0mcard_price_history\u001b[0m\u001b[1;33m(\u001b[0m\u001b[0msetname\u001b[0m\u001b[1;33m,\u001b[0m \u001b[0mcardname\u001b[0m\u001b[1;33m)\u001b[0m\u001b[1;33m\u001b[0m\u001b[0m\n\u001b[0m\u001b[0;32m      9\u001b[0m         \u001b[0mcard_dict\u001b[0m\u001b[1;33m[\u001b[0m\u001b[0mcardname\u001b[0m\u001b[1;33m]\u001b[0m \u001b[1;33m=\u001b[0m \u001b[0mhistory\u001b[0m\u001b[1;33m\u001b[0m\u001b[0m\n\u001b[0;32m     10\u001b[0m     \u001b[0mset_dict\u001b[0m\u001b[1;33m[\u001b[0m\u001b[0msetname\u001b[0m\u001b[1;33m]\u001b[0m \u001b[1;33m=\u001b[0m \u001b[0mcard_dict\u001b[0m\u001b[1;33m\u001b[0m\u001b[0m\n",
      "\u001b[1;32m<ipython-input-157-ffabab8535ad>\u001b[0m in \u001b[0;36mcard_price_history\u001b[1;34m(setname, cardname)\u001b[0m\n\u001b[0;32m     13\u001b[0m             \u001b[1;32mfor\u001b[0m \u001b[0mnode\u001b[0m \u001b[1;32min\u001b[0m \u001b[0mnodevisitor\u001b[0m\u001b[1;33m.\u001b[0m\u001b[0mvisit\u001b[0m\u001b[1;33m(\u001b[0m\u001b[0mtree\u001b[0m\u001b[1;33m)\u001b[0m\u001b[1;33m:\u001b[0m\u001b[1;33m\u001b[0m\u001b[0m\n\u001b[0;32m     14\u001b[0m                 \u001b[1;32mif\u001b[0m \u001b[0misinstance\u001b[0m\u001b[1;33m(\u001b[0m\u001b[0mnode\u001b[0m\u001b[1;33m,\u001b[0m \u001b[0mast\u001b[0m\u001b[1;33m.\u001b[0m\u001b[0mAssign\u001b[0m\u001b[1;33m)\u001b[0m \u001b[1;32mand\u001b[0m \u001b[0mgetattr\u001b[0m\u001b[1;33m(\u001b[0m\u001b[0mnode\u001b[0m\u001b[1;33m.\u001b[0m\u001b[0mleft\u001b[0m\u001b[1;33m,\u001b[0m \u001b[1;34m'value'\u001b[0m\u001b[1;33m,\u001b[0m \u001b[1;34m''\u001b[0m\u001b[1;33m)\u001b[0m \u001b[1;33m==\u001b[0m \u001b[1;34m\"\\\"data\\\"\"\u001b[0m\u001b[1;33m:\u001b[0m\u001b[1;33m\u001b[0m\u001b[0m\n\u001b[1;32m---> 15\u001b[1;33m                     \u001b[1;32mfor\u001b[0m \u001b[0mprices\u001b[0m \u001b[1;32min\u001b[0m \u001b[0mnode\u001b[0m\u001b[1;33m.\u001b[0m\u001b[0mright\u001b[0m\u001b[1;33m.\u001b[0m\u001b[0mitems\u001b[0m\u001b[1;33m:\u001b[0m\u001b[1;33m\u001b[0m\u001b[0m\n\u001b[0m\u001b[0;32m     16\u001b[0m                         \u001b[0mhistory\u001b[0m\u001b[1;33m.\u001b[0m\u001b[0mappend\u001b[0m\u001b[1;33m(\u001b[0m\u001b[1;33m[\u001b[0m\u001b[0mprices\u001b[0m\u001b[1;33m.\u001b[0m\u001b[0mitems\u001b[0m\u001b[1;33m[\u001b[0m\u001b[1;36m0\u001b[0m\u001b[1;33m]\u001b[0m\u001b[1;33m.\u001b[0m\u001b[0mvalue\u001b[0m\u001b[1;33m,\u001b[0m\u001b[0mprices\u001b[0m\u001b[1;33m.\u001b[0m\u001b[0mitems\u001b[0m\u001b[1;33m[\u001b[0m\u001b[1;36m1\u001b[0m\u001b[1;33m]\u001b[0m\u001b[1;33m.\u001b[0m\u001b[0mvalue\u001b[0m\u001b[1;33m]\u001b[0m\u001b[1;33m)\u001b[0m\u001b[1;33m\u001b[0m\u001b[0m\n\u001b[0;32m     17\u001b[0m                     \u001b[1;32mbreak\u001b[0m\u001b[1;33m\u001b[0m\u001b[0m\n",
      "\u001b[1;31mAttributeError\u001b[0m: 'Null' object has no attribute 'items'"
     ]
    }
   ],
   "source": [
    "set_dict = {}\n",
    "for setname in sets:\n",
    "    print(setname)\n",
    "    cards = all_cards_df[all_cards_df['set_name'] == setname]['name'].values\n",
    "    card_dict = {}\n",
    "    for cardname in cards:\n",
    "        print(cardname)\n",
    "        history = card_price_history(setname, cardname)\n",
    "        card_dict[cardname] = history\n",
    "    set_dict[setname] = card_dict\n",
    "    \n",
    "print(set_dict)\n",
    "        "
   ]
  },
  {
   "cell_type": "code",
   "execution_count": 153,
   "metadata": {},
   "outputs": [
    {
     "data": {
      "text/plain": [
       "array(['Cinder Barrens', \"Angrath's Fury\", 'Swab Goblin',\n",
       "       \"Angrath's Ambusher\", 'Angrath, Minotaur Pirate', \"Vraska's Scorn\",\n",
       "       \"Vraska's Conquistador\", 'Vampire Champion',\n",
       "       'Vraska, Scheming Gorgon', 'Forest', 'Mountain', 'Swamp', 'Island',\n",
       "       'Plains', 'Woodland Stream', 'Stone Quarry', 'Highland Lake',\n",
       "       'Foul Orchard', 'Forsaken Sanctuary', 'Evolving Wilds',\n",
       "       'Arch of Orazca', \"Traveler's Amulet\", 'Strider Harness',\n",
       "       'Silent Gravestone', 'Orazca Relic', 'The Immortal Sun',\n",
       "       'Golden Guardian // Gold-Forge Garrison', 'Gleaming Barrier',\n",
       "       \"Captain's Hook\", \"Azor's Gateway // Sanctum of the Sun\",\n",
       "       'Awakened Amalgam', 'Zacama, Primal Calamity',\n",
       "       'Storm the Vault // Vault of Catlacan', 'Storm Fleet Sprinter',\n",
       "       'Siegehorn Ceratops', 'Resplendent Griffin', 'Relentless Raptor',\n",
       "       'Raging Regisaur', 'Protean Raider',\n",
       "       'Profane Procession // Tomb of the Dusk Rose',\n",
       "       'Path of Mettle // Metzali, Tower of Triumph',\n",
       "       'Merfolk Mistbinder', 'Legion Lieutenant',\n",
       "       'Kumena, Tyrant of Orazca', 'Jungle Creeper',\n",
       "       'Journey to Eternity // Atzal, Cave of Eternity',\n",
       "       'Huatli, Radiant Champion',\n",
       "       \"Hadana's Climb // Winged Temple of Orazca\",\n",
       "       'Elenda, the Dusk Rose', 'Dire Fleet Neckbreaker',\n",
       "       'Deadeye Brawler', 'Azor, the Lawbringer', 'Atzocan Seer',\n",
       "       'Angrath, the Flame-Chained', 'World Shaper', 'Wayward Swordtooth',\n",
       "       'Thunderherd Migration', 'Thrashing Brontodon',\n",
       "       'Tendershoot Dryad', 'Swift Warden', 'Strength of the Pack',\n",
       "       'Polyraptor', 'Plummet', 'Path of Discovery', 'Overgrown Armasaur',\n",
       "       'Orazca Frillback', 'Naturalize', 'Knight of the Stampede',\n",
       "       'Jungleborn Pioneer', 'Jadelight Ranger', 'Jadecraft Artisan',\n",
       "       'Jade Bearer', 'Hunt the Weak', 'Hardy Veteran',\n",
       "       'Giltgrove Stalker', 'Ghalta, Primal Hunger',\n",
       "       'Forerunner of the Heralds', 'Enter the Unknown', 'Deeproot Elite',\n",
       "       'Crested Herdcaller', 'Colossal Dreadmaw', 'Cherished Hatchling',\n",
       "       'Cacophodon', 'Aggressive Urge', \"Tilonalli's Summoner\",\n",
       "       \"Tilonalli's Crown\", 'Swaggering Corsair', 'Sun-Collared Raptor',\n",
       "       'Storm Fleet Swashbuckler', 'Stampeding Horncrest',\n",
       "       'Silverclad Ferocidons', 'Shatter', 'Shake the Foundations',\n",
       "       'See Red', 'Rekindling Phoenix', 'Reckless Rage',\n",
       "       \"Pirate's Pillage\", 'Orazca Raptor', 'Needletooth Raptor',\n",
       "       'Mutiny', 'Goblin Trailblazer', 'Frilled Deathspitter',\n",
       "       'Form of the Dinosaur', 'Forerunner of the Empire',\n",
       "       'Fanatical Firebrand', 'Etali, Primal Storm',\n",
       "       'Dire Fleet Daredevil', 'Daring Buccaneer', 'Charging Tuskodon',\n",
       "       \"Buccaneer's Bravado\", 'Brazen Freebooter', \"Brass's Bounty\",\n",
       "       'Bombard', 'Blood Sun', 'Voracious Vampire', \"Vona's Hunger\",\n",
       "       'Vampire Revenant', 'Twilight Prophet', 'Tomb Robber',\n",
       "       'Tetzimoc, Primal Death', 'Sadistic Skymarcher', 'Recover',\n",
       "       'Reaver Ambush', 'Ravenous Chupacabra', 'Pitiless Plunderer',\n",
       "       'Oathsworn Vampire', 'Moment of Craving', 'Mausoleum Harpy',\n",
       "       \"Mastermind's Acquisition\", 'Impale', 'Gruesome Fate',\n",
       "       'Grasping Scoundrel', 'Golden Demise',\n",
       "       'Forerunner of the Coalition', 'Fathom Fleet Boarder',\n",
       "       'Dusk Legion Zealot', 'Dusk Charger', 'Dire Fleet Poisoner',\n",
       "       'Dinosaur Hunter', \"Dead Man's Chest\", 'Dark Inquiry',\n",
       "       'Champion of Dusk', 'Canal Monitor', 'Arterial Flow', 'Waterknot',\n",
       "       'Warkite Marauder', 'Timestream Navigator', 'Sworn Guardian',\n",
       "       'Spire Winder', 'Soul of the Rapids', 'Slippery Scoundrel',\n",
       "       'Siren Reaver', 'Silvergill Adept', 'Secrets of the Golden City',\n",
       "       'Seafloor Oracle', 'Sea Legs', 'Sailor of Means',\n",
       "       'Riverwise Augur', 'River Darter', 'Release to the Wind',\n",
       "       'Nezahal, Primal Tide', 'Negate', 'Mist-Cloaked Herald',\n",
       "       \"Kumena's Awakening\", 'Kitesail Corsair', 'Induced Amnesia',\n",
       "       'Hornswoggle', 'Flood of Recollection', 'Expel from Orazca',\n",
       "       'Deadeye Rig-Hauler', 'Curious Obsession', 'Crashing Tide',\n",
       "       'Crafty Cutpurse', 'Aquatic Incursion', \"Admiral's Order\",\n",
       "       'Zetalpa, Primal Dawn', 'Trapjaw Tyrant', 'Temple Altisaur',\n",
       "       'Sun-Crested Pterodon', 'Sun Sentinel', \"Squire's Devotion\",\n",
       "       \"Sphinx's Decree\", 'Snubhorn Sentry', 'Slaughter the Strong',\n",
       "       'Skymarcher Aspirant', 'Sanguine Glorifier', 'Raptor Companion',\n",
       "       'Radiant Destiny', 'Pride of Conquerors', 'Paladin of Atonement',\n",
       "       'Moment of Triumph', 'Martyr of Dusk', 'Majestic Heliopterus',\n",
       "       'Luminous Bonds', 'Legion Conquistador', 'Imperial Ceratops',\n",
       "       'Forerunner of the Legion', 'Famished Paladin',\n",
       "       'Exultant Skymarcher', 'Everdawn Champion', 'Divine Verdict',\n",
       "       'Cleansing Ray', 'Blazing Hope', 'Bishop of Binding',\n",
       "       'Baffling End'], dtype=object)"
      ]
     },
     "execution_count": 153,
     "metadata": {},
     "output_type": "execute_result"
    }
   ],
   "source": [
    "all_cards_df[all_cards_df['set_name'] == 'Rivals of Ixalan']['name'].values"
   ]
  },
  {
   "cell_type": "code",
   "execution_count": 5,
   "metadata": {},
   "outputs": [],
   "source": [
    "from scraper import *"
   ]
  },
  {
   "cell_type": "code",
   "execution_count": 23,
   "metadata": {},
   "outputs": [],
   "source": [
    "connection = connect_mystic()"
   ]
  },
  {
   "cell_type": "code",
   "execution_count": 19,
   "metadata": {},
   "outputs": [
    {
     "name": "stderr",
     "output_type": "stream",
     "text": [
      "Exception during reset or similar\n",
      "Traceback (most recent call last):\n",
      "  File \"C:\\Users\\alexg\\Anaconda3\\lib\\site-packages\\sqlalchemy\\pool.py\", line 709, in _finalize_fairy\n",
      "    fairy._reset(pool)\n",
      "  File \"C:\\Users\\alexg\\Anaconda3\\lib\\site-packages\\sqlalchemy\\pool.py\", line 880, in _reset\n",
      "    pool._dialect.do_rollback(self)\n",
      "  File \"C:\\Users\\alexg\\Anaconda3\\lib\\site-packages\\sqlalchemy\\engine\\default.py\", line 457, in do_rollback\n",
      "    dbapi_connection.rollback()\n",
      "psycopg2.OperationalError: server closed the connection unexpectedly\n",
      "\tThis probably means the server terminated abnormally\n",
      "\tbefore or while processing the request.\n",
      "\n"
     ]
    },
    {
     "name": "stdout",
     "output_type": "stream",
     "text": [
      "recorded mythic price datapoints:\n",
      "64538\n",
      "number of mythic cards recorded:\n",
      "<sqlalchemy.engine.result.ResultProxy object at 0x0000018E55E79E10>\n",
      "(571,)\n"
     ]
    }
   ],
   "source": [
    "results = connection.execute(\"select * from mythic_price_history\")\n",
    "print('recorded mythic price datapoints:')\n",
    "count = 0\n",
    "for r in results:\n",
    "    count+=1\n",
    "print(count)\n",
    "\n",
    "results = connection.execute(\"select count(distinct cardname) from mythic_price_history\")\n",
    "print('number of mythic cards recorded:')\n",
    "print(results)\n",
    "for r in results:\n",
    "    print(r[0])"
   ]
  },
  {
   "cell_type": "code",
   "execution_count": 22,
   "metadata": {},
   "outputs": [
    {
     "name": "stderr",
     "output_type": "stream",
     "text": [
      "Exception during reset or similar\n",
      "Traceback (most recent call last):\n",
      "  File \"C:\\Users\\alexg\\Anaconda3\\lib\\site-packages\\sqlalchemy\\pool.py\", line 709, in _finalize_fairy\n",
      "    fairy._reset(pool)\n",
      "  File \"C:\\Users\\alexg\\Anaconda3\\lib\\site-packages\\sqlalchemy\\pool.py\", line 880, in _reset\n",
      "    pool._dialect.do_rollback(self)\n",
      "  File \"C:\\Users\\alexg\\Anaconda3\\lib\\site-packages\\sqlalchemy\\engine\\default.py\", line 457, in do_rollback\n",
      "    dbapi_connection.rollback()\n",
      "psycopg2.OperationalError: server closed the connection unexpectedly\n",
      "\tThis probably means the server terminated abnormally\n",
      "\tbefore or while processing the request.\n",
      "\n"
     ]
    },
    {
     "name": "stdout",
     "output_type": "stream",
     "text": [
      "recorded rare price datapoints:\n",
      "112107\n",
      "number of rare cards recorded:\n",
      "1745\n"
     ]
    }
   ],
   "source": [
    "results = connection.execute(\"select * from rare_price_history\")\n",
    "print('recorded rare price datapoints:')\n",
    "count = 0\n",
    "for r in results:\n",
    "    count+=1\n",
    "print(count)\n",
    "\n",
    "results = connection.execute(\"select count(distinct cardname) from rare_price_history\")\n",
    "print('number of rare cards recorded:')\n",
    "for r in results:\n",
    "    print(r[0])"
   ]
  },
  {
   "cell_type": "code",
   "execution_count": 24,
   "metadata": {},
   "outputs": [
    {
     "name": "stderr",
     "output_type": "stream",
     "text": [
      "Exception during reset or similar\n",
      "Traceback (most recent call last):\n",
      "  File \"C:\\Users\\alexg\\Anaconda3\\lib\\site-packages\\sqlalchemy\\pool.py\", line 709, in _finalize_fairy\n",
      "    fairy._reset(pool)\n",
      "  File \"C:\\Users\\alexg\\Anaconda3\\lib\\site-packages\\sqlalchemy\\pool.py\", line 880, in _reset\n",
      "    pool._dialect.do_rollback(self)\n",
      "  File \"C:\\Users\\alexg\\Anaconda3\\lib\\site-packages\\sqlalchemy\\engine\\default.py\", line 457, in do_rollback\n",
      "    dbapi_connection.rollback()\n",
      "psycopg2.OperationalError: server closed the connection unexpectedly\n",
      "\tThis probably means the server terminated abnormally\n",
      "\tbefore or while processing the request.\n",
      "\n"
     ]
    },
    {
     "name": "stdout",
     "output_type": "stream",
     "text": [
      "('Emeria, the Sky Ruin', 'Commander 2014', '1415772093046', 0.7)\n",
      "('Emeria, the Sky Ruin', 'Commander 2014', '1416290493046', 0.5)\n",
      "('Emeria, the Sky Ruin', 'Commander 2014', '1418104893046', 0.6)\n",
      "('Emeria, the Sky Ruin', 'Commander 2014', '1424066493046', 0.8)\n",
      "('Emeria, the Sky Ruin', 'Commander 2014', '1425621693046', 1.0)\n",
      "('Emeria, the Sky Ruin', 'Commander 2014', '1426572093046', 0.9)\n",
      "('Emeria, the Sky Ruin', 'Commander 2014', '1430892093046', 0.8)\n",
      "('Emeria, the Sky Ruin', 'Commander 2014', '1430978493046', 1.0)\n",
      "('Emeria, the Sky Ruin', 'Commander 2014', '1431324093046', 1.3)\n",
      "('Emeria, the Sky Ruin', 'Commander 2014', '1431842493046', 0.8)\n",
      "('Emeria, the Sky Ruin', 'Commander 2014', '1432706493046', 0.9)\n",
      "('Emeria, the Sky Ruin', 'Commander 2014', '1432965693046', 1.5)\n",
      "('Emeria, the Sky Ruin', 'Commander 2014', '1433052093046', 1.2)\n",
      "('Emeria, the Sky Ruin', 'Commander 2014', '1433138493046', 1.7)\n",
      "('Emeria, the Sky Ruin', 'Commander 2014', '1433311293046', 1.3)\n",
      "('Emeria, the Sky Ruin', 'Commander 2014', '1433484093046', 1.0)\n",
      "('Emeria, the Sky Ruin', 'Commander 2014', '1433829693046', 1.2)\n",
      "('Emeria, the Sky Ruin', 'Commander 2014', '1434434493046', 1.1)\n",
      "('Emeria, the Sky Ruin', 'Commander 2014', '1434607293046', 0.9)\n",
      "('Emeria, the Sky Ruin', 'Commander 2014', '1434952893046', 1.2)\n",
      "('Emeria, the Sky Ruin', 'Commander 2014', '1435125693046', 1.1)\n",
      "('Emeria, the Sky Ruin', 'Commander 2014', '1436335293046', 1.0)\n",
      "('Emeria, the Sky Ruin', 'Commander 2014', '1439272893046', 1.2)\n",
      "('Emeria, the Sky Ruin', 'Commander 2014', '1439618493046', 1.3)\n",
      "('Emeria, the Sky Ruin', 'Commander 2014', '1444370493046', 0.9)\n",
      "('Emeria, the Sky Ruin', 'Commander 2014', '1451714493046', 1.1)\n",
      "('Emeria, the Sky Ruin', 'Commander 2014', '1452405693046', 1.3)\n",
      "('Emeria, the Sky Ruin', 'Commander 2014', '1463896893046', 1.0)\n",
      "('Emeria, the Sky Ruin', 'Commander 2014', '1464069693046', 0.8)\n",
      "('Emeria, the Sky Ruin', 'Commander 2014', '1465279293046', 0.7)\n",
      "('Emeria, the Sky Ruin', 'Commander 2014', '1479880893046', 1.0)\n",
      "('Emeria, the Sky Ruin', 'Commander 2014', '1479967293046', 1.3)\n",
      "('Emeria, the Sky Ruin', 'Commander 2014', '1480744893046', 0.8)\n",
      "('Emeria, the Sky Ruin', 'Commander 2014', '1481522493046', 1.0)\n",
      "('Emeria, the Sky Ruin', 'Commander 2014', '1481695293046', 0.7)\n",
      "('Emeria, the Sky Ruin', 'Commander 2014', '1481868093046', 1.1)\n",
      "('Emeria, the Sky Ruin', 'Commander 2014', '1481954493046', 1.3)\n",
      "('Emeria, the Sky Ruin', 'Commander 2014', '1484546493046', 0.7)\n",
      "('Emeria, the Sky Ruin', 'Commander 2014', '1484719293046', 1.1)\n",
      "('Emeria, the Sky Ruin', 'Commander 2014', '1485324093046', 1.3)\n",
      "('Emeria, the Sky Ruin', 'Commander 2014', '1485928893046', 1.0)\n",
      "('Emeria, the Sky Ruin', 'Commander 2014', '1487224893046', 0.6)\n",
      "('Emeria, the Sky Ruin', 'Commander 2014', '1487311293046', 1.3)\n",
      "('Emeria, the Sky Ruin', 'Commander 2014', '1488693693046', 1.4)\n",
      "('Emeria, the Sky Ruin', 'Commander 2014', '1490767293046', 1.2)\n",
      "('Emeria, the Sky Ruin', 'Commander 2014', '1490853693046', 1.5)\n",
      "('Emeria, the Sky Ruin', 'Commander 2014', '1491631293046', 1.0)\n",
      "('Emeria, the Sky Ruin', 'Commander 2014', '1491976893046', 0.8)\n",
      "('Emeria, the Sky Ruin', 'Commander 2014', '1492149693046', 1.1)\n",
      "('Emeria, the Sky Ruin', 'Commander 2014', '1494741693046', 1.2)\n",
      "('Emeria, the Sky Ruin', 'Commander 2014', '1494914493046', 1.0)\n",
      "('Emeria, the Sky Ruin', 'Commander 2014', '1495173693046', 1.1)\n",
      "('Emeria, the Sky Ruin', 'Commander 2014', '1495519293046', 1.4)\n",
      "('Emeria, the Sky Ruin', 'Commander 2014', '1495692093046', 1.3)\n",
      "('Emeria, the Sky Ruin', 'Commander 2014', '1496296893046', 1.2)\n",
      "('Emeria, the Sky Ruin', 'Commander 2014', '1497420093046', 1.0)\n",
      "('Emeria, the Sky Ruin', 'Commander 2014', '1497592893046', 1.1)\n",
      "('Emeria, the Sky Ruin', 'Commander 2014', '1499666493046', 0.9)\n",
      "('Emeria, the Sky Ruin', 'Commander 2014', '1500357693046', 1.3)\n",
      "('Emeria, the Sky Ruin', 'Commander 2014', '1500444093046', 1.1)\n",
      "('Emeria, the Sky Ruin', 'Commander 2014', '1502172093046', 0.8)\n",
      "('Emeria, the Sky Ruin', 'Commander 2014', '1503295293046', 0.6)\n",
      "('Emeria, the Sky Ruin', 'Commander 2014', '1503986493046', 0.4)\n",
      "('Emeria, the Sky Ruin', 'Commander 2014', '1504418493046', 0.7)\n",
      "('Emeria, the Sky Ruin', 'Commander 2014', '1510639293046', 1.0)\n",
      "('Emeria, the Sky Ruin', 'Commander 2014', '1510898493046', 1.8)\n",
      "('Emeria, the Sky Ruin', 'Commander 2014', '1511244093046', 1.5)\n",
      "('Emeria, the Sky Ruin', 'Commander 2014', '1518501693046', 1.6)\n",
      "('Emeria, the Sky Ruin', 'Commander 2014', '1523340093046', 1.4)\n",
      "('Emeria, the Sky Ruin', 'Commander 2014', '1528437693046', 2.3)\n",
      "('Emeria, the Sky Ruin', 'Commander 2014', '1538200893046', 1.2)\n",
      "('Emeria, the Sky Ruin', 'Commander 2014', '1539669693046', 1.1)\n",
      "('Emeria, the Sky Ruin', 'Commander 2014', '1542088893046', 0.6)\n",
      "('Emeria, the Sky Ruin', 'Zendikar', '1327305600000', 0.5)\n",
      "('Emeria, the Sky Ruin', 'Zendikar', '1341993600000', 0.4)\n",
      "('Emeria, the Sky Ruin', 'Zendikar', '1343548800000', 0.3)\n",
      "('Emeria, the Sky Ruin', 'Zendikar', '1347523200000', 0.5)\n",
      "('Emeria, the Sky Ruin', 'Zendikar', '1352707200000', 0.4)\n",
      "('Emeria, the Sky Ruin', 'Zendikar', '1364976000000', 0.3)\n",
      "('Emeria, the Sky Ruin', 'Zendikar', '1370505600000', 0.5)\n",
      "('Emeria, the Sky Ruin', 'Zendikar', '1375084800000', 0.4)\n",
      "('Emeria, the Sky Ruin', 'Zendikar', '1384934400000', 0.7)\n",
      "('Emeria, the Sky Ruin', 'Zendikar', '1385193600000', 0.5)\n",
      "('Emeria, the Sky Ruin', 'Zendikar', '1407312000000', 0.4)\n",
      "('Emeria, the Sky Ruin', 'Zendikar', '1407398400000', 0.3)\n",
      "('Emeria, the Sky Ruin', 'Zendikar', '1408176000000', 0.5)\n",
      "('Emeria, the Sky Ruin', 'Zendikar', '1408262400000', 0.4)\n",
      "('Emeria, the Sky Ruin', 'Zendikar', '1410595200000', 0.2)\n",
      "('Emeria, the Sky Ruin', 'Zendikar', '1411372800000', 0.5)\n",
      "('Emeria, the Sky Ruin', 'Zendikar', '1411459200000', 0.4)\n",
      "('Emeria, the Sky Ruin', 'Zendikar', '1427875200000', 0.2)\n",
      "('Emeria, the Sky Ruin', 'Zendikar', '1429171200000', 0.3)\n",
      "('Emeria, the Sky Ruin', 'Zendikar', '1431158400000', 0.4)\n",
      "('Emeria, the Sky Ruin', 'Zendikar', '1435564800000', 0.5)\n",
      "('Emeria, the Sky Ruin', 'Zendikar', '1436169600000', 0.3)\n",
      "('Emeria, the Sky Ruin', 'Zendikar', '1436428800000', 0.4)\n",
      "('Emeria, the Sky Ruin', 'Zendikar', '1444464000000', 0.5)\n",
      "('Emeria, the Sky Ruin', 'Zendikar', '1453708800000', 0.3)\n",
      "('Emeria, the Sky Ruin', 'Zendikar', '1455177600000', 0.4)\n",
      "('Emeria, the Sky Ruin', 'Zendikar', '1455955200000', 0.7)\n",
      "('Emeria, the Sky Ruin', 'Zendikar', '1461139200000', 0.5)\n",
      "('Emeria, the Sky Ruin', 'Zendikar', '1465372800000', 0.6)\n",
      "('Emeria, the Sky Ruin', 'Zendikar', '1470556800000', 0.4)\n",
      "('Emeria, the Sky Ruin', 'Zendikar', '1472371200000', 0.5)\n",
      "('Emeria, the Sky Ruin', 'Zendikar', '1473667200000', 0.6)\n",
      "('Emeria, the Sky Ruin', 'Zendikar', '1473926400000', 0.7)\n",
      "('Emeria, the Sky Ruin', 'Zendikar', '1479628800000', 0.3)\n",
      "('Emeria, the Sky Ruin', 'Zendikar', '1479801600000', 0.5)\n",
      "('Emeria, the Sky Ruin', 'Zendikar', '1480752000000', 0.6)\n",
      "('Emeria, the Sky Ruin', 'Zendikar', '1481529600000', 0.7)\n",
      "('Emeria, the Sky Ruin', 'Zendikar', '1481702400000', 0.4)\n",
      "('Emeria, the Sky Ruin', 'Zendikar', '1481875200000', 0.3)\n",
      "('Emeria, the Sky Ruin', 'Zendikar', '1487577600000', 0.5)\n",
      "('Emeria, the Sky Ruin', 'Zendikar', '1488009600000', 0.4)\n",
      "('Emeria, the Sky Ruin', 'Zendikar', '1489132800000', 0.3)\n",
      "('Emeria, the Sky Ruin', 'Zendikar', '1489996800000', 0.5)\n",
      "('Emeria, the Sky Ruin', 'Zendikar', '1490169600000', 0.4)\n",
      "('Emeria, the Sky Ruin', 'Zendikar', '1490256000000', 0.3)\n",
      "('Emeria, the Sky Ruin', 'Zendikar', '1490342400000', 0.5)\n",
      "('Emeria, the Sky Ruin', 'Zendikar', '1490774400000', 0.4)\n",
      "('Emeria, the Sky Ruin', 'Zendikar', '1491033600000', 0.3)\n",
      "('Emeria, the Sky Ruin', 'Zendikar', '1491120000000', 0.5)\n",
      "('Emeria, the Sky Ruin', 'Zendikar', '1493193600000', 0.6)\n",
      "('Emeria, the Sky Ruin', 'Zendikar', '1495440000000', 0.4)\n",
      "('Emeria, the Sky Ruin', 'Zendikar', '1497772800000', 0.5)\n",
      "('Emeria, the Sky Ruin', 'Zendikar', '1497945600000', 0.6)\n",
      "('Emeria, the Sky Ruin', 'Zendikar', '1500019200000', 0.4)\n",
      "('Emeria, the Sky Ruin', 'Zendikar', '1500278400000', 0.5)\n",
      "('Emeria, the Sky Ruin', 'Zendikar', '1503388800000', 0.3)\n",
      "('Emeria, the Sky Ruin', 'Zendikar', '1510560000000', 0.7)\n",
      "('Emeria, the Sky Ruin', 'Zendikar', '1511251200000', 0.5)\n",
      "('Emeria, the Sky Ruin', 'Zendikar', '1511769600000', 0.3)\n",
      "('Emeria, the Sky Ruin', 'Zendikar', '1528358400000', 0.4)\n",
      "('Emeria, the Sky Ruin', 'Zendikar', '1528963200000', 0.5)\n",
      "('Emeria, the Sky Ruin', 'Zendikar', '1529395200000', 0.2)\n",
      "('Emeria, the Sky Ruin', 'Zendikar', '1529481600000', 0.3)\n"
     ]
    }
   ],
   "source": [
    "results = connection.execute(\"select * from rare_price_history where cardname = 'Emeria, the Sky Ruin'\")\n",
    "for r in results:\n",
    "    print(r)"
   ]
  },
  {
   "cell_type": "code",
   "execution_count": null,
   "metadata": {},
   "outputs": [],
   "source": []
  }
 ],
 "metadata": {
  "kernelspec": {
   "display_name": "Python 3",
   "language": "python",
   "name": "python3"
  },
  "language_info": {
   "codemirror_mode": {
    "name": "ipython",
    "version": 3
   },
   "file_extension": ".py",
   "mimetype": "text/x-python",
   "name": "python",
   "nbconvert_exporter": "python",
   "pygments_lexer": "ipython3",
   "version": "3.6.5"
  }
 },
 "nbformat": 4,
 "nbformat_minor": 2
}
