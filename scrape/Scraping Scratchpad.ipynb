{
 "cells": [
  {
   "cell_type": "markdown",
   "metadata": {},
   "source": [
    "# Getting Started"
   ]
  },
  {
   "cell_type": "markdown",
   "metadata": {},
   "source": [
    "Scryfall API:\n",
    "\"We kindly ask that you insert 50 – 100 milliseconds of delay between the requests you send to the server. (i.e., 10 requests per second on average).\""
   ]
  },
  {
   "cell_type": "code",
   "execution_count": 1,
   "metadata": {},
   "outputs": [],
   "source": [
    "# import all the things\n",
    "import numpy as np\n",
    "import pandas as pd\n",
    "import json, requests, pickle\n",
    "from bs4 import BeautifulSoup"
   ]
  },
  {
   "cell_type": "code",
   "execution_count": 2,
   "metadata": {},
   "outputs": [],
   "source": [
    "# Get setlist into dataframe\n",
    "link = 'https://api.scryfall.com/sets'\n",
    "response = requests.get(link)\n",
    "sets = response.json()['data']\n",
    "sets_df = pd.DataFrame(sets)"
   ]
  },
  {
   "cell_type": "markdown",
   "metadata": {},
   "source": [
    "## Clean up set data "
   ]
  },
  {
   "cell_type": "code",
   "execution_count": 3,
   "metadata": {},
   "outputs": [],
   "source": [
    "# Ignore sets with no release date (likely promotional / outliers), set release date to index\n",
    "sets_df.dropna(subset=['released_at'], inplace=True)\n",
    "sets_df.set_index('released_at', inplace=True)\n",
    "\n",
    "# Remove repetitive information and online data\n",
    "sets_df.drop(['digital','mtgo_code','parent_set_code','object'], axis=1, inplace=True)"
   ]
  },
  {
   "cell_type": "code",
   "execution_count": 4,
   "metadata": {},
   "outputs": [
    {
     "data": {
      "text/plain": [
       "array(['masters', 'box', 'expansion', 'commander', 'memorabilia',\n",
       "       'starter', 'core', 'duel_deck', 'spellbook', 'draft_innovation',\n",
       "       'funny', 'from_the_vault', 'archenemy', 'planechase',\n",
       "       'treasure_chest', 'premium_deck'], dtype=object)"
      ]
     },
     "execution_count": 4,
     "metadata": {},
     "output_type": "execute_result"
    }
   ],
   "source": [
    "# Make even cleaner for ease of exploration\n",
    "clean_df = sets_df[['name','code','block_code','card_count','set_type']]\n",
    "clean_df['set_type'].unique()"
   ]
  },
  {
   "cell_type": "code",
   "execution_count": 5,
   "metadata": {},
   "outputs": [],
   "source": [
    "# after extensive manual checking of set legality / onlineness\n",
    "sets_to_drop = [\n",
    "    'me1',\n",
    "    'me2',\n",
    "    'me3',\n",
    "    'me4',\n",
    "    'vma',\n",
    "    'tpr',\n",
    "    'e02',\n",
    "    'gnt',\n",
    "    'td0',\n",
    "    'mgb',\n",
    "    'ana',\n",
    "    'w17',\n",
    "    'w16',\n",
    "    'itp'\n",
    "]\n",
    "types_to_drop = [\n",
    "    'memorabilia',\n",
    "    'funny',\n",
    "    'treasure_chest'\n",
    "]"
   ]
  },
  {
   "cell_type": "code",
   "execution_count": 6,
   "metadata": {},
   "outputs": [
    {
     "data": {
      "text/html": [
       "<div>\n",
       "<style scoped>\n",
       "    .dataframe tbody tr th:only-of-type {\n",
       "        vertical-align: middle;\n",
       "    }\n",
       "\n",
       "    .dataframe tbody tr th {\n",
       "        vertical-align: top;\n",
       "    }\n",
       "\n",
       "    .dataframe thead th {\n",
       "        text-align: right;\n",
       "    }\n",
       "</style>\n",
       "<table border=\"1\" class=\"dataframe\">\n",
       "  <thead>\n",
       "    <tr style=\"text-align: right;\">\n",
       "      <th></th>\n",
       "      <th>block</th>\n",
       "      <th>block_code</th>\n",
       "      <th>card_count</th>\n",
       "      <th>code</th>\n",
       "      <th>foil_only</th>\n",
       "      <th>icon_svg_uri</th>\n",
       "      <th>name</th>\n",
       "      <th>scryfall_uri</th>\n",
       "      <th>search_uri</th>\n",
       "      <th>set_type</th>\n",
       "      <th>uri</th>\n",
       "    </tr>\n",
       "    <tr>\n",
       "      <th>released_at</th>\n",
       "      <th></th>\n",
       "      <th></th>\n",
       "      <th></th>\n",
       "      <th></th>\n",
       "      <th></th>\n",
       "      <th></th>\n",
       "      <th></th>\n",
       "      <th></th>\n",
       "      <th></th>\n",
       "      <th></th>\n",
       "      <th></th>\n",
       "    </tr>\n",
       "  </thead>\n",
       "  <tbody>\n",
       "    <tr>\n",
       "      <th>2018-12-07</th>\n",
       "      <td>NaN</td>\n",
       "      <td>NaN</td>\n",
       "      <td>41</td>\n",
       "      <td>uma</td>\n",
       "      <td>False</td>\n",
       "      <td>https://img.scryfall.com/sets/uma.svg?1541394000</td>\n",
       "      <td>Ultimate Masters</td>\n",
       "      <td>https://scryfall.com/sets/uma</td>\n",
       "      <td>https://api.scryfall.com/cards/search?order=se...</td>\n",
       "      <td>masters</td>\n",
       "      <td>https://api.scryfall.com/sets/uma</td>\n",
       "    </tr>\n",
       "    <tr>\n",
       "      <th>2018-10-05</th>\n",
       "      <td>Guilds of Ravnica</td>\n",
       "      <td>grn</td>\n",
       "      <td>273</td>\n",
       "      <td>grn</td>\n",
       "      <td>False</td>\n",
       "      <td>https://img.scryfall.com/sets/grn.svg?1541394000</td>\n",
       "      <td>Guilds of Ravnica</td>\n",
       "      <td>https://scryfall.com/sets/grn</td>\n",
       "      <td>https://api.scryfall.com/cards/search?order=se...</td>\n",
       "      <td>expansion</td>\n",
       "      <td>https://api.scryfall.com/sets/grn</td>\n",
       "    </tr>\n",
       "    <tr>\n",
       "      <th>2018-08-09</th>\n",
       "      <td>NaN</td>\n",
       "      <td>NaN</td>\n",
       "      <td>307</td>\n",
       "      <td>c18</td>\n",
       "      <td>False</td>\n",
       "      <td>https://img.scryfall.com/sets/c18.svg?1541394000</td>\n",
       "      <td>Commander 2018</td>\n",
       "      <td>https://scryfall.com/sets/c18</td>\n",
       "      <td>https://api.scryfall.com/cards/search?order=se...</td>\n",
       "      <td>commander</td>\n",
       "      <td>https://api.scryfall.com/sets/c18</td>\n",
       "    </tr>\n",
       "    <tr>\n",
       "      <th>2018-07-13</th>\n",
       "      <td>NaN</td>\n",
       "      <td>NaN</td>\n",
       "      <td>314</td>\n",
       "      <td>m19</td>\n",
       "      <td>False</td>\n",
       "      <td>https://img.scryfall.com/sets/m19.svg?1541394000</td>\n",
       "      <td>Core Set 2019</td>\n",
       "      <td>https://scryfall.com/sets/m19</td>\n",
       "      <td>https://api.scryfall.com/cards/search?order=se...</td>\n",
       "      <td>core</td>\n",
       "      <td>https://api.scryfall.com/sets/m19</td>\n",
       "    </tr>\n",
       "    <tr>\n",
       "      <th>2018-06-22</th>\n",
       "      <td>NaN</td>\n",
       "      <td>NaN</td>\n",
       "      <td>41</td>\n",
       "      <td>gs1</td>\n",
       "      <td>False</td>\n",
       "      <td>https://img.scryfall.com/sets/gs1.svg?1541394000</td>\n",
       "      <td>Global Series Jiang Yanggu &amp; Mu Yanling</td>\n",
       "      <td>https://scryfall.com/sets/gs1</td>\n",
       "      <td>https://api.scryfall.com/cards/search?order=se...</td>\n",
       "      <td>duel_deck</td>\n",
       "      <td>https://api.scryfall.com/sets/gs1</td>\n",
       "    </tr>\n",
       "  </tbody>\n",
       "</table>\n",
       "</div>"
      ],
      "text/plain": [
       "                         block block_code  card_count code  foil_only  \\\n",
       "released_at                                                             \n",
       "2018-12-07                 NaN        NaN          41  uma      False   \n",
       "2018-10-05   Guilds of Ravnica        grn         273  grn      False   \n",
       "2018-08-09                 NaN        NaN         307  c18      False   \n",
       "2018-07-13                 NaN        NaN         314  m19      False   \n",
       "2018-06-22                 NaN        NaN          41  gs1      False   \n",
       "\n",
       "                                                 icon_svg_uri  \\\n",
       "released_at                                                     \n",
       "2018-12-07   https://img.scryfall.com/sets/uma.svg?1541394000   \n",
       "2018-10-05   https://img.scryfall.com/sets/grn.svg?1541394000   \n",
       "2018-08-09   https://img.scryfall.com/sets/c18.svg?1541394000   \n",
       "2018-07-13   https://img.scryfall.com/sets/m19.svg?1541394000   \n",
       "2018-06-22   https://img.scryfall.com/sets/gs1.svg?1541394000   \n",
       "\n",
       "                                                name  \\\n",
       "released_at                                            \n",
       "2018-12-07                          Ultimate Masters   \n",
       "2018-10-05                         Guilds of Ravnica   \n",
       "2018-08-09                            Commander 2018   \n",
       "2018-07-13                             Core Set 2019   \n",
       "2018-06-22   Global Series Jiang Yanggu & Mu Yanling   \n",
       "\n",
       "                              scryfall_uri  \\\n",
       "released_at                                  \n",
       "2018-12-07   https://scryfall.com/sets/uma   \n",
       "2018-10-05   https://scryfall.com/sets/grn   \n",
       "2018-08-09   https://scryfall.com/sets/c18   \n",
       "2018-07-13   https://scryfall.com/sets/m19   \n",
       "2018-06-22   https://scryfall.com/sets/gs1   \n",
       "\n",
       "                                                    search_uri   set_type  \\\n",
       "released_at                                                                 \n",
       "2018-12-07   https://api.scryfall.com/cards/search?order=se...    masters   \n",
       "2018-10-05   https://api.scryfall.com/cards/search?order=se...  expansion   \n",
       "2018-08-09   https://api.scryfall.com/cards/search?order=se...  commander   \n",
       "2018-07-13   https://api.scryfall.com/cards/search?order=se...       core   \n",
       "2018-06-22   https://api.scryfall.com/cards/search?order=se...  duel_deck   \n",
       "\n",
       "                                           uri  \n",
       "released_at                                     \n",
       "2018-12-07   https://api.scryfall.com/sets/uma  \n",
       "2018-10-05   https://api.scryfall.com/sets/grn  \n",
       "2018-08-09   https://api.scryfall.com/sets/c18  \n",
       "2018-07-13   https://api.scryfall.com/sets/m19  \n",
       "2018-06-22   https://api.scryfall.com/sets/gs1  "
      ]
     },
     "execution_count": 6,
     "metadata": {},
     "output_type": "execute_result"
    }
   ],
   "source": [
    "final_sets = sets_df[sets_df['code'].apply(lambda x: x not in sets_to_drop)]\n",
    "final_sets = final_sets[final_sets['set_type'].apply(lambda x: x not in types_to_drop)]\n",
    "final_sets.head()"
   ]
  },
  {
   "cell_type": "markdown",
   "metadata": {},
   "source": [
    "## Get Card Data"
   ]
  },
  {
   "cell_type": "code",
   "execution_count": 7,
   "metadata": {},
   "outputs": [],
   "source": [
    "# get 1 page\n",
    "link = 'https://api.scryfall.com/cards?page=1'\n",
    "response = requests.get(link)\n",
    "cards = response.json()['data']\n",
    "cards_df = pd.DataFrame(cards)"
   ]
  },
  {
   "cell_type": "code",
   "execution_count": 8,
   "metadata": {},
   "outputs": [
    {
     "name": "stdout",
     "output_type": "stream",
     "text": [
      "<class 'pandas.core.frame.DataFrame'>\n",
      "RangeIndex: 175 entries, 0 to 174\n",
      "Data columns (total 55 columns):\n",
      "all_parts            2 non-null object\n",
      "artist               175 non-null object\n",
      "border_color         175 non-null object\n",
      "card_faces           10 non-null object\n",
      "cmc                  175 non-null float64\n",
      "collector_number     175 non-null object\n",
      "color_identity       175 non-null object\n",
      "colors               165 non-null object\n",
      "colorshifted         175 non-null bool\n",
      "digital              175 non-null bool\n",
      "edhrec_rank          136 non-null float64\n",
      "eur                  14 non-null object\n",
      "flavor_text          78 non-null object\n",
      "foil                 175 non-null bool\n",
      "frame                175 non-null object\n",
      "full_art             175 non-null bool\n",
      "futureshifted        175 non-null bool\n",
      "highres_image        175 non-null bool\n",
      "id                   175 non-null object\n",
      "illustration_id      112 non-null object\n",
      "image_uris           165 non-null object\n",
      "lang                 175 non-null object\n",
      "layout               175 non-null object\n",
      "legalities           175 non-null object\n",
      "loyalty              4 non-null object\n",
      "mana_cost            165 non-null object\n",
      "multiverse_ids       175 non-null object\n",
      "name                 175 non-null object\n",
      "nonfoil              175 non-null bool\n",
      "object               175 non-null object\n",
      "oracle_id            175 non-null object\n",
      "oracle_text          165 non-null object\n",
      "oversized            175 non-null bool\n",
      "power                79 non-null object\n",
      "printed_name         6 non-null object\n",
      "printed_type_line    6 non-null object\n",
      "prints_search_uri    175 non-null object\n",
      "purchase_uris        175 non-null object\n",
      "rarity               175 non-null object\n",
      "related_uris         175 non-null object\n",
      "reprint              175 non-null bool\n",
      "reserved             175 non-null bool\n",
      "rulings_uri          175 non-null object\n",
      "scryfall_set_uri     175 non-null object\n",
      "scryfall_uri         175 non-null object\n",
      "set                  175 non-null object\n",
      "set_name             175 non-null object\n",
      "set_search_uri       175 non-null object\n",
      "set_uri              175 non-null object\n",
      "story_spotlight      175 non-null bool\n",
      "timeshifted          175 non-null bool\n",
      "toughness            79 non-null object\n",
      "type_line            175 non-null object\n",
      "uri                  175 non-null object\n",
      "watermark            8 non-null object\n",
      "dtypes: bool(12), float64(2), object(41)\n",
      "memory usage: 60.9+ KB\n"
     ]
    }
   ],
   "source": [
    "cards_df.info()"
   ]
  },
  {
   "cell_type": "code",
   "execution_count": 9,
   "metadata": {},
   "outputs": [
    {
     "name": "stdout",
     "output_type": "stream",
     "text": [
      "<class 'pandas.core.frame.DataFrame'>\n",
      "Index: 148 entries, ff92804a-0c62-4eb8-bbba-f1ca6f426b6e to 1895cf0c-9c2d-41f9-9819-7348ac9e25f0\n",
      "Data columns (total 54 columns):\n",
      "all_parts            0 non-null object\n",
      "artist               148 non-null object\n",
      "border_color         148 non-null object\n",
      "card_faces           0 non-null object\n",
      "cmc                  148 non-null float64\n",
      "collector_number     148 non-null object\n",
      "color_identity       148 non-null object\n",
      "colors               148 non-null object\n",
      "colorshifted         148 non-null bool\n",
      "digital              148 non-null bool\n",
      "edhrec_rank          136 non-null float64\n",
      "eur                  9 non-null object\n",
      "flavor_text          73 non-null object\n",
      "foil                 148 non-null bool\n",
      "frame                148 non-null object\n",
      "full_art             148 non-null bool\n",
      "futureshifted        148 non-null bool\n",
      "highres_image        148 non-null bool\n",
      "illustration_id      95 non-null object\n",
      "image_uris           148 non-null object\n",
      "lang                 148 non-null object\n",
      "layout               148 non-null object\n",
      "legalities           148 non-null object\n",
      "loyalty              4 non-null object\n",
      "mana_cost            148 non-null object\n",
      "multiverse_ids       148 non-null object\n",
      "name                 148 non-null object\n",
      "nonfoil              148 non-null bool\n",
      "object               148 non-null object\n",
      "oracle_id            148 non-null object\n",
      "oracle_text          148 non-null object\n",
      "oversized            148 non-null bool\n",
      "power                68 non-null object\n",
      "printed_name         0 non-null object\n",
      "printed_type_line    0 non-null object\n",
      "prints_search_uri    148 non-null object\n",
      "purchase_uris        148 non-null object\n",
      "rarity               148 non-null object\n",
      "related_uris         148 non-null object\n",
      "reprint              148 non-null bool\n",
      "reserved             148 non-null bool\n",
      "rulings_uri          148 non-null object\n",
      "scryfall_set_uri     148 non-null object\n",
      "scryfall_uri         148 non-null object\n",
      "set                  148 non-null object\n",
      "set_name             148 non-null object\n",
      "set_search_uri       148 non-null object\n",
      "set_uri              148 non-null object\n",
      "story_spotlight      148 non-null bool\n",
      "timeshifted          148 non-null bool\n",
      "toughness            68 non-null object\n",
      "type_line            148 non-null object\n",
      "uri                  148 non-null object\n",
      "watermark            2 non-null object\n",
      "dtypes: bool(12), float64(2), object(40)\n",
      "memory usage: 51.5+ KB\n"
     ]
    }
   ],
   "source": [
    "# Filters: not legal in vintage (tokens, joke cards, conspiracies, etc.), only english cards\n",
    "clean_cards = cards_df[(cards_df['legalities'].apply(lambda x: x['vintage']!='not_legal')) & (cards_df['lang']=='en')]\n",
    "clean_cards.set_index('id', inplace=True)\n",
    "clean_cards.info()"
   ]
  },
  {
   "cell_type": "code",
   "execution_count": 10,
   "metadata": {},
   "outputs": [],
   "source": [
    "# Features to keep\n",
    "MVP_features = [\n",
    "    'name',\n",
    "    'set_name',\n",
    "    'type_line',    \n",
    "    'mana_cost',\n",
    "    'rarity',\n",
    "    'oracle_text',\n",
    "    'power',\n",
    "    'toughness',\n",
    "    'loyalty',\n",
    "    'cmc',\n",
    "    'set',\n",
    "    'color_identity',\n",
    "    'colors',    \n",
    "    'reprint',\n",
    "    'layout',\n",
    "    'legalities',\n",
    "]\n",
    "\n",
    "misc_features = [\n",
    "    'all_parts',\n",
    "    'artist',\n",
    "    'border_color',\n",
    "    'card_faces',\n",
    "    'edhrec_rank',\n",
    "    'flavor_text',\n",
    "    'foil',\n",
    "    'nonfoil',\n",
    "    'full_art',\n",
    "    'watermark'    \n",
    "    'timeshifted',\n",
    "    'colorshifted',\n",
    "    'futureshifted',\n",
    "    'illustration_id',\n",
    "    'multiverse_ids',\n",
    "    'oracle_id',\n",
    "    'prints_search_uri',\n",
    "    'rulings_uri',\n",
    "    'set_search_uri',\n",
    "]"
   ]
  },
  {
   "cell_type": "code",
   "execution_count": 11,
   "metadata": {},
   "outputs": [
    {
     "data": {
      "text/html": [
       "<div>\n",
       "<style scoped>\n",
       "    .dataframe tbody tr th:only-of-type {\n",
       "        vertical-align: middle;\n",
       "    }\n",
       "\n",
       "    .dataframe tbody tr th {\n",
       "        vertical-align: top;\n",
       "    }\n",
       "\n",
       "    .dataframe thead th {\n",
       "        text-align: right;\n",
       "    }\n",
       "</style>\n",
       "<table border=\"1\" class=\"dataframe\">\n",
       "  <thead>\n",
       "    <tr style=\"text-align: right;\">\n",
       "      <th></th>\n",
       "      <th>name</th>\n",
       "      <th>set_name</th>\n",
       "      <th>type_line</th>\n",
       "      <th>mana_cost</th>\n",
       "      <th>rarity</th>\n",
       "      <th>oracle_text</th>\n",
       "      <th>power</th>\n",
       "      <th>toughness</th>\n",
       "      <th>loyalty</th>\n",
       "      <th>cmc</th>\n",
       "      <th>set</th>\n",
       "      <th>color_identity</th>\n",
       "      <th>colors</th>\n",
       "      <th>reprint</th>\n",
       "      <th>layout</th>\n",
       "      <th>legalities</th>\n",
       "    </tr>\n",
       "    <tr>\n",
       "      <th>id</th>\n",
       "      <th></th>\n",
       "      <th></th>\n",
       "      <th></th>\n",
       "      <th></th>\n",
       "      <th></th>\n",
       "      <th></th>\n",
       "      <th></th>\n",
       "      <th></th>\n",
       "      <th></th>\n",
       "      <th></th>\n",
       "      <th></th>\n",
       "      <th></th>\n",
       "      <th></th>\n",
       "      <th></th>\n",
       "      <th></th>\n",
       "      <th></th>\n",
       "    </tr>\n",
       "  </thead>\n",
       "  <tbody>\n",
       "    <tr>\n",
       "      <th>ff92804a-0c62-4eb8-bbba-f1ca6f426b6e</th>\n",
       "      <td>Urborg, Tomb of Yawgmoth</td>\n",
       "      <td>Ultimate Box Topper</td>\n",
       "      <td>Legendary Land</td>\n",
       "      <td></td>\n",
       "      <td>mythic</td>\n",
       "      <td>Each land is a Swamp in addition to its other ...</td>\n",
       "      <td>NaN</td>\n",
       "      <td>NaN</td>\n",
       "      <td>NaN</td>\n",
       "      <td>0.0</td>\n",
       "      <td>puma</td>\n",
       "      <td>[]</td>\n",
       "      <td>[]</td>\n",
       "      <td>True</td>\n",
       "      <td>normal</td>\n",
       "      <td>{'standard': 'not_legal', 'future': 'not_legal...</td>\n",
       "    </tr>\n",
       "    <tr>\n",
       "      <th>5e63fd70-ca5b-45fd-b551-9ebe02410e9c</th>\n",
       "      <td>Stirring Wildwood</td>\n",
       "      <td>Ultimate Box Topper</td>\n",
       "      <td>Land</td>\n",
       "      <td></td>\n",
       "      <td>mythic</td>\n",
       "      <td>Stirring Wildwood enters the battlefield tappe...</td>\n",
       "      <td>NaN</td>\n",
       "      <td>NaN</td>\n",
       "      <td>NaN</td>\n",
       "      <td>0.0</td>\n",
       "      <td>puma</td>\n",
       "      <td>[G, W]</td>\n",
       "      <td>[]</td>\n",
       "      <td>True</td>\n",
       "      <td>normal</td>\n",
       "      <td>{'standard': 'not_legal', 'future': 'not_legal...</td>\n",
       "    </tr>\n",
       "    <tr>\n",
       "      <th>54f41726-e0bb-4154-a2db-4b68b50f5032</th>\n",
       "      <td>Raging Ravine</td>\n",
       "      <td>Ultimate Box Topper</td>\n",
       "      <td>Land</td>\n",
       "      <td></td>\n",
       "      <td>mythic</td>\n",
       "      <td>Raging Ravine enters the battlefield tapped.\\n...</td>\n",
       "      <td>NaN</td>\n",
       "      <td>NaN</td>\n",
       "      <td>NaN</td>\n",
       "      <td>0.0</td>\n",
       "      <td>puma</td>\n",
       "      <td>[G, R]</td>\n",
       "      <td>[]</td>\n",
       "      <td>True</td>\n",
       "      <td>normal</td>\n",
       "      <td>{'standard': 'not_legal', 'future': 'not_legal...</td>\n",
       "    </tr>\n",
       "    <tr>\n",
       "      <th>7c9fb3d9-e018-4aa3-9c14-1a51fae176b4</th>\n",
       "      <td>Lavaclaw Reaches</td>\n",
       "      <td>Ultimate Box Topper</td>\n",
       "      <td>Land</td>\n",
       "      <td></td>\n",
       "      <td>mythic</td>\n",
       "      <td>Lavaclaw Reaches enters the battlefield tapped...</td>\n",
       "      <td>NaN</td>\n",
       "      <td>NaN</td>\n",
       "      <td>NaN</td>\n",
       "      <td>0.0</td>\n",
       "      <td>puma</td>\n",
       "      <td>[B, R]</td>\n",
       "      <td>[]</td>\n",
       "      <td>True</td>\n",
       "      <td>normal</td>\n",
       "      <td>{'standard': 'not_legal', 'future': 'not_legal...</td>\n",
       "    </tr>\n",
       "    <tr>\n",
       "      <th>ff790ded-af9f-4e93-84b7-ddadff5ccad4</th>\n",
       "      <td>Karakas</td>\n",
       "      <td>Ultimate Box Topper</td>\n",
       "      <td>Legendary Land</td>\n",
       "      <td></td>\n",
       "      <td>mythic</td>\n",
       "      <td>{T}: Add {W}.\\n{T}: Return target legendary cr...</td>\n",
       "      <td>NaN</td>\n",
       "      <td>NaN</td>\n",
       "      <td>NaN</td>\n",
       "      <td>0.0</td>\n",
       "      <td>puma</td>\n",
       "      <td>[W]</td>\n",
       "      <td>[]</td>\n",
       "      <td>True</td>\n",
       "      <td>normal</td>\n",
       "      <td>{'standard': 'not_legal', 'future': 'not_legal...</td>\n",
       "    </tr>\n",
       "  </tbody>\n",
       "</table>\n",
       "</div>"
      ],
      "text/plain": [
       "                                                          name  \\\n",
       "id                                                               \n",
       "ff92804a-0c62-4eb8-bbba-f1ca6f426b6e  Urborg, Tomb of Yawgmoth   \n",
       "5e63fd70-ca5b-45fd-b551-9ebe02410e9c         Stirring Wildwood   \n",
       "54f41726-e0bb-4154-a2db-4b68b50f5032             Raging Ravine   \n",
       "7c9fb3d9-e018-4aa3-9c14-1a51fae176b4          Lavaclaw Reaches   \n",
       "ff790ded-af9f-4e93-84b7-ddadff5ccad4                   Karakas   \n",
       "\n",
       "                                                 set_name       type_line  \\\n",
       "id                                                                          \n",
       "ff92804a-0c62-4eb8-bbba-f1ca6f426b6e  Ultimate Box Topper  Legendary Land   \n",
       "5e63fd70-ca5b-45fd-b551-9ebe02410e9c  Ultimate Box Topper            Land   \n",
       "54f41726-e0bb-4154-a2db-4b68b50f5032  Ultimate Box Topper            Land   \n",
       "7c9fb3d9-e018-4aa3-9c14-1a51fae176b4  Ultimate Box Topper            Land   \n",
       "ff790ded-af9f-4e93-84b7-ddadff5ccad4  Ultimate Box Topper  Legendary Land   \n",
       "\n",
       "                                     mana_cost  rarity  \\\n",
       "id                                                       \n",
       "ff92804a-0c62-4eb8-bbba-f1ca6f426b6e            mythic   \n",
       "5e63fd70-ca5b-45fd-b551-9ebe02410e9c            mythic   \n",
       "54f41726-e0bb-4154-a2db-4b68b50f5032            mythic   \n",
       "7c9fb3d9-e018-4aa3-9c14-1a51fae176b4            mythic   \n",
       "ff790ded-af9f-4e93-84b7-ddadff5ccad4            mythic   \n",
       "\n",
       "                                                                            oracle_text  \\\n",
       "id                                                                                        \n",
       "ff92804a-0c62-4eb8-bbba-f1ca6f426b6e  Each land is a Swamp in addition to its other ...   \n",
       "5e63fd70-ca5b-45fd-b551-9ebe02410e9c  Stirring Wildwood enters the battlefield tappe...   \n",
       "54f41726-e0bb-4154-a2db-4b68b50f5032  Raging Ravine enters the battlefield tapped.\\n...   \n",
       "7c9fb3d9-e018-4aa3-9c14-1a51fae176b4  Lavaclaw Reaches enters the battlefield tapped...   \n",
       "ff790ded-af9f-4e93-84b7-ddadff5ccad4  {T}: Add {W}.\\n{T}: Return target legendary cr...   \n",
       "\n",
       "                                     power toughness loyalty  cmc   set  \\\n",
       "id                                                                        \n",
       "ff92804a-0c62-4eb8-bbba-f1ca6f426b6e   NaN       NaN     NaN  0.0  puma   \n",
       "5e63fd70-ca5b-45fd-b551-9ebe02410e9c   NaN       NaN     NaN  0.0  puma   \n",
       "54f41726-e0bb-4154-a2db-4b68b50f5032   NaN       NaN     NaN  0.0  puma   \n",
       "7c9fb3d9-e018-4aa3-9c14-1a51fae176b4   NaN       NaN     NaN  0.0  puma   \n",
       "ff790ded-af9f-4e93-84b7-ddadff5ccad4   NaN       NaN     NaN  0.0  puma   \n",
       "\n",
       "                                     color_identity colors  reprint  layout  \\\n",
       "id                                                                            \n",
       "ff92804a-0c62-4eb8-bbba-f1ca6f426b6e             []     []     True  normal   \n",
       "5e63fd70-ca5b-45fd-b551-9ebe02410e9c         [G, W]     []     True  normal   \n",
       "54f41726-e0bb-4154-a2db-4b68b50f5032         [G, R]     []     True  normal   \n",
       "7c9fb3d9-e018-4aa3-9c14-1a51fae176b4         [B, R]     []     True  normal   \n",
       "ff790ded-af9f-4e93-84b7-ddadff5ccad4            [W]     []     True  normal   \n",
       "\n",
       "                                                                             legalities  \n",
       "id                                                                                       \n",
       "ff92804a-0c62-4eb8-bbba-f1ca6f426b6e  {'standard': 'not_legal', 'future': 'not_legal...  \n",
       "5e63fd70-ca5b-45fd-b551-9ebe02410e9c  {'standard': 'not_legal', 'future': 'not_legal...  \n",
       "54f41726-e0bb-4154-a2db-4b68b50f5032  {'standard': 'not_legal', 'future': 'not_legal...  \n",
       "7c9fb3d9-e018-4aa3-9c14-1a51fae176b4  {'standard': 'not_legal', 'future': 'not_legal...  \n",
       "ff790ded-af9f-4e93-84b7-ddadff5ccad4  {'standard': 'not_legal', 'future': 'not_legal...  "
      ]
     },
     "execution_count": 11,
     "metadata": {},
     "output_type": "execute_result"
    }
   ],
   "source": [
    "clean_cards[MVP_features].head()"
   ]
  },
  {
   "cell_type": "markdown",
   "metadata": {},
   "source": [
    "Next Step: Write loop into scraper, get all the cards! Get the hell off jupyter ntoebooK!"
   ]
  },
  {
   "cell_type": "markdown",
   "metadata": {},
   "source": [
    "### Formats\n",
    "Starting w/ modern:\n",
    "* Standard\n",
    "* Modern\n",
    "* Extended\n",
    "* Legacy\n",
    "* Vintage\n",
    "* Block Constructed (deprecated)\n",
    "* Extended (deprecated)\n",
    "* Commander\n",
    "* Casual"
   ]
  },
  {
   "cell_type": "markdown",
   "metadata": {},
   "source": [
    "Questions:\n",
    "    Should I only care about non foils?\n",
    "    Should I do reprint / set search on my own, or use the API? "
   ]
  },
  {
   "cell_type": "markdown",
   "metadata": {},
   "source": [
    "## Post-Scryfall Scrape: How do the cards look?"
   ]
  },
  {
   "cell_type": "code",
   "execution_count": 133,
   "metadata": {},
   "outputs": [
    {
     "name": "stdout",
     "output_type": "stream",
     "text": [
      "<class 'pandas.core.frame.DataFrame'>\n",
      "RangeIndex: 41291 entries, 0 to 41290\n",
      "Data columns (total 17 columns):\n",
      "id                41291 non-null object\n",
      "name              41291 non-null object\n",
      "set_name          41291 non-null object\n",
      "type_line         41291 non-null object\n",
      "mana_cost         36309 non-null object\n",
      "rarity            41291 non-null object\n",
      "oracle_text       40216 non-null object\n",
      "power             18913 non-null object\n",
      "toughness         18913 non-null object\n",
      "loyalty           306 non-null object\n",
      "cmc               41291 non-null float64\n",
      "set               41291 non-null object\n",
      "color_identity    41291 non-null object\n",
      "colors            41113 non-null object\n",
      "reprint           41291 non-null bool\n",
      "layout            41291 non-null object\n",
      "legalities        41291 non-null object\n",
      "dtypes: bool(1), float64(1), object(15)\n",
      "memory usage: 5.1+ MB\n"
     ]
    }
   ],
   "source": [
    "all_cards_df = pd.read_csv('all_vintage_cards.csv')\n",
    "all_cards_df.info()"
   ]
  },
  {
   "cell_type": "markdown",
   "metadata": {},
   "source": [
    "## MTGPrice Scraping"
   ]
  },
  {
   "cell_type": "code",
   "execution_count": 74,
   "metadata": {},
   "outputs": [
    {
     "name": "stderr",
     "output_type": "stream",
     "text": [
      "WARNING: Couldn't write lextab module <module 'slimit.lextab' from 'C:\\\\Users\\\\alexg\\\\Anaconda3\\\\lib\\\\site-packages\\\\slimit\\\\lextab.py'>. Won't overwrite existing lextab module\n",
      "WARNING: yacc table file version is out of date\n",
      "WARNING: Token 'BLOCK_COMMENT' defined, but not used\n",
      "WARNING: Token 'CLASS' defined, but not used\n",
      "WARNING: Token 'CONST' defined, but not used\n",
      "WARNING: Token 'ENUM' defined, but not used\n",
      "WARNING: Token 'EXPORT' defined, but not used\n",
      "WARNING: Token 'EXTENDS' defined, but not used\n",
      "WARNING: Token 'IMPORT' defined, but not used\n",
      "WARNING: Token 'LINE_COMMENT' defined, but not used\n",
      "WARNING: Token 'LINE_TERMINATOR' defined, but not used\n",
      "WARNING: Token 'SUPER' defined, but not used\n",
      "WARNING: There are 10 unused tokens\n",
      "WARNING: Couldn't create <module 'slimit.yacctab' from 'C:\\\\Users\\\\alexg\\\\Anaconda3\\\\lib\\\\site-packages\\\\slimit\\\\yacctab.py'>. Won't overwrite existing tabmodule\n"
     ]
    },
    {
     "name": "stdout",
     "output_type": "stream",
     "text": [
      "(1787, 2)\n"
     ]
    }
   ],
   "source": [
    "# trying slimit parser\n",
    "from slimit import ast\n",
    "from slimit.parser import Parser\n",
    "from slimit.visitors import nodevisitor\n",
    "\n",
    "# Turn card data into soup\n",
    "link = 'https://www.mtgprice.com/sets/Visions/Vampiric_Tutor'\n",
    "soup = BeautifulSoup(requests.get(link).content, 'html.parser')\n",
    "\n",
    "# GET RESULTS\n",
    "text_to_find = 'var results = ['\n",
    "history=[]\n",
    "for script in soup.findAll('script', type='text/javascript'):\n",
    "    if text_to_find in script.text:\n",
    "        parser = Parser()\n",
    "        tree = parser.parse(script.text)\n",
    "        for node in nodevisitor.visit(tree):\n",
    "            if isinstance(node, ast.Assign) and getattr(node.left, 'value', '') == \"\\\"data\\\"\":\n",
    "                for prices in node.right.items:\n",
    "                    history.append([prices.items[0].value,prices.items[1].value])\n",
    "                break\n",
    "print(np.array(history).shape)"
   ]
  },
  {
   "cell_type": "markdown",
   "metadata": {},
   "source": [
    "### Let's try a whole set"
   ]
  },
  {
   "cell_type": "code",
   "execution_count": 157,
   "metadata": {},
   "outputs": [],
   "source": [
    "def card_price_history(setname, cardname):\n",
    "    # Turn card data into soup\n",
    "    link = 'https://www.mtgprice.com/sets/' + '_'.join(setname.split()) + '/' + '_'.join(cardname.split())\n",
    "    soup = BeautifulSoup(requests.get(link).content, 'html.parser')\n",
    "\n",
    "    # GET RESULTS\n",
    "    text_to_find = 'var results = ['\n",
    "    history=[]\n",
    "    for script in soup.findAll('script', type='text/javascript'):\n",
    "        if text_to_find in script.text:\n",
    "            parser = Parser()\n",
    "            tree = parser.parse(script.text)\n",
    "            for node in nodevisitor.visit(tree):\n",
    "                if isinstance(node, ast.Assign) and getattr(node.left, 'value', '') == \"\\\"data\\\"\":\n",
    "                    for prices in node.right.items:\n",
    "                        history.append([prices.items[0].value,prices.items[1].value])\n",
    "                    break\n",
    "    return np.array(history)"
   ]
  },
  {
   "cell_type": "code",
   "execution_count": 130,
   "metadata": {},
   "outputs": [
    {
     "data": {
      "text/plain": [
       "array(['1541404800000', '14.93'], dtype='<U13')"
      ]
     },
     "execution_count": 130,
     "metadata": {},
     "output_type": "execute_result"
    }
   ],
   "source": [
    "hist_dict['Anvil of Bogardan'][-1]"
   ]
  },
  {
   "cell_type": "code",
   "execution_count": 142,
   "metadata": {},
   "outputs": [
    {
     "data": {
      "text/plain": [
       "['Rivals of Ixalan']"
      ]
     },
     "execution_count": 142,
     "metadata": {},
     "output_type": "execute_result"
    }
   ],
   "source": [
    "sets = [all_cards_df['set_name'].unique()[31]]\n",
    "sets"
   ]
  },
  {
   "cell_type": "code",
   "execution_count": 158,
   "metadata": {},
   "outputs": [
    {
     "name": "stdout",
     "output_type": "stream",
     "text": [
      "Rivals of Ixalan\n",
      "Cinder Barrens\n"
     ]
    },
    {
     "name": "stderr",
     "output_type": "stream",
     "text": [
      "WARNING: Couldn't write lextab module <module 'slimit.lextab' from 'C:\\\\Users\\\\alexg\\\\Anaconda3\\\\lib\\\\site-packages\\\\slimit\\\\lextab.py'>. Won't overwrite existing lextab module\n",
      "WARNING: yacc table file version is out of date\n",
      "WARNING: Token 'BLOCK_COMMENT' defined, but not used\n",
      "WARNING: Token 'CLASS' defined, but not used\n",
      "WARNING: Token 'CONST' defined, but not used\n",
      "WARNING: Token 'ENUM' defined, but not used\n",
      "WARNING: Token 'EXPORT' defined, but not used\n",
      "WARNING: Token 'EXTENDS' defined, but not used\n",
      "WARNING: Token 'IMPORT' defined, but not used\n",
      "WARNING: Token 'LINE_COMMENT' defined, but not used\n",
      "WARNING: Token 'LINE_TERMINATOR' defined, but not used\n",
      "WARNING: Token 'SUPER' defined, but not used\n",
      "WARNING: There are 10 unused tokens\n",
      "WARNING: Couldn't create <module 'slimit.yacctab' from 'C:\\\\Users\\\\alexg\\\\Anaconda3\\\\lib\\\\site-packages\\\\slimit\\\\yacctab.py'>. Won't overwrite existing tabmodule\n"
     ]
    },
    {
     "name": "stdout",
     "output_type": "stream",
     "text": [
      "Angrath's Fury\n"
     ]
    },
    {
     "name": "stderr",
     "output_type": "stream",
     "text": [
      "WARNING: Couldn't write lextab module <module 'slimit.lextab' from 'C:\\\\Users\\\\alexg\\\\Anaconda3\\\\lib\\\\site-packages\\\\slimit\\\\lextab.py'>. Won't overwrite existing lextab module\n",
      "WARNING: yacc table file version is out of date\n",
      "WARNING: Token 'BLOCK_COMMENT' defined, but not used\n",
      "WARNING: Token 'CLASS' defined, but not used\n",
      "WARNING: Token 'CONST' defined, but not used\n",
      "WARNING: Token 'ENUM' defined, but not used\n",
      "WARNING: Token 'EXPORT' defined, but not used\n",
      "WARNING: Token 'EXTENDS' defined, but not used\n",
      "WARNING: Token 'IMPORT' defined, but not used\n",
      "WARNING: Token 'LINE_COMMENT' defined, but not used\n",
      "WARNING: Token 'LINE_TERMINATOR' defined, but not used\n",
      "WARNING: Token 'SUPER' defined, but not used\n",
      "WARNING: There are 10 unused tokens\n",
      "WARNING: Couldn't create <module 'slimit.yacctab' from 'C:\\\\Users\\\\alexg\\\\Anaconda3\\\\lib\\\\site-packages\\\\slimit\\\\yacctab.py'>. Won't overwrite existing tabmodule\n"
     ]
    },
    {
     "name": "stdout",
     "output_type": "stream",
     "text": [
      "Swab Goblin\n"
     ]
    },
    {
     "name": "stderr",
     "output_type": "stream",
     "text": [
      "WARNING: Couldn't write lextab module <module 'slimit.lextab' from 'C:\\\\Users\\\\alexg\\\\Anaconda3\\\\lib\\\\site-packages\\\\slimit\\\\lextab.py'>. Won't overwrite existing lextab module\n",
      "WARNING: yacc table file version is out of date\n",
      "WARNING: Token 'BLOCK_COMMENT' defined, but not used\n",
      "WARNING: Token 'CLASS' defined, but not used\n",
      "WARNING: Token 'CONST' defined, but not used\n",
      "WARNING: Token 'ENUM' defined, but not used\n",
      "WARNING: Token 'EXPORT' defined, but not used\n",
      "WARNING: Token 'EXTENDS' defined, but not used\n",
      "WARNING: Token 'IMPORT' defined, but not used\n",
      "WARNING: Token 'LINE_COMMENT' defined, but not used\n",
      "WARNING: Token 'LINE_TERMINATOR' defined, but not used\n",
      "WARNING: Token 'SUPER' defined, but not used\n",
      "WARNING: There are 10 unused tokens\n",
      "WARNING: Couldn't create <module 'slimit.yacctab' from 'C:\\\\Users\\\\alexg\\\\Anaconda3\\\\lib\\\\site-packages\\\\slimit\\\\yacctab.py'>. Won't overwrite existing tabmodule\n"
     ]
    },
    {
     "name": "stdout",
     "output_type": "stream",
     "text": [
      "Angrath's Ambusher\n"
     ]
    },
    {
     "name": "stderr",
     "output_type": "stream",
     "text": [
      "WARNING: Couldn't write lextab module <module 'slimit.lextab' from 'C:\\\\Users\\\\alexg\\\\Anaconda3\\\\lib\\\\site-packages\\\\slimit\\\\lextab.py'>. Won't overwrite existing lextab module\n",
      "WARNING: yacc table file version is out of date\n",
      "WARNING: Token 'BLOCK_COMMENT' defined, but not used\n",
      "WARNING: Token 'CLASS' defined, but not used\n",
      "WARNING: Token 'CONST' defined, but not used\n",
      "WARNING: Token 'ENUM' defined, but not used\n",
      "WARNING: Token 'EXPORT' defined, but not used\n",
      "WARNING: Token 'EXTENDS' defined, but not used\n",
      "WARNING: Token 'IMPORT' defined, but not used\n",
      "WARNING: Token 'LINE_COMMENT' defined, but not used\n",
      "WARNING: Token 'LINE_TERMINATOR' defined, but not used\n",
      "WARNING: Token 'SUPER' defined, but not used\n",
      "WARNING: There are 10 unused tokens\n",
      "WARNING: Couldn't create <module 'slimit.yacctab' from 'C:\\\\Users\\\\alexg\\\\Anaconda3\\\\lib\\\\site-packages\\\\slimit\\\\yacctab.py'>. Won't overwrite existing tabmodule\n"
     ]
    },
    {
     "name": "stdout",
     "output_type": "stream",
     "text": [
      "Angrath, Minotaur Pirate\n"
     ]
    },
    {
     "name": "stderr",
     "output_type": "stream",
     "text": [
      "WARNING: Couldn't write lextab module <module 'slimit.lextab' from 'C:\\\\Users\\\\alexg\\\\Anaconda3\\\\lib\\\\site-packages\\\\slimit\\\\lextab.py'>. Won't overwrite existing lextab module\n",
      "WARNING: yacc table file version is out of date\n",
      "WARNING: Token 'BLOCK_COMMENT' defined, but not used\n",
      "WARNING: Token 'CLASS' defined, but not used\n",
      "WARNING: Token 'CONST' defined, but not used\n",
      "WARNING: Token 'ENUM' defined, but not used\n",
      "WARNING: Token 'EXPORT' defined, but not used\n",
      "WARNING: Token 'EXTENDS' defined, but not used\n",
      "WARNING: Token 'IMPORT' defined, but not used\n",
      "WARNING: Token 'LINE_COMMENT' defined, but not used\n",
      "WARNING: Token 'LINE_TERMINATOR' defined, but not used\n",
      "WARNING: Token 'SUPER' defined, but not used\n",
      "WARNING: There are 10 unused tokens\n",
      "WARNING: Couldn't create <module 'slimit.yacctab' from 'C:\\\\Users\\\\alexg\\\\Anaconda3\\\\lib\\\\site-packages\\\\slimit\\\\yacctab.py'>. Won't overwrite existing tabmodule\n"
     ]
    },
    {
     "name": "stdout",
     "output_type": "stream",
     "text": [
      "Vraska's Scorn\n"
     ]
    },
    {
     "name": "stderr",
     "output_type": "stream",
     "text": [
      "WARNING: Couldn't write lextab module <module 'slimit.lextab' from 'C:\\\\Users\\\\alexg\\\\Anaconda3\\\\lib\\\\site-packages\\\\slimit\\\\lextab.py'>. Won't overwrite existing lextab module\n",
      "WARNING: yacc table file version is out of date\n",
      "WARNING: Token 'BLOCK_COMMENT' defined, but not used\n",
      "WARNING: Token 'CLASS' defined, but not used\n",
      "WARNING: Token 'CONST' defined, but not used\n",
      "WARNING: Token 'ENUM' defined, but not used\n",
      "WARNING: Token 'EXPORT' defined, but not used\n",
      "WARNING: Token 'EXTENDS' defined, but not used\n",
      "WARNING: Token 'IMPORT' defined, but not used\n",
      "WARNING: Token 'LINE_COMMENT' defined, but not used\n",
      "WARNING: Token 'LINE_TERMINATOR' defined, but not used\n",
      "WARNING: Token 'SUPER' defined, but not used\n",
      "WARNING: There are 10 unused tokens\n",
      "WARNING: Couldn't create <module 'slimit.yacctab' from 'C:\\\\Users\\\\alexg\\\\Anaconda3\\\\lib\\\\site-packages\\\\slimit\\\\yacctab.py'>. Won't overwrite existing tabmodule\n"
     ]
    },
    {
     "name": "stdout",
     "output_type": "stream",
     "text": [
      "Vraska's Conquistador\n"
     ]
    },
    {
     "name": "stderr",
     "output_type": "stream",
     "text": [
      "WARNING: Couldn't write lextab module <module 'slimit.lextab' from 'C:\\\\Users\\\\alexg\\\\Anaconda3\\\\lib\\\\site-packages\\\\slimit\\\\lextab.py'>. Won't overwrite existing lextab module\n",
      "WARNING: yacc table file version is out of date\n",
      "WARNING: Token 'BLOCK_COMMENT' defined, but not used\n",
      "WARNING: Token 'CLASS' defined, but not used\n",
      "WARNING: Token 'CONST' defined, but not used\n",
      "WARNING: Token 'ENUM' defined, but not used\n",
      "WARNING: Token 'EXPORT' defined, but not used\n",
      "WARNING: Token 'EXTENDS' defined, but not used\n",
      "WARNING: Token 'IMPORT' defined, but not used\n",
      "WARNING: Token 'LINE_COMMENT' defined, but not used\n",
      "WARNING: Token 'LINE_TERMINATOR' defined, but not used\n",
      "WARNING: Token 'SUPER' defined, but not used\n",
      "WARNING: There are 10 unused tokens\n",
      "WARNING: Couldn't create <module 'slimit.yacctab' from 'C:\\\\Users\\\\alexg\\\\Anaconda3\\\\lib\\\\site-packages\\\\slimit\\\\yacctab.py'>. Won't overwrite existing tabmodule\n"
     ]
    },
    {
     "name": "stdout",
     "output_type": "stream",
     "text": [
      "Vampire Champion\n"
     ]
    },
    {
     "name": "stderr",
     "output_type": "stream",
     "text": [
      "WARNING: Couldn't write lextab module <module 'slimit.lextab' from 'C:\\\\Users\\\\alexg\\\\Anaconda3\\\\lib\\\\site-packages\\\\slimit\\\\lextab.py'>. Won't overwrite existing lextab module\n",
      "WARNING: yacc table file version is out of date\n",
      "WARNING: Token 'BLOCK_COMMENT' defined, but not used\n",
      "WARNING: Token 'CLASS' defined, but not used\n",
      "WARNING: Token 'CONST' defined, but not used\n",
      "WARNING: Token 'ENUM' defined, but not used\n",
      "WARNING: Token 'EXPORT' defined, but not used\n",
      "WARNING: Token 'EXTENDS' defined, but not used\n",
      "WARNING: Token 'IMPORT' defined, but not used\n",
      "WARNING: Token 'LINE_COMMENT' defined, but not used\n",
      "WARNING: Token 'LINE_TERMINATOR' defined, but not used\n",
      "WARNING: Token 'SUPER' defined, but not used\n",
      "WARNING: There are 10 unused tokens\n",
      "WARNING: Couldn't create <module 'slimit.yacctab' from 'C:\\\\Users\\\\alexg\\\\Anaconda3\\\\lib\\\\site-packages\\\\slimit\\\\yacctab.py'>. Won't overwrite existing tabmodule\n"
     ]
    },
    {
     "name": "stdout",
     "output_type": "stream",
     "text": [
      "Vraska, Scheming Gorgon\n"
     ]
    },
    {
     "name": "stderr",
     "output_type": "stream",
     "text": [
      "WARNING: Couldn't write lextab module <module 'slimit.lextab' from 'C:\\\\Users\\\\alexg\\\\Anaconda3\\\\lib\\\\site-packages\\\\slimit\\\\lextab.py'>. Won't overwrite existing lextab module\n",
      "WARNING: yacc table file version is out of date\n",
      "WARNING: Token 'BLOCK_COMMENT' defined, but not used\n",
      "WARNING: Token 'CLASS' defined, but not used\n",
      "WARNING: Token 'CONST' defined, but not used\n",
      "WARNING: Token 'ENUM' defined, but not used\n",
      "WARNING: Token 'EXPORT' defined, but not used\n",
      "WARNING: Token 'EXTENDS' defined, but not used\n",
      "WARNING: Token 'IMPORT' defined, but not used\n",
      "WARNING: Token 'LINE_COMMENT' defined, but not used\n",
      "WARNING: Token 'LINE_TERMINATOR' defined, but not used\n",
      "WARNING: Token 'SUPER' defined, but not used\n",
      "WARNING: There are 10 unused tokens\n",
      "WARNING: Couldn't create <module 'slimit.yacctab' from 'C:\\\\Users\\\\alexg\\\\Anaconda3\\\\lib\\\\site-packages\\\\slimit\\\\yacctab.py'>. Won't overwrite existing tabmodule\n"
     ]
    },
    {
     "name": "stdout",
     "output_type": "stream",
     "text": [
      "Forest\n"
     ]
    },
    {
     "name": "stderr",
     "output_type": "stream",
     "text": [
      "WARNING: Couldn't write lextab module <module 'slimit.lextab' from 'C:\\\\Users\\\\alexg\\\\Anaconda3\\\\lib\\\\site-packages\\\\slimit\\\\lextab.py'>. Won't overwrite existing lextab module\n",
      "WARNING: yacc table file version is out of date\n",
      "WARNING: Token 'BLOCK_COMMENT' defined, but not used\n",
      "WARNING: Token 'CLASS' defined, but not used\n",
      "WARNING: Token 'CONST' defined, but not used\n",
      "WARNING: Token 'ENUM' defined, but not used\n",
      "WARNING: Token 'EXPORT' defined, but not used\n",
      "WARNING: Token 'EXTENDS' defined, but not used\n",
      "WARNING: Token 'IMPORT' defined, but not used\n",
      "WARNING: Token 'LINE_COMMENT' defined, but not used\n",
      "WARNING: Token 'LINE_TERMINATOR' defined, but not used\n",
      "WARNING: Token 'SUPER' defined, but not used\n",
      "WARNING: There are 10 unused tokens\n",
      "WARNING: Couldn't create <module 'slimit.yacctab' from 'C:\\\\Users\\\\alexg\\\\Anaconda3\\\\lib\\\\site-packages\\\\slimit\\\\yacctab.py'>. Won't overwrite existing tabmodule\n"
     ]
    },
    {
     "name": "stdout",
     "output_type": "stream",
     "text": [
      "Mountain\n"
     ]
    },
    {
     "name": "stderr",
     "output_type": "stream",
     "text": [
      "WARNING: Couldn't write lextab module <module 'slimit.lextab' from 'C:\\\\Users\\\\alexg\\\\Anaconda3\\\\lib\\\\site-packages\\\\slimit\\\\lextab.py'>. Won't overwrite existing lextab module\n",
      "WARNING: yacc table file version is out of date\n",
      "WARNING: Token 'BLOCK_COMMENT' defined, but not used\n",
      "WARNING: Token 'CLASS' defined, but not used\n",
      "WARNING: Token 'CONST' defined, but not used\n",
      "WARNING: Token 'ENUM' defined, but not used\n",
      "WARNING: Token 'EXPORT' defined, but not used\n",
      "WARNING: Token 'EXTENDS' defined, but not used\n",
      "WARNING: Token 'IMPORT' defined, but not used\n",
      "WARNING: Token 'LINE_COMMENT' defined, but not used\n",
      "WARNING: Token 'LINE_TERMINATOR' defined, but not used\n",
      "WARNING: Token 'SUPER' defined, but not used\n",
      "WARNING: There are 10 unused tokens\n",
      "WARNING: Couldn't create <module 'slimit.yacctab' from 'C:\\\\Users\\\\alexg\\\\Anaconda3\\\\lib\\\\site-packages\\\\slimit\\\\yacctab.py'>. Won't overwrite existing tabmodule\n"
     ]
    },
    {
     "name": "stdout",
     "output_type": "stream",
     "text": [
      "Swamp\n"
     ]
    },
    {
     "name": "stderr",
     "output_type": "stream",
     "text": [
      "WARNING: Couldn't write lextab module <module 'slimit.lextab' from 'C:\\\\Users\\\\alexg\\\\Anaconda3\\\\lib\\\\site-packages\\\\slimit\\\\lextab.py'>. Won't overwrite existing lextab module\n",
      "WARNING: yacc table file version is out of date\n",
      "WARNING: Token 'BLOCK_COMMENT' defined, but not used\n",
      "WARNING: Token 'CLASS' defined, but not used\n",
      "WARNING: Token 'CONST' defined, but not used\n",
      "WARNING: Token 'ENUM' defined, but not used\n",
      "WARNING: Token 'EXPORT' defined, but not used\n",
      "WARNING: Token 'EXTENDS' defined, but not used\n",
      "WARNING: Token 'IMPORT' defined, but not used\n",
      "WARNING: Token 'LINE_COMMENT' defined, but not used\n",
      "WARNING: Token 'LINE_TERMINATOR' defined, but not used\n",
      "WARNING: Token 'SUPER' defined, but not used\n",
      "WARNING: There are 10 unused tokens\n",
      "WARNING: Couldn't create <module 'slimit.yacctab' from 'C:\\\\Users\\\\alexg\\\\Anaconda3\\\\lib\\\\site-packages\\\\slimit\\\\yacctab.py'>. Won't overwrite existing tabmodule\n"
     ]
    },
    {
     "name": "stdout",
     "output_type": "stream",
     "text": [
      "Island\n"
     ]
    },
    {
     "name": "stderr",
     "output_type": "stream",
     "text": [
      "WARNING: Couldn't write lextab module <module 'slimit.lextab' from 'C:\\\\Users\\\\alexg\\\\Anaconda3\\\\lib\\\\site-packages\\\\slimit\\\\lextab.py'>. Won't overwrite existing lextab module\n",
      "WARNING: yacc table file version is out of date\n",
      "WARNING: Token 'BLOCK_COMMENT' defined, but not used\n",
      "WARNING: Token 'CLASS' defined, but not used\n",
      "WARNING: Token 'CONST' defined, but not used\n",
      "WARNING: Token 'ENUM' defined, but not used\n",
      "WARNING: Token 'EXPORT' defined, but not used\n",
      "WARNING: Token 'EXTENDS' defined, but not used\n",
      "WARNING: Token 'IMPORT' defined, but not used\n",
      "WARNING: Token 'LINE_COMMENT' defined, but not used\n",
      "WARNING: Token 'LINE_TERMINATOR' defined, but not used\n",
      "WARNING: Token 'SUPER' defined, but not used\n",
      "WARNING: There are 10 unused tokens\n",
      "WARNING: Couldn't create <module 'slimit.yacctab' from 'C:\\\\Users\\\\alexg\\\\Anaconda3\\\\lib\\\\site-packages\\\\slimit\\\\yacctab.py'>. Won't overwrite existing tabmodule\n"
     ]
    },
    {
     "name": "stdout",
     "output_type": "stream",
     "text": [
      "Plains\n"
     ]
    },
    {
     "name": "stderr",
     "output_type": "stream",
     "text": [
      "WARNING: Couldn't write lextab module <module 'slimit.lextab' from 'C:\\\\Users\\\\alexg\\\\Anaconda3\\\\lib\\\\site-packages\\\\slimit\\\\lextab.py'>. Won't overwrite existing lextab module\n",
      "WARNING: yacc table file version is out of date\n",
      "WARNING: Token 'BLOCK_COMMENT' defined, but not used\n",
      "WARNING: Token 'CLASS' defined, but not used\n",
      "WARNING: Token 'CONST' defined, but not used\n",
      "WARNING: Token 'ENUM' defined, but not used\n",
      "WARNING: Token 'EXPORT' defined, but not used\n",
      "WARNING: Token 'EXTENDS' defined, but not used\n",
      "WARNING: Token 'IMPORT' defined, but not used\n",
      "WARNING: Token 'LINE_COMMENT' defined, but not used\n",
      "WARNING: Token 'LINE_TERMINATOR' defined, but not used\n",
      "WARNING: Token 'SUPER' defined, but not used\n",
      "WARNING: There are 10 unused tokens\n",
      "WARNING: Couldn't create <module 'slimit.yacctab' from 'C:\\\\Users\\\\alexg\\\\Anaconda3\\\\lib\\\\site-packages\\\\slimit\\\\yacctab.py'>. Won't overwrite existing tabmodule\n"
     ]
    },
    {
     "name": "stdout",
     "output_type": "stream",
     "text": [
      "Woodland Stream\n"
     ]
    },
    {
     "name": "stderr",
     "output_type": "stream",
     "text": [
      "WARNING: Couldn't write lextab module <module 'slimit.lextab' from 'C:\\\\Users\\\\alexg\\\\Anaconda3\\\\lib\\\\site-packages\\\\slimit\\\\lextab.py'>. Won't overwrite existing lextab module\n",
      "WARNING: yacc table file version is out of date\n",
      "WARNING: Token 'BLOCK_COMMENT' defined, but not used\n",
      "WARNING: Token 'CLASS' defined, but not used\n",
      "WARNING: Token 'CONST' defined, but not used\n",
      "WARNING: Token 'ENUM' defined, but not used\n",
      "WARNING: Token 'EXPORT' defined, but not used\n",
      "WARNING: Token 'EXTENDS' defined, but not used\n",
      "WARNING: Token 'IMPORT' defined, but not used\n",
      "WARNING: Token 'LINE_COMMENT' defined, but not used\n",
      "WARNING: Token 'LINE_TERMINATOR' defined, but not used\n",
      "WARNING: Token 'SUPER' defined, but not used\n",
      "WARNING: There are 10 unused tokens\n",
      "WARNING: Couldn't create <module 'slimit.yacctab' from 'C:\\\\Users\\\\alexg\\\\Anaconda3\\\\lib\\\\site-packages\\\\slimit\\\\yacctab.py'>. Won't overwrite existing tabmodule\n"
     ]
    },
    {
     "name": "stdout",
     "output_type": "stream",
     "text": [
      "Stone Quarry\n"
     ]
    },
    {
     "name": "stderr",
     "output_type": "stream",
     "text": [
      "WARNING: Couldn't write lextab module <module 'slimit.lextab' from 'C:\\\\Users\\\\alexg\\\\Anaconda3\\\\lib\\\\site-packages\\\\slimit\\\\lextab.py'>. Won't overwrite existing lextab module\n",
      "WARNING: yacc table file version is out of date\n",
      "WARNING: Token 'BLOCK_COMMENT' defined, but not used\n",
      "WARNING: Token 'CLASS' defined, but not used\n",
      "WARNING: Token 'CONST' defined, but not used\n",
      "WARNING: Token 'ENUM' defined, but not used\n",
      "WARNING: Token 'EXPORT' defined, but not used\n",
      "WARNING: Token 'EXTENDS' defined, but not used\n",
      "WARNING: Token 'IMPORT' defined, but not used\n",
      "WARNING: Token 'LINE_COMMENT' defined, but not used\n",
      "WARNING: Token 'LINE_TERMINATOR' defined, but not used\n",
      "WARNING: Token 'SUPER' defined, but not used\n",
      "WARNING: There are 10 unused tokens\n",
      "WARNING: Couldn't create <module 'slimit.yacctab' from 'C:\\\\Users\\\\alexg\\\\Anaconda3\\\\lib\\\\site-packages\\\\slimit\\\\yacctab.py'>. Won't overwrite existing tabmodule\n"
     ]
    },
    {
     "name": "stdout",
     "output_type": "stream",
     "text": [
      "Highland Lake\n"
     ]
    },
    {
     "name": "stderr",
     "output_type": "stream",
     "text": [
      "WARNING: Couldn't write lextab module <module 'slimit.lextab' from 'C:\\\\Users\\\\alexg\\\\Anaconda3\\\\lib\\\\site-packages\\\\slimit\\\\lextab.py'>. Won't overwrite existing lextab module\n",
      "WARNING: yacc table file version is out of date\n",
      "WARNING: Token 'BLOCK_COMMENT' defined, but not used\n",
      "WARNING: Token 'CLASS' defined, but not used\n",
      "WARNING: Token 'CONST' defined, but not used\n",
      "WARNING: Token 'ENUM' defined, but not used\n",
      "WARNING: Token 'EXPORT' defined, but not used\n",
      "WARNING: Token 'EXTENDS' defined, but not used\n",
      "WARNING: Token 'IMPORT' defined, but not used\n",
      "WARNING: Token 'LINE_COMMENT' defined, but not used\n",
      "WARNING: Token 'LINE_TERMINATOR' defined, but not used\n",
      "WARNING: Token 'SUPER' defined, but not used\n",
      "WARNING: There are 10 unused tokens\n",
      "WARNING: Couldn't create <module 'slimit.yacctab' from 'C:\\\\Users\\\\alexg\\\\Anaconda3\\\\lib\\\\site-packages\\\\slimit\\\\yacctab.py'>. Won't overwrite existing tabmodule\n"
     ]
    },
    {
     "name": "stdout",
     "output_type": "stream",
     "text": [
      "Foul Orchard\n"
     ]
    },
    {
     "name": "stderr",
     "output_type": "stream",
     "text": [
      "WARNING: Couldn't write lextab module <module 'slimit.lextab' from 'C:\\\\Users\\\\alexg\\\\Anaconda3\\\\lib\\\\site-packages\\\\slimit\\\\lextab.py'>. Won't overwrite existing lextab module\n",
      "WARNING: yacc table file version is out of date\n",
      "WARNING: Token 'BLOCK_COMMENT' defined, but not used\n",
      "WARNING: Token 'CLASS' defined, but not used\n",
      "WARNING: Token 'CONST' defined, but not used\n",
      "WARNING: Token 'ENUM' defined, but not used\n",
      "WARNING: Token 'EXPORT' defined, but not used\n",
      "WARNING: Token 'EXTENDS' defined, but not used\n",
      "WARNING: Token 'IMPORT' defined, but not used\n",
      "WARNING: Token 'LINE_COMMENT' defined, but not used\n",
      "WARNING: Token 'LINE_TERMINATOR' defined, but not used\n",
      "WARNING: Token 'SUPER' defined, but not used\n",
      "WARNING: There are 10 unused tokens\n",
      "WARNING: Couldn't create <module 'slimit.yacctab' from 'C:\\\\Users\\\\alexg\\\\Anaconda3\\\\lib\\\\site-packages\\\\slimit\\\\yacctab.py'>. Won't overwrite existing tabmodule\n"
     ]
    },
    {
     "name": "stdout",
     "output_type": "stream",
     "text": [
      "Forsaken Sanctuary\n"
     ]
    },
    {
     "name": "stderr",
     "output_type": "stream",
     "text": [
      "WARNING: Couldn't write lextab module <module 'slimit.lextab' from 'C:\\\\Users\\\\alexg\\\\Anaconda3\\\\lib\\\\site-packages\\\\slimit\\\\lextab.py'>. Won't overwrite existing lextab module\n",
      "WARNING: yacc table file version is out of date\n",
      "WARNING: Token 'BLOCK_COMMENT' defined, but not used\n",
      "WARNING: Token 'CLASS' defined, but not used\n",
      "WARNING: Token 'CONST' defined, but not used\n",
      "WARNING: Token 'ENUM' defined, but not used\n",
      "WARNING: Token 'EXPORT' defined, but not used\n",
      "WARNING: Token 'EXTENDS' defined, but not used\n",
      "WARNING: Token 'IMPORT' defined, but not used\n",
      "WARNING: Token 'LINE_COMMENT' defined, but not used\n",
      "WARNING: Token 'LINE_TERMINATOR' defined, but not used\n",
      "WARNING: Token 'SUPER' defined, but not used\n",
      "WARNING: There are 10 unused tokens\n",
      "WARNING: Couldn't create <module 'slimit.yacctab' from 'C:\\\\Users\\\\alexg\\\\Anaconda3\\\\lib\\\\site-packages\\\\slimit\\\\yacctab.py'>. Won't overwrite existing tabmodule\n"
     ]
    },
    {
     "name": "stdout",
     "output_type": "stream",
     "text": [
      "Evolving Wilds\n"
     ]
    },
    {
     "name": "stderr",
     "output_type": "stream",
     "text": [
      "WARNING: Couldn't write lextab module <module 'slimit.lextab' from 'C:\\\\Users\\\\alexg\\\\Anaconda3\\\\lib\\\\site-packages\\\\slimit\\\\lextab.py'>. Won't overwrite existing lextab module\n",
      "WARNING: yacc table file version is out of date\n",
      "WARNING: Token 'BLOCK_COMMENT' defined, but not used\n",
      "WARNING: Token 'CLASS' defined, but not used\n",
      "WARNING: Token 'CONST' defined, but not used\n",
      "WARNING: Token 'ENUM' defined, but not used\n",
      "WARNING: Token 'EXPORT' defined, but not used\n",
      "WARNING: Token 'EXTENDS' defined, but not used\n",
      "WARNING: Token 'IMPORT' defined, but not used\n",
      "WARNING: Token 'LINE_COMMENT' defined, but not used\n",
      "WARNING: Token 'LINE_TERMINATOR' defined, but not used\n",
      "WARNING: Token 'SUPER' defined, but not used\n",
      "WARNING: There are 10 unused tokens\n",
      "WARNING: Couldn't create <module 'slimit.yacctab' from 'C:\\\\Users\\\\alexg\\\\Anaconda3\\\\lib\\\\site-packages\\\\slimit\\\\yacctab.py'>. Won't overwrite existing tabmodule\n"
     ]
    },
    {
     "name": "stdout",
     "output_type": "stream",
     "text": [
      "Arch of Orazca\n"
     ]
    },
    {
     "name": "stderr",
     "output_type": "stream",
     "text": [
      "WARNING: Couldn't write lextab module <module 'slimit.lextab' from 'C:\\\\Users\\\\alexg\\\\Anaconda3\\\\lib\\\\site-packages\\\\slimit\\\\lextab.py'>. Won't overwrite existing lextab module\n",
      "WARNING: yacc table file version is out of date\n",
      "WARNING: Token 'BLOCK_COMMENT' defined, but not used\n",
      "WARNING: Token 'CLASS' defined, but not used\n",
      "WARNING: Token 'CONST' defined, but not used\n",
      "WARNING: Token 'ENUM' defined, but not used\n",
      "WARNING: Token 'EXPORT' defined, but not used\n",
      "WARNING: Token 'EXTENDS' defined, but not used\n",
      "WARNING: Token 'IMPORT' defined, but not used\n",
      "WARNING: Token 'LINE_COMMENT' defined, but not used\n",
      "WARNING: Token 'LINE_TERMINATOR' defined, but not used\n",
      "WARNING: Token 'SUPER' defined, but not used\n",
      "WARNING: There are 10 unused tokens\n",
      "WARNING: Couldn't create <module 'slimit.yacctab' from 'C:\\\\Users\\\\alexg\\\\Anaconda3\\\\lib\\\\site-packages\\\\slimit\\\\yacctab.py'>. Won't overwrite existing tabmodule\n"
     ]
    },
    {
     "name": "stdout",
     "output_type": "stream",
     "text": [
      "Traveler's Amulet\n"
     ]
    },
    {
     "name": "stderr",
     "output_type": "stream",
     "text": [
      "WARNING: Couldn't write lextab module <module 'slimit.lextab' from 'C:\\\\Users\\\\alexg\\\\Anaconda3\\\\lib\\\\site-packages\\\\slimit\\\\lextab.py'>. Won't overwrite existing lextab module\n",
      "WARNING: yacc table file version is out of date\n",
      "WARNING: Token 'BLOCK_COMMENT' defined, but not used\n",
      "WARNING: Token 'CLASS' defined, but not used\n",
      "WARNING: Token 'CONST' defined, but not used\n",
      "WARNING: Token 'ENUM' defined, but not used\n",
      "WARNING: Token 'EXPORT' defined, but not used\n",
      "WARNING: Token 'EXTENDS' defined, but not used\n",
      "WARNING: Token 'IMPORT' defined, but not used\n",
      "WARNING: Token 'LINE_COMMENT' defined, but not used\n",
      "WARNING: Token 'LINE_TERMINATOR' defined, but not used\n",
      "WARNING: Token 'SUPER' defined, but not used\n",
      "WARNING: There are 10 unused tokens\n",
      "WARNING: Couldn't create <module 'slimit.yacctab' from 'C:\\\\Users\\\\alexg\\\\Anaconda3\\\\lib\\\\site-packages\\\\slimit\\\\yacctab.py'>. Won't overwrite existing tabmodule\n"
     ]
    },
    {
     "name": "stdout",
     "output_type": "stream",
     "text": [
      "Strider Harness\n"
     ]
    },
    {
     "name": "stderr",
     "output_type": "stream",
     "text": [
      "WARNING: Couldn't write lextab module <module 'slimit.lextab' from 'C:\\\\Users\\\\alexg\\\\Anaconda3\\\\lib\\\\site-packages\\\\slimit\\\\lextab.py'>. Won't overwrite existing lextab module\n",
      "WARNING: yacc table file version is out of date\n",
      "WARNING: Token 'BLOCK_COMMENT' defined, but not used\n",
      "WARNING: Token 'CLASS' defined, but not used\n",
      "WARNING: Token 'CONST' defined, but not used\n",
      "WARNING: Token 'ENUM' defined, but not used\n",
      "WARNING: Token 'EXPORT' defined, but not used\n",
      "WARNING: Token 'EXTENDS' defined, but not used\n",
      "WARNING: Token 'IMPORT' defined, but not used\n",
      "WARNING: Token 'LINE_COMMENT' defined, but not used\n",
      "WARNING: Token 'LINE_TERMINATOR' defined, but not used\n",
      "WARNING: Token 'SUPER' defined, but not used\n",
      "WARNING: There are 10 unused tokens\n",
      "WARNING: Couldn't create <module 'slimit.yacctab' from 'C:\\\\Users\\\\alexg\\\\Anaconda3\\\\lib\\\\site-packages\\\\slimit\\\\yacctab.py'>. Won't overwrite existing tabmodule\n"
     ]
    },
    {
     "name": "stdout",
     "output_type": "stream",
     "text": [
      "Silent Gravestone\n"
     ]
    },
    {
     "name": "stderr",
     "output_type": "stream",
     "text": [
      "WARNING: Couldn't write lextab module <module 'slimit.lextab' from 'C:\\\\Users\\\\alexg\\\\Anaconda3\\\\lib\\\\site-packages\\\\slimit\\\\lextab.py'>. Won't overwrite existing lextab module\n",
      "WARNING: yacc table file version is out of date\n",
      "WARNING: Token 'BLOCK_COMMENT' defined, but not used\n",
      "WARNING: Token 'CLASS' defined, but not used\n",
      "WARNING: Token 'CONST' defined, but not used\n",
      "WARNING: Token 'ENUM' defined, but not used\n",
      "WARNING: Token 'EXPORT' defined, but not used\n",
      "WARNING: Token 'EXTENDS' defined, but not used\n",
      "WARNING: Token 'IMPORT' defined, but not used\n",
      "WARNING: Token 'LINE_COMMENT' defined, but not used\n",
      "WARNING: Token 'LINE_TERMINATOR' defined, but not used\n",
      "WARNING: Token 'SUPER' defined, but not used\n",
      "WARNING: There are 10 unused tokens\n",
      "WARNING: Couldn't create <module 'slimit.yacctab' from 'C:\\\\Users\\\\alexg\\\\Anaconda3\\\\lib\\\\site-packages\\\\slimit\\\\yacctab.py'>. Won't overwrite existing tabmodule\n"
     ]
    },
    {
     "name": "stdout",
     "output_type": "stream",
     "text": [
      "Orazca Relic\n"
     ]
    },
    {
     "name": "stderr",
     "output_type": "stream",
     "text": [
      "WARNING: Couldn't write lextab module <module 'slimit.lextab' from 'C:\\\\Users\\\\alexg\\\\Anaconda3\\\\lib\\\\site-packages\\\\slimit\\\\lextab.py'>. Won't overwrite existing lextab module\n",
      "WARNING: yacc table file version is out of date\n",
      "WARNING: Token 'BLOCK_COMMENT' defined, but not used\n",
      "WARNING: Token 'CLASS' defined, but not used\n",
      "WARNING: Token 'CONST' defined, but not used\n",
      "WARNING: Token 'ENUM' defined, but not used\n",
      "WARNING: Token 'EXPORT' defined, but not used\n",
      "WARNING: Token 'EXTENDS' defined, but not used\n",
      "WARNING: Token 'IMPORT' defined, but not used\n",
      "WARNING: Token 'LINE_COMMENT' defined, but not used\n",
      "WARNING: Token 'LINE_TERMINATOR' defined, but not used\n",
      "WARNING: Token 'SUPER' defined, but not used\n",
      "WARNING: There are 10 unused tokens\n",
      "WARNING: Couldn't create <module 'slimit.yacctab' from 'C:\\\\Users\\\\alexg\\\\Anaconda3\\\\lib\\\\site-packages\\\\slimit\\\\yacctab.py'>. Won't overwrite existing tabmodule\n"
     ]
    },
    {
     "name": "stdout",
     "output_type": "stream",
     "text": [
      "The Immortal Sun\n"
     ]
    },
    {
     "name": "stderr",
     "output_type": "stream",
     "text": [
      "WARNING: Couldn't write lextab module <module 'slimit.lextab' from 'C:\\\\Users\\\\alexg\\\\Anaconda3\\\\lib\\\\site-packages\\\\slimit\\\\lextab.py'>. Won't overwrite existing lextab module\n",
      "WARNING: yacc table file version is out of date\n",
      "WARNING: Token 'BLOCK_COMMENT' defined, but not used\n",
      "WARNING: Token 'CLASS' defined, but not used\n",
      "WARNING: Token 'CONST' defined, but not used\n",
      "WARNING: Token 'ENUM' defined, but not used\n",
      "WARNING: Token 'EXPORT' defined, but not used\n",
      "WARNING: Token 'EXTENDS' defined, but not used\n",
      "WARNING: Token 'IMPORT' defined, but not used\n",
      "WARNING: Token 'LINE_COMMENT' defined, but not used\n",
      "WARNING: Token 'LINE_TERMINATOR' defined, but not used\n",
      "WARNING: Token 'SUPER' defined, but not used\n",
      "WARNING: There are 10 unused tokens\n",
      "WARNING: Couldn't create <module 'slimit.yacctab' from 'C:\\\\Users\\\\alexg\\\\Anaconda3\\\\lib\\\\site-packages\\\\slimit\\\\yacctab.py'>. Won't overwrite existing tabmodule\n"
     ]
    },
    {
     "name": "stdout",
     "output_type": "stream",
     "text": [
      "Golden Guardian // Gold-Forge Garrison\n"
     ]
    },
    {
     "name": "stderr",
     "output_type": "stream",
     "text": [
      "WARNING: Couldn't write lextab module <module 'slimit.lextab' from 'C:\\\\Users\\\\alexg\\\\Anaconda3\\\\lib\\\\site-packages\\\\slimit\\\\lextab.py'>. Won't overwrite existing lextab module\n",
      "WARNING: yacc table file version is out of date\n",
      "WARNING: Token 'BLOCK_COMMENT' defined, but not used\n",
      "WARNING: Token 'CLASS' defined, but not used\n",
      "WARNING: Token 'CONST' defined, but not used\n",
      "WARNING: Token 'ENUM' defined, but not used\n",
      "WARNING: Token 'EXPORT' defined, but not used\n",
      "WARNING: Token 'EXTENDS' defined, but not used\n",
      "WARNING: Token 'IMPORT' defined, but not used\n",
      "WARNING: Token 'LINE_COMMENT' defined, but not used\n",
      "WARNING: Token 'LINE_TERMINATOR' defined, but not used\n",
      "WARNING: Token 'SUPER' defined, but not used\n",
      "WARNING: There are 10 unused tokens\n",
      "WARNING: Couldn't create <module 'slimit.yacctab' from 'C:\\\\Users\\\\alexg\\\\Anaconda3\\\\lib\\\\site-packages\\\\slimit\\\\yacctab.py'>. Won't overwrite existing tabmodule\n"
     ]
    },
    {
     "ename": "AttributeError",
     "evalue": "'Null' object has no attribute 'items'",
     "output_type": "error",
     "traceback": [
      "\u001b[1;31m---------------------------------------------------------------------------\u001b[0m",
      "\u001b[1;31mAttributeError\u001b[0m                            Traceback (most recent call last)",
      "\u001b[1;32m<ipython-input-158-2315ef1dc29c>\u001b[0m in \u001b[0;36m<module>\u001b[1;34m()\u001b[0m\n\u001b[0;32m      6\u001b[0m     \u001b[1;32mfor\u001b[0m \u001b[0mcardname\u001b[0m \u001b[1;32min\u001b[0m \u001b[0mcards\u001b[0m\u001b[1;33m:\u001b[0m\u001b[1;33m\u001b[0m\u001b[0m\n\u001b[0;32m      7\u001b[0m         \u001b[0mprint\u001b[0m\u001b[1;33m(\u001b[0m\u001b[0mcardname\u001b[0m\u001b[1;33m)\u001b[0m\u001b[1;33m\u001b[0m\u001b[0m\n\u001b[1;32m----> 8\u001b[1;33m         \u001b[0mhistory\u001b[0m \u001b[1;33m=\u001b[0m \u001b[0mcard_price_history\u001b[0m\u001b[1;33m(\u001b[0m\u001b[0msetname\u001b[0m\u001b[1;33m,\u001b[0m \u001b[0mcardname\u001b[0m\u001b[1;33m)\u001b[0m\u001b[1;33m\u001b[0m\u001b[0m\n\u001b[0m\u001b[0;32m      9\u001b[0m         \u001b[0mcard_dict\u001b[0m\u001b[1;33m[\u001b[0m\u001b[0mcardname\u001b[0m\u001b[1;33m]\u001b[0m \u001b[1;33m=\u001b[0m \u001b[0mhistory\u001b[0m\u001b[1;33m\u001b[0m\u001b[0m\n\u001b[0;32m     10\u001b[0m     \u001b[0mset_dict\u001b[0m\u001b[1;33m[\u001b[0m\u001b[0msetname\u001b[0m\u001b[1;33m]\u001b[0m \u001b[1;33m=\u001b[0m \u001b[0mcard_dict\u001b[0m\u001b[1;33m\u001b[0m\u001b[0m\n",
      "\u001b[1;32m<ipython-input-157-ffabab8535ad>\u001b[0m in \u001b[0;36mcard_price_history\u001b[1;34m(setname, cardname)\u001b[0m\n\u001b[0;32m     13\u001b[0m             \u001b[1;32mfor\u001b[0m \u001b[0mnode\u001b[0m \u001b[1;32min\u001b[0m \u001b[0mnodevisitor\u001b[0m\u001b[1;33m.\u001b[0m\u001b[0mvisit\u001b[0m\u001b[1;33m(\u001b[0m\u001b[0mtree\u001b[0m\u001b[1;33m)\u001b[0m\u001b[1;33m:\u001b[0m\u001b[1;33m\u001b[0m\u001b[0m\n\u001b[0;32m     14\u001b[0m                 \u001b[1;32mif\u001b[0m \u001b[0misinstance\u001b[0m\u001b[1;33m(\u001b[0m\u001b[0mnode\u001b[0m\u001b[1;33m,\u001b[0m \u001b[0mast\u001b[0m\u001b[1;33m.\u001b[0m\u001b[0mAssign\u001b[0m\u001b[1;33m)\u001b[0m \u001b[1;32mand\u001b[0m \u001b[0mgetattr\u001b[0m\u001b[1;33m(\u001b[0m\u001b[0mnode\u001b[0m\u001b[1;33m.\u001b[0m\u001b[0mleft\u001b[0m\u001b[1;33m,\u001b[0m \u001b[1;34m'value'\u001b[0m\u001b[1;33m,\u001b[0m \u001b[1;34m''\u001b[0m\u001b[1;33m)\u001b[0m \u001b[1;33m==\u001b[0m \u001b[1;34m\"\\\"data\\\"\"\u001b[0m\u001b[1;33m:\u001b[0m\u001b[1;33m\u001b[0m\u001b[0m\n\u001b[1;32m---> 15\u001b[1;33m                     \u001b[1;32mfor\u001b[0m \u001b[0mprices\u001b[0m \u001b[1;32min\u001b[0m \u001b[0mnode\u001b[0m\u001b[1;33m.\u001b[0m\u001b[0mright\u001b[0m\u001b[1;33m.\u001b[0m\u001b[0mitems\u001b[0m\u001b[1;33m:\u001b[0m\u001b[1;33m\u001b[0m\u001b[0m\n\u001b[0m\u001b[0;32m     16\u001b[0m                         \u001b[0mhistory\u001b[0m\u001b[1;33m.\u001b[0m\u001b[0mappend\u001b[0m\u001b[1;33m(\u001b[0m\u001b[1;33m[\u001b[0m\u001b[0mprices\u001b[0m\u001b[1;33m.\u001b[0m\u001b[0mitems\u001b[0m\u001b[1;33m[\u001b[0m\u001b[1;36m0\u001b[0m\u001b[1;33m]\u001b[0m\u001b[1;33m.\u001b[0m\u001b[0mvalue\u001b[0m\u001b[1;33m,\u001b[0m\u001b[0mprices\u001b[0m\u001b[1;33m.\u001b[0m\u001b[0mitems\u001b[0m\u001b[1;33m[\u001b[0m\u001b[1;36m1\u001b[0m\u001b[1;33m]\u001b[0m\u001b[1;33m.\u001b[0m\u001b[0mvalue\u001b[0m\u001b[1;33m]\u001b[0m\u001b[1;33m)\u001b[0m\u001b[1;33m\u001b[0m\u001b[0m\n\u001b[0;32m     17\u001b[0m                     \u001b[1;32mbreak\u001b[0m\u001b[1;33m\u001b[0m\u001b[0m\n",
      "\u001b[1;31mAttributeError\u001b[0m: 'Null' object has no attribute 'items'"
     ]
    }
   ],
   "source": [
    "set_dict = {}\n",
    "for setname in sets:\n",
    "    print(setname)\n",
    "    cards = all_cards_df[all_cards_df['set_name'] == setname]['name'].values\n",
    "    card_dict = {}\n",
    "    for cardname in cards:\n",
    "        print(cardname)\n",
    "        history = card_price_history(setname, cardname)\n",
    "        card_dict[cardname] = history\n",
    "    set_dict[setname] = card_dict\n",
    "    \n",
    "print(set_dict)\n",
    "        "
   ]
  },
  {
   "cell_type": "code",
   "execution_count": 153,
   "metadata": {},
   "outputs": [
    {
     "data": {
      "text/plain": [
       "array(['Cinder Barrens', \"Angrath's Fury\", 'Swab Goblin',\n",
       "       \"Angrath's Ambusher\", 'Angrath, Minotaur Pirate', \"Vraska's Scorn\",\n",
       "       \"Vraska's Conquistador\", 'Vampire Champion',\n",
       "       'Vraska, Scheming Gorgon', 'Forest', 'Mountain', 'Swamp', 'Island',\n",
       "       'Plains', 'Woodland Stream', 'Stone Quarry', 'Highland Lake',\n",
       "       'Foul Orchard', 'Forsaken Sanctuary', 'Evolving Wilds',\n",
       "       'Arch of Orazca', \"Traveler's Amulet\", 'Strider Harness',\n",
       "       'Silent Gravestone', 'Orazca Relic', 'The Immortal Sun',\n",
       "       'Golden Guardian // Gold-Forge Garrison', 'Gleaming Barrier',\n",
       "       \"Captain's Hook\", \"Azor's Gateway // Sanctum of the Sun\",\n",
       "       'Awakened Amalgam', 'Zacama, Primal Calamity',\n",
       "       'Storm the Vault // Vault of Catlacan', 'Storm Fleet Sprinter',\n",
       "       'Siegehorn Ceratops', 'Resplendent Griffin', 'Relentless Raptor',\n",
       "       'Raging Regisaur', 'Protean Raider',\n",
       "       'Profane Procession // Tomb of the Dusk Rose',\n",
       "       'Path of Mettle // Metzali, Tower of Triumph',\n",
       "       'Merfolk Mistbinder', 'Legion Lieutenant',\n",
       "       'Kumena, Tyrant of Orazca', 'Jungle Creeper',\n",
       "       'Journey to Eternity // Atzal, Cave of Eternity',\n",
       "       'Huatli, Radiant Champion',\n",
       "       \"Hadana's Climb // Winged Temple of Orazca\",\n",
       "       'Elenda, the Dusk Rose', 'Dire Fleet Neckbreaker',\n",
       "       'Deadeye Brawler', 'Azor, the Lawbringer', 'Atzocan Seer',\n",
       "       'Angrath, the Flame-Chained', 'World Shaper', 'Wayward Swordtooth',\n",
       "       'Thunderherd Migration', 'Thrashing Brontodon',\n",
       "       'Tendershoot Dryad', 'Swift Warden', 'Strength of the Pack',\n",
       "       'Polyraptor', 'Plummet', 'Path of Discovery', 'Overgrown Armasaur',\n",
       "       'Orazca Frillback', 'Naturalize', 'Knight of the Stampede',\n",
       "       'Jungleborn Pioneer', 'Jadelight Ranger', 'Jadecraft Artisan',\n",
       "       'Jade Bearer', 'Hunt the Weak', 'Hardy Veteran',\n",
       "       'Giltgrove Stalker', 'Ghalta, Primal Hunger',\n",
       "       'Forerunner of the Heralds', 'Enter the Unknown', 'Deeproot Elite',\n",
       "       'Crested Herdcaller', 'Colossal Dreadmaw', 'Cherished Hatchling',\n",
       "       'Cacophodon', 'Aggressive Urge', \"Tilonalli's Summoner\",\n",
       "       \"Tilonalli's Crown\", 'Swaggering Corsair', 'Sun-Collared Raptor',\n",
       "       'Storm Fleet Swashbuckler', 'Stampeding Horncrest',\n",
       "       'Silverclad Ferocidons', 'Shatter', 'Shake the Foundations',\n",
       "       'See Red', 'Rekindling Phoenix', 'Reckless Rage',\n",
       "       \"Pirate's Pillage\", 'Orazca Raptor', 'Needletooth Raptor',\n",
       "       'Mutiny', 'Goblin Trailblazer', 'Frilled Deathspitter',\n",
       "       'Form of the Dinosaur', 'Forerunner of the Empire',\n",
       "       'Fanatical Firebrand', 'Etali, Primal Storm',\n",
       "       'Dire Fleet Daredevil', 'Daring Buccaneer', 'Charging Tuskodon',\n",
       "       \"Buccaneer's Bravado\", 'Brazen Freebooter', \"Brass's Bounty\",\n",
       "       'Bombard', 'Blood Sun', 'Voracious Vampire', \"Vona's Hunger\",\n",
       "       'Vampire Revenant', 'Twilight Prophet', 'Tomb Robber',\n",
       "       'Tetzimoc, Primal Death', 'Sadistic Skymarcher', 'Recover',\n",
       "       'Reaver Ambush', 'Ravenous Chupacabra', 'Pitiless Plunderer',\n",
       "       'Oathsworn Vampire', 'Moment of Craving', 'Mausoleum Harpy',\n",
       "       \"Mastermind's Acquisition\", 'Impale', 'Gruesome Fate',\n",
       "       'Grasping Scoundrel', 'Golden Demise',\n",
       "       'Forerunner of the Coalition', 'Fathom Fleet Boarder',\n",
       "       'Dusk Legion Zealot', 'Dusk Charger', 'Dire Fleet Poisoner',\n",
       "       'Dinosaur Hunter', \"Dead Man's Chest\", 'Dark Inquiry',\n",
       "       'Champion of Dusk', 'Canal Monitor', 'Arterial Flow', 'Waterknot',\n",
       "       'Warkite Marauder', 'Timestream Navigator', 'Sworn Guardian',\n",
       "       'Spire Winder', 'Soul of the Rapids', 'Slippery Scoundrel',\n",
       "       'Siren Reaver', 'Silvergill Adept', 'Secrets of the Golden City',\n",
       "       'Seafloor Oracle', 'Sea Legs', 'Sailor of Means',\n",
       "       'Riverwise Augur', 'River Darter', 'Release to the Wind',\n",
       "       'Nezahal, Primal Tide', 'Negate', 'Mist-Cloaked Herald',\n",
       "       \"Kumena's Awakening\", 'Kitesail Corsair', 'Induced Amnesia',\n",
       "       'Hornswoggle', 'Flood of Recollection', 'Expel from Orazca',\n",
       "       'Deadeye Rig-Hauler', 'Curious Obsession', 'Crashing Tide',\n",
       "       'Crafty Cutpurse', 'Aquatic Incursion', \"Admiral's Order\",\n",
       "       'Zetalpa, Primal Dawn', 'Trapjaw Tyrant', 'Temple Altisaur',\n",
       "       'Sun-Crested Pterodon', 'Sun Sentinel', \"Squire's Devotion\",\n",
       "       \"Sphinx's Decree\", 'Snubhorn Sentry', 'Slaughter the Strong',\n",
       "       'Skymarcher Aspirant', 'Sanguine Glorifier', 'Raptor Companion',\n",
       "       'Radiant Destiny', 'Pride of Conquerors', 'Paladin of Atonement',\n",
       "       'Moment of Triumph', 'Martyr of Dusk', 'Majestic Heliopterus',\n",
       "       'Luminous Bonds', 'Legion Conquistador', 'Imperial Ceratops',\n",
       "       'Forerunner of the Legion', 'Famished Paladin',\n",
       "       'Exultant Skymarcher', 'Everdawn Champion', 'Divine Verdict',\n",
       "       'Cleansing Ray', 'Blazing Hope', 'Bishop of Binding',\n",
       "       'Baffling End'], dtype=object)"
      ]
     },
     "execution_count": 153,
     "metadata": {},
     "output_type": "execute_result"
    }
   ],
   "source": [
    "all_cards_df[all_cards_df['set_name'] == 'Rivals of Ixalan']['name'].values"
   ]
  },
  {
   "cell_type": "code",
   "execution_count": null,
   "metadata": {},
   "outputs": [],
   "source": []
  }
 ],
 "metadata": {
  "kernelspec": {
   "display_name": "Python 3",
   "language": "python",
   "name": "python3"
  },
  "language_info": {
   "codemirror_mode": {
    "name": "ipython",
    "version": 3
   },
   "file_extension": ".py",
   "mimetype": "text/x-python",
   "name": "python",
   "nbconvert_exporter": "python",
   "pygments_lexer": "ipython3",
   "version": "3.6.5"
  }
 },
 "nbformat": 4,
 "nbformat_minor": 2
}
