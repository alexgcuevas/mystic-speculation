{
 "cells": [
  {
   "cell_type": "markdown",
   "metadata": {},
   "source": [
    "# Getting Started"
   ]
  },
  {
   "cell_type": "markdown",
   "metadata": {},
   "source": [
    "Scryfall API:\n",
    "\"We kindly ask that you insert 50 – 100 milliseconds of delay between the requests you send to the server. (i.e., 10 requests per second on average).\""
   ]
  },
  {
   "cell_type": "code",
   "execution_count": null,
   "metadata": {},
   "outputs": [],
   "source": [
    "# import all the things\n",
    "import numpy as np\n",
    "import pandas as pd\n",
    "import json, requests, pickle\n",
    "from bs4 import BeautifulSoup"
   ]
  },
  {
   "cell_type": "code",
   "execution_count": null,
   "metadata": {},
   "outputs": [],
   "source": [
    "# Get setlist into dataframe\n",
    "link = 'https://api.scryfall.com/sets'\n",
    "response = requests.get(link)\n",
    "sets = response.json()['data']\n",
    "sets_df = pd.DataFrame(sets)"
   ]
  },
  {
   "cell_type": "markdown",
   "metadata": {},
   "source": [
    "## Clean up set data "
   ]
  },
  {
   "cell_type": "code",
   "execution_count": null,
   "metadata": {},
   "outputs": [],
   "source": [
    "# Ignore sets with no release date (likely promotional / outliers), set release date to index\n",
    "sets_df.dropna(subset=['released_at'], inplace=True)\n",
    "sets_df.set_index('released_at', inplace=True)\n",
    "\n",
    "# Remove repetitive information and online data\n",
    "sets_df.drop(['digital','mtgo_code','parent_set_code','object'], axis=1, inplace=True)"
   ]
  },
  {
   "cell_type": "code",
   "execution_count": null,
   "metadata": {},
   "outputs": [],
   "source": [
    "# Make even cleaner for ease of exploration\n",
    "clean_df = sets_df[['name','code','block_code','card_count','set_type']]\n",
    "clean_df['set_type'].unique()"
   ]
  },
  {
   "cell_type": "code",
   "execution_count": null,
   "metadata": {},
   "outputs": [],
   "source": [
    "# after extensive manual checking of set legality / onlineness\n",
    "sets_to_drop = [\n",
    "    'me1',\n",
    "    'me2',\n",
    "    'me3',\n",
    "    'me4',\n",
    "    'vma',\n",
    "    'tpr',\n",
    "    'e02',\n",
    "    'gnt',\n",
    "    'td0',\n",
    "    'mgb',\n",
    "    'ana',\n",
    "    'w17',\n",
    "    'w16',\n",
    "    'itp'\n",
    "]\n",
    "types_to_drop = [\n",
    "    'memorabilia',\n",
    "    'funny',\n",
    "    'treasure_chest'\n",
    "]"
   ]
  },
  {
   "cell_type": "code",
   "execution_count": null,
   "metadata": {},
   "outputs": [],
   "source": [
    "final_sets = sets_df[sets_df['code'].apply(lambda x: x not in sets_to_drop)]\n",
    "final_sets = final_sets[final_sets['set_type'].apply(lambda x: x not in types_to_drop)]\n",
    "final_sets.head()"
   ]
  },
  {
   "cell_type": "markdown",
   "metadata": {},
   "source": [
    "## Get Card Data"
   ]
  },
  {
   "cell_type": "code",
   "execution_count": null,
   "metadata": {},
   "outputs": [],
   "source": [
    "# get 1 page\n",
    "link = 'https://api.scryfall.com/cards?page=1'\n",
    "response = requests.get(link)\n",
    "cards = response.json()['data']\n",
    "cards_df = pd.DataFrame(cards)"
   ]
  },
  {
   "cell_type": "code",
   "execution_count": null,
   "metadata": {},
   "outputs": [],
   "source": [
    "cards_df.info()"
   ]
  },
  {
   "cell_type": "code",
   "execution_count": null,
   "metadata": {},
   "outputs": [],
   "source": [
    "# Filters: not legal in vintage (tokens, joke cards, conspiracies, etc.), only english cards\n",
    "clean_cards = cards_df[(cards_df['legalities'].apply(lambda x: x['vintage']!='not_legal')) & (cards_df['lang']=='en')]\n",
    "clean_cards.set_index('id', inplace=True)\n",
    "clean_cards.info()"
   ]
  },
  {
   "cell_type": "code",
   "execution_count": null,
   "metadata": {},
   "outputs": [],
   "source": [
    "# Features to keep\n",
    "MVP_features = [\n",
    "    'name',\n",
    "    'set_name',\n",
    "    'type_line',    \n",
    "    'mana_cost',\n",
    "    'rarity',\n",
    "    'oracle_text',\n",
    "    'power',\n",
    "    'toughness',\n",
    "    'loyalty',\n",
    "    'cmc',\n",
    "    'set',\n",
    "    'color_identity',\n",
    "    'colors',    \n",
    "    'reprint',\n",
    "    'layout',\n",
    "    'legalities',\n",
    "]\n",
    "\n",
    "misc_features = [\n",
    "    'all_parts',\n",
    "    'artist',\n",
    "    'border_color',\n",
    "    'card_faces',\n",
    "    'edhrec_rank',\n",
    "    'flavor_text',\n",
    "    'foil',\n",
    "    'nonfoil',\n",
    "    'full_art',\n",
    "    'watermark'    \n",
    "    'timeshifted',\n",
    "    'colorshifted',\n",
    "    'futureshifted',\n",
    "    'illustration_id',\n",
    "    'multiverse_ids',\n",
    "    'oracle_id',\n",
    "    'prints_search_uri',\n",
    "    'rulings_uri',\n",
    "    'set_search_uri',\n",
    "]"
   ]
  },
  {
   "cell_type": "code",
   "execution_count": null,
   "metadata": {},
   "outputs": [],
   "source": [
    "clean_cards[MVP_features].head()"
   ]
  },
  {
   "cell_type": "markdown",
   "metadata": {},
   "source": [
    "Next Step: Write loop into scraper, get all the cards! Get the hell off jupyter ntoebooK!"
   ]
  },
  {
   "cell_type": "markdown",
   "metadata": {},
   "source": [
    "### Formats\n",
    "Starting w/ modern:\n",
    "* Standard\n",
    "* Modern\n",
    "* Extended\n",
    "* Legacy\n",
    "* Vintage\n",
    "* Block Constructed (deprecated)\n",
    "* Extended (deprecated)\n",
    "* Commander\n",
    "* Casual"
   ]
  },
  {
   "cell_type": "markdown",
   "metadata": {},
   "source": [
    "Questions:\n",
    "    Should I only care about non foils?\n",
    "    Should I do reprint / set search on my own, or use the API? "
   ]
  },
  {
   "cell_type": "markdown",
   "metadata": {},
   "source": [
    "## Post-Scryfall Scrape: How do the cards look?"
   ]
  },
  {
   "cell_type": "code",
   "execution_count": null,
   "metadata": {},
   "outputs": [],
   "source": [
    "all_cards_df = pd.read_csv('all_vintage_cards.csv')\n",
    "all_cards_df.info()"
   ]
  },
  {
   "cell_type": "markdown",
   "metadata": {},
   "source": [
    "## MTGPrice Scraping"
   ]
  },
  {
   "cell_type": "code",
   "execution_count": null,
   "metadata": {},
   "outputs": [],
   "source": [
    "# trying slimit parser\n",
    "from slimit import ast\n",
    "from slimit.parser import Parser\n",
    "from slimit.visitors import nodevisitor"
   ]
  },
  {
   "cell_type": "code",
   "execution_count": null,
   "metadata": {},
   "outputs": [],
   "source": [
    "# Turn card data into soup\n",
    "link = 'https://www.mtgprice.com/sets/Visions/Vampiric_Tutor'\n",
    "soup = BeautifulSoup(requests.get(link).content, 'html.parser')\n",
    "\n",
    "# GET RESULTS\n",
    "text_to_find = 'var results = ['\n",
    "history=[]\n",
    "for script in soup.findAll('script', type='text/javascript'):\n",
    "    if text_to_find in script.text:\n",
    "        parser = Parser()\n",
    "        tree = parser.parse(script.text)\n",
    "        for node in nodevisitor.visit(tree):\n",
    "            if isinstance(node, ast.Assign) and getattr(node.left, 'value', '') == \"\\\"data\\\"\":\n",
    "                for prices in node.right.items:\n",
    "                    history.append([prices.items[0].value,prices.items[1].value])\n",
    "                break\n",
    "print(np.array(history).shape)"
   ]
  },
  {
   "cell_type": "markdown",
   "metadata": {},
   "source": [
    "### Let's try a whole set"
   ]
  },
  {
   "cell_type": "code",
   "execution_count": null,
   "metadata": {},
   "outputs": [],
   "source": [
    "def card_price_history(setname, cardname):\n",
    "    # Turn card data into soup\n",
    "    link = 'https://www.mtgprice.com/sets/' + '_'.join(setname.split()) + '/' + '_'.join(cardname.split())\n",
    "    soup = BeautifulSoup(requests.get(link).content, 'html.parser')\n",
    "\n",
    "    # GET RESULTS\n",
    "    text_to_find = 'var results = ['\n",
    "    history=[]\n",
    "    for script in soup.findAll('script', type='text/javascript'):\n",
    "        if text_to_find in script.text:\n",
    "            parser = Parser()\n",
    "            tree = parser.parse(script.text)\n",
    "            for node in nodevisitor.visit(tree):\n",
    "                if isinstance(node, ast.Assign) and getattr(node.left, 'value', '') == \"\\\"data\\\"\":\n",
    "                    for prices in node.right.items:\n",
    "                        history.append([prices.items[0].value,prices.items[1].value])\n",
    "                    break\n",
    "    return np.array(history)"
   ]
  },
  {
   "cell_type": "code",
   "execution_count": null,
   "metadata": {},
   "outputs": [],
   "source": [
    "def sets_price_history(sets, all_cards_df):\n",
    "    set_dict = {}\n",
    "    for setname in sets:\n",
    "        print(setname)\n",
    "        cards = all_cards_df[all_cards_df['set_name'] == setname]['name'].values\n",
    "        card_dict = {}\n",
    "        for cardname in cards:\n",
    "            if '/' in cardname:\n",
    "                cardname = cardname.split('/')[0]\n",
    "            print(cardname)\n",
    "            try:\n",
    "                history = card_price_history(setname, cardname)\n",
    "                card_dict[cardname] = history\n",
    "            except:\n",
    "                print('{} not a set on MTGPrice'.format(setname))\n",
    "                break\n",
    "        set_dict[setname] = card_dict"
   ]
  },
  {
   "cell_type": "code",
   "execution_count": null,
   "metadata": {},
   "outputs": [],
   "source": [
    "with open('price_scrape_0.p', 'rb') as f:\n",
    "    u = pickle._Unpickler(f)\n",
    "    u.encoding = 'latin1'\n",
    "    MVP_scrape = u.load()"
   ]
  },
  {
   "cell_type": "code",
   "execution_count": null,
   "metadata": {},
   "outputs": [],
   "source": [
    "sets_price_history(sets, all_cards_df)"
   ]
  },
  {
   "cell_type": "code",
   "execution_count": null,
   "metadata": {},
   "outputs": [],
   "source": []
  }
 ],
 "metadata": {
  "kernelspec": {
   "display_name": "Python 3",
   "language": "python",
   "name": "python3"
  },
  "language_info": {
   "codemirror_mode": {
    "name": "ipython",
    "version": 3
   },
   "file_extension": ".py",
   "mimetype": "text/x-python",
   "name": "python",
   "nbconvert_exporter": "python",
   "pygments_lexer": "ipython3",
   "version": "3.6.5"
  }
 },
 "nbformat": 4,
 "nbformat_minor": 2
}
