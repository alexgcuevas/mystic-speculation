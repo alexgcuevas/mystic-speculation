{
 "cells": [
  {
   "cell_type": "markdown",
   "metadata": {},
   "source": [
    "# Feature Engineering test ground\n",
    "![Reverse Engineer](https://crystal-cdn3.crystalcommerce.com/photos/6337507/en_UJy7SBBy4F.png)"
   ]
  },
  {
   "cell_type": "code",
   "execution_count": null,
   "metadata": {},
   "outputs": [],
   "source": [
    "import numpy as np\n",
    "import pandas as pd\n",
    "import math\n",
    "from master_transmuter import *"
   ]
  },
  {
   "cell_type": "code",
   "execution_count": null,
   "metadata": {},
   "outputs": [],
   "source": [
    "cd .."
   ]
  },
  {
   "cell_type": "code",
   "execution_count": null,
   "metadata": {},
   "outputs": [],
   "source": [
    "all_cards_df = pd.read_csv('scrape/all_vintage_cards.csv', low_memory=False)"
   ]
  },
  {
   "cell_type": "code",
   "execution_count": null,
   "metadata": {},
   "outputs": [],
   "source": [
    "all_cards_df['toughness'].unique()"
   ]
  },
  {
   "cell_type": "code",
   "execution_count": null,
   "metadata": {},
   "outputs": [],
   "source": [
    "tough_mask = all_cards_df['toughness'].apply(lambda x: '*' in str(x))\n",
    "power_mask = all_cards_df['power'].apply(lambda x: '*' in str(x))\n",
    "all_cards_df[['name', 'power', 'toughness']][tough_mask | power_mask]"
   ]
  },
  {
   "cell_type": "code",
   "execution_count": null,
   "metadata": {},
   "outputs": [],
   "source": [
    "cd .."
   ]
  },
  {
   "cell_type": "code",
   "execution_count": null,
   "metadata": {},
   "outputs": [],
   "source": [
    "from unit_tests import *"
   ]
  },
  {
   "cell_type": "code",
   "execution_count": null,
   "metadata": {},
   "outputs": [],
   "source": [
    "cd scrape"
   ]
  },
  {
   "cell_type": "code",
   "execution_count": null,
   "metadata": {},
   "outputs": [],
   "source": [
    "scraping_progress(['mythic', 'rare'])"
   ]
  },
  {
   "cell_type": "code",
   "execution_count": null,
   "metadata": {},
   "outputs": [],
   "source": [
    "cards_df = pd.read_csv('all_vintage_cards.csv')\n",
    "creature = cards_df[cards_df['name']=='Arcanis the Omnipotent'].iloc[0]\n",
    "spell = cards_df[cards_df['name']=='Momentary Blink'].iloc[0]\n",
    "weird = cards_df[cards_df['name']=='Tarmogoyf'].iloc[0]\n",
    "tests = pd.concat([creature, spell, weird], axis=1).T\n",
    "tests"
   ]
  },
  {
   "cell_type": "code",
   "execution_count": null,
   "metadata": {},
   "outputs": [],
   "source": []
  },
  {
   "cell_type": "code",
   "execution_count": null,
   "metadata": {},
   "outputs": [],
   "source": [
    "pt_mask = np.array([False, False, True])\n",
    "tests['variable_pt'] = True\n",
    "tests['variable_pt'][~pt_mask] = False\n",
    "tests"
   ]
  },
  {
   "cell_type": "code",
   "execution_count": null,
   "metadata": {},
   "outputs": [],
   "source": [
    "pt_mask = np.array([True, False, False])\n",
    "tests['p:t'] = tests[pt_mask]['power'].astype('int')/tests[pt_mask]['toughness'].astype('int')\n",
    "tests"
   ]
  },
  {
   "cell_type": "code",
   "execution_count": null,
   "metadata": {},
   "outputs": [],
   "source": [
    "def pt_type(row):\n",
    "    if (type(row['power']) == type('str')) and (type(row['toughness']) == type('str')):\n",
    "        if '*' in row['power']+row['toughness']:\n",
    "            return 'variable'\n",
    "        return 'static'\n",
    "    return 'none'\n",
    "def power_to_int(row):\n",
    "    if row['pt_type']=='static': \n",
    "        return int(row['power'])\n",
    "    else:\n",
    "        return row['power']\n",
    "def tough_to_int(row):\n",
    "    if row['pt_type']=='static':\n",
    "        return int(row['toughness'])\n",
    "    else:\n",
    "        return row['toughness']\n",
    "df = tests.copy()\n",
    "# Create pt_type feature, convert static pts to ints\n",
    "df['pt_type'] = df.apply(pt_type, axis=1)\n",
    "df['power'] = df.apply(power_to_int, axis=1)\n",
    "df['toughness'] = df.apply(tough_to_int, axis=1)\n",
    "\n",
    "mask = df['pt_type']=='static'\n",
    "\n",
    "df['p:t'] = df[mask]['power']/df[mask]['toughness']\n",
    "df['p+t'] = df[mask]['power']+df[mask]['toughness']\n",
    "df['p*t'] = df[mask]['power']*df[mask]['toughness']\n",
    "df['sqrt_pt'] = math.sqrt(df[mask]['p*t'])\n",
    "df['avg_pt'] = (df[mask]['power']+df[mask]['toughness'])/2\n",
    "df['cmc:p+t'] = df[mask]['cmc']/df[mask]['p+t']\n",
    "df['cmc:p*t'] = df[mask]['cmc']/df[mask]['sqrt_pt']\n",
    "df"
   ]
  },
  {
   "cell_type": "code",
   "execution_count": null,
   "metadata": {},
   "outputs": [],
   "source": [
    "df['p*t'].apply(np.sqrt)"
   ]
  },
  {
   "cell_type": "code",
   "execution_count": null,
   "metadata": {},
   "outputs": [],
   "source": [
    "math.sqrt((df[mask]['power']*df[mask]['toughness']))"
   ]
  },
  {
   "cell_type": "code",
   "execution_count": null,
   "metadata": {},
   "outputs": [],
   "source": [
    "from unit_tests import *"
   ]
  },
  {
   "cell_type": "code",
   "execution_count": null,
   "metadata": {},
   "outputs": [],
   "source": [
    "test_feature_engineering(cards_df)"
   ]
  },
  {
   "cell_type": "code",
   "execution_count": null,
   "metadata": {},
   "outputs": [],
   "source": [
    "from scrape.query import *"
   ]
  },
  {
   "cell_type": "code",
   "execution_count": 115,
   "metadata": {},
   "outputs": [
    {
     "name": "stdout",
     "output_type": "stream",
     "text": [
      "('Polyraptor', 'Rivals of Ixalan', '1542070311053', 2.3)\n"
     ]
    },
    {
     "name": "stderr",
     "output_type": "stream",
     "text": [
      "C:\\Users\\alexg\\Anaconda3\\lib\\site-packages\\ipykernel_launcher.py:2: SettingWithCopyWarning: \n",
      "A value is trying to be set on a copy of a slice from a DataFrame.\n",
      "Try using .loc[row_indexer,col_indexer] = value instead\n",
      "\n",
      "See the caveats in the documentation: http://pandas.pydata.org/pandas-docs/stable/indexing.html#indexing-view-versus-copy\n",
      "  \n"
     ]
    },
    {
     "data": {
      "text/html": [
       "<div>\n",
       "<style scoped>\n",
       "    .dataframe tbody tr th:only-of-type {\n",
       "        vertical-align: middle;\n",
       "    }\n",
       "\n",
       "    .dataframe tbody tr th {\n",
       "        vertical-align: top;\n",
       "    }\n",
       "\n",
       "    .dataframe thead th {\n",
       "        text-align: right;\n",
       "    }\n",
       "</style>\n",
       "<table border=\"1\" class=\"dataframe\">\n",
       "  <thead>\n",
       "    <tr style=\"text-align: right;\">\n",
       "      <th></th>\n",
       "      <th>id</th>\n",
       "      <th>name</th>\n",
       "      <th>set_name</th>\n",
       "      <th>type_line</th>\n",
       "      <th>mana_cost</th>\n",
       "      <th>rarity</th>\n",
       "      <th>oracle_text</th>\n",
       "      <th>power</th>\n",
       "      <th>toughness</th>\n",
       "      <th>loyalty</th>\n",
       "      <th>cmc</th>\n",
       "      <th>set</th>\n",
       "      <th>color_identity</th>\n",
       "      <th>colors</th>\n",
       "      <th>reprint</th>\n",
       "      <th>layout</th>\n",
       "      <th>legalities</th>\n",
       "      <th>recent_price</th>\n",
       "    </tr>\n",
       "  </thead>\n",
       "  <tbody>\n",
       "    <tr>\n",
       "      <th>2857</th>\n",
       "      <td>f8965a3a-93fe-4021-a665-b6013bdc86f7</td>\n",
       "      <td>Polyraptor</td>\n",
       "      <td>Rivals of Ixalan</td>\n",
       "      <td>Creature — Dinosaur</td>\n",
       "      <td>{6}{G}{G}</td>\n",
       "      <td>mythic</td>\n",
       "      <td>Enrage — Whenever Polyraptor is dealt damage, ...</td>\n",
       "      <td>5</td>\n",
       "      <td>5</td>\n",
       "      <td>NaN</td>\n",
       "      <td>8.0</td>\n",
       "      <td>rix</td>\n",
       "      <td>['G']</td>\n",
       "      <td>['G']</td>\n",
       "      <td>False</td>\n",
       "      <td>normal</td>\n",
       "      <td>{'standard': 'legal', 'future': 'legal', 'fron...</td>\n",
       "      <td>(1542070311053, 2.3)</td>\n",
       "    </tr>\n",
       "  </tbody>\n",
       "</table>\n",
       "</div>"
      ],
      "text/plain": [
       "                                        id        name          set_name  \\\n",
       "2857  f8965a3a-93fe-4021-a665-b6013bdc86f7  Polyraptor  Rivals of Ixalan   \n",
       "\n",
       "                type_line  mana_cost  rarity  \\\n",
       "2857  Creature — Dinosaur  {6}{G}{G}  mythic   \n",
       "\n",
       "                                            oracle_text power toughness  \\\n",
       "2857  Enrage — Whenever Polyraptor is dealt damage, ...     5         5   \n",
       "\n",
       "     loyalty  cmc  set color_identity colors  reprint  layout  \\\n",
       "2857     NaN  8.0  rix          ['G']  ['G']    False  normal   \n",
       "\n",
       "                                             legalities          recent_price  \n",
       "2857  {'standard': 'legal', 'future': 'legal', 'fron...  (1542070311053, 2.3)  "
      ]
     },
     "execution_count": 115,
     "metadata": {},
     "output_type": "execute_result"
    }
   ],
   "source": [
    "test_card = cards_df[(cards_df['name']=='Polyraptor') & (cards_df['set_name']=='Rivals of Ixalan')]\n",
    "test_card['recent_price'] = test_card.apply(get_recent_price, axis=1)\n",
    "test_card"
   ]
  },
  {
   "cell_type": "code",
   "execution_count": 112,
   "metadata": {},
   "outputs": [
    {
     "data": {
      "text/html": [
       "<div>\n",
       "<style scoped>\n",
       "    .dataframe tbody tr th:only-of-type {\n",
       "        vertical-align: middle;\n",
       "    }\n",
       "\n",
       "    .dataframe tbody tr th {\n",
       "        vertical-align: top;\n",
       "    }\n",
       "\n",
       "    .dataframe thead th {\n",
       "        text-align: right;\n",
       "    }\n",
       "</style>\n",
       "<table border=\"1\" class=\"dataframe\">\n",
       "  <thead>\n",
       "    <tr style=\"text-align: right;\">\n",
       "      <th></th>\n",
       "      <th>id</th>\n",
       "      <th>name</th>\n",
       "      <th>set_name</th>\n",
       "      <th>type_line</th>\n",
       "      <th>mana_cost</th>\n",
       "      <th>rarity</th>\n",
       "      <th>oracle_text</th>\n",
       "      <th>power</th>\n",
       "      <th>toughness</th>\n",
       "      <th>loyalty</th>\n",
       "      <th>cmc</th>\n",
       "      <th>set</th>\n",
       "      <th>color_identity</th>\n",
       "      <th>colors</th>\n",
       "      <th>reprint</th>\n",
       "      <th>layout</th>\n",
       "      <th>legalities</th>\n",
       "    </tr>\n",
       "  </thead>\n",
       "  <tbody>\n",
       "    <tr>\n",
       "      <th>2857</th>\n",
       "      <td>f8965a3a-93fe-4021-a665-b6013bdc86f7</td>\n",
       "      <td>Polyraptor</td>\n",
       "      <td>Rivals of Ixalan</td>\n",
       "      <td>Creature — Dinosaur</td>\n",
       "      <td>{6}{G}{G}</td>\n",
       "      <td>mythic</td>\n",
       "      <td>Enrage — Whenever Polyraptor is dealt damage, ...</td>\n",
       "      <td>5</td>\n",
       "      <td>5</td>\n",
       "      <td>NaN</td>\n",
       "      <td>8.0</td>\n",
       "      <td>rix</td>\n",
       "      <td>['G']</td>\n",
       "      <td>['G']</td>\n",
       "      <td>False</td>\n",
       "      <td>normal</td>\n",
       "      <td>{'standard': 'legal', 'future': 'legal', 'fron...</td>\n",
       "    </tr>\n",
       "  </tbody>\n",
       "</table>\n",
       "</div>"
      ],
      "text/plain": [
       "                                        id        name          set_name  \\\n",
       "2857  f8965a3a-93fe-4021-a665-b6013bdc86f7  Polyraptor  Rivals of Ixalan   \n",
       "\n",
       "                type_line  mana_cost  rarity  \\\n",
       "2857  Creature — Dinosaur  {6}{G}{G}  mythic   \n",
       "\n",
       "                                            oracle_text power toughness  \\\n",
       "2857  Enrage — Whenever Polyraptor is dealt damage, ...     5         5   \n",
       "\n",
       "     loyalty  cmc  set color_identity colors  reprint  layout  \\\n",
       "2857     NaN  8.0  rix          ['G']  ['G']    False  normal   \n",
       "\n",
       "                                             legalities  \n",
       "2857  {'standard': 'legal', 'future': 'legal', 'fron...  "
      ]
     },
     "execution_count": 112,
     "metadata": {},
     "output_type": "execute_result"
    }
   ],
   "source": [
    "test_card = cards_df[(cards_df['name']=='Polyraptor') & (cards_df['set_name']=='Rivals of Ixalan')]\n",
    "test_card"
   ]
  },
  {
   "cell_type": "code",
   "execution_count": null,
   "metadata": {},
   "outputs": [],
   "source": []
  }
 ],
 "metadata": {
  "kernelspec": {
   "display_name": "Python 3",
   "language": "python",
   "name": "python3"
  },
  "language_info": {
   "codemirror_mode": {
    "name": "ipython",
    "version": 3
   },
   "file_extension": ".py",
   "mimetype": "text/x-python",
   "name": "python",
   "nbconvert_exporter": "python",
   "pygments_lexer": "ipython3",
   "version": "3.6.5"
  }
 },
 "nbformat": 4,
 "nbformat_minor": 2
}
